{
  "nbformat": 4,
  "nbformat_minor": 0,
  "metadata": {
    "colab": {
      "name": "INMR96-Digital Health and Data Analytics.ipynb",
      "provenance": [],
      "collapsed_sections": [
        "BLe-hGDaLQlA",
        "6FIa00ggVApx",
        "esCXhyFVTUuu",
        "0YQSgCITV8sg",
        "q-JGKeiVWFq4",
        "6Pax17qnjKjU",
        "5w2-ZClLGEo_",
        "xrNOJ1_EVF_P",
        "lg85VmZa9dYP",
        "Ip-E4fVAK3ZG",
        "1rvm9J5eQSAd"
      ],
      "authorship_tag": "ABX9TyPNn/pxQh785ofydylzO/Jk",
      "include_colab_link": true
    },
    "kernelspec": {
      "name": "python3",
      "display_name": "Python 3"
    },
    "language_info": {
      "name": "python"
    }
  },
  "cells": [
    {
      "cell_type": "markdown",
      "metadata": {
        "id": "view-in-github",
        "colab_type": "text"
      },
      "source": [
        "<a href=\"https://colab.research.google.com/github/magbotta/sepsis-mimiciii/blob/main/INMR96_Digital_Health_and_Data_Analytics.ipynb\" target=\"_parent\"><img src=\"https://colab.research.google.com/assets/colab-badge.svg\" alt=\"Open In Colab\"/></a>"
      ]
    },
    {
      "cell_type": "markdown",
      "metadata": {
        "id": "0IuTGrLhT9cs"
      },
      "source": [
        "# Sepsis Prediction"
      ]
    },
    {
      "cell_type": "markdown",
      "metadata": {
        "id": "Y-mtTblVUBP1"
      },
      "source": [
        "# Load Libraries "
      ]
    },
    {
      "cell_type": "markdown",
      "metadata": {
        "id": "yD0_8sEKVU7y"
      },
      "source": [
        "Load libraries and authenticate"
      ]
    },
    {
      "cell_type": "markdown",
      "metadata": {
        "id": "1AkDM64YKMW4"
      },
      "source": [
        "**Packages for data handling**"
      ]
    },
    {
      "cell_type": "code",
      "metadata": {
        "id": "j6apdHsRUrmm"
      },
      "source": [
        "import pandas as pd\n",
        "import numpy as np"
      ],
      "execution_count": 1,
      "outputs": []
    },
    {
      "cell_type": "markdown",
      "metadata": {
        "id": "WCV94QBUJ_7V"
      },
      "source": [
        "**Packages visualization**"
      ]
    },
    {
      "cell_type": "code",
      "metadata": {
        "id": "cf19UNJgJ0Hz"
      },
      "source": [
        "import seaborn as sns \n",
        "import matplotlib.pyplot as plt\n",
        "%matplotlib inline"
      ],
      "execution_count": 2,
      "outputs": []
    },
    {
      "cell_type": "markdown",
      "metadata": {
        "id": "oVWB-E3QJ5Oe"
      },
      "source": [
        "**Packages for data analysis and modelling**"
      ]
    },
    {
      "cell_type": "code",
      "metadata": {
        "id": "MZ_xFeOIJwFQ"
      },
      "source": [
        "from sklearn.model_selection import train_test_split, GridSearchCV\n",
        "from sklearn.ensemble import RandomForestClassifier, RandomForestRegressor\n",
        "from sklearn.linear_model import LogisticRegression\n",
        "from sklearn.metrics import accuracy_score, f1_score, classification_report, plot_confusion_matrix, plot_roc_curve, mean_squared_error, r2_score"
      ],
      "execution_count": 3,
      "outputs": []
    },
    {
      "cell_type": "code",
      "metadata": {
        "colab": {
          "base_uri": "https://localhost:8080/"
        },
        "id": "q54EKjmwUvn7",
        "outputId": "f8eeff4e-4e68-4dde-b105-7b87c640a172"
      },
      "source": [
        "from google.colab import auth\n",
        "auth.authenticate_user()\n",
        "print('Authenticated')"
      ],
      "execution_count": 4,
      "outputs": [
        {
          "output_type": "stream",
          "text": [
            "Authenticated\n"
          ],
          "name": "stdout"
        }
      ]
    },
    {
      "cell_type": "markdown",
      "metadata": {
        "id": "g-7CgTWUK2AB"
      },
      "source": [
        "# New section"
      ]
    },
    {
      "cell_type": "markdown",
      "metadata": {
        "id": "BLe-hGDaLQlA"
      },
      "source": [
        "# Data Preparation: Gathering Data"
      ]
    },
    {
      "cell_type": "markdown",
      "metadata": {
        "id": "1ht09DKWWejU"
      },
      "source": [
        "Gather all relevant information for each hospital stay across several tables in MIMIC-III. \n",
        "\n",
        "| Table | Variables to be extracted |\n",
        "| --- | --- | \n",
        "| `admissions` | The basis of the table. <br>`SUBJECT_ID`, `HADM_ID`, `ADMISSION_TYPE`, <br>`ADMITTIME`, `DISCHTIME`, `DEATHTIME`, `HOSPITAL_EXPIRE_FLAG`, <br>`DIAGNOSIS`, `MARITAL_STATUS`,`INSURANCE`, `LANGUAGE`, `RELIGION`, `ETHNICITY` |\n",
        "| `patients` | `GENDER`, `DOB` | \n",
        "| `icustays` | `LOS` |\n",
        "| `labevents` | Number of events relating to laboratory tests | \n",
        "| `callouts` | Number of callouts of the patients |\n",
        "| `prescriptions` | Number of prescriptions ordered | \n",
        "| `procedures_icd` | Number of procedures received | \n",
        "| `inputevents_cv`<br>`inputevents_mv` | Number of fluid input records |\n",
        "| `outputevents` | Number of fluid output records |\n",
        "| `diagnosis` | Number of diagnoses | \n",
        "| `transfers` | Number of transfers within hospital stay |\n",
        "| `cptevents` | Number of events recorded in Current Procedural Terminology |\n",
        "| `microbiologyevents` | Number of microbiology events or tests |\n",
        "\n",
        "The SQL query for retrieving all these information is shown below, and can be broken down into two key steps:\n",
        "\n",
        "* Calculate the event counts from each table listed above, except `admissions`, `patients` and `icustays`. Create alias for each of them using keywords `WITH` and `AS`.\n",
        "* Link all the tables to the `admissions` table using `LEFT JOIN`, with `HADM_ID` or `SUBJECT_ID` as the common column. \n",
        "\n",
        "Note that you also can run it from your Bigquery console."
      ]
    },
    {
      "cell_type": "code",
      "metadata": {
        "id": "jA93LdYQWH1p"
      },
      "source": [
        "%%bigquery --project physionet-data-303120 df\n",
        "# make sure you change the project ID above!\n",
        "\n",
        "WITH \n",
        "icustay AS (SELECT HADM_ID, SUM(LOS) AS LOS_ICU FROM `physionet-data.mimiciii_clinical.icustays` GROUP BY HADM_ID), \n",
        "callout AS (SELECT HADM_ID, COUNT(HADM_ID) AS CALLOUT_COUNT FROM  `physionet-data.mimiciii_clinical.callout` GROUP BY HADM_ID),\n",
        "diags AS (SELECT HADM_ID, COUNT(HADM_ID) AS DIAG_COUNT FROM `physionet-data.mimiciii_clinical.diagnoses_icd` GROUP BY HADM_ID),\n",
        "preps AS (SELECT HADM_ID, COUNT(HADM_ID) AS PRES_COUNT FROM `physionet-data.mimiciii_clinical.prescriptions` GROUP BY HADM_ID),\n",
        "procs AS (SELECT HADM_ID, COUNT(HADM_ID) AS PROC_COUNT FROM `physionet-data.mimiciii_clinical.procedures_icd` GROUP BY HADM_ID),\n",
        "cpts AS (SELECT HADM_ID, COUNT(HADM_ID) AS CPT_COUNT FROM `physionet-data.mimiciii_clinical.cptevents` GROUP BY HADM_ID),\n",
        "labs AS (SELECT HADM_ID, COUNT(HADM_ID) AS LAB_COUNT FROM `physionet-data.mimiciii_clinical.labevents` GROUP BY HADM_ID),\n",
        "inputs_cv AS (SELECT HADM_ID, COUNT(HADM_ID) AS INPUTS_CV_COUNT FROM `physionet-data.mimiciii_clinical.inputevents_cv` GROUP BY HADM_ID),\n",
        "inputs_mv AS (SELECT HADM_ID, COUNT(HADM_ID) AS INPUTS_MV_COUNT FROM `physionet-data.mimiciii_clinical.inputevents_mv` GROUP BY HADM_ID),\n",
        "outputs AS (SELECT HADM_ID, COUNT(HADM_ID) AS OUTPUT_COUNT FROM `physionet-data.mimiciii_clinical.outputevents` GROUP BY HADM_ID),\n",
        "transfers AS (SELECT HADM_ID, COUNT(HADM_ID) AS TRANSFER_COUNT FROM `physionet-data.mimiciii_clinical.transfers` GROUP BY HADM_ID),\n",
        "micros AS (SELECT HADM_ID, COUNT(HADM_ID) AS MICRO_COUNT FROM `physionet-data.mimiciii_clinical.microbiologyevents` GROUP BY HADM_ID),\n",
        "diafeature AS (WITH co_dx AS\n",
        "(\n",
        "\tSELECT subject_id, hadm_id\n",
        "  , MAX(\n",
        "    \tCASE\n",
        "        -- septicemia\n",
        "    \t\tWHEN substring(icd9_code,1,3) = '038' THEN 1\n",
        "        -- septicemic, bacteremia, disseminated fungal infection, disseminated candida infection\n",
        "\t\t\t\t-- NOTE: the paper specifies 020.0 ... but this is bubonic plague\n",
        "\t\t\t\t-- presumably, they meant 020.2, which is septicemic plague\n",
        "        WHEN substring(icd9_code,1,4) in ('0202','7907','1179','1125') THEN 1\n",
        "        -- disseminated fungal endocarditis\n",
        "        WHEN substring(icd9_code,1,5) = '11281' THEN 1\n",
        "      ELSE 0 END\n",
        "    ) AS sepsis\n",
        "    , MAX(\n",
        "      CASE\n",
        "        WHEN substring(icd9_code,1,4) in ('7991') THEN 1\n",
        "        WHEN substring(icd9_code,1,5) in ('51881','51882','51885','78609') THEN 1\n",
        "      ELSE 0 END\n",
        "    ) AS respiratory\n",
        "    , MAX(\n",
        "      CASE\n",
        "        WHEN substring(icd9_code,1,4) in ('4580','7855','4580','4588','4589','7963') THEN 1\n",
        "        WHEN substring(icd9_code,1,5) in ('785.51','785.59') THEN 1\n",
        "      ELSE 0 END\n",
        "    ) AS cardiovascular\n",
        "    , MAX(\n",
        "      CASE\n",
        "        WHEN substring(icd9_code,1,3) in ('584','580','585') THEN 1\n",
        "      ELSE 0 END\n",
        "    ) AS renal\n",
        "    , MAX(\n",
        "      CASE\n",
        "        WHEN substring(icd9_code,1,3) in ('570') THEN 1\n",
        "        WHEN substring(icd9_code,1,4) in ('5722','5733') THEN 1\n",
        "      ELSE 0 END\n",
        "    ) AS hepatic\n",
        "    , MAX(\n",
        "      CASE\n",
        "        WHEN substring(icd9_code,1,4) in ('2862','2866','2869','2873','2874','2875') THEN 1\n",
        "      ELSE 0 END\n",
        "    ) AS hematologic\n",
        "    , MAX(\n",
        "      CASE\n",
        "        WHEN substring(icd9_code,1,4) in ('2762') THEN 1\n",
        "      ELSE 0 END\n",
        "    ) AS metabolic\n",
        "    , MAX(\n",
        "      CASE\n",
        "        WHEN substring(icd9_code,1,3) in ('293') THEN 1\n",
        "        WHEN substring(icd9_code,1,4) in ('3481','3483') THEN 1\n",
        "        WHEN substring(icd9_code,1,5) in ('78001','78009') THEN 1\n",
        "      ELSE 0 END\n",
        "    ) AS neurologic\n",
        "  FROM `physionet-data.mimiciii_clinical.diagnoses_icd`\n",
        "  GROUP BY subject_id, hadm_id\n",
        ")\n",
        "-- procedure codes:\n",
        "-- \"96.7 - Ventilator management\"\n",
        "-- translated:\n",
        "--    9670\tContinuous invasive mechanical ventilation of unspecified duration\n",
        "--    9671\tContinuous invasive mechanical ventilation for less than 96 consecutive hours\n",
        "--    9672\tContinuous invasive mechanical ventilation for 96 consecutive hours or more\n",
        "-- \"39.95 - Hemodialysis\"\n",
        "--    3995\tHemodialysis\n",
        "-- \"89.14 - Electroencephalography\"\n",
        "--    8914\tElectroencephalogram\n",
        ", co_proc as\n",
        "(\n",
        "  SELECT subject_id, hadm_id\n",
        "  , MAX(CASE WHEN substring(icd9_code,1,3) = '967' then 1 ELSE 0 END) as respiratory\n",
        "  , MAX(CASE WHEN substring(icd9_code,1,4) = '3995' then 1 ELSE 0 END) as renal\n",
        "  , MAX(CASE WHEN substring(icd9_code,1,4) = '8914' then 1 ELSE 0 END) as neurologic\n",
        "  FROM  `physionet-data.mimiciii_clinical.procedures_icd`\n",
        "  GROUP BY subject_id, hadm_id\n",
        ")\n",
        "select adm.subject_id, adm.hadm_id\n",
        ", co_dx.sepsis\n",
        ", CASE\n",
        "    WHEN co_dx.respiratory = 1 OR co_proc.respiratory = 1\n",
        "      OR co_dx.cardiovascular = 1\n",
        "      OR co_dx.renal = 1 OR co_proc.renal = 1\n",
        "      OR co_dx.hepatic = 1\n",
        "      OR co_dx.hematologic = 1\n",
        "      OR co_dx.metabolic = 1\n",
        "      OR co_dx.neurologic = 1 OR co_proc.neurologic = 1\n",
        "    THEN 1\n",
        "  ELSE 0 END as organ_failure\n",
        ", case when co_dx.respiratory = 1 or co_proc.respiratory = 1 then 1 else 0 end as respiratory\n",
        ", co_dx.cardiovascular\n",
        ", case when co_dx.renal = 1 or co_proc.renal = 1 then 1 else 0 end as renal\n",
        ", co_dx.hepatic\n",
        ", co_dx.hematologic\n",
        ", co_dx.metabolic\n",
        ", case when co_dx.neurologic = 1 or co_proc.neurologic = 1 then 1 else 0 end as neurologic\n",
        "FROM `physionet-data.mimiciii_clinical.admissions` adm\n",
        "left join co_dx\n",
        "  on adm.hadm_id = co_dx.hadm_id\n",
        "left join co_proc\n",
        "  on adm.hadm_id = co_proc.hadm_id),\n",
        "vitals as (\n",
        "SELECT pvt.subject_id, pvt.hadm_id, pvt.icustay_id\n",
        "-- Easier names\n",
        ", min(case when VitalID = 1 then valuenum else null end) as HeartRate_Min\n",
        ", max(case when VitalID = 1 then valuenum else null end) as HeartRate_Max\n",
        ", avg(case when VitalID = 1 then valuenum else null end) as HeartRate_Mean\n",
        ", min(case when VitalID = 2 then valuenum else null end) as SysBP_Min\n",
        ", max(case when VitalID = 2 then valuenum else null end) as SysBP_Max\n",
        ", avg(case when VitalID = 2 then valuenum else null end) as SysBP_Mean\n",
        ", min(case when VitalID = 3 then valuenum else null end) as DiasBP_Min\n",
        ", max(case when VitalID = 3 then valuenum else null end) as DiasBP_Max\n",
        ", avg(case when VitalID = 3 then valuenum else null end) as DiasBP_Mean\n",
        ", min(case when VitalID = 4 then valuenum else null end) as MeanBP_Min\n",
        ", max(case when VitalID = 4 then valuenum else null end) as MeanBP_Max\n",
        ", avg(case when VitalID = 4 then valuenum else null end) as MeanBP_Mean\n",
        ", min(case when VitalID = 5 then valuenum else null end) as RespRate_Min\n",
        ", max(case when VitalID = 5 then valuenum else null end) as RespRate_Max\n",
        ", avg(case when VitalID = 5 then valuenum else null end) as RespRate_Mean\n",
        ", min(case when VitalID = 6 then valuenum else null end) as TempC_Min\n",
        ", max(case when VitalID = 6 then valuenum else null end) as TempC_Max\n",
        ", avg(case when VitalID = 6 then valuenum else null end) as TempC_Mean\n",
        ", min(case when VitalID = 7 then valuenum else null end) as SpO2_Min\n",
        ", max(case when VitalID = 7 then valuenum else null end) as SpO2_Max\n",
        ", avg(case when VitalID = 7 then valuenum else null end) as SpO2_Mean\n",
        ", min(case when VitalID = 8 then valuenum else null end) as Glucose_Min\n",
        ", max(case when VitalID = 8 then valuenum else null end) as Glucose_Max\n",
        ", avg(case when VitalID = 8 then valuenum else null end) as Glucose_Mean\n",
        "\n",
        "FROM  (\n",
        "  select ie.subject_id, ie.hadm_id, ie.icustay_id\n",
        "  , case\n",
        "    when itemid in (211,220045) and valuenum > 0 and valuenum < 300 then 1 -- HeartRate\n",
        "    when itemid in (51,442,455,6701,220179,220050) and valuenum > 0 and valuenum < 400 then 2 -- SysBP\n",
        "    when itemid in (8368,8440,8441,8555,220180,220051) and valuenum > 0 and valuenum < 300 then 3 -- DiasBP\n",
        "    when itemid in (456,52,6702,443,220052,220181,225312) and valuenum > 0 and valuenum < 300 then 4 -- MeanBP\n",
        "    when itemid in (615,618,220210,224690) and valuenum > 0 and valuenum < 70 then 5 -- RespRate\n",
        "    when itemid in (223761,678) and valuenum > 70 and valuenum < 120  then 6 -- TempF, converted to degC in valuenum call\n",
        "    when itemid in (223762,676) and valuenum > 10 and valuenum < 50  then 6 -- TempC\n",
        "    when itemid in (646,220277) and valuenum > 0 and valuenum <= 100 then 7 -- SpO2\n",
        "    when itemid in (807,811,1529,3745,3744,225664,220621,226537) and valuenum > 0 then 8 -- Glucose\n",
        "\n",
        "    else null end as VitalID\n",
        "      -- convert F to C\n",
        "  , case when itemid in (223761,678) then (valuenum-32)/1.8 else valuenum end as valuenum\n",
        "\n",
        "  from `physionet-data.mimiciii_clinical.icustays`  ie\n",
        "  left join  `physionet-data.mimiciii_clinical.chartevents` ce\n",
        "  on ie.subject_id = ce.subject_id and ie.hadm_id = ce.hadm_id and ie.icustay_id = ce.icustay_id\n",
        "  and ce.charttime between ie.intime and DATE_ADD(ie.intime , INTERVAL 1 day)\n",
        "  -- exclude rows marked as error\n",
        "  and ce.error IS DISTINCT FROM 1\n",
        "  where ce.itemid in\n",
        "  (\n",
        "  -- HEART RATE\n",
        "  211, --\"Heart Rate\"\n",
        "  220045, --\"Heart Rate\"\n",
        "\n",
        "  -- Systolic/diastolic\n",
        "\n",
        "  51, --\tArterial BP [Systolic]\n",
        "  442, --\tManual BP [Systolic]\n",
        "  455, --\tNBP [Systolic]\n",
        "  6701, --\tArterial BP #2 [Systolic]\n",
        "  220179, --\tNon Invasive Blood Pressure systolic\n",
        "  220050, --\tArterial Blood Pressure systolic\n",
        "\n",
        "  8368, --\tArterial BP [Diastolic]\n",
        "  8440, --\tManual BP [Diastolic]\n",
        "  8441, --\tNBP [Diastolic]\n",
        "  8555, --\tArterial BP #2 [Diastolic]\n",
        "  220180, --\tNon Invasive Blood Pressure diastolic\n",
        "  220051, --\tArterial Blood Pressure diastolic\n",
        "\n",
        "\n",
        "  -- MEAN ARTERIAL PRESSURE\n",
        "  456, --\"NBP Mean\"\n",
        "  52, --\"Arterial BP Mean\"\n",
        "  6702, --\tArterial BP Mean #2\n",
        "  443, --\tManual BP Mean(calc)\n",
        "  220052, --\"Arterial Blood Pressure mean\"\n",
        "  220181, --\"Non Invasive Blood Pressure mean\"\n",
        "  225312, --\"ART BP mean\"\n",
        "\n",
        "  -- RESPIRATORY RATE\n",
        "  618,--\tRespiratory Rate\n",
        "  615,--\tResp Rate (Total)\n",
        "  220210,--\tRespiratory Rate\n",
        "  224690, --\tRespiratory Rate (Total)\n",
        "\n",
        "\n",
        "  -- SPO2, peripheral\n",
        "  646, 220277,\n",
        "\n",
        "  -- GLUCOSE, both lab and fingerstick\n",
        "  807,--\tFingerstick Glucose\n",
        "  811,--\tGlucose (70-105)\n",
        "  1529,--\tGlucose\n",
        "  3745,--\tBloodGlucose\n",
        "  3744,--\tBlood Glucose\n",
        "  225664,--\tGlucose finger stick\n",
        "  220621,--\tGlucose (serum)\n",
        "  226537,--\tGlucose (whole blood)\n",
        "\n",
        "  -- TEMPERATURE\n",
        "  223762, -- \"Temperature Celsius\"\n",
        "  676,\t-- \"Temperature C\"\n",
        "  223761, -- \"Temperature Fahrenheit\"\n",
        "  678 --\t\"Temperature F\"\n",
        "\n",
        "  )\n",
        ") pvt\n",
        "group by pvt.subject_id, pvt.hadm_id, pvt.icustay_id\n",
        "order by pvt.subject_id, pvt.hadm_id, pvt.icustay_id)  \n",
        "\n",
        "\n",
        "SELECT adm.SUBJECT_ID, adm.HADM_ID, adm.ADMISSION_TYPE, \n",
        "adm.ADMITTIME, adm.DISCHTIME, adm.DEATHTIME, adm.HOSPITAL_EXPIRE_FLAG, \n",
        "adm.DIAGNOSIS, adm.ETHNICITY,\n",
        "pts.GENDER, pts.DOB, \n",
        "icustay.LOS_ICU, diags.DIAG_COUNT, cpts.CPT_COUNT, transfers.TRANSFER_COUNT, micros.MICRO_COUNT, diafeature.SEPSIS , diafeature.ORGAN_FAILURE, diafeature.CARDIOVASCULAR, diafeature.RENAL, diafeature.HEPATIC,\n",
        "diafeature.HEMATOLOGIC, diafeature.METABOLIC, diafeature.NEUROLOGIC ,vitals.HeartRate_Mean, vitals.SysBP_Mean, vitals.DiasBP_Mean, vitals.MeanBP_Mean, vitals.RespRate_Mean, vitals.TempC_Mean, vitals.SpO2_Mean, vitals.Glucose_Mean\n",
        "FROM `physionet-data.mimiciii_clinical.admissions` AS adm\n",
        "LEFT JOIN `physionet-data.mimiciii_clinical.patients` AS pts on adm.SUBJECT_ID = pts.SUBJECT_ID\n",
        "LEFT JOIN icustay on adm.HADM_ID = icustay.HADM_ID\n",
        "LEFT JOIN callout on adm.HADM_ID = callout.HADM_ID\n",
        "LEFT JOIN diags on adm.HADM_ID = diags.HADM_ID\n",
        "LEFT JOIN preps on adm.HADM_ID = preps.HADM_ID\n",
        "LEFT JOIN procs on adm.HADM_ID = procs.HADM_ID\n",
        "LEFT JOIN cpts on adm.HADM_ID = cpts.HADM_ID\n",
        "LEFT JOIN labs on adm.HADM_ID = labs.HADM_ID\n",
        "LEFT JOIN inputs_cv on adm.HADM_ID = inputs_cv.HADM_ID\n",
        "LEFT JOIN inputs_mv on adm.HADM_ID = inputs_mv.HADM_ID\n",
        "LEFT JOIN outputs on adm.HADM_ID = outputs.HADM_ID\n",
        "LEFT JOIN transfers on adm.HADM_ID = transfers.HADM_ID\n",
        "LEFT JOIN micros on adm.HADM_ID = micros.HADM_ID\n",
        "LEFT JOIN diafeature on adm.HADM_ID = diafeature.HADM_ID\n",
        "LEFT JOIN vitals on adm.HADM_ID = vitals.HADM_ID\n",
        "\n"
      ],
      "execution_count": 5,
      "outputs": []
    },
    {
      "cell_type": "markdown",
      "metadata": {
        "id": "8xyWZQMVBYLD"
      },
      "source": [
        "review the gathered dataset."
      ]
    },
    {
      "cell_type": "code",
      "metadata": {
        "colab": {
          "base_uri": "https://localhost:8080/",
          "height": 326
        },
        "id": "n_g2YSeGXAht",
        "outputId": "a217f0aa-f523-43db-f8ce-51df73ecea05"
      },
      "source": [
        "df.head()"
      ],
      "execution_count": 6,
      "outputs": [
        {
          "output_type": "execute_result",
          "data": {
            "text/html": [
              "<div>\n",
              "<style scoped>\n",
              "    .dataframe tbody tr th:only-of-type {\n",
              "        vertical-align: middle;\n",
              "    }\n",
              "\n",
              "    .dataframe tbody tr th {\n",
              "        vertical-align: top;\n",
              "    }\n",
              "\n",
              "    .dataframe thead th {\n",
              "        text-align: right;\n",
              "    }\n",
              "</style>\n",
              "<table border=\"1\" class=\"dataframe\">\n",
              "  <thead>\n",
              "    <tr style=\"text-align: right;\">\n",
              "      <th></th>\n",
              "      <th>SUBJECT_ID</th>\n",
              "      <th>HADM_ID</th>\n",
              "      <th>ADMISSION_TYPE</th>\n",
              "      <th>ADMITTIME</th>\n",
              "      <th>DISCHTIME</th>\n",
              "      <th>DEATHTIME</th>\n",
              "      <th>HOSPITAL_EXPIRE_FLAG</th>\n",
              "      <th>DIAGNOSIS</th>\n",
              "      <th>ETHNICITY</th>\n",
              "      <th>GENDER</th>\n",
              "      <th>DOB</th>\n",
              "      <th>LOS_ICU</th>\n",
              "      <th>DIAG_COUNT</th>\n",
              "      <th>CPT_COUNT</th>\n",
              "      <th>TRANSFER_COUNT</th>\n",
              "      <th>MICRO_COUNT</th>\n",
              "      <th>SEPSIS</th>\n",
              "      <th>ORGAN_FAILURE</th>\n",
              "      <th>CARDIOVASCULAR</th>\n",
              "      <th>RENAL</th>\n",
              "      <th>HEPATIC</th>\n",
              "      <th>HEMATOLOGIC</th>\n",
              "      <th>METABOLIC</th>\n",
              "      <th>NEUROLOGIC</th>\n",
              "      <th>HeartRate_Mean</th>\n",
              "      <th>SysBP_Mean</th>\n",
              "      <th>DiasBP_Mean</th>\n",
              "      <th>MeanBP_Mean</th>\n",
              "      <th>RespRate_Mean</th>\n",
              "      <th>TempC_Mean</th>\n",
              "      <th>SpO2_Mean</th>\n",
              "      <th>Glucose_Mean</th>\n",
              "    </tr>\n",
              "  </thead>\n",
              "  <tbody>\n",
              "    <tr>\n",
              "      <th>0</th>\n",
              "      <td>7275</td>\n",
              "      <td>136809</td>\n",
              "      <td>EMERGENCY</td>\n",
              "      <td>2139-08-28 12:35:00</td>\n",
              "      <td>2139-09-01 16:32:00</td>\n",
              "      <td>NaT</td>\n",
              "      <td>0</td>\n",
              "      <td>ALTERED MENTAL STATUS; DYSPNEA</td>\n",
              "      <td>WHITE</td>\n",
              "      <td>M</td>\n",
              "      <td>2078-11-11</td>\n",
              "      <td>1.3848</td>\n",
              "      <td>15</td>\n",
              "      <td>7.0</td>\n",
              "      <td>3</td>\n",
              "      <td>47.0</td>\n",
              "      <td>1</td>\n",
              "      <td>1</td>\n",
              "      <td>0</td>\n",
              "      <td>1</td>\n",
              "      <td>0</td>\n",
              "      <td>0</td>\n",
              "      <td>0</td>\n",
              "      <td>0</td>\n",
              "      <td>92.772727</td>\n",
              "      <td>142.111111</td>\n",
              "      <td>56.722222</td>\n",
              "      <td>76.000000</td>\n",
              "      <td>20.875000</td>\n",
              "      <td>36.851852</td>\n",
              "      <td>95.086957</td>\n",
              "      <td>133.750000</td>\n",
              "    </tr>\n",
              "    <tr>\n",
              "      <th>1</th>\n",
              "      <td>17575</td>\n",
              "      <td>187131</td>\n",
              "      <td>EMERGENCY</td>\n",
              "      <td>2124-10-21 08:32:00</td>\n",
              "      <td>2124-11-01 11:14:00</td>\n",
              "      <td>NaT</td>\n",
              "      <td>0</td>\n",
              "      <td>MVA;TRAUMA</td>\n",
              "      <td>BLACK/AFRICAN AMERICAN</td>\n",
              "      <td>M</td>\n",
              "      <td>2106-01-23</td>\n",
              "      <td>3.2653</td>\n",
              "      <td>9</td>\n",
              "      <td>NaN</td>\n",
              "      <td>3</td>\n",
              "      <td>27.0</td>\n",
              "      <td>0</td>\n",
              "      <td>1</td>\n",
              "      <td>0</td>\n",
              "      <td>0</td>\n",
              "      <td>0</td>\n",
              "      <td>0</td>\n",
              "      <td>0</td>\n",
              "      <td>0</td>\n",
              "      <td>108.268293</td>\n",
              "      <td>119.780488</td>\n",
              "      <td>53.317073</td>\n",
              "      <td>73.948718</td>\n",
              "      <td>18.291667</td>\n",
              "      <td>38.388888</td>\n",
              "      <td>99.288889</td>\n",
              "      <td>115.000000</td>\n",
              "    </tr>\n",
              "    <tr>\n",
              "      <th>2</th>\n",
              "      <td>25251</td>\n",
              "      <td>142346</td>\n",
              "      <td>EMERGENCY</td>\n",
              "      <td>2167-01-23 16:23:00</td>\n",
              "      <td>2167-02-06 13:53:00</td>\n",
              "      <td>NaT</td>\n",
              "      <td>0</td>\n",
              "      <td>INFECTED RIGHT FOOT</td>\n",
              "      <td>WHITE</td>\n",
              "      <td>M</td>\n",
              "      <td>2096-08-27</td>\n",
              "      <td>3.2458</td>\n",
              "      <td>9</td>\n",
              "      <td>NaN</td>\n",
              "      <td>6</td>\n",
              "      <td>46.0</td>\n",
              "      <td>0</td>\n",
              "      <td>0</td>\n",
              "      <td>0</td>\n",
              "      <td>0</td>\n",
              "      <td>0</td>\n",
              "      <td>0</td>\n",
              "      <td>0</td>\n",
              "      <td>0</td>\n",
              "      <td>96.522727</td>\n",
              "      <td>109.454545</td>\n",
              "      <td>57.795455</td>\n",
              "      <td>73.727273</td>\n",
              "      <td>15.500000</td>\n",
              "      <td>36.697619</td>\n",
              "      <td>98.380952</td>\n",
              "      <td>149.619048</td>\n",
              "    </tr>\n",
              "    <tr>\n",
              "      <th>3</th>\n",
              "      <td>32339</td>\n",
              "      <td>181355</td>\n",
              "      <td>EMERGENCY</td>\n",
              "      <td>2110-07-29 23:56:00</td>\n",
              "      <td>2110-08-04 15:10:00</td>\n",
              "      <td>NaT</td>\n",
              "      <td>0</td>\n",
              "      <td>GASTROINTESTINAL BLEED;CHEST PAIN;TELEMETRY</td>\n",
              "      <td>WHITE</td>\n",
              "      <td>M</td>\n",
              "      <td>1810-07-29</td>\n",
              "      <td>1.7603</td>\n",
              "      <td>15</td>\n",
              "      <td>8.0</td>\n",
              "      <td>4</td>\n",
              "      <td>NaN</td>\n",
              "      <td>0</td>\n",
              "      <td>1</td>\n",
              "      <td>0</td>\n",
              "      <td>1</td>\n",
              "      <td>0</td>\n",
              "      <td>0</td>\n",
              "      <td>1</td>\n",
              "      <td>0</td>\n",
              "      <td>50.038462</td>\n",
              "      <td>137.714286</td>\n",
              "      <td>44.571429</td>\n",
              "      <td>67.809524</td>\n",
              "      <td>17.038462</td>\n",
              "      <td>36.244444</td>\n",
              "      <td>97.346154</td>\n",
              "      <td>105.000000</td>\n",
              "    </tr>\n",
              "    <tr>\n",
              "      <th>4</th>\n",
              "      <td>30746</td>\n",
              "      <td>155603</td>\n",
              "      <td>EMERGENCY</td>\n",
              "      <td>2131-08-22 23:07:00</td>\n",
              "      <td>2131-08-28 13:10:00</td>\n",
              "      <td>NaT</td>\n",
              "      <td>0</td>\n",
              "      <td>ALTERED MENTAL STATUS</td>\n",
              "      <td>WHITE</td>\n",
              "      <td>M</td>\n",
              "      <td>2055-03-16</td>\n",
              "      <td>5.5894</td>\n",
              "      <td>22</td>\n",
              "      <td>10.0</td>\n",
              "      <td>7</td>\n",
              "      <td>5.0</td>\n",
              "      <td>0</td>\n",
              "      <td>1</td>\n",
              "      <td>1</td>\n",
              "      <td>0</td>\n",
              "      <td>0</td>\n",
              "      <td>0</td>\n",
              "      <td>0</td>\n",
              "      <td>1</td>\n",
              "      <td>79.285714</td>\n",
              "      <td>130.814815</td>\n",
              "      <td>60.740741</td>\n",
              "      <td>79.740741</td>\n",
              "      <td>18.875000</td>\n",
              "      <td>37.074074</td>\n",
              "      <td>98.827586</td>\n",
              "      <td>141.300000</td>\n",
              "    </tr>\n",
              "  </tbody>\n",
              "</table>\n",
              "</div>"
            ],
            "text/plain": [
              "   SUBJECT_ID  HADM_ID ADMISSION_TYPE  ... TempC_Mean  SpO2_Mean Glucose_Mean\n",
              "0        7275   136809      EMERGENCY  ...  36.851852  95.086957   133.750000\n",
              "1       17575   187131      EMERGENCY  ...  38.388888  99.288889   115.000000\n",
              "2       25251   142346      EMERGENCY  ...  36.697619  98.380952   149.619048\n",
              "3       32339   181355      EMERGENCY  ...  36.244444  97.346154   105.000000\n",
              "4       30746   155603      EMERGENCY  ...  37.074074  98.827586   141.300000\n",
              "\n",
              "[5 rows x 32 columns]"
            ]
          },
          "metadata": {
            "tags": []
          },
          "execution_count": 6
        }
      ]
    },
    {
      "cell_type": "code",
      "metadata": {
        "id": "3bPI186A8vzv",
        "colab": {
          "base_uri": "https://localhost:8080/"
        },
        "outputId": "df97978f-5884-428c-87f9-316123b5c5e9"
      },
      "source": [
        "df.columns"
      ],
      "execution_count": 7,
      "outputs": [
        {
          "output_type": "execute_result",
          "data": {
            "text/plain": [
              "Index(['SUBJECT_ID', 'HADM_ID', 'ADMISSION_TYPE', 'ADMITTIME', 'DISCHTIME',\n",
              "       'DEATHTIME', 'HOSPITAL_EXPIRE_FLAG', 'DIAGNOSIS', 'ETHNICITY', 'GENDER',\n",
              "       'DOB', 'LOS_ICU', 'DIAG_COUNT', 'CPT_COUNT', 'TRANSFER_COUNT',\n",
              "       'MICRO_COUNT', 'SEPSIS', 'ORGAN_FAILURE', 'CARDIOVASCULAR', 'RENAL',\n",
              "       'HEPATIC', 'HEMATOLOGIC', 'METABOLIC', 'NEUROLOGIC', 'HeartRate_Mean',\n",
              "       'SysBP_Mean', 'DiasBP_Mean', 'MeanBP_Mean', 'RespRate_Mean',\n",
              "       'TempC_Mean', 'SpO2_Mean', 'Glucose_Mean'],\n",
              "      dtype='object')"
            ]
          },
          "metadata": {
            "tags": []
          },
          "execution_count": 7
        }
      ]
    },
    {
      "cell_type": "markdown",
      "metadata": {
        "id": "Y2YQPNQOFCJ1"
      },
      "source": [
        "Get General Info from the dataframe"
      ]
    },
    {
      "cell_type": "code",
      "metadata": {
        "colab": {
          "base_uri": "https://localhost:8080/"
        },
        "id": "Tq3y8MbtFBWe",
        "outputId": "52b877d9-5520-4f25-8ea8-b93e241822c1"
      },
      "source": [
        "df.info()"
      ],
      "execution_count": 8,
      "outputs": [
        {
          "output_type": "stream",
          "text": [
            "<class 'pandas.core.frame.DataFrame'>\n",
            "RangeIndex: 62477 entries, 0 to 62476\n",
            "Data columns (total 32 columns):\n",
            " #   Column                Non-Null Count  Dtype         \n",
            "---  ------                --------------  -----         \n",
            " 0   SUBJECT_ID            62477 non-null  int64         \n",
            " 1   HADM_ID               62477 non-null  int64         \n",
            " 2   ADMISSION_TYPE        62477 non-null  object        \n",
            " 3   ADMITTIME             62477 non-null  datetime64[ns]\n",
            " 4   DISCHTIME             62477 non-null  datetime64[ns]\n",
            " 5   DEATHTIME             6624 non-null   object        \n",
            " 6   HOSPITAL_EXPIRE_FLAG  62477 non-null  int64         \n",
            " 7   DIAGNOSIS             62452 non-null  object        \n",
            " 8   ETHNICITY             62477 non-null  object        \n",
            " 9   GENDER                62477 non-null  object        \n",
            " 10  DOB                   62477 non-null  datetime64[ns]\n",
            " 11  LOS_ICU               61277 non-null  float64       \n",
            " 12  DIAG_COUNT            62477 non-null  int64         \n",
            " 13  CPT_COUNT             47430 non-null  float64       \n",
            " 14  TRANSFER_COUNT        62477 non-null  int64         \n",
            " 15  MICRO_COUNT           52143 non-null  float64       \n",
            " 16  SEPSIS                62477 non-null  int64         \n",
            " 17  ORGAN_FAILURE         62477 non-null  int64         \n",
            " 18  CARDIOVASCULAR        62477 non-null  int64         \n",
            " 19  RENAL                 62477 non-null  int64         \n",
            " 20  HEPATIC               62477 non-null  int64         \n",
            " 21  HEMATOLOGIC           62477 non-null  int64         \n",
            " 22  METABOLIC             62477 non-null  int64         \n",
            " 23  NEUROLOGIC            62477 non-null  int64         \n",
            " 24  HeartRate_Mean        59048 non-null  float64       \n",
            " 25  SysBP_Mean            52254 non-null  float64       \n",
            " 26  DiasBP_Mean           52252 non-null  float64       \n",
            " 27  MeanBP_Mean           52288 non-null  float64       \n",
            " 28  RespRate_Mean         52229 non-null  float64       \n",
            " 29  TempC_Mean            51382 non-null  float64       \n",
            " 30  SpO2_Mean             52233 non-null  float64       \n",
            " 31  Glucose_Mean          52991 non-null  float64       \n",
            "dtypes: datetime64[ns](3), float64(11), int64(13), object(5)\n",
            "memory usage: 15.3+ MB\n"
          ],
          "name": "stdout"
        }
      ]
    },
    {
      "cell_type": "markdown",
      "metadata": {
        "id": "Y9dj6TB6FTDE"
      },
      "source": [
        "Check for Missing Values"
      ]
    },
    {
      "cell_type": "code",
      "metadata": {
        "colab": {
          "base_uri": "https://localhost:8080/"
        },
        "id": "XY0iFrbJFUtS",
        "outputId": "3eb8bf2a-9d26-4bd8-b73a-40bc943d102d"
      },
      "source": [
        "df.isna().sum()"
      ],
      "execution_count": 9,
      "outputs": [
        {
          "output_type": "execute_result",
          "data": {
            "text/plain": [
              "SUBJECT_ID                  0\n",
              "HADM_ID                     0\n",
              "ADMISSION_TYPE              0\n",
              "ADMITTIME                   0\n",
              "DISCHTIME                   0\n",
              "DEATHTIME               55853\n",
              "HOSPITAL_EXPIRE_FLAG        0\n",
              "DIAGNOSIS                  25\n",
              "ETHNICITY                   0\n",
              "GENDER                      0\n",
              "DOB                         0\n",
              "LOS_ICU                  1200\n",
              "DIAG_COUNT                  0\n",
              "CPT_COUNT               15047\n",
              "TRANSFER_COUNT              0\n",
              "MICRO_COUNT             10334\n",
              "SEPSIS                      0\n",
              "ORGAN_FAILURE               0\n",
              "CARDIOVASCULAR              0\n",
              "RENAL                       0\n",
              "HEPATIC                     0\n",
              "HEMATOLOGIC                 0\n",
              "METABOLIC                   0\n",
              "NEUROLOGIC                  0\n",
              "HeartRate_Mean           3429\n",
              "SysBP_Mean              10223\n",
              "DiasBP_Mean             10225\n",
              "MeanBP_Mean             10189\n",
              "RespRate_Mean           10248\n",
              "TempC_Mean              11095\n",
              "SpO2_Mean               10244\n",
              "Glucose_Mean             9486\n",
              "dtype: int64"
            ]
          },
          "metadata": {
            "tags": []
          },
          "execution_count": 9
        }
      ]
    },
    {
      "cell_type": "markdown",
      "metadata": {
        "id": "6FIa00ggVApx"
      },
      "source": [
        "# Data Preparation: Pre-processing Data\n",
        "\n",
        "\n"
      ]
    },
    {
      "cell_type": "markdown",
      "metadata": {
        "id": "sdE6cdycOjwB"
      },
      "source": [
        "Now, we want to pre-process the data such that it is ready to be fed into a model. We also want to make variables that are useful for the model to learn from, a.k.a. feature engineering. There are 5 types of feature engineering:\n",
        "\n",
        "* **Creating**. Create new features from existing ones if they provide additional value when predicting our outcome (e.g. creating age from date of birth and admission). \n",
        "* **Converting**. The raw dataset is most probably not ready for direct modelling. Some features need to be converted or normalized to meet the model input requirements. Usually, before we feed the training dataset into models, all datatypes need to be converted to numerical values for mathematical computation.\n",
        "* **Completing**. Most models require no missing values in input variables in order to work. Model algorithms work best when there are no missing values. If missing values exist in the dataset, we may need to handle them either by (i) filling in any missing values through estimation; (ii) excluding the variable as an input; (iii) excluding the learning samples with any missing value present. \n",
        "* **Correcting**. We may also come across errors or inaccurate values within a dataset. Try to correct these values or exclude the samples with errors. One way to do this is to look out for any outliers among features.\n",
        "* **Correlating**. Having redundant information within the input variable set would not help the model training process and could even lead to worse performances. Thus, one thing we can do is to perform basic statistical analysis. Which features within the dataset contribute significantly to our target variable? This can be tested both for numerical and categorical features in the given dataset."
      ]
    },
    {
      "cell_type": "markdown",
      "metadata": {
        "id": "vHfBo-DWOq5Y"
      },
      "source": [
        "## Creating\n",
        "1. As `HOSPITAL_EXPIRE_FLAG` indicates in-hospital death (see [MIMIC's documentation](https://mimic.physionet.org/about/mimic/)), it will be our **prediction target**.<br>Let's rename the variable `HOSPITAL_EXPIRE_FLAG` into a more description one, `IN_HOSP_DEATH`. Also note that it is already numeric (either 1 or 0) and has no missing values, thus can be used as for model training.  "
      ]
    },
    {
      "cell_type": "code",
      "metadata": {
        "id": "9uG2k9VcO-Qp"
      },
      "source": [
        "df = df.rename(columns={'HOSPITAL_EXPIRE_FLAG': 'IN_HOSP_DEATH'})"
      ],
      "execution_count": 10,
      "outputs": []
    },
    {
      "cell_type": "code",
      "metadata": {
        "colab": {
          "base_uri": "https://localhost:8080/"
        },
        "id": "pEd_gQpnPRxh",
        "outputId": "b17f4d76-b419-4499-c3fc-67bae5162a0a"
      },
      "source": [
        "df.columns"
      ],
      "execution_count": 11,
      "outputs": [
        {
          "output_type": "execute_result",
          "data": {
            "text/plain": [
              "Index(['SUBJECT_ID', 'HADM_ID', 'ADMISSION_TYPE', 'ADMITTIME', 'DISCHTIME',\n",
              "       'DEATHTIME', 'IN_HOSP_DEATH', 'DIAGNOSIS', 'ETHNICITY', 'GENDER', 'DOB',\n",
              "       'LOS_ICU', 'DIAG_COUNT', 'CPT_COUNT', 'TRANSFER_COUNT', 'MICRO_COUNT',\n",
              "       'SEPSIS', 'ORGAN_FAILURE', 'CARDIOVASCULAR', 'RENAL', 'HEPATIC',\n",
              "       'HEMATOLOGIC', 'METABOLIC', 'NEUROLOGIC', 'HeartRate_Mean',\n",
              "       'SysBP_Mean', 'DiasBP_Mean', 'MeanBP_Mean', 'RespRate_Mean',\n",
              "       'TempC_Mean', 'SpO2_Mean', 'Glucose_Mean'],\n",
              "      dtype='object')"
            ]
          },
          "metadata": {
            "tags": []
          },
          "execution_count": 11
        }
      ]
    },
    {
      "cell_type": "code",
      "metadata": {
        "colab": {
          "base_uri": "https://localhost:8080/"
        },
        "id": "VFcuP6_xPVLI",
        "outputId": "c68643a1-c80d-4199-b3f8-6bcbe722c238"
      },
      "source": [
        "df['IN_HOSP_DEATH'].isna().sum() # "
      ],
      "execution_count": 12,
      "outputs": [
        {
          "output_type": "execute_result",
          "data": {
            "text/plain": [
              "0"
            ]
          },
          "metadata": {
            "tags": []
          },
          "execution_count": 12
        }
      ]
    },
    {
      "cell_type": "code",
      "metadata": {
        "colab": {
          "base_uri": "https://localhost:8080/"
        },
        "id": "5eqXK1ZDPXyE",
        "outputId": "36e2ce50-7f22-47c6-d119-e301d75f20ba"
      },
      "source": [
        "df['IN_HOSP_DEATH'].value_counts()"
      ],
      "execution_count": 13,
      "outputs": [
        {
          "output_type": "execute_result",
          "data": {
            "text/plain": [
              "0    55853\n",
              "1     6624\n",
              "Name: IN_HOSP_DEATH, dtype: int64"
            ]
          },
          "metadata": {
            "tags": []
          },
          "execution_count": 13
        }
      ]
    },
    {
      "cell_type": "markdown",
      "metadata": {
        "id": "375ydjx9P9za"
      },
      "source": [
        "2. We don't have a column indicating age, but can we calculate it based on 'DOB'(Date of birth) and 'ADMITTIME'."
      ]
    },
    {
      "cell_type": "code",
      "metadata": {
        "colab": {
          "base_uri": "https://localhost:8080/"
        },
        "id": "Y3Bo68-9Pe_G",
        "outputId": "60d805c7-244d-4b0e-abb0-d5424f804998"
      },
      "source": [
        "df['AGE'] = df['ADMITTIME'].sub(df['DOB']) // np.timedelta64(1,'Y') # subtract DOB from ADMITTIME and express difference in years 'Y'\n",
        "\n",
        "df['AGE']"
      ],
      "execution_count": 14,
      "outputs": [
        {
          "output_type": "execute_result",
          "data": {
            "text/plain": [
              "0         60\n",
              "1         18\n",
              "2         70\n",
              "3       -285\n",
              "4         76\n",
              "        ... \n",
              "62472     38\n",
              "62473     48\n",
              "62474     33\n",
              "62475     54\n",
              "62476     41\n",
              "Name: AGE, Length: 62477, dtype: int64"
            ]
          },
          "metadata": {
            "tags": []
          },
          "execution_count": 14
        }
      ]
    },
    {
      "cell_type": "code",
      "metadata": {
        "colab": {
          "base_uri": "https://localhost:8080/",
          "height": 0
        },
        "id": "PRnZ7o82PiHm",
        "outputId": "6e990366-2aac-4fbe-b255-e3947e3272d6"
      },
      "source": [
        "df['AGE'].hist()"
      ],
      "execution_count": 15,
      "outputs": [
        {
          "output_type": "execute_result",
          "data": {
            "text/plain": [
              "<matplotlib.axes._subplots.AxesSubplot at 0x7f800aae0490>"
            ]
          },
          "metadata": {
            "tags": []
          },
          "execution_count": 15
        },
        {
          "output_type": "display_data",
          "data": {
            "image/png": "[encoded data removed]",
            "text/plain": [
              "<Figure size 432x288 with 1 Axes>"
            ]
          },
          "metadata": {
            "tags": [],
            "needs_background": "light"
          }
        }
      ]
    },
    {
      "cell_type": "markdown",
      "metadata": {
        "id": "ZDcHBe2bQ71h"
      },
      "source": [
        "3. Likewise, we can create a variable indicating hospital length of stay."
      ]
    },
    {
      "cell_type": "code",
      "metadata": {
        "colab": {
          "base_uri": "https://localhost:8080/"
        },
        "id": "mB3jUIVpPt4P",
        "outputId": "3cb6d340-92c8-4452-d8cf-e109dc79ebce"
      },
      "source": [
        "df['LOS'] = df['DISCHTIME'].sub(df['ADMITTIME']) / np.timedelta64(1,'D') # subtract ADMITTIME from DISCHTIME and express difference in days 'D'\n",
        "\n",
        "df['LOS']"
      ],
      "execution_count": 16,
      "outputs": [
        {
          "output_type": "execute_result",
          "data": {
            "text/plain": [
              "0         4.164583\n",
              "1        11.112500\n",
              "2        13.895833\n",
              "3         5.634722\n",
              "4         5.585417\n",
              "           ...    \n",
              "62472     1.872917\n",
              "62473     2.502083\n",
              "62474     1.609722\n",
              "62475     3.710417\n",
              "62476     3.100000\n",
              "Name: LOS, Length: 62477, dtype: float64"
            ]
          },
          "metadata": {
            "tags": []
          },
          "execution_count": 16
        }
      ]
    },
    {
      "cell_type": "code",
      "metadata": {
        "colab": {
          "base_uri": "https://localhost:8080/"
        },
        "id": "8_oL7oi2QQP9",
        "outputId": "0cc53540-4165-420a-9b77-bd5af6a8d973"
      },
      "source": [
        "df['LOS'].describe()"
      ],
      "execution_count": 17,
      "outputs": [
        {
          "output_type": "execute_result",
          "data": {
            "text/plain": [
              "count    62477.000000\n",
              "mean        11.166875\n",
              "std         14.141929\n",
              "min         -0.945139\n",
              "25%          3.866667\n",
              "50%          6.888194\n",
              "75%         12.938889\n",
              "max        294.660417\n",
              "Name: LOS, dtype: float64"
            ]
          },
          "metadata": {
            "tags": []
          },
          "execution_count": 17
        }
      ]
    },
    {
      "cell_type": "code",
      "metadata": {
        "colab": {
          "base_uri": "https://localhost:8080/",
          "height": 0
        },
        "id": "pAJnIcrIQTD4",
        "outputId": "ae9320d8-bf5d-4aa4-d1b4-c5c41bd6bc78"
      },
      "source": [
        "df['LOS'].hist()"
      ],
      "execution_count": 18,
      "outputs": [
        {
          "output_type": "execute_result",
          "data": {
            "text/plain": [
              "<matplotlib.axes._subplots.AxesSubplot at 0x7f800a850950>"
            ]
          },
          "metadata": {
            "tags": []
          },
          "execution_count": 18
        },
        {
          "output_type": "display_data",
          "data": {
            "image/png": "[encoded data removed]",
            "text/plain": [
              "<Figure size 432x288 with 1 Axes>"
            ]
          },
          "metadata": {
            "tags": [],
            "needs_background": "light"
          }
        }
      ]
    },
    {
      "cell_type": "markdown",
      "metadata": {
        "id": "gcamzfOlUhrq"
      },
      "source": [
        "Create Adult Variable >= 18"
      ]
    },
    {
      "cell_type": "code",
      "metadata": {
        "id": "aUAQhkFZUgpm"
      },
      "source": [
        "df.loc[df['AGE'] >= 18, 'ADULT'] = 1"
      ],
      "execution_count": 19,
      "outputs": []
    },
    {
      "cell_type": "markdown",
      "metadata": {
        "id": "zSgLOZQWUfZg"
      },
      "source": [
        ""
      ]
    },
    {
      "cell_type": "markdown",
      "metadata": {
        "id": "dK9ul7HpRk95"
      },
      "source": [
        "4.  We will also use **SEPSIS** as Our **Prediction Target** "
      ]
    },
    {
      "cell_type": "markdown",
      "metadata": {
        "id": "r7kF_k-NSLoE"
      },
      "source": [
        "Check for Missing (NA)"
      ]
    },
    {
      "cell_type": "code",
      "metadata": {
        "colab": {
          "base_uri": "https://localhost:8080/"
        },
        "id": "xlrCijSZSG5b",
        "outputId": "5f67d0b9-0191-4d76-ff43-0245a05fb523"
      },
      "source": [
        "df['SEPSIS'].isna().sum() # "
      ],
      "execution_count": 20,
      "outputs": [
        {
          "output_type": "execute_result",
          "data": {
            "text/plain": [
              "0"
            ]
          },
          "metadata": {
            "tags": []
          },
          "execution_count": 20
        }
      ]
    },
    {
      "cell_type": "markdown",
      "metadata": {
        "id": "xOoSF3FoSeRw"
      },
      "source": [
        "Also note that SEPSIS Variable is already numeric (either 1 or 0) and has no missing values, thus can be used as for model training."
      ]
    },
    {
      "cell_type": "markdown",
      "metadata": {
        "id": "esCXhyFVTUuu"
      },
      "source": [
        "## Converting\n",
        "\n",
        "The length of stay varies across patients, we may normalize the total count values into daily average count values in order to retrieve the frequency of the events. Here, we compute the values and save them as new columns, and append '_DAY' to the original column names."
      ]
    },
    {
      "cell_type": "code",
      "metadata": {
        "id": "o1hX6dLITvk4"
      },
      "source": [
        "for col_name in ['DIAG_COUNT', 'CPT_COUNT', 'TRANSFER_COUNT', 'MICRO_COUNT']:\n",
        "  df[col_name + '_DAY'] = df[col_name] / np.maximum(np.ceil(df['LOS']), 1)"
      ],
      "execution_count": 21,
      "outputs": []
    },
    {
      "cell_type": "code",
      "metadata": {
        "colab": {
          "base_uri": "https://localhost:8080/",
          "height": 0
        },
        "id": "A6ZinFz6VEkL",
        "outputId": "1e676fc4-cc77-4eb2-9da3-0634ca2a6fcc"
      },
      "source": [
        "df.head()"
      ],
      "execution_count": 22,
      "outputs": [
        {
          "output_type": "execute_result",
          "data": {
            "text/html": [
              "<div>\n",
              "<style scoped>\n",
              "    .dataframe tbody tr th:only-of-type {\n",
              "        vertical-align: middle;\n",
              "    }\n",
              "\n",
              "    .dataframe tbody tr th {\n",
              "        vertical-align: top;\n",
              "    }\n",
              "\n",
              "    .dataframe thead th {\n",
              "        text-align: right;\n",
              "    }\n",
              "</style>\n",
              "<table border=\"1\" class=\"dataframe\">\n",
              "  <thead>\n",
              "    <tr style=\"text-align: right;\">\n",
              "      <th></th>\n",
              "      <th>SUBJECT_ID</th>\n",
              "      <th>HADM_ID</th>\n",
              "      <th>ADMISSION_TYPE</th>\n",
              "      <th>ADMITTIME</th>\n",
              "      <th>DISCHTIME</th>\n",
              "      <th>DEATHTIME</th>\n",
              "      <th>IN_HOSP_DEATH</th>\n",
              "      <th>DIAGNOSIS</th>\n",
              "      <th>ETHNICITY</th>\n",
              "      <th>GENDER</th>\n",
              "      <th>DOB</th>\n",
              "      <th>LOS_ICU</th>\n",
              "      <th>DIAG_COUNT</th>\n",
              "      <th>CPT_COUNT</th>\n",
              "      <th>TRANSFER_COUNT</th>\n",
              "      <th>MICRO_COUNT</th>\n",
              "      <th>SEPSIS</th>\n",
              "      <th>ORGAN_FAILURE</th>\n",
              "      <th>CARDIOVASCULAR</th>\n",
              "      <th>RENAL</th>\n",
              "      <th>HEPATIC</th>\n",
              "      <th>HEMATOLOGIC</th>\n",
              "      <th>METABOLIC</th>\n",
              "      <th>NEUROLOGIC</th>\n",
              "      <th>HeartRate_Mean</th>\n",
              "      <th>SysBP_Mean</th>\n",
              "      <th>DiasBP_Mean</th>\n",
              "      <th>MeanBP_Mean</th>\n",
              "      <th>RespRate_Mean</th>\n",
              "      <th>TempC_Mean</th>\n",
              "      <th>SpO2_Mean</th>\n",
              "      <th>Glucose_Mean</th>\n",
              "      <th>AGE</th>\n",
              "      <th>LOS</th>\n",
              "      <th>ADULT</th>\n",
              "      <th>DIAG_COUNT_DAY</th>\n",
              "      <th>CPT_COUNT_DAY</th>\n",
              "      <th>TRANSFER_COUNT_DAY</th>\n",
              "      <th>MICRO_COUNT_DAY</th>\n",
              "    </tr>\n",
              "  </thead>\n",
              "  <tbody>\n",
              "    <tr>\n",
              "      <th>0</th>\n",
              "      <td>7275</td>\n",
              "      <td>136809</td>\n",
              "      <td>EMERGENCY</td>\n",
              "      <td>2139-08-28 12:35:00</td>\n",
              "      <td>2139-09-01 16:32:00</td>\n",
              "      <td>NaT</td>\n",
              "      <td>0</td>\n",
              "      <td>ALTERED MENTAL STATUS; DYSPNEA</td>\n",
              "      <td>WHITE</td>\n",
              "      <td>M</td>\n",
              "      <td>2078-11-11</td>\n",
              "      <td>1.3848</td>\n",
              "      <td>15</td>\n",
              "      <td>7.0</td>\n",
              "      <td>3</td>\n",
              "      <td>47.0</td>\n",
              "      <td>1</td>\n",
              "      <td>1</td>\n",
              "      <td>0</td>\n",
              "      <td>1</td>\n",
              "      <td>0</td>\n",
              "      <td>0</td>\n",
              "      <td>0</td>\n",
              "      <td>0</td>\n",
              "      <td>92.772727</td>\n",
              "      <td>142.111111</td>\n",
              "      <td>56.722222</td>\n",
              "      <td>76.000000</td>\n",
              "      <td>20.875000</td>\n",
              "      <td>36.851852</td>\n",
              "      <td>95.086957</td>\n",
              "      <td>133.750000</td>\n",
              "      <td>60</td>\n",
              "      <td>4.164583</td>\n",
              "      <td>1.0</td>\n",
              "      <td>3.000000</td>\n",
              "      <td>1.400000</td>\n",
              "      <td>0.600000</td>\n",
              "      <td>9.400000</td>\n",
              "    </tr>\n",
              "    <tr>\n",
              "      <th>1</th>\n",
              "      <td>17575</td>\n",
              "      <td>187131</td>\n",
              "      <td>EMERGENCY</td>\n",
              "      <td>2124-10-21 08:32:00</td>\n",
              "      <td>2124-11-01 11:14:00</td>\n",
              "      <td>NaT</td>\n",
              "      <td>0</td>\n",
              "      <td>MVA;TRAUMA</td>\n",
              "      <td>BLACK/AFRICAN AMERICAN</td>\n",
              "      <td>M</td>\n",
              "      <td>2106-01-23</td>\n",
              "      <td>3.2653</td>\n",
              "      <td>9</td>\n",
              "      <td>NaN</td>\n",
              "      <td>3</td>\n",
              "      <td>27.0</td>\n",
              "      <td>0</td>\n",
              "      <td>1</td>\n",
              "      <td>0</td>\n",
              "      <td>0</td>\n",
              "      <td>0</td>\n",
              "      <td>0</td>\n",
              "      <td>0</td>\n",
              "      <td>0</td>\n",
              "      <td>108.268293</td>\n",
              "      <td>119.780488</td>\n",
              "      <td>53.317073</td>\n",
              "      <td>73.948718</td>\n",
              "      <td>18.291667</td>\n",
              "      <td>38.388888</td>\n",
              "      <td>99.288889</td>\n",
              "      <td>115.000000</td>\n",
              "      <td>18</td>\n",
              "      <td>11.112500</td>\n",
              "      <td>1.0</td>\n",
              "      <td>0.750000</td>\n",
              "      <td>NaN</td>\n",
              "      <td>0.250000</td>\n",
              "      <td>2.250000</td>\n",
              "    </tr>\n",
              "    <tr>\n",
              "      <th>2</th>\n",
              "      <td>25251</td>\n",
              "      <td>142346</td>\n",
              "      <td>EMERGENCY</td>\n",
              "      <td>2167-01-23 16:23:00</td>\n",
              "      <td>2167-02-06 13:53:00</td>\n",
              "      <td>NaT</td>\n",
              "      <td>0</td>\n",
              "      <td>INFECTED RIGHT FOOT</td>\n",
              "      <td>WHITE</td>\n",
              "      <td>M</td>\n",
              "      <td>2096-08-27</td>\n",
              "      <td>3.2458</td>\n",
              "      <td>9</td>\n",
              "      <td>NaN</td>\n",
              "      <td>6</td>\n",
              "      <td>46.0</td>\n",
              "      <td>0</td>\n",
              "      <td>0</td>\n",
              "      <td>0</td>\n",
              "      <td>0</td>\n",
              "      <td>0</td>\n",
              "      <td>0</td>\n",
              "      <td>0</td>\n",
              "      <td>0</td>\n",
              "      <td>96.522727</td>\n",
              "      <td>109.454545</td>\n",
              "      <td>57.795455</td>\n",
              "      <td>73.727273</td>\n",
              "      <td>15.500000</td>\n",
              "      <td>36.697619</td>\n",
              "      <td>98.380952</td>\n",
              "      <td>149.619048</td>\n",
              "      <td>70</td>\n",
              "      <td>13.895833</td>\n",
              "      <td>1.0</td>\n",
              "      <td>0.642857</td>\n",
              "      <td>NaN</td>\n",
              "      <td>0.428571</td>\n",
              "      <td>3.285714</td>\n",
              "    </tr>\n",
              "    <tr>\n",
              "      <th>3</th>\n",
              "      <td>32339</td>\n",
              "      <td>181355</td>\n",
              "      <td>EMERGENCY</td>\n",
              "      <td>2110-07-29 23:56:00</td>\n",
              "      <td>2110-08-04 15:10:00</td>\n",
              "      <td>NaT</td>\n",
              "      <td>0</td>\n",
              "      <td>GASTROINTESTINAL BLEED;CHEST PAIN;TELEMETRY</td>\n",
              "      <td>WHITE</td>\n",
              "      <td>M</td>\n",
              "      <td>1810-07-29</td>\n",
              "      <td>1.7603</td>\n",
              "      <td>15</td>\n",
              "      <td>8.0</td>\n",
              "      <td>4</td>\n",
              "      <td>NaN</td>\n",
              "      <td>0</td>\n",
              "      <td>1</td>\n",
              "      <td>0</td>\n",
              "      <td>1</td>\n",
              "      <td>0</td>\n",
              "      <td>0</td>\n",
              "      <td>1</td>\n",
              "      <td>0</td>\n",
              "      <td>50.038462</td>\n",
              "      <td>137.714286</td>\n",
              "      <td>44.571429</td>\n",
              "      <td>67.809524</td>\n",
              "      <td>17.038462</td>\n",
              "      <td>36.244444</td>\n",
              "      <td>97.346154</td>\n",
              "      <td>105.000000</td>\n",
              "      <td>-285</td>\n",
              "      <td>5.634722</td>\n",
              "      <td>NaN</td>\n",
              "      <td>2.500000</td>\n",
              "      <td>1.333333</td>\n",
              "      <td>0.666667</td>\n",
              "      <td>NaN</td>\n",
              "    </tr>\n",
              "    <tr>\n",
              "      <th>4</th>\n",
              "      <td>30746</td>\n",
              "      <td>155603</td>\n",
              "      <td>EMERGENCY</td>\n",
              "      <td>2131-08-22 23:07:00</td>\n",
              "      <td>2131-08-28 13:10:00</td>\n",
              "      <td>NaT</td>\n",
              "      <td>0</td>\n",
              "      <td>ALTERED MENTAL STATUS</td>\n",
              "      <td>WHITE</td>\n",
              "      <td>M</td>\n",
              "      <td>2055-03-16</td>\n",
              "      <td>5.5894</td>\n",
              "      <td>22</td>\n",
              "      <td>10.0</td>\n",
              "      <td>7</td>\n",
              "      <td>5.0</td>\n",
              "      <td>0</td>\n",
              "      <td>1</td>\n",
              "      <td>1</td>\n",
              "      <td>0</td>\n",
              "      <td>0</td>\n",
              "      <td>0</td>\n",
              "      <td>0</td>\n",
              "      <td>1</td>\n",
              "      <td>79.285714</td>\n",
              "      <td>130.814815</td>\n",
              "      <td>60.740741</td>\n",
              "      <td>79.740741</td>\n",
              "      <td>18.875000</td>\n",
              "      <td>37.074074</td>\n",
              "      <td>98.827586</td>\n",
              "      <td>141.300000</td>\n",
              "      <td>76</td>\n",
              "      <td>5.585417</td>\n",
              "      <td>1.0</td>\n",
              "      <td>3.666667</td>\n",
              "      <td>1.666667</td>\n",
              "      <td>1.166667</td>\n",
              "      <td>0.833333</td>\n",
              "    </tr>\n",
              "  </tbody>\n",
              "</table>\n",
              "</div>"
            ],
            "text/plain": [
              "   SUBJECT_ID  HADM_ID  ... TRANSFER_COUNT_DAY MICRO_COUNT_DAY\n",
              "0        7275   136809  ...           0.600000        9.400000\n",
              "1       17575   187131  ...           0.250000        2.250000\n",
              "2       25251   142346  ...           0.428571        3.285714\n",
              "3       32339   181355  ...           0.666667             NaN\n",
              "4       30746   155603  ...           1.166667        0.833333\n",
              "\n",
              "[5 rows x 39 columns]"
            ]
          },
          "metadata": {
            "tags": []
          },
          "execution_count": 22
        }
      ]
    },
    {
      "cell_type": "code",
      "metadata": {
        "colab": {
          "base_uri": "https://localhost:8080/"
        },
        "id": "yGVW0u1bVItE",
        "outputId": "2c8b26f1-c4ac-4da5-c8db-4c5915e5028e"
      },
      "source": [
        "df.info()"
      ],
      "execution_count": 23,
      "outputs": [
        {
          "output_type": "stream",
          "text": [
            "<class 'pandas.core.frame.DataFrame'>\n",
            "RangeIndex: 62477 entries, 0 to 62476\n",
            "Data columns (total 39 columns):\n",
            " #   Column              Non-Null Count  Dtype         \n",
            "---  ------              --------------  -----         \n",
            " 0   SUBJECT_ID          62477 non-null  int64         \n",
            " 1   HADM_ID             62477 non-null  int64         \n",
            " 2   ADMISSION_TYPE      62477 non-null  object        \n",
            " 3   ADMITTIME           62477 non-null  datetime64[ns]\n",
            " 4   DISCHTIME           62477 non-null  datetime64[ns]\n",
            " 5   DEATHTIME           6624 non-null   object        \n",
            " 6   IN_HOSP_DEATH       62477 non-null  int64         \n",
            " 7   DIAGNOSIS           62452 non-null  object        \n",
            " 8   ETHNICITY           62477 non-null  object        \n",
            " 9   GENDER              62477 non-null  object        \n",
            " 10  DOB                 62477 non-null  datetime64[ns]\n",
            " 11  LOS_ICU             61277 non-null  float64       \n",
            " 12  DIAG_COUNT          62477 non-null  int64         \n",
            " 13  CPT_COUNT           47430 non-null  float64       \n",
            " 14  TRANSFER_COUNT      62477 non-null  int64         \n",
            " 15  MICRO_COUNT         52143 non-null  float64       \n",
            " 16  SEPSIS              62477 non-null  int64         \n",
            " 17  ORGAN_FAILURE       62477 non-null  int64         \n",
            " 18  CARDIOVASCULAR      62477 non-null  int64         \n",
            " 19  RENAL               62477 non-null  int64         \n",
            " 20  HEPATIC             62477 non-null  int64         \n",
            " 21  HEMATOLOGIC         62477 non-null  int64         \n",
            " 22  METABOLIC           62477 non-null  int64         \n",
            " 23  NEUROLOGIC          62477 non-null  int64         \n",
            " 24  HeartRate_Mean      59048 non-null  float64       \n",
            " 25  SysBP_Mean          52254 non-null  float64       \n",
            " 26  DiasBP_Mean         52252 non-null  float64       \n",
            " 27  MeanBP_Mean         52288 non-null  float64       \n",
            " 28  RespRate_Mean       52229 non-null  float64       \n",
            " 29  TempC_Mean          51382 non-null  float64       \n",
            " 30  SpO2_Mean           52233 non-null  float64       \n",
            " 31  Glucose_Mean        52991 non-null  float64       \n",
            " 32  AGE                 62477 non-null  int64         \n",
            " 33  LOS                 62477 non-null  float64       \n",
            " 34  ADULT               51462 non-null  float64       \n",
            " 35  DIAG_COUNT_DAY      62477 non-null  float64       \n",
            " 36  CPT_COUNT_DAY       47430 non-null  float64       \n",
            " 37  TRANSFER_COUNT_DAY  62477 non-null  float64       \n",
            " 38  MICRO_COUNT_DAY     52143 non-null  float64       \n",
            "dtypes: datetime64[ns](3), float64(17), int64(14), object(5)\n",
            "memory usage: 18.6+ MB\n"
          ],
          "name": "stdout"
        }
      ]
    },
    {
      "cell_type": "markdown",
      "metadata": {
        "id": "-g3FISYJV0OG"
      },
      "source": [
        "## Completing"
      ]
    },
    {
      "cell_type": "markdown",
      "metadata": {
        "id": "0YQSgCITV8sg"
      },
      "source": [
        "#### Numerical features\n",
        "\n",
        "Regarding the features related to counts and counts per day, we can simply fill all NaN values with 0."
      ]
    },
    {
      "cell_type": "code",
      "metadata": {
        "id": "_Gs49sWXWZQL"
      },
      "source": [
        "for col_name in ['DIAG_COUNT', 'CPT_COUNT', 'TRANSFER_COUNT', 'MICRO_COUNT']:\n",
        "  df[col_name] = df[col_name].fillna(0)\n",
        "  df[col_name + '_DAY'] = df[col_name + '_DAY'].fillna(0)"
      ],
      "execution_count": 24,
      "outputs": []
    },
    {
      "cell_type": "code",
      "metadata": {
        "id": "Wdrj62TRWnpc"
      },
      "source": [
        "df['DIAG_COUNT'] = df['DIAG_COUNT'].fillna(0)\n",
        "df['LOS_ICU'] = df['LOS_ICU'].fillna(0)"
      ],
      "execution_count": 25,
      "outputs": []
    },
    {
      "cell_type": "code",
      "metadata": {
        "colab": {
          "base_uri": "https://localhost:8080/",
          "height": 0
        },
        "id": "lhnkNXg5Wq0J",
        "outputId": "d7de5483-013b-44e7-acb6-b90333c00a13"
      },
      "source": [
        "df.head()"
      ],
      "execution_count": 26,
      "outputs": [
        {
          "output_type": "execute_result",
          "data": {
            "text/html": [
              "<div>\n",
              "<style scoped>\n",
              "    .dataframe tbody tr th:only-of-type {\n",
              "        vertical-align: middle;\n",
              "    }\n",
              "\n",
              "    .dataframe tbody tr th {\n",
              "        vertical-align: top;\n",
              "    }\n",
              "\n",
              "    .dataframe thead th {\n",
              "        text-align: right;\n",
              "    }\n",
              "</style>\n",
              "<table border=\"1\" class=\"dataframe\">\n",
              "  <thead>\n",
              "    <tr style=\"text-align: right;\">\n",
              "      <th></th>\n",
              "      <th>SUBJECT_ID</th>\n",
              "      <th>HADM_ID</th>\n",
              "      <th>ADMISSION_TYPE</th>\n",
              "      <th>ADMITTIME</th>\n",
              "      <th>DISCHTIME</th>\n",
              "      <th>DEATHTIME</th>\n",
              "      <th>IN_HOSP_DEATH</th>\n",
              "      <th>DIAGNOSIS</th>\n",
              "      <th>ETHNICITY</th>\n",
              "      <th>GENDER</th>\n",
              "      <th>DOB</th>\n",
              "      <th>LOS_ICU</th>\n",
              "      <th>DIAG_COUNT</th>\n",
              "      <th>CPT_COUNT</th>\n",
              "      <th>TRANSFER_COUNT</th>\n",
              "      <th>MICRO_COUNT</th>\n",
              "      <th>SEPSIS</th>\n",
              "      <th>ORGAN_FAILURE</th>\n",
              "      <th>CARDIOVASCULAR</th>\n",
              "      <th>RENAL</th>\n",
              "      <th>HEPATIC</th>\n",
              "      <th>HEMATOLOGIC</th>\n",
              "      <th>METABOLIC</th>\n",
              "      <th>NEUROLOGIC</th>\n",
              "      <th>HeartRate_Mean</th>\n",
              "      <th>SysBP_Mean</th>\n",
              "      <th>DiasBP_Mean</th>\n",
              "      <th>MeanBP_Mean</th>\n",
              "      <th>RespRate_Mean</th>\n",
              "      <th>TempC_Mean</th>\n",
              "      <th>SpO2_Mean</th>\n",
              "      <th>Glucose_Mean</th>\n",
              "      <th>AGE</th>\n",
              "      <th>LOS</th>\n",
              "      <th>ADULT</th>\n",
              "      <th>DIAG_COUNT_DAY</th>\n",
              "      <th>CPT_COUNT_DAY</th>\n",
              "      <th>TRANSFER_COUNT_DAY</th>\n",
              "      <th>MICRO_COUNT_DAY</th>\n",
              "    </tr>\n",
              "  </thead>\n",
              "  <tbody>\n",
              "    <tr>\n",
              "      <th>0</th>\n",
              "      <td>7275</td>\n",
              "      <td>136809</td>\n",
              "      <td>EMERGENCY</td>\n",
              "      <td>2139-08-28 12:35:00</td>\n",
              "      <td>2139-09-01 16:32:00</td>\n",
              "      <td>NaT</td>\n",
              "      <td>0</td>\n",
              "      <td>ALTERED MENTAL STATUS; DYSPNEA</td>\n",
              "      <td>WHITE</td>\n",
              "      <td>M</td>\n",
              "      <td>2078-11-11</td>\n",
              "      <td>1.3848</td>\n",
              "      <td>15</td>\n",
              "      <td>7.0</td>\n",
              "      <td>3</td>\n",
              "      <td>47.0</td>\n",
              "      <td>1</td>\n",
              "      <td>1</td>\n",
              "      <td>0</td>\n",
              "      <td>1</td>\n",
              "      <td>0</td>\n",
              "      <td>0</td>\n",
              "      <td>0</td>\n",
              "      <td>0</td>\n",
              "      <td>92.772727</td>\n",
              "      <td>142.111111</td>\n",
              "      <td>56.722222</td>\n",
              "      <td>76.000000</td>\n",
              "      <td>20.875000</td>\n",
              "      <td>36.851852</td>\n",
              "      <td>95.086957</td>\n",
              "      <td>133.750000</td>\n",
              "      <td>60</td>\n",
              "      <td>4.164583</td>\n",
              "      <td>1.0</td>\n",
              "      <td>3.000000</td>\n",
              "      <td>1.400000</td>\n",
              "      <td>0.600000</td>\n",
              "      <td>9.400000</td>\n",
              "    </tr>\n",
              "    <tr>\n",
              "      <th>1</th>\n",
              "      <td>17575</td>\n",
              "      <td>187131</td>\n",
              "      <td>EMERGENCY</td>\n",
              "      <td>2124-10-21 08:32:00</td>\n",
              "      <td>2124-11-01 11:14:00</td>\n",
              "      <td>NaT</td>\n",
              "      <td>0</td>\n",
              "      <td>MVA;TRAUMA</td>\n",
              "      <td>BLACK/AFRICAN AMERICAN</td>\n",
              "      <td>M</td>\n",
              "      <td>2106-01-23</td>\n",
              "      <td>3.2653</td>\n",
              "      <td>9</td>\n",
              "      <td>0.0</td>\n",
              "      <td>3</td>\n",
              "      <td>27.0</td>\n",
              "      <td>0</td>\n",
              "      <td>1</td>\n",
              "      <td>0</td>\n",
              "      <td>0</td>\n",
              "      <td>0</td>\n",
              "      <td>0</td>\n",
              "      <td>0</td>\n",
              "      <td>0</td>\n",
              "      <td>108.268293</td>\n",
              "      <td>119.780488</td>\n",
              "      <td>53.317073</td>\n",
              "      <td>73.948718</td>\n",
              "      <td>18.291667</td>\n",
              "      <td>38.388888</td>\n",
              "      <td>99.288889</td>\n",
              "      <td>115.000000</td>\n",
              "      <td>18</td>\n",
              "      <td>11.112500</td>\n",
              "      <td>1.0</td>\n",
              "      <td>0.750000</td>\n",
              "      <td>0.000000</td>\n",
              "      <td>0.250000</td>\n",
              "      <td>2.250000</td>\n",
              "    </tr>\n",
              "    <tr>\n",
              "      <th>2</th>\n",
              "      <td>25251</td>\n",
              "      <td>142346</td>\n",
              "      <td>EMERGENCY</td>\n",
              "      <td>2167-01-23 16:23:00</td>\n",
              "      <td>2167-02-06 13:53:00</td>\n",
              "      <td>NaT</td>\n",
              "      <td>0</td>\n",
              "      <td>INFECTED RIGHT FOOT</td>\n",
              "      <td>WHITE</td>\n",
              "      <td>M</td>\n",
              "      <td>2096-08-27</td>\n",
              "      <td>3.2458</td>\n",
              "      <td>9</td>\n",
              "      <td>0.0</td>\n",
              "      <td>6</td>\n",
              "      <td>46.0</td>\n",
              "      <td>0</td>\n",
              "      <td>0</td>\n",
              "      <td>0</td>\n",
              "      <td>0</td>\n",
              "      <td>0</td>\n",
              "      <td>0</td>\n",
              "      <td>0</td>\n",
              "      <td>0</td>\n",
              "      <td>96.522727</td>\n",
              "      <td>109.454545</td>\n",
              "      <td>57.795455</td>\n",
              "      <td>73.727273</td>\n",
              "      <td>15.500000</td>\n",
              "      <td>36.697619</td>\n",
              "      <td>98.380952</td>\n",
              "      <td>149.619048</td>\n",
              "      <td>70</td>\n",
              "      <td>13.895833</td>\n",
              "      <td>1.0</td>\n",
              "      <td>0.642857</td>\n",
              "      <td>0.000000</td>\n",
              "      <td>0.428571</td>\n",
              "      <td>3.285714</td>\n",
              "    </tr>\n",
              "    <tr>\n",
              "      <th>3</th>\n",
              "      <td>32339</td>\n",
              "      <td>181355</td>\n",
              "      <td>EMERGENCY</td>\n",
              "      <td>2110-07-29 23:56:00</td>\n",
              "      <td>2110-08-04 15:10:00</td>\n",
              "      <td>NaT</td>\n",
              "      <td>0</td>\n",
              "      <td>GASTROINTESTINAL BLEED;CHEST PAIN;TELEMETRY</td>\n",
              "      <td>WHITE</td>\n",
              "      <td>M</td>\n",
              "      <td>1810-07-29</td>\n",
              "      <td>1.7603</td>\n",
              "      <td>15</td>\n",
              "      <td>8.0</td>\n",
              "      <td>4</td>\n",
              "      <td>0.0</td>\n",
              "      <td>0</td>\n",
              "      <td>1</td>\n",
              "      <td>0</td>\n",
              "      <td>1</td>\n",
              "      <td>0</td>\n",
              "      <td>0</td>\n",
              "      <td>1</td>\n",
              "      <td>0</td>\n",
              "      <td>50.038462</td>\n",
              "      <td>137.714286</td>\n",
              "      <td>44.571429</td>\n",
              "      <td>67.809524</td>\n",
              "      <td>17.038462</td>\n",
              "      <td>36.244444</td>\n",
              "      <td>97.346154</td>\n",
              "      <td>105.000000</td>\n",
              "      <td>-285</td>\n",
              "      <td>5.634722</td>\n",
              "      <td>NaN</td>\n",
              "      <td>2.500000</td>\n",
              "      <td>1.333333</td>\n",
              "      <td>0.666667</td>\n",
              "      <td>0.000000</td>\n",
              "    </tr>\n",
              "    <tr>\n",
              "      <th>4</th>\n",
              "      <td>30746</td>\n",
              "      <td>155603</td>\n",
              "      <td>EMERGENCY</td>\n",
              "      <td>2131-08-22 23:07:00</td>\n",
              "      <td>2131-08-28 13:10:00</td>\n",
              "      <td>NaT</td>\n",
              "      <td>0</td>\n",
              "      <td>ALTERED MENTAL STATUS</td>\n",
              "      <td>WHITE</td>\n",
              "      <td>M</td>\n",
              "      <td>2055-03-16</td>\n",
              "      <td>5.5894</td>\n",
              "      <td>22</td>\n",
              "      <td>10.0</td>\n",
              "      <td>7</td>\n",
              "      <td>5.0</td>\n",
              "      <td>0</td>\n",
              "      <td>1</td>\n",
              "      <td>1</td>\n",
              "      <td>0</td>\n",
              "      <td>0</td>\n",
              "      <td>0</td>\n",
              "      <td>0</td>\n",
              "      <td>1</td>\n",
              "      <td>79.285714</td>\n",
              "      <td>130.814815</td>\n",
              "      <td>60.740741</td>\n",
              "      <td>79.740741</td>\n",
              "      <td>18.875000</td>\n",
              "      <td>37.074074</td>\n",
              "      <td>98.827586</td>\n",
              "      <td>141.300000</td>\n",
              "      <td>76</td>\n",
              "      <td>5.585417</td>\n",
              "      <td>1.0</td>\n",
              "      <td>3.666667</td>\n",
              "      <td>1.666667</td>\n",
              "      <td>1.166667</td>\n",
              "      <td>0.833333</td>\n",
              "    </tr>\n",
              "  </tbody>\n",
              "</table>\n",
              "</div>"
            ],
            "text/plain": [
              "   SUBJECT_ID  HADM_ID  ... TRANSFER_COUNT_DAY MICRO_COUNT_DAY\n",
              "0        7275   136809  ...           0.600000        9.400000\n",
              "1       17575   187131  ...           0.250000        2.250000\n",
              "2       25251   142346  ...           0.428571        3.285714\n",
              "3       32339   181355  ...           0.666667        0.000000\n",
              "4       30746   155603  ...           1.166667        0.833333\n",
              "\n",
              "[5 rows x 39 columns]"
            ]
          },
          "metadata": {
            "tags": []
          },
          "execution_count": 26
        }
      ]
    },
    {
      "cell_type": "code",
      "metadata": {
        "colab": {
          "base_uri": "https://localhost:8080/"
        },
        "id": "B17S67l2Ws_T",
        "outputId": "2fbf9042-578b-481a-a90e-d5a5de24aa33"
      },
      "source": [
        "df.info()"
      ],
      "execution_count": 27,
      "outputs": [
        {
          "output_type": "stream",
          "text": [
            "<class 'pandas.core.frame.DataFrame'>\n",
            "RangeIndex: 62477 entries, 0 to 62476\n",
            "Data columns (total 39 columns):\n",
            " #   Column              Non-Null Count  Dtype         \n",
            "---  ------              --------------  -----         \n",
            " 0   SUBJECT_ID          62477 non-null  int64         \n",
            " 1   HADM_ID             62477 non-null  int64         \n",
            " 2   ADMISSION_TYPE      62477 non-null  object        \n",
            " 3   ADMITTIME           62477 non-null  datetime64[ns]\n",
            " 4   DISCHTIME           62477 non-null  datetime64[ns]\n",
            " 5   DEATHTIME           6624 non-null   object        \n",
            " 6   IN_HOSP_DEATH       62477 non-null  int64         \n",
            " 7   DIAGNOSIS           62452 non-null  object        \n",
            " 8   ETHNICITY           62477 non-null  object        \n",
            " 9   GENDER              62477 non-null  object        \n",
            " 10  DOB                 62477 non-null  datetime64[ns]\n",
            " 11  LOS_ICU             62477 non-null  float64       \n",
            " 12  DIAG_COUNT          62477 non-null  int64         \n",
            " 13  CPT_COUNT           62477 non-null  float64       \n",
            " 14  TRANSFER_COUNT      62477 non-null  int64         \n",
            " 15  MICRO_COUNT         62477 non-null  float64       \n",
            " 16  SEPSIS              62477 non-null  int64         \n",
            " 17  ORGAN_FAILURE       62477 non-null  int64         \n",
            " 18  CARDIOVASCULAR      62477 non-null  int64         \n",
            " 19  RENAL               62477 non-null  int64         \n",
            " 20  HEPATIC             62477 non-null  int64         \n",
            " 21  HEMATOLOGIC         62477 non-null  int64         \n",
            " 22  METABOLIC           62477 non-null  int64         \n",
            " 23  NEUROLOGIC          62477 non-null  int64         \n",
            " 24  HeartRate_Mean      59048 non-null  float64       \n",
            " 25  SysBP_Mean          52254 non-null  float64       \n",
            " 26  DiasBP_Mean         52252 non-null  float64       \n",
            " 27  MeanBP_Mean         52288 non-null  float64       \n",
            " 28  RespRate_Mean       52229 non-null  float64       \n",
            " 29  TempC_Mean          51382 non-null  float64       \n",
            " 30  SpO2_Mean           52233 non-null  float64       \n",
            " 31  Glucose_Mean        52991 non-null  float64       \n",
            " 32  AGE                 62477 non-null  int64         \n",
            " 33  LOS                 62477 non-null  float64       \n",
            " 34  ADULT               51462 non-null  float64       \n",
            " 35  DIAG_COUNT_DAY      62477 non-null  float64       \n",
            " 36  CPT_COUNT_DAY       62477 non-null  float64       \n",
            " 37  TRANSFER_COUNT_DAY  62477 non-null  float64       \n",
            " 38  MICRO_COUNT_DAY     62477 non-null  float64       \n",
            "dtypes: datetime64[ns](3), float64(17), int64(14), object(5)\n",
            "memory usage: 18.6+ MB\n"
          ],
          "name": "stdout"
        }
      ]
    },
    {
      "cell_type": "code",
      "metadata": {
        "id": "ERwLa8SccBG4"
      },
      "source": [
        "df['HeartRate_Mean'] = df['HeartRate_Mean'].fillna(0)\n",
        "df['SysBP_Mean'] = df['SysBP_Mean'].fillna(0)\n",
        "df['DiasBP_Mean'] = df['DiasBP_Mean'].fillna(0)\n",
        "df['MeanBP_Mean'] = df['MeanBP_Mean'].fillna(0)\n",
        "df['RespRate_Mean'] = df['RespRate_Mean'].fillna(0)\n",
        "df['TempC_Mean'] = df['TempC_Mean'].fillna(0)\n",
        "df['SpO2_Mean'] = df['SpO2_Mean'].fillna(0)\n",
        "df['Glucose_Mean'] = df['Glucose_Mean'].fillna(0)"
      ],
      "execution_count": 28,
      "outputs": []
    },
    {
      "cell_type": "markdown",
      "metadata": {
        "id": "q-JGKeiVWFq4"
      },
      "source": [
        "#### Categorical features\n",
        "\n",
        "There are three categorical variables containing missing values.\n",
        "\n",
        "`MARITAL_STATUS`: fill in the default value"
      ]
    },
    {
      "cell_type": "code",
      "metadata": {
        "colab": {
          "base_uri": "https://localhost:8080/"
        },
        "id": "vpF7-zvPsHoy",
        "outputId": "dc3bd4f1-bad1-4707-be5c-ad6a84695423"
      },
      "source": [
        "df.info"
      ],
      "execution_count": 29,
      "outputs": [
        {
          "output_type": "execute_result",
          "data": {
            "text/plain": [
              "<bound method DataFrame.info of        SUBJECT_ID  HADM_ID  ... TRANSFER_COUNT_DAY MICRO_COUNT_DAY\n",
              "0            7275   136809  ...           0.600000        9.400000\n",
              "1           17575   187131  ...           0.250000        2.250000\n",
              "2           25251   142346  ...           0.428571        3.285714\n",
              "3           32339   181355  ...           0.666667        0.000000\n",
              "4           30746   155603  ...           1.166667        0.833333\n",
              "...           ...      ...  ...                ...             ...\n",
              "62472       31355   146717  ...           1.500000        1.000000\n",
              "62473       58016   105567  ...           1.000000        3.000000\n",
              "62474       64255   145415  ...           1.000000        0.500000\n",
              "62475       83060   122843  ...           1.000000        0.250000\n",
              "62476       84694   149446  ...           1.000000        4.500000\n",
              "\n",
              "[62477 rows x 39 columns]>"
            ]
          },
          "metadata": {
            "tags": []
          },
          "execution_count": 29
        }
      ]
    },
    {
      "cell_type": "markdown",
      "metadata": {
        "id": "XJogqokEstf_"
      },
      "source": [
        "## Correcting\n",
        "\n",
        "As we have seen previously, the age column contains certain suspicious values. Why is that?"
      ]
    },
    {
      "cell_type": "code",
      "metadata": {
        "colab": {
          "base_uri": "https://localhost:8080/",
          "height": 0
        },
        "id": "wLmHeBC_tLYB",
        "outputId": "66aa9d89-3c23-40eb-ead3-53753093a094"
      },
      "source": [
        "df['AGE'].hist()"
      ],
      "execution_count": 30,
      "outputs": [
        {
          "output_type": "execute_result",
          "data": {
            "text/plain": [
              "<matplotlib.axes._subplots.AxesSubplot at 0x7f800a40d3d0>"
            ]
          },
          "metadata": {
            "tags": []
          },
          "execution_count": 30
        },
        {
          "output_type": "display_data",
          "data": {
            "image/png": "[encoded data removed]",
            "text/plain": [
              "<Figure size 432x288 with 1 Axes>"
            ]
          },
          "metadata": {
            "tags": [],
            "needs_background": "light"
          }
        }
      ]
    },
    {
      "cell_type": "code",
      "metadata": {
        "id": "8CD9t5xltP4-"
      },
      "source": [
        "df.loc[df['AGE'] < 0, 'AGE'] = 90"
      ],
      "execution_count": 31,
      "outputs": []
    },
    {
      "cell_type": "code",
      "metadata": {
        "colab": {
          "base_uri": "https://localhost:8080/",
          "height": 0
        },
        "id": "oX3B9AtmtTLc",
        "outputId": "8e6c9619-c0f6-45be-84e5-6291d00636e7"
      },
      "source": [
        "df['AGE'].hist()"
      ],
      "execution_count": 32,
      "outputs": [
        {
          "output_type": "execute_result",
          "data": {
            "text/plain": [
              "<matplotlib.axes._subplots.AxesSubplot at 0x7f800a206790>"
            ]
          },
          "metadata": {
            "tags": []
          },
          "execution_count": 32
        },
        {
          "output_type": "display_data",
          "data": {
            "image/png": "[encoded data removed]",
            "text/plain": [
              "<Figure size 432x288 with 1 Axes>"
            ]
          },
          "metadata": {
            "tags": [],
            "needs_background": "light"
          }
        }
      ]
    },
    {
      "cell_type": "markdown",
      "metadata": {
        "id": "3CkPzQvj86Bp"
      },
      "source": [
        "A number of measures were performed to protect patient privacy. Quoting from [MIMIC-III's documentation](https://mimic.physionet.org/mimicdata/time/), \n",
        "\n",
        "> All dates in the database have been shifted to protect patient confidentiality. Dates will be internally consistent for the same patient, but randomly distributed in the future.\n",
        "\n",
        "> Dates of birth which occur in the present time are not true dates of birth. Furthermore, dates of birth which occur before the year 1900 occur if the patient is older than 89. In these cases, the patient’s age at their first admission has been fixed to 300.\n",
        "\n",
        "In other words, all patients with a negative 'age' calculated above are older than 89. For illustration, let's simply set them to be 90."
      ]
    },
    {
      "cell_type": "code",
      "metadata": {
        "id": "aXZnENb-w9Lh"
      },
      "source": [
        "df.loc[df['AGE'] < 0, 'AGE'] = 90"
      ],
      "execution_count": 33,
      "outputs": []
    },
    {
      "cell_type": "markdown",
      "metadata": {
        "id": "6Pax17qnjKjU"
      },
      "source": [
        "## Encoding for Categorical Variables (Converting)"
      ]
    },
    {
      "cell_type": "markdown",
      "metadata": {
        "id": "DLVi4yeYxllP"
      },
      "source": [
        "ADMISSION_TYPE"
      ]
    },
    {
      "cell_type": "code",
      "metadata": {
        "colab": {
          "base_uri": "https://localhost:8080/",
          "height": 0
        },
        "id": "AsyknRNGxnVi",
        "outputId": "a1379340-0f7b-4e61-f9f9-cc082061e130"
      },
      "source": [
        "tmp_df_admissions = pd.get_dummies(df['ADMISSION_TYPE'], prefix = 'ADMISSION_TYPE')\n",
        "tmp_df_admissions"
      ],
      "execution_count": 34,
      "outputs": [
        {
          "output_type": "execute_result",
          "data": {
            "text/html": [
              "<div>\n",
              "<style scoped>\n",
              "    .dataframe tbody tr th:only-of-type {\n",
              "        vertical-align: middle;\n",
              "    }\n",
              "\n",
              "    .dataframe tbody tr th {\n",
              "        vertical-align: top;\n",
              "    }\n",
              "\n",
              "    .dataframe thead th {\n",
              "        text-align: right;\n",
              "    }\n",
              "</style>\n",
              "<table border=\"1\" class=\"dataframe\">\n",
              "  <thead>\n",
              "    <tr style=\"text-align: right;\">\n",
              "      <th></th>\n",
              "      <th>ADMISSION_TYPE_ELECTIVE</th>\n",
              "      <th>ADMISSION_TYPE_EMERGENCY</th>\n",
              "      <th>ADMISSION_TYPE_NEWBORN</th>\n",
              "      <th>ADMISSION_TYPE_URGENT</th>\n",
              "    </tr>\n",
              "  </thead>\n",
              "  <tbody>\n",
              "    <tr>\n",
              "      <th>0</th>\n",
              "      <td>0</td>\n",
              "      <td>1</td>\n",
              "      <td>0</td>\n",
              "      <td>0</td>\n",
              "    </tr>\n",
              "    <tr>\n",
              "      <th>1</th>\n",
              "      <td>0</td>\n",
              "      <td>1</td>\n",
              "      <td>0</td>\n",
              "      <td>0</td>\n",
              "    </tr>\n",
              "    <tr>\n",
              "      <th>2</th>\n",
              "      <td>0</td>\n",
              "      <td>1</td>\n",
              "      <td>0</td>\n",
              "      <td>0</td>\n",
              "    </tr>\n",
              "    <tr>\n",
              "      <th>3</th>\n",
              "      <td>0</td>\n",
              "      <td>1</td>\n",
              "      <td>0</td>\n",
              "      <td>0</td>\n",
              "    </tr>\n",
              "    <tr>\n",
              "      <th>4</th>\n",
              "      <td>0</td>\n",
              "      <td>1</td>\n",
              "      <td>0</td>\n",
              "      <td>0</td>\n",
              "    </tr>\n",
              "    <tr>\n",
              "      <th>...</th>\n",
              "      <td>...</td>\n",
              "      <td>...</td>\n",
              "      <td>...</td>\n",
              "      <td>...</td>\n",
              "    </tr>\n",
              "    <tr>\n",
              "      <th>62472</th>\n",
              "      <td>0</td>\n",
              "      <td>1</td>\n",
              "      <td>0</td>\n",
              "      <td>0</td>\n",
              "    </tr>\n",
              "    <tr>\n",
              "      <th>62473</th>\n",
              "      <td>0</td>\n",
              "      <td>1</td>\n",
              "      <td>0</td>\n",
              "      <td>0</td>\n",
              "    </tr>\n",
              "    <tr>\n",
              "      <th>62474</th>\n",
              "      <td>0</td>\n",
              "      <td>1</td>\n",
              "      <td>0</td>\n",
              "      <td>0</td>\n",
              "    </tr>\n",
              "    <tr>\n",
              "      <th>62475</th>\n",
              "      <td>0</td>\n",
              "      <td>1</td>\n",
              "      <td>0</td>\n",
              "      <td>0</td>\n",
              "    </tr>\n",
              "    <tr>\n",
              "      <th>62476</th>\n",
              "      <td>0</td>\n",
              "      <td>0</td>\n",
              "      <td>0</td>\n",
              "      <td>1</td>\n",
              "    </tr>\n",
              "  </tbody>\n",
              "</table>\n",
              "<p>62477 rows × 4 columns</p>\n",
              "</div>"
            ],
            "text/plain": [
              "       ADMISSION_TYPE_ELECTIVE  ...  ADMISSION_TYPE_URGENT\n",
              "0                            0  ...                      0\n",
              "1                            0  ...                      0\n",
              "2                            0  ...                      0\n",
              "3                            0  ...                      0\n",
              "4                            0  ...                      0\n",
              "...                        ...  ...                    ...\n",
              "62472                        0  ...                      0\n",
              "62473                        0  ...                      0\n",
              "62474                        0  ...                      0\n",
              "62475                        0  ...                      0\n",
              "62476                        0  ...                      1\n",
              "\n",
              "[62477 rows x 4 columns]"
            ]
          },
          "metadata": {
            "tags": []
          },
          "execution_count": 34
        }
      ]
    },
    {
      "cell_type": "code",
      "metadata": {
        "id": "sesRiA9qxu4k"
      },
      "source": [
        "df = pd.concat([df, tmp_df_admissions], axis = 1) \n",
        "# add the above temporary dataframe to the original dataframe, axis = 1 specifies that we want to stack them horizontally not vertically"
      ],
      "execution_count": 35,
      "outputs": []
    },
    {
      "cell_type": "code",
      "metadata": {
        "colab": {
          "base_uri": "https://localhost:8080/"
        },
        "id": "ioz-Lbc-yKjb",
        "outputId": "f0ff29a0-7f6c-458b-88a7-321d621349a4"
      },
      "source": [
        "df.info()"
      ],
      "execution_count": 36,
      "outputs": [
        {
          "output_type": "stream",
          "text": [
            "<class 'pandas.core.frame.DataFrame'>\n",
            "RangeIndex: 62477 entries, 0 to 62476\n",
            "Data columns (total 43 columns):\n",
            " #   Column                    Non-Null Count  Dtype         \n",
            "---  ------                    --------------  -----         \n",
            " 0   SUBJECT_ID                62477 non-null  int64         \n",
            " 1   HADM_ID                   62477 non-null  int64         \n",
            " 2   ADMISSION_TYPE            62477 non-null  object        \n",
            " 3   ADMITTIME                 62477 non-null  datetime64[ns]\n",
            " 4   DISCHTIME                 62477 non-null  datetime64[ns]\n",
            " 5   DEATHTIME                 6624 non-null   object        \n",
            " 6   IN_HOSP_DEATH             62477 non-null  int64         \n",
            " 7   DIAGNOSIS                 62452 non-null  object        \n",
            " 8   ETHNICITY                 62477 non-null  object        \n",
            " 9   GENDER                    62477 non-null  object        \n",
            " 10  DOB                       62477 non-null  datetime64[ns]\n",
            " 11  LOS_ICU                   62477 non-null  float64       \n",
            " 12  DIAG_COUNT                62477 non-null  int64         \n",
            " 13  CPT_COUNT                 62477 non-null  float64       \n",
            " 14  TRANSFER_COUNT            62477 non-null  int64         \n",
            " 15  MICRO_COUNT               62477 non-null  float64       \n",
            " 16  SEPSIS                    62477 non-null  int64         \n",
            " 17  ORGAN_FAILURE             62477 non-null  int64         \n",
            " 18  CARDIOVASCULAR            62477 non-null  int64         \n",
            " 19  RENAL                     62477 non-null  int64         \n",
            " 20  HEPATIC                   62477 non-null  int64         \n",
            " 21  HEMATOLOGIC               62477 non-null  int64         \n",
            " 22  METABOLIC                 62477 non-null  int64         \n",
            " 23  NEUROLOGIC                62477 non-null  int64         \n",
            " 24  HeartRate_Mean            62477 non-null  float64       \n",
            " 25  SysBP_Mean                62477 non-null  float64       \n",
            " 26  DiasBP_Mean               62477 non-null  float64       \n",
            " 27  MeanBP_Mean               62477 non-null  float64       \n",
            " 28  RespRate_Mean             62477 non-null  float64       \n",
            " 29  TempC_Mean                62477 non-null  float64       \n",
            " 30  SpO2_Mean                 62477 non-null  float64       \n",
            " 31  Glucose_Mean              62477 non-null  float64       \n",
            " 32  AGE                       62477 non-null  int64         \n",
            " 33  LOS                       62477 non-null  float64       \n",
            " 34  ADULT                     51462 non-null  float64       \n",
            " 35  DIAG_COUNT_DAY            62477 non-null  float64       \n",
            " 36  CPT_COUNT_DAY             62477 non-null  float64       \n",
            " 37  TRANSFER_COUNT_DAY        62477 non-null  float64       \n",
            " 38  MICRO_COUNT_DAY           62477 non-null  float64       \n",
            " 39  ADMISSION_TYPE_ELECTIVE   62477 non-null  uint8         \n",
            " 40  ADMISSION_TYPE_EMERGENCY  62477 non-null  uint8         \n",
            " 41  ADMISSION_TYPE_NEWBORN    62477 non-null  uint8         \n",
            " 42  ADMISSION_TYPE_URGENT     62477 non-null  uint8         \n",
            "dtypes: datetime64[ns](3), float64(17), int64(14), object(5), uint8(4)\n",
            "memory usage: 18.8+ MB\n"
          ],
          "name": "stdout"
        }
      ]
    },
    {
      "cell_type": "markdown",
      "metadata": {
        "id": "LhZjLyaqyULS"
      },
      "source": [
        "`GENDER`\n",
        "\n",
        "As the column only takes on two values 'M' and 'F', it is easier to simply do a logical operation and save the results as a new column. "
      ]
    },
    {
      "cell_type": "code",
      "metadata": {
        "colab": {
          "base_uri": "https://localhost:8080/"
        },
        "id": "GFluxexfyV-m",
        "outputId": "a1d79f82-2cfa-490f-9a89-4125f4c6df33"
      },
      "source": [
        "df['GENDER'].value_counts()"
      ],
      "execution_count": 37,
      "outputs": [
        {
          "output_type": "execute_result",
          "data": {
            "text/plain": [
              "M    34986\n",
              "F    27491\n",
              "Name: GENDER, dtype: int64"
            ]
          },
          "metadata": {
            "tags": []
          },
          "execution_count": 37
        }
      ]
    },
    {
      "cell_type": "code",
      "metadata": {
        "id": "xV_jc-YCya31"
      },
      "source": [
        "df['GENDER_F'] = (df['GENDER'] == 'F') * 1"
      ],
      "execution_count": 38,
      "outputs": []
    },
    {
      "cell_type": "code",
      "metadata": {
        "colab": {
          "base_uri": "https://localhost:8080/"
        },
        "id": "rQxFrGG3yc0a",
        "outputId": "62b410e1-c721-460b-b3c1-513bacbb24a0"
      },
      "source": [
        "df['GENDER_F'].value_counts()"
      ],
      "execution_count": 39,
      "outputs": [
        {
          "output_type": "execute_result",
          "data": {
            "text/plain": [
              "0    34986\n",
              "1    27491\n",
              "Name: GENDER_F, dtype: int64"
            ]
          },
          "metadata": {
            "tags": []
          },
          "execution_count": 39
        }
      ]
    },
    {
      "cell_type": "markdown",
      "metadata": {
        "id": "-enY_o2ZyvU4"
      },
      "source": [
        ""
      ]
    },
    {
      "cell_type": "code",
      "metadata": {
        "colab": {
          "base_uri": "https://localhost:8080/",
          "height": 0
        },
        "id": "PcAo-6-6yqzr",
        "outputId": "409efba6-af6c-4717-d474-d1a38ab249dd"
      },
      "source": [
        "tmp_categories = list(df['ETHNICITY'].value_counts()[:3].keys()) + ['OTHERS'] # retain the top 3 categories, plus 'OTHERS\n",
        "\n",
        "tmp_categories_dtype = pd.CategoricalDtype(tmp_categories)\n",
        "\n",
        "tmp_df = df['ETHNICITY'].astype(tmp_categories_dtype).fillna('OTHERS')\n",
        "tmp_df = pd.get_dummies(tmp_df, prefix = 'ETHNICITY') # create a temporary dataframe with the modified categories\n",
        "\n",
        "df = pd.concat([df, tmp_df], axis = 1) # add to original dataframe\n",
        "\n",
        "tmp_df"
      ],
      "execution_count": 40,
      "outputs": [
        {
          "output_type": "execute_result",
          "data": {
            "text/html": [
              "<div>\n",
              "<style scoped>\n",
              "    .dataframe tbody tr th:only-of-type {\n",
              "        vertical-align: middle;\n",
              "    }\n",
              "\n",
              "    .dataframe tbody tr th {\n",
              "        vertical-align: top;\n",
              "    }\n",
              "\n",
              "    .dataframe thead th {\n",
              "        text-align: right;\n",
              "    }\n",
              "</style>\n",
              "<table border=\"1\" class=\"dataframe\">\n",
              "  <thead>\n",
              "    <tr style=\"text-align: right;\">\n",
              "      <th></th>\n",
              "      <th>ETHNICITY_WHITE</th>\n",
              "      <th>ETHNICITY_BLACK/AFRICAN AMERICAN</th>\n",
              "      <th>ETHNICITY_UNKNOWN/NOT SPECIFIED</th>\n",
              "      <th>ETHNICITY_OTHERS</th>\n",
              "    </tr>\n",
              "  </thead>\n",
              "  <tbody>\n",
              "    <tr>\n",
              "      <th>0</th>\n",
              "      <td>1</td>\n",
              "      <td>0</td>\n",
              "      <td>0</td>\n",
              "      <td>0</td>\n",
              "    </tr>\n",
              "    <tr>\n",
              "      <th>1</th>\n",
              "      <td>0</td>\n",
              "      <td>1</td>\n",
              "      <td>0</td>\n",
              "      <td>0</td>\n",
              "    </tr>\n",
              "    <tr>\n",
              "      <th>2</th>\n",
              "      <td>1</td>\n",
              "      <td>0</td>\n",
              "      <td>0</td>\n",
              "      <td>0</td>\n",
              "    </tr>\n",
              "    <tr>\n",
              "      <th>3</th>\n",
              "      <td>1</td>\n",
              "      <td>0</td>\n",
              "      <td>0</td>\n",
              "      <td>0</td>\n",
              "    </tr>\n",
              "    <tr>\n",
              "      <th>4</th>\n",
              "      <td>1</td>\n",
              "      <td>0</td>\n",
              "      <td>0</td>\n",
              "      <td>0</td>\n",
              "    </tr>\n",
              "    <tr>\n",
              "      <th>...</th>\n",
              "      <td>...</td>\n",
              "      <td>...</td>\n",
              "      <td>...</td>\n",
              "      <td>...</td>\n",
              "    </tr>\n",
              "    <tr>\n",
              "      <th>62472</th>\n",
              "      <td>0</td>\n",
              "      <td>0</td>\n",
              "      <td>1</td>\n",
              "      <td>0</td>\n",
              "    </tr>\n",
              "    <tr>\n",
              "      <th>62473</th>\n",
              "      <td>0</td>\n",
              "      <td>0</td>\n",
              "      <td>0</td>\n",
              "      <td>1</td>\n",
              "    </tr>\n",
              "    <tr>\n",
              "      <th>62474</th>\n",
              "      <td>1</td>\n",
              "      <td>0</td>\n",
              "      <td>0</td>\n",
              "      <td>0</td>\n",
              "    </tr>\n",
              "    <tr>\n",
              "      <th>62475</th>\n",
              "      <td>0</td>\n",
              "      <td>0</td>\n",
              "      <td>1</td>\n",
              "      <td>0</td>\n",
              "    </tr>\n",
              "    <tr>\n",
              "      <th>62476</th>\n",
              "      <td>1</td>\n",
              "      <td>0</td>\n",
              "      <td>0</td>\n",
              "      <td>0</td>\n",
              "    </tr>\n",
              "  </tbody>\n",
              "</table>\n",
              "<p>62477 rows × 4 columns</p>\n",
              "</div>"
            ],
            "text/plain": [
              "       ETHNICITY_WHITE  ...  ETHNICITY_OTHERS\n",
              "0                    1  ...                 0\n",
              "1                    0  ...                 0\n",
              "2                    1  ...                 0\n",
              "3                    1  ...                 0\n",
              "4                    1  ...                 0\n",
              "...                ...  ...               ...\n",
              "62472                0  ...                 0\n",
              "62473                0  ...                 1\n",
              "62474                1  ...                 0\n",
              "62475                0  ...                 0\n",
              "62476                1  ...                 0\n",
              "\n",
              "[62477 rows x 4 columns]"
            ]
          },
          "metadata": {
            "tags": []
          },
          "execution_count": 40
        }
      ]
    },
    {
      "cell_type": "code",
      "metadata": {
        "id": "w1VOc37KaAeW"
      },
      "source": [
        "dfall = df"
      ],
      "execution_count": 41,
      "outputs": []
    },
    {
      "cell_type": "code",
      "metadata": {
        "id": "X4Yl6PNZaPHh"
      },
      "source": [
        "df = df[df.AGE >= 18]"
      ],
      "execution_count": 42,
      "outputs": []
    },
    {
      "cell_type": "code",
      "metadata": {
        "colab": {
          "base_uri": "https://localhost:8080/"
        },
        "id": "I89cknghafi2",
        "outputId": "36741ee0-3502-48d9-bf22-3b3728bd9f6e"
      },
      "source": [
        "df.info()"
      ],
      "execution_count": 43,
      "outputs": [
        {
          "output_type": "stream",
          "text": [
            "<class 'pandas.core.frame.DataFrame'>\n",
            "Int64Index: 54208 entries, 0 to 62476\n",
            "Data columns (total 48 columns):\n",
            " #   Column                            Non-Null Count  Dtype         \n",
            "---  ------                            --------------  -----         \n",
            " 0   SUBJECT_ID                        54208 non-null  int64         \n",
            " 1   HADM_ID                           54208 non-null  int64         \n",
            " 2   ADMISSION_TYPE                    54208 non-null  object        \n",
            " 3   ADMITTIME                         54208 non-null  datetime64[ns]\n",
            " 4   DISCHTIME                         54208 non-null  datetime64[ns]\n",
            " 5   DEATHTIME                         6549 non-null   object        \n",
            " 6   IN_HOSP_DEATH                     54208 non-null  int64         \n",
            " 7   DIAGNOSIS                         54183 non-null  object        \n",
            " 8   ETHNICITY                         54208 non-null  object        \n",
            " 9   GENDER                            54208 non-null  object        \n",
            " 10  DOB                               54208 non-null  datetime64[ns]\n",
            " 11  LOS_ICU                           54208 non-null  float64       \n",
            " 12  DIAG_COUNT                        54208 non-null  int64         \n",
            " 13  CPT_COUNT                         54208 non-null  float64       \n",
            " 14  TRANSFER_COUNT                    54208 non-null  int64         \n",
            " 15  MICRO_COUNT                       54208 non-null  float64       \n",
            " 16  SEPSIS                            54208 non-null  int64         \n",
            " 17  ORGAN_FAILURE                     54208 non-null  int64         \n",
            " 18  CARDIOVASCULAR                    54208 non-null  int64         \n",
            " 19  RENAL                             54208 non-null  int64         \n",
            " 20  HEPATIC                           54208 non-null  int64         \n",
            " 21  HEMATOLOGIC                       54208 non-null  int64         \n",
            " 22  METABOLIC                         54208 non-null  int64         \n",
            " 23  NEUROLOGIC                        54208 non-null  int64         \n",
            " 24  HeartRate_Mean                    54208 non-null  float64       \n",
            " 25  SysBP_Mean                        54208 non-null  float64       \n",
            " 26  DiasBP_Mean                       54208 non-null  float64       \n",
            " 27  MeanBP_Mean                       54208 non-null  float64       \n",
            " 28  RespRate_Mean                     54208 non-null  float64       \n",
            " 29  TempC_Mean                        54208 non-null  float64       \n",
            " 30  SpO2_Mean                         54208 non-null  float64       \n",
            " 31  Glucose_Mean                      54208 non-null  float64       \n",
            " 32  AGE                               54208 non-null  int64         \n",
            " 33  LOS                               54208 non-null  float64       \n",
            " 34  ADULT                             51462 non-null  float64       \n",
            " 35  DIAG_COUNT_DAY                    54208 non-null  float64       \n",
            " 36  CPT_COUNT_DAY                     54208 non-null  float64       \n",
            " 37  TRANSFER_COUNT_DAY                54208 non-null  float64       \n",
            " 38  MICRO_COUNT_DAY                   54208 non-null  float64       \n",
            " 39  ADMISSION_TYPE_ELECTIVE           54208 non-null  uint8         \n",
            " 40  ADMISSION_TYPE_EMERGENCY          54208 non-null  uint8         \n",
            " 41  ADMISSION_TYPE_NEWBORN            54208 non-null  uint8         \n",
            " 42  ADMISSION_TYPE_URGENT             54208 non-null  uint8         \n",
            " 43  GENDER_F                          54208 non-null  int64         \n",
            " 44  ETHNICITY_WHITE                   54208 non-null  uint8         \n",
            " 45  ETHNICITY_BLACK/AFRICAN AMERICAN  54208 non-null  uint8         \n",
            " 46  ETHNICITY_UNKNOWN/NOT SPECIFIED   54208 non-null  uint8         \n",
            " 47  ETHNICITY_OTHERS                  54208 non-null  uint8         \n",
            "dtypes: datetime64[ns](3), float64(17), int64(15), object(5), uint8(8)\n",
            "memory usage: 17.4+ MB\n"
          ],
          "name": "stdout"
        }
      ]
    },
    {
      "cell_type": "markdown",
      "metadata": {
        "id": "5w2-ZClLGEo_"
      },
      "source": [
        "# Cohort Selection"
      ]
    },
    {
      "cell_type": "markdown",
      "metadata": {
        "id": "EFGKk7uqIBZy"
      },
      "source": [
        "Filter 18 years and Above"
      ]
    },
    {
      "cell_type": "code",
      "metadata": {
        "id": "nL_B1UpRIIZV"
      },
      "source": [
        "df = df[df.ADULT == 1]"
      ],
      "execution_count": 44,
      "outputs": []
    },
    {
      "cell_type": "code",
      "metadata": {
        "colab": {
          "base_uri": "https://localhost:8080/",
          "height": 377
        },
        "id": "8th6M1b0J_7O",
        "outputId": "6f41864c-4d05-4799-fcb5-d94f1958b9a5"
      },
      "source": [
        "df.head()"
      ],
      "execution_count": 45,
      "outputs": [
        {
          "output_type": "execute_result",
          "data": {
            "text/html": [
              "<div>\n",
              "<style scoped>\n",
              "    .dataframe tbody tr th:only-of-type {\n",
              "        vertical-align: middle;\n",
              "    }\n",
              "\n",
              "    .dataframe tbody tr th {\n",
              "        vertical-align: top;\n",
              "    }\n",
              "\n",
              "    .dataframe thead th {\n",
              "        text-align: right;\n",
              "    }\n",
              "</style>\n",
              "<table border=\"1\" class=\"dataframe\">\n",
              "  <thead>\n",
              "    <tr style=\"text-align: right;\">\n",
              "      <th></th>\n",
              "      <th>SUBJECT_ID</th>\n",
              "      <th>HADM_ID</th>\n",
              "      <th>ADMISSION_TYPE</th>\n",
              "      <th>ADMITTIME</th>\n",
              "      <th>DISCHTIME</th>\n",
              "      <th>DEATHTIME</th>\n",
              "      <th>IN_HOSP_DEATH</th>\n",
              "      <th>DIAGNOSIS</th>\n",
              "      <th>ETHNICITY</th>\n",
              "      <th>GENDER</th>\n",
              "      <th>DOB</th>\n",
              "      <th>LOS_ICU</th>\n",
              "      <th>DIAG_COUNT</th>\n",
              "      <th>CPT_COUNT</th>\n",
              "      <th>TRANSFER_COUNT</th>\n",
              "      <th>MICRO_COUNT</th>\n",
              "      <th>SEPSIS</th>\n",
              "      <th>ORGAN_FAILURE</th>\n",
              "      <th>CARDIOVASCULAR</th>\n",
              "      <th>RENAL</th>\n",
              "      <th>HEPATIC</th>\n",
              "      <th>HEMATOLOGIC</th>\n",
              "      <th>METABOLIC</th>\n",
              "      <th>NEUROLOGIC</th>\n",
              "      <th>HeartRate_Mean</th>\n",
              "      <th>SysBP_Mean</th>\n",
              "      <th>DiasBP_Mean</th>\n",
              "      <th>MeanBP_Mean</th>\n",
              "      <th>RespRate_Mean</th>\n",
              "      <th>TempC_Mean</th>\n",
              "      <th>SpO2_Mean</th>\n",
              "      <th>Glucose_Mean</th>\n",
              "      <th>AGE</th>\n",
              "      <th>LOS</th>\n",
              "      <th>ADULT</th>\n",
              "      <th>DIAG_COUNT_DAY</th>\n",
              "      <th>CPT_COUNT_DAY</th>\n",
              "      <th>TRANSFER_COUNT_DAY</th>\n",
              "      <th>MICRO_COUNT_DAY</th>\n",
              "      <th>ADMISSION_TYPE_ELECTIVE</th>\n",
              "      <th>ADMISSION_TYPE_EMERGENCY</th>\n",
              "      <th>ADMISSION_TYPE_NEWBORN</th>\n",
              "      <th>ADMISSION_TYPE_URGENT</th>\n",
              "      <th>GENDER_F</th>\n",
              "      <th>ETHNICITY_WHITE</th>\n",
              "      <th>ETHNICITY_BLACK/AFRICAN AMERICAN</th>\n",
              "      <th>ETHNICITY_UNKNOWN/NOT SPECIFIED</th>\n",
              "      <th>ETHNICITY_OTHERS</th>\n",
              "    </tr>\n",
              "  </thead>\n",
              "  <tbody>\n",
              "    <tr>\n",
              "      <th>0</th>\n",
              "      <td>7275</td>\n",
              "      <td>136809</td>\n",
              "      <td>EMERGENCY</td>\n",
              "      <td>2139-08-28 12:35:00</td>\n",
              "      <td>2139-09-01 16:32:00</td>\n",
              "      <td>NaT</td>\n",
              "      <td>0</td>\n",
              "      <td>ALTERED MENTAL STATUS; DYSPNEA</td>\n",
              "      <td>WHITE</td>\n",
              "      <td>M</td>\n",
              "      <td>2078-11-11</td>\n",
              "      <td>1.3848</td>\n",
              "      <td>15</td>\n",
              "      <td>7.0</td>\n",
              "      <td>3</td>\n",
              "      <td>47.0</td>\n",
              "      <td>1</td>\n",
              "      <td>1</td>\n",
              "      <td>0</td>\n",
              "      <td>1</td>\n",
              "      <td>0</td>\n",
              "      <td>0</td>\n",
              "      <td>0</td>\n",
              "      <td>0</td>\n",
              "      <td>92.772727</td>\n",
              "      <td>142.111111</td>\n",
              "      <td>56.722222</td>\n",
              "      <td>76.000000</td>\n",
              "      <td>20.875000</td>\n",
              "      <td>36.851852</td>\n",
              "      <td>95.086957</td>\n",
              "      <td>133.750000</td>\n",
              "      <td>60</td>\n",
              "      <td>4.164583</td>\n",
              "      <td>1.0</td>\n",
              "      <td>3.000000</td>\n",
              "      <td>1.400000</td>\n",
              "      <td>0.600000</td>\n",
              "      <td>9.400000</td>\n",
              "      <td>0</td>\n",
              "      <td>1</td>\n",
              "      <td>0</td>\n",
              "      <td>0</td>\n",
              "      <td>0</td>\n",
              "      <td>1</td>\n",
              "      <td>0</td>\n",
              "      <td>0</td>\n",
              "      <td>0</td>\n",
              "    </tr>\n",
              "    <tr>\n",
              "      <th>1</th>\n",
              "      <td>17575</td>\n",
              "      <td>187131</td>\n",
              "      <td>EMERGENCY</td>\n",
              "      <td>2124-10-21 08:32:00</td>\n",
              "      <td>2124-11-01 11:14:00</td>\n",
              "      <td>NaT</td>\n",
              "      <td>0</td>\n",
              "      <td>MVA;TRAUMA</td>\n",
              "      <td>BLACK/AFRICAN AMERICAN</td>\n",
              "      <td>M</td>\n",
              "      <td>2106-01-23</td>\n",
              "      <td>3.2653</td>\n",
              "      <td>9</td>\n",
              "      <td>0.0</td>\n",
              "      <td>3</td>\n",
              "      <td>27.0</td>\n",
              "      <td>0</td>\n",
              "      <td>1</td>\n",
              "      <td>0</td>\n",
              "      <td>0</td>\n",
              "      <td>0</td>\n",
              "      <td>0</td>\n",
              "      <td>0</td>\n",
              "      <td>0</td>\n",
              "      <td>108.268293</td>\n",
              "      <td>119.780488</td>\n",
              "      <td>53.317073</td>\n",
              "      <td>73.948718</td>\n",
              "      <td>18.291667</td>\n",
              "      <td>38.388888</td>\n",
              "      <td>99.288889</td>\n",
              "      <td>115.000000</td>\n",
              "      <td>18</td>\n",
              "      <td>11.112500</td>\n",
              "      <td>1.0</td>\n",
              "      <td>0.750000</td>\n",
              "      <td>0.000000</td>\n",
              "      <td>0.250000</td>\n",
              "      <td>2.250000</td>\n",
              "      <td>0</td>\n",
              "      <td>1</td>\n",
              "      <td>0</td>\n",
              "      <td>0</td>\n",
              "      <td>0</td>\n",
              "      <td>0</td>\n",
              "      <td>1</td>\n",
              "      <td>0</td>\n",
              "      <td>0</td>\n",
              "    </tr>\n",
              "    <tr>\n",
              "      <th>2</th>\n",
              "      <td>25251</td>\n",
              "      <td>142346</td>\n",
              "      <td>EMERGENCY</td>\n",
              "      <td>2167-01-23 16:23:00</td>\n",
              "      <td>2167-02-06 13:53:00</td>\n",
              "      <td>NaT</td>\n",
              "      <td>0</td>\n",
              "      <td>INFECTED RIGHT FOOT</td>\n",
              "      <td>WHITE</td>\n",
              "      <td>M</td>\n",
              "      <td>2096-08-27</td>\n",
              "      <td>3.2458</td>\n",
              "      <td>9</td>\n",
              "      <td>0.0</td>\n",
              "      <td>6</td>\n",
              "      <td>46.0</td>\n",
              "      <td>0</td>\n",
              "      <td>0</td>\n",
              "      <td>0</td>\n",
              "      <td>0</td>\n",
              "      <td>0</td>\n",
              "      <td>0</td>\n",
              "      <td>0</td>\n",
              "      <td>0</td>\n",
              "      <td>96.522727</td>\n",
              "      <td>109.454545</td>\n",
              "      <td>57.795455</td>\n",
              "      <td>73.727273</td>\n",
              "      <td>15.500000</td>\n",
              "      <td>36.697619</td>\n",
              "      <td>98.380952</td>\n",
              "      <td>149.619048</td>\n",
              "      <td>70</td>\n",
              "      <td>13.895833</td>\n",
              "      <td>1.0</td>\n",
              "      <td>0.642857</td>\n",
              "      <td>0.000000</td>\n",
              "      <td>0.428571</td>\n",
              "      <td>3.285714</td>\n",
              "      <td>0</td>\n",
              "      <td>1</td>\n",
              "      <td>0</td>\n",
              "      <td>0</td>\n",
              "      <td>0</td>\n",
              "      <td>1</td>\n",
              "      <td>0</td>\n",
              "      <td>0</td>\n",
              "      <td>0</td>\n",
              "    </tr>\n",
              "    <tr>\n",
              "      <th>4</th>\n",
              "      <td>30746</td>\n",
              "      <td>155603</td>\n",
              "      <td>EMERGENCY</td>\n",
              "      <td>2131-08-22 23:07:00</td>\n",
              "      <td>2131-08-28 13:10:00</td>\n",
              "      <td>NaT</td>\n",
              "      <td>0</td>\n",
              "      <td>ALTERED MENTAL STATUS</td>\n",
              "      <td>WHITE</td>\n",
              "      <td>M</td>\n",
              "      <td>2055-03-16</td>\n",
              "      <td>5.5894</td>\n",
              "      <td>22</td>\n",
              "      <td>10.0</td>\n",
              "      <td>7</td>\n",
              "      <td>5.0</td>\n",
              "      <td>0</td>\n",
              "      <td>1</td>\n",
              "      <td>1</td>\n",
              "      <td>0</td>\n",
              "      <td>0</td>\n",
              "      <td>0</td>\n",
              "      <td>0</td>\n",
              "      <td>1</td>\n",
              "      <td>79.285714</td>\n",
              "      <td>130.814815</td>\n",
              "      <td>60.740741</td>\n",
              "      <td>79.740741</td>\n",
              "      <td>18.875000</td>\n",
              "      <td>37.074074</td>\n",
              "      <td>98.827586</td>\n",
              "      <td>141.300000</td>\n",
              "      <td>76</td>\n",
              "      <td>5.585417</td>\n",
              "      <td>1.0</td>\n",
              "      <td>3.666667</td>\n",
              "      <td>1.666667</td>\n",
              "      <td>1.166667</td>\n",
              "      <td>0.833333</td>\n",
              "      <td>0</td>\n",
              "      <td>1</td>\n",
              "      <td>0</td>\n",
              "      <td>0</td>\n",
              "      <td>0</td>\n",
              "      <td>1</td>\n",
              "      <td>0</td>\n",
              "      <td>0</td>\n",
              "      <td>0</td>\n",
              "    </tr>\n",
              "    <tr>\n",
              "      <th>6</th>\n",
              "      <td>51820</td>\n",
              "      <td>148131</td>\n",
              "      <td>EMERGENCY</td>\n",
              "      <td>2184-02-06 17:37:00</td>\n",
              "      <td>2184-02-08 15:23:00</td>\n",
              "      <td>NaT</td>\n",
              "      <td>0</td>\n",
              "      <td>UPPER GI BLEED</td>\n",
              "      <td>WHITE</td>\n",
              "      <td>F</td>\n",
              "      <td>2095-03-01</td>\n",
              "      <td>1.9061</td>\n",
              "      <td>7</td>\n",
              "      <td>5.0</td>\n",
              "      <td>3</td>\n",
              "      <td>4.0</td>\n",
              "      <td>0</td>\n",
              "      <td>0</td>\n",
              "      <td>0</td>\n",
              "      <td>0</td>\n",
              "      <td>0</td>\n",
              "      <td>0</td>\n",
              "      <td>0</td>\n",
              "      <td>0</td>\n",
              "      <td>64.884615</td>\n",
              "      <td>109.320000</td>\n",
              "      <td>58.480000</td>\n",
              "      <td>72.280000</td>\n",
              "      <td>18.466667</td>\n",
              "      <td>36.611111</td>\n",
              "      <td>97.769231</td>\n",
              "      <td>109.000000</td>\n",
              "      <td>88</td>\n",
              "      <td>1.906944</td>\n",
              "      <td>1.0</td>\n",
              "      <td>3.500000</td>\n",
              "      <td>2.500000</td>\n",
              "      <td>1.500000</td>\n",
              "      <td>2.000000</td>\n",
              "      <td>0</td>\n",
              "      <td>1</td>\n",
              "      <td>0</td>\n",
              "      <td>0</td>\n",
              "      <td>1</td>\n",
              "      <td>1</td>\n",
              "      <td>0</td>\n",
              "      <td>0</td>\n",
              "      <td>0</td>\n",
              "    </tr>\n",
              "  </tbody>\n",
              "</table>\n",
              "</div>"
            ],
            "text/plain": [
              "   SUBJECT_ID  HADM_ID  ... ETHNICITY_UNKNOWN/NOT SPECIFIED ETHNICITY_OTHERS\n",
              "0        7275   136809  ...                               0                0\n",
              "1       17575   187131  ...                               0                0\n",
              "2       25251   142346  ...                               0                0\n",
              "4       30746   155603  ...                               0                0\n",
              "6       51820   148131  ...                               0                0\n",
              "\n",
              "[5 rows x 48 columns]"
            ]
          },
          "metadata": {
            "tags": []
          },
          "execution_count": 45
        }
      ]
    },
    {
      "cell_type": "markdown",
      "metadata": {
        "id": "WXpg804Iy6pk"
      },
      "source": [
        "# Save your pre-processed dataframe \n",
        "\n",
        "When you are done with data preparation, it is highly recommended for you to save your resulting dataframe so that you do not need to go through all the preprocessing steps whenever you come back to work on it (or you lose internet connection). We can save and load datasets to/from your Google Drive.\n",
        "\n",
        "First let's check the pre-processed dataframe. Yours may look differently if you altered the pre-processing steps."
      ]
    },
    {
      "cell_type": "code",
      "metadata": {
        "colab": {
          "base_uri": "https://localhost:8080/"
        },
        "id": "_9Rk29qE2KOz",
        "outputId": "296384c2-f066-4bee-a6a8-1b9ee445b5d6"
      },
      "source": [
        "# Grant access to your Google Drive. You would need to authenicate once again\n",
        "from google.colab import drive \n",
        "drive.mount('/content/gdrive', force_remount = True)\n",
        "\n",
        "gdrive_rootpath = '/content/gdrive/MyDrive/'"
      ],
      "execution_count": 46,
      "outputs": [
        {
          "output_type": "stream",
          "text": [
            "Mounted at /content/gdrive\n"
          ],
          "name": "stdout"
        }
      ]
    },
    {
      "cell_type": "code",
      "metadata": {
        "id": "CCHNKT1G2Nja"
      },
      "source": [
        "df.to_csv(gdrive_rootpath + 'mimic_sepsis_clean.csv', index = False)"
      ],
      "execution_count": 47,
      "outputs": []
    },
    {
      "cell_type": "code",
      "metadata": {
        "colab": {
          "base_uri": "https://localhost:8080/",
          "height": 830
        },
        "id": "ToUc2Hhj2Qpf",
        "outputId": "f9c5c58a-0b86-4e5a-a905-8bf7ecd2442c"
      },
      "source": [
        "pd.read_csv(gdrive_rootpath + 'mimic_sepsis_clean.csv')\n",
        "\n",
        "# if you want to save it as a variable, run this instead\n",
        "# df = pd.read_csv(gdrive_rootpath + 'mimic_in_hosp_death_clean.csv')"
      ],
      "execution_count": 48,
      "outputs": [
        {
          "output_type": "stream",
          "text": [
            "/usr/local/lib/python3.7/dist-packages/IPython/core/interactiveshell.py:2718: DtypeWarning: Columns (5) have mixed types.Specify dtype option on import or set low_memory=False.\n",
            "  interactivity=interactivity, compiler=compiler, result=result)\n"
          ],
          "name": "stderr"
        },
        {
          "output_type": "execute_result",
          "data": {
            "text/html": [
              "<div>\n",
              "<style scoped>\n",
              "    .dataframe tbody tr th:only-of-type {\n",
              "        vertical-align: middle;\n",
              "    }\n",
              "\n",
              "    .dataframe tbody tr th {\n",
              "        vertical-align: top;\n",
              "    }\n",
              "\n",
              "    .dataframe thead th {\n",
              "        text-align: right;\n",
              "    }\n",
              "</style>\n",
              "<table border=\"1\" class=\"dataframe\">\n",
              "  <thead>\n",
              "    <tr style=\"text-align: right;\">\n",
              "      <th></th>\n",
              "      <th>SUBJECT_ID</th>\n",
              "      <th>HADM_ID</th>\n",
              "      <th>ADMISSION_TYPE</th>\n",
              "      <th>ADMITTIME</th>\n",
              "      <th>DISCHTIME</th>\n",
              "      <th>DEATHTIME</th>\n",
              "      <th>IN_HOSP_DEATH</th>\n",
              "      <th>DIAGNOSIS</th>\n",
              "      <th>ETHNICITY</th>\n",
              "      <th>GENDER</th>\n",
              "      <th>DOB</th>\n",
              "      <th>LOS_ICU</th>\n",
              "      <th>DIAG_COUNT</th>\n",
              "      <th>CPT_COUNT</th>\n",
              "      <th>TRANSFER_COUNT</th>\n",
              "      <th>MICRO_COUNT</th>\n",
              "      <th>SEPSIS</th>\n",
              "      <th>ORGAN_FAILURE</th>\n",
              "      <th>CARDIOVASCULAR</th>\n",
              "      <th>RENAL</th>\n",
              "      <th>HEPATIC</th>\n",
              "      <th>HEMATOLOGIC</th>\n",
              "      <th>METABOLIC</th>\n",
              "      <th>NEUROLOGIC</th>\n",
              "      <th>HeartRate_Mean</th>\n",
              "      <th>SysBP_Mean</th>\n",
              "      <th>DiasBP_Mean</th>\n",
              "      <th>MeanBP_Mean</th>\n",
              "      <th>RespRate_Mean</th>\n",
              "      <th>TempC_Mean</th>\n",
              "      <th>SpO2_Mean</th>\n",
              "      <th>Glucose_Mean</th>\n",
              "      <th>AGE</th>\n",
              "      <th>LOS</th>\n",
              "      <th>ADULT</th>\n",
              "      <th>DIAG_COUNT_DAY</th>\n",
              "      <th>CPT_COUNT_DAY</th>\n",
              "      <th>TRANSFER_COUNT_DAY</th>\n",
              "      <th>MICRO_COUNT_DAY</th>\n",
              "      <th>ADMISSION_TYPE_ELECTIVE</th>\n",
              "      <th>ADMISSION_TYPE_EMERGENCY</th>\n",
              "      <th>ADMISSION_TYPE_NEWBORN</th>\n",
              "      <th>ADMISSION_TYPE_URGENT</th>\n",
              "      <th>GENDER_F</th>\n",
              "      <th>ETHNICITY_WHITE</th>\n",
              "      <th>ETHNICITY_BLACK/AFRICAN AMERICAN</th>\n",
              "      <th>ETHNICITY_UNKNOWN/NOT SPECIFIED</th>\n",
              "      <th>ETHNICITY_OTHERS</th>\n",
              "    </tr>\n",
              "  </thead>\n",
              "  <tbody>\n",
              "    <tr>\n",
              "      <th>0</th>\n",
              "      <td>7275</td>\n",
              "      <td>136809</td>\n",
              "      <td>EMERGENCY</td>\n",
              "      <td>2139-08-28 12:35:00</td>\n",
              "      <td>2139-09-01 16:32:00</td>\n",
              "      <td>NaN</td>\n",
              "      <td>0</td>\n",
              "      <td>ALTERED MENTAL STATUS; DYSPNEA</td>\n",
              "      <td>WHITE</td>\n",
              "      <td>M</td>\n",
              "      <td>2078-11-11 00:00:00</td>\n",
              "      <td>1.3848</td>\n",
              "      <td>15</td>\n",
              "      <td>7.0</td>\n",
              "      <td>3</td>\n",
              "      <td>47.0</td>\n",
              "      <td>1</td>\n",
              "      <td>1</td>\n",
              "      <td>0</td>\n",
              "      <td>1</td>\n",
              "      <td>0</td>\n",
              "      <td>0</td>\n",
              "      <td>0</td>\n",
              "      <td>0</td>\n",
              "      <td>92.772727</td>\n",
              "      <td>142.111111</td>\n",
              "      <td>56.722222</td>\n",
              "      <td>76.000000</td>\n",
              "      <td>20.875000</td>\n",
              "      <td>36.851852</td>\n",
              "      <td>95.086957</td>\n",
              "      <td>133.750000</td>\n",
              "      <td>60</td>\n",
              "      <td>4.164583</td>\n",
              "      <td>1.0</td>\n",
              "      <td>3.000000</td>\n",
              "      <td>1.400000</td>\n",
              "      <td>0.600000</td>\n",
              "      <td>9.400000</td>\n",
              "      <td>0</td>\n",
              "      <td>1</td>\n",
              "      <td>0</td>\n",
              "      <td>0</td>\n",
              "      <td>0</td>\n",
              "      <td>1</td>\n",
              "      <td>0</td>\n",
              "      <td>0</td>\n",
              "      <td>0</td>\n",
              "    </tr>\n",
              "    <tr>\n",
              "      <th>1</th>\n",
              "      <td>17575</td>\n",
              "      <td>187131</td>\n",
              "      <td>EMERGENCY</td>\n",
              "      <td>2124-10-21 08:32:00</td>\n",
              "      <td>2124-11-01 11:14:00</td>\n",
              "      <td>NaN</td>\n",
              "      <td>0</td>\n",
              "      <td>MVA;TRAUMA</td>\n",
              "      <td>BLACK/AFRICAN AMERICAN</td>\n",
              "      <td>M</td>\n",
              "      <td>2106-01-23 00:00:00</td>\n",
              "      <td>3.2653</td>\n",
              "      <td>9</td>\n",
              "      <td>0.0</td>\n",
              "      <td>3</td>\n",
              "      <td>27.0</td>\n",
              "      <td>0</td>\n",
              "      <td>1</td>\n",
              "      <td>0</td>\n",
              "      <td>0</td>\n",
              "      <td>0</td>\n",
              "      <td>0</td>\n",
              "      <td>0</td>\n",
              "      <td>0</td>\n",
              "      <td>108.268293</td>\n",
              "      <td>119.780488</td>\n",
              "      <td>53.317073</td>\n",
              "      <td>73.948718</td>\n",
              "      <td>18.291667</td>\n",
              "      <td>38.388888</td>\n",
              "      <td>99.288889</td>\n",
              "      <td>115.000000</td>\n",
              "      <td>18</td>\n",
              "      <td>11.112500</td>\n",
              "      <td>1.0</td>\n",
              "      <td>0.750000</td>\n",
              "      <td>0.000000</td>\n",
              "      <td>0.250000</td>\n",
              "      <td>2.250000</td>\n",
              "      <td>0</td>\n",
              "      <td>1</td>\n",
              "      <td>0</td>\n",
              "      <td>0</td>\n",
              "      <td>0</td>\n",
              "      <td>0</td>\n",
              "      <td>1</td>\n",
              "      <td>0</td>\n",
              "      <td>0</td>\n",
              "    </tr>\n",
              "    <tr>\n",
              "      <th>2</th>\n",
              "      <td>25251</td>\n",
              "      <td>142346</td>\n",
              "      <td>EMERGENCY</td>\n",
              "      <td>2167-01-23 16:23:00</td>\n",
              "      <td>2167-02-06 13:53:00</td>\n",
              "      <td>NaN</td>\n",
              "      <td>0</td>\n",
              "      <td>INFECTED RIGHT FOOT</td>\n",
              "      <td>WHITE</td>\n",
              "      <td>M</td>\n",
              "      <td>2096-08-27 00:00:00</td>\n",
              "      <td>3.2458</td>\n",
              "      <td>9</td>\n",
              "      <td>0.0</td>\n",
              "      <td>6</td>\n",
              "      <td>46.0</td>\n",
              "      <td>0</td>\n",
              "      <td>0</td>\n",
              "      <td>0</td>\n",
              "      <td>0</td>\n",
              "      <td>0</td>\n",
              "      <td>0</td>\n",
              "      <td>0</td>\n",
              "      <td>0</td>\n",
              "      <td>96.522727</td>\n",
              "      <td>109.454545</td>\n",
              "      <td>57.795455</td>\n",
              "      <td>73.727273</td>\n",
              "      <td>15.500000</td>\n",
              "      <td>36.697619</td>\n",
              "      <td>98.380952</td>\n",
              "      <td>149.619048</td>\n",
              "      <td>70</td>\n",
              "      <td>13.895833</td>\n",
              "      <td>1.0</td>\n",
              "      <td>0.642857</td>\n",
              "      <td>0.000000</td>\n",
              "      <td>0.428571</td>\n",
              "      <td>3.285714</td>\n",
              "      <td>0</td>\n",
              "      <td>1</td>\n",
              "      <td>0</td>\n",
              "      <td>0</td>\n",
              "      <td>0</td>\n",
              "      <td>1</td>\n",
              "      <td>0</td>\n",
              "      <td>0</td>\n",
              "      <td>0</td>\n",
              "    </tr>\n",
              "    <tr>\n",
              "      <th>3</th>\n",
              "      <td>30746</td>\n",
              "      <td>155603</td>\n",
              "      <td>EMERGENCY</td>\n",
              "      <td>2131-08-22 23:07:00</td>\n",
              "      <td>2131-08-28 13:10:00</td>\n",
              "      <td>NaN</td>\n",
              "      <td>0</td>\n",
              "      <td>ALTERED MENTAL STATUS</td>\n",
              "      <td>WHITE</td>\n",
              "      <td>M</td>\n",
              "      <td>2055-03-16 00:00:00</td>\n",
              "      <td>5.5894</td>\n",
              "      <td>22</td>\n",
              "      <td>10.0</td>\n",
              "      <td>7</td>\n",
              "      <td>5.0</td>\n",
              "      <td>0</td>\n",
              "      <td>1</td>\n",
              "      <td>1</td>\n",
              "      <td>0</td>\n",
              "      <td>0</td>\n",
              "      <td>0</td>\n",
              "      <td>0</td>\n",
              "      <td>1</td>\n",
              "      <td>79.285714</td>\n",
              "      <td>130.814815</td>\n",
              "      <td>60.740741</td>\n",
              "      <td>79.740741</td>\n",
              "      <td>18.875000</td>\n",
              "      <td>37.074074</td>\n",
              "      <td>98.827586</td>\n",
              "      <td>141.300000</td>\n",
              "      <td>76</td>\n",
              "      <td>5.585417</td>\n",
              "      <td>1.0</td>\n",
              "      <td>3.666667</td>\n",
              "      <td>1.666667</td>\n",
              "      <td>1.166667</td>\n",
              "      <td>0.833333</td>\n",
              "      <td>0</td>\n",
              "      <td>1</td>\n",
              "      <td>0</td>\n",
              "      <td>0</td>\n",
              "      <td>0</td>\n",
              "      <td>1</td>\n",
              "      <td>0</td>\n",
              "      <td>0</td>\n",
              "      <td>0</td>\n",
              "    </tr>\n",
              "    <tr>\n",
              "      <th>4</th>\n",
              "      <td>51820</td>\n",
              "      <td>148131</td>\n",
              "      <td>EMERGENCY</td>\n",
              "      <td>2184-02-06 17:37:00</td>\n",
              "      <td>2184-02-08 15:23:00</td>\n",
              "      <td>NaN</td>\n",
              "      <td>0</td>\n",
              "      <td>UPPER GI BLEED</td>\n",
              "      <td>WHITE</td>\n",
              "      <td>F</td>\n",
              "      <td>2095-03-01 00:00:00</td>\n",
              "      <td>1.9061</td>\n",
              "      <td>7</td>\n",
              "      <td>5.0</td>\n",
              "      <td>3</td>\n",
              "      <td>4.0</td>\n",
              "      <td>0</td>\n",
              "      <td>0</td>\n",
              "      <td>0</td>\n",
              "      <td>0</td>\n",
              "      <td>0</td>\n",
              "      <td>0</td>\n",
              "      <td>0</td>\n",
              "      <td>0</td>\n",
              "      <td>64.884615</td>\n",
              "      <td>109.320000</td>\n",
              "      <td>58.480000</td>\n",
              "      <td>72.280000</td>\n",
              "      <td>18.466667</td>\n",
              "      <td>36.611111</td>\n",
              "      <td>97.769231</td>\n",
              "      <td>109.000000</td>\n",
              "      <td>88</td>\n",
              "      <td>1.906944</td>\n",
              "      <td>1.0</td>\n",
              "      <td>3.500000</td>\n",
              "      <td>2.500000</td>\n",
              "      <td>1.500000</td>\n",
              "      <td>2.000000</td>\n",
              "      <td>0</td>\n",
              "      <td>1</td>\n",
              "      <td>0</td>\n",
              "      <td>0</td>\n",
              "      <td>1</td>\n",
              "      <td>1</td>\n",
              "      <td>0</td>\n",
              "      <td>0</td>\n",
              "      <td>0</td>\n",
              "    </tr>\n",
              "    <tr>\n",
              "      <th>...</th>\n",
              "      <td>...</td>\n",
              "      <td>...</td>\n",
              "      <td>...</td>\n",
              "      <td>...</td>\n",
              "      <td>...</td>\n",
              "      <td>...</td>\n",
              "      <td>...</td>\n",
              "      <td>...</td>\n",
              "      <td>...</td>\n",
              "      <td>...</td>\n",
              "      <td>...</td>\n",
              "      <td>...</td>\n",
              "      <td>...</td>\n",
              "      <td>...</td>\n",
              "      <td>...</td>\n",
              "      <td>...</td>\n",
              "      <td>...</td>\n",
              "      <td>...</td>\n",
              "      <td>...</td>\n",
              "      <td>...</td>\n",
              "      <td>...</td>\n",
              "      <td>...</td>\n",
              "      <td>...</td>\n",
              "      <td>...</td>\n",
              "      <td>...</td>\n",
              "      <td>...</td>\n",
              "      <td>...</td>\n",
              "      <td>...</td>\n",
              "      <td>...</td>\n",
              "      <td>...</td>\n",
              "      <td>...</td>\n",
              "      <td>...</td>\n",
              "      <td>...</td>\n",
              "      <td>...</td>\n",
              "      <td>...</td>\n",
              "      <td>...</td>\n",
              "      <td>...</td>\n",
              "      <td>...</td>\n",
              "      <td>...</td>\n",
              "      <td>...</td>\n",
              "      <td>...</td>\n",
              "      <td>...</td>\n",
              "      <td>...</td>\n",
              "      <td>...</td>\n",
              "      <td>...</td>\n",
              "      <td>...</td>\n",
              "      <td>...</td>\n",
              "      <td>...</td>\n",
              "    </tr>\n",
              "    <tr>\n",
              "      <th>51457</th>\n",
              "      <td>31355</td>\n",
              "      <td>146717</td>\n",
              "      <td>EMERGENCY</td>\n",
              "      <td>2110-07-28 22:03:00</td>\n",
              "      <td>2110-07-30 19:00:00</td>\n",
              "      <td>NaN</td>\n",
              "      <td>0</td>\n",
              "      <td>NECROTIZING PANCREATITIS</td>\n",
              "      <td>UNKNOWN/NOT SPECIFIED</td>\n",
              "      <td>M</td>\n",
              "      <td>2071-09-27 00:00:00</td>\n",
              "      <td>0.8021</td>\n",
              "      <td>2</td>\n",
              "      <td>1.0</td>\n",
              "      <td>3</td>\n",
              "      <td>2.0</td>\n",
              "      <td>0</td>\n",
              "      <td>0</td>\n",
              "      <td>0</td>\n",
              "      <td>0</td>\n",
              "      <td>0</td>\n",
              "      <td>0</td>\n",
              "      <td>0</td>\n",
              "      <td>0</td>\n",
              "      <td>116.588235</td>\n",
              "      <td>142.631579</td>\n",
              "      <td>72.157895</td>\n",
              "      <td>87.058824</td>\n",
              "      <td>19.473684</td>\n",
              "      <td>38.083334</td>\n",
              "      <td>96.647059</td>\n",
              "      <td>152.000000</td>\n",
              "      <td>38</td>\n",
              "      <td>1.872917</td>\n",
              "      <td>1.0</td>\n",
              "      <td>1.000000</td>\n",
              "      <td>0.500000</td>\n",
              "      <td>1.500000</td>\n",
              "      <td>1.000000</td>\n",
              "      <td>0</td>\n",
              "      <td>1</td>\n",
              "      <td>0</td>\n",
              "      <td>0</td>\n",
              "      <td>0</td>\n",
              "      <td>0</td>\n",
              "      <td>0</td>\n",
              "      <td>1</td>\n",
              "      <td>0</td>\n",
              "    </tr>\n",
              "    <tr>\n",
              "      <th>51458</th>\n",
              "      <td>58016</td>\n",
              "      <td>105567</td>\n",
              "      <td>EMERGENCY</td>\n",
              "      <td>2118-10-08 20:59:00</td>\n",
              "      <td>2118-10-11 09:02:00</td>\n",
              "      <td>NaN</td>\n",
              "      <td>0</td>\n",
              "      <td>GALLSTONES</td>\n",
              "      <td>UNABLE TO OBTAIN</td>\n",
              "      <td>M</td>\n",
              "      <td>2070-06-16 00:00:00</td>\n",
              "      <td>2.0868</td>\n",
              "      <td>10</td>\n",
              "      <td>6.0</td>\n",
              "      <td>3</td>\n",
              "      <td>9.0</td>\n",
              "      <td>0</td>\n",
              "      <td>1</td>\n",
              "      <td>1</td>\n",
              "      <td>1</td>\n",
              "      <td>0</td>\n",
              "      <td>1</td>\n",
              "      <td>0</td>\n",
              "      <td>0</td>\n",
              "      <td>90.750000</td>\n",
              "      <td>86.521739</td>\n",
              "      <td>58.826087</td>\n",
              "      <td>65.826087</td>\n",
              "      <td>15.458333</td>\n",
              "      <td>36.259259</td>\n",
              "      <td>99.125000</td>\n",
              "      <td>67.333333</td>\n",
              "      <td>48</td>\n",
              "      <td>2.502083</td>\n",
              "      <td>1.0</td>\n",
              "      <td>3.333333</td>\n",
              "      <td>2.000000</td>\n",
              "      <td>1.000000</td>\n",
              "      <td>3.000000</td>\n",
              "      <td>0</td>\n",
              "      <td>1</td>\n",
              "      <td>0</td>\n",
              "      <td>0</td>\n",
              "      <td>0</td>\n",
              "      <td>0</td>\n",
              "      <td>0</td>\n",
              "      <td>0</td>\n",
              "      <td>1</td>\n",
              "    </tr>\n",
              "    <tr>\n",
              "      <th>51459</th>\n",
              "      <td>64255</td>\n",
              "      <td>145415</td>\n",
              "      <td>EMERGENCY</td>\n",
              "      <td>2151-11-05 22:32:00</td>\n",
              "      <td>2151-11-07 13:10:00</td>\n",
              "      <td>NaN</td>\n",
              "      <td>0</td>\n",
              "      <td>STATUS EPILEPTICUS</td>\n",
              "      <td>WHITE</td>\n",
              "      <td>F</td>\n",
              "      <td>2118-09-12 00:00:00</td>\n",
              "      <td>1.6445</td>\n",
              "      <td>1</td>\n",
              "      <td>4.0</td>\n",
              "      <td>2</td>\n",
              "      <td>1.0</td>\n",
              "      <td>0</td>\n",
              "      <td>0</td>\n",
              "      <td>0</td>\n",
              "      <td>0</td>\n",
              "      <td>0</td>\n",
              "      <td>0</td>\n",
              "      <td>0</td>\n",
              "      <td>0</td>\n",
              "      <td>102.041667</td>\n",
              "      <td>112.041667</td>\n",
              "      <td>64.166667</td>\n",
              "      <td>74.750000</td>\n",
              "      <td>16.607143</td>\n",
              "      <td>37.355556</td>\n",
              "      <td>99.210526</td>\n",
              "      <td>90.000000</td>\n",
              "      <td>33</td>\n",
              "      <td>1.609722</td>\n",
              "      <td>1.0</td>\n",
              "      <td>0.500000</td>\n",
              "      <td>2.000000</td>\n",
              "      <td>1.000000</td>\n",
              "      <td>0.500000</td>\n",
              "      <td>0</td>\n",
              "      <td>1</td>\n",
              "      <td>0</td>\n",
              "      <td>0</td>\n",
              "      <td>1</td>\n",
              "      <td>1</td>\n",
              "      <td>0</td>\n",
              "      <td>0</td>\n",
              "      <td>0</td>\n",
              "    </tr>\n",
              "    <tr>\n",
              "      <th>51460</th>\n",
              "      <td>83060</td>\n",
              "      <td>122843</td>\n",
              "      <td>EMERGENCY</td>\n",
              "      <td>2158-10-11 19:08:00</td>\n",
              "      <td>2158-10-15 12:11:00</td>\n",
              "      <td>NaN</td>\n",
              "      <td>0</td>\n",
              "      <td>RIGHTBRONCHUS MASS</td>\n",
              "      <td>UNKNOWN/NOT SPECIFIED</td>\n",
              "      <td>M</td>\n",
              "      <td>2103-12-06 00:00:00</td>\n",
              "      <td>0.9236</td>\n",
              "      <td>13</td>\n",
              "      <td>9.0</td>\n",
              "      <td>4</td>\n",
              "      <td>1.0</td>\n",
              "      <td>0</td>\n",
              "      <td>0</td>\n",
              "      <td>0</td>\n",
              "      <td>0</td>\n",
              "      <td>0</td>\n",
              "      <td>0</td>\n",
              "      <td>0</td>\n",
              "      <td>0</td>\n",
              "      <td>77.600000</td>\n",
              "      <td>117.666667</td>\n",
              "      <td>58.266667</td>\n",
              "      <td>71.666667</td>\n",
              "      <td>18.750000</td>\n",
              "      <td>36.266667</td>\n",
              "      <td>92.600000</td>\n",
              "      <td>197.200000</td>\n",
              "      <td>54</td>\n",
              "      <td>3.710417</td>\n",
              "      <td>1.0</td>\n",
              "      <td>3.250000</td>\n",
              "      <td>2.250000</td>\n",
              "      <td>1.000000</td>\n",
              "      <td>0.250000</td>\n",
              "      <td>0</td>\n",
              "      <td>1</td>\n",
              "      <td>0</td>\n",
              "      <td>0</td>\n",
              "      <td>0</td>\n",
              "      <td>0</td>\n",
              "      <td>0</td>\n",
              "      <td>1</td>\n",
              "      <td>0</td>\n",
              "    </tr>\n",
              "    <tr>\n",
              "      <th>51461</th>\n",
              "      <td>84694</td>\n",
              "      <td>149446</td>\n",
              "      <td>URGENT</td>\n",
              "      <td>2173-03-20 20:01:00</td>\n",
              "      <td>2173-03-23 22:25:00</td>\n",
              "      <td>NaN</td>\n",
              "      <td>0</td>\n",
              "      <td>HEMOPTYSIS</td>\n",
              "      <td>WHITE</td>\n",
              "      <td>M</td>\n",
              "      <td>2131-04-14 00:00:00</td>\n",
              "      <td>2.0031</td>\n",
              "      <td>9</td>\n",
              "      <td>8.0</td>\n",
              "      <td>4</td>\n",
              "      <td>18.0</td>\n",
              "      <td>1</td>\n",
              "      <td>1</td>\n",
              "      <td>0</td>\n",
              "      <td>0</td>\n",
              "      <td>0</td>\n",
              "      <td>0</td>\n",
              "      <td>0</td>\n",
              "      <td>0</td>\n",
              "      <td>85.321429</td>\n",
              "      <td>105.259259</td>\n",
              "      <td>64.074074</td>\n",
              "      <td>73.555556</td>\n",
              "      <td>20.363636</td>\n",
              "      <td>37.527778</td>\n",
              "      <td>98.892857</td>\n",
              "      <td>92.500000</td>\n",
              "      <td>41</td>\n",
              "      <td>3.100000</td>\n",
              "      <td>1.0</td>\n",
              "      <td>2.250000</td>\n",
              "      <td>2.000000</td>\n",
              "      <td>1.000000</td>\n",
              "      <td>4.500000</td>\n",
              "      <td>0</td>\n",
              "      <td>0</td>\n",
              "      <td>0</td>\n",
              "      <td>1</td>\n",
              "      <td>0</td>\n",
              "      <td>1</td>\n",
              "      <td>0</td>\n",
              "      <td>0</td>\n",
              "      <td>0</td>\n",
              "    </tr>\n",
              "  </tbody>\n",
              "</table>\n",
              "<p>51462 rows × 48 columns</p>\n",
              "</div>"
            ],
            "text/plain": [
              "       SUBJECT_ID  HADM_ID  ... ETHNICITY_UNKNOWN/NOT SPECIFIED ETHNICITY_OTHERS\n",
              "0            7275   136809  ...                               0                0\n",
              "1           17575   187131  ...                               0                0\n",
              "2           25251   142346  ...                               0                0\n",
              "3           30746   155603  ...                               0                0\n",
              "4           51820   148131  ...                               0                0\n",
              "...           ...      ...  ...                             ...              ...\n",
              "51457       31355   146717  ...                               1                0\n",
              "51458       58016   105567  ...                               0                1\n",
              "51459       64255   145415  ...                               0                0\n",
              "51460       83060   122843  ...                               1                0\n",
              "51461       84694   149446  ...                               0                0\n",
              "\n",
              "[51462 rows x 48 columns]"
            ]
          },
          "metadata": {
            "tags": []
          },
          "execution_count": 48
        }
      ]
    },
    {
      "cell_type": "markdown",
      "metadata": {
        "id": "xrNOJ1_EVF_P"
      },
      "source": [
        "# Exploratory data analysis"
      ]
    },
    {
      "cell_type": "code",
      "metadata": {
        "colab": {
          "base_uri": "https://localhost:8080/"
        },
        "id": "7pkbFluN3Gms",
        "outputId": "81b19d46-6256-4349-add4-dabc6a7f06ba"
      },
      "source": [
        "df.columns"
      ],
      "execution_count": 169,
      "outputs": [
        {
          "output_type": "execute_result",
          "data": {
            "text/plain": [
              "Index(['SUBJECT_ID', 'HADM_ID', 'ADMISSION_TYPE', 'ADMITTIME', 'DISCHTIME',\n",
              "       'DEATHTIME', 'IN_HOSP_DEATH', 'DIAGNOSIS', 'ETHNICITY', 'GENDER', 'DOB',\n",
              "       'LOS_ICU', 'DIAG_COUNT', 'CPT_COUNT', 'TRANSFER_COUNT', 'MICRO_COUNT',\n",
              "       'SEPSIS', 'ORGAN_FAILURE', 'CARDIOVASCULAR', 'RENAL', 'HEPATIC',\n",
              "       'HEMATOLOGIC', 'METABOLIC', 'NEUROLOGIC', 'HeartRate_Mean',\n",
              "       'SysBP_Mean', 'DiasBP_Mean', 'MeanBP_Mean', 'RespRate_Mean',\n",
              "       'TempC_Mean', 'SpO2_Mean', 'Glucose_Mean', 'AGE', 'LOS', 'ADULT',\n",
              "       'DIAG_COUNT_DAY', 'CPT_COUNT_DAY', 'TRANSFER_COUNT_DAY',\n",
              "       'MICRO_COUNT_DAY', 'ADMISSION_TYPE_ELECTIVE',\n",
              "       'ADMISSION_TYPE_EMERGENCY', 'ADMISSION_TYPE_NEWBORN',\n",
              "       'ADMISSION_TYPE_URGENT', 'GENDER_F', 'ETHNICITY_WHITE',\n",
              "       'ETHNICITY_BLACK/AFRICAN AMERICAN', 'ETHNICITY_UNKNOWN/NOT SPECIFIED',\n",
              "       'ETHNICITY_OTHERS'],\n",
              "      dtype='object')"
            ]
          },
          "metadata": {
            "tags": []
          },
          "execution_count": 169
        }
      ]
    },
    {
      "cell_type": "markdown",
      "metadata": {
        "id": "Atp-m1p59rW0"
      },
      "source": [
        "## Prediction Target: `SEPSIS`"
      ]
    },
    {
      "cell_type": "code",
      "metadata": {
        "colab": {
          "base_uri": "https://localhost:8080/"
        },
        "id": "zan_YN8E8uUJ",
        "outputId": "ddcf6896-166a-4f54-fcb4-5a917ef7ea48"
      },
      "source": [
        "df['SEPSIS'].value_counts()"
      ],
      "execution_count": 170,
      "outputs": [
        {
          "output_type": "execute_result",
          "data": {
            "text/plain": [
              "0    45255\n",
              "1     8953\n",
              "Name: SEPSIS, dtype: int64"
            ]
          },
          "metadata": {
            "tags": []
          },
          "execution_count": 170
        }
      ]
    },
    {
      "cell_type": "markdown",
      "metadata": {
        "id": "KbATKva19O_j"
      },
      "source": [
        ""
      ]
    },
    {
      "cell_type": "markdown",
      "metadata": {
        "id": "lg85VmZa9dYP"
      },
      "source": [
        "## Prediction Target: `IN_HOSP_DEATH`"
      ]
    },
    {
      "cell_type": "code",
      "metadata": {
        "colab": {
          "base_uri": "https://localhost:8080/"
        },
        "id": "aXy9Spbd9F-d",
        "outputId": "5bde7de7-ea2c-4aee-a785-2bb0d4e9a306"
      },
      "source": [
        "df['IN_HOSP_DEATH'].value_counts()"
      ],
      "execution_count": 171,
      "outputs": [
        {
          "output_type": "execute_result",
          "data": {
            "text/plain": [
              "0    47659\n",
              "1     6549\n",
              "Name: IN_HOSP_DEATH, dtype: int64"
            ]
          },
          "metadata": {
            "tags": []
          },
          "execution_count": 171
        }
      ]
    },
    {
      "cell_type": "markdown",
      "metadata": {
        "id": "9T00qjWI9P-T"
      },
      "source": [
        "The overall in-hospital death rate is 5854 / (53122 + 5854) = 9.93% "
      ]
    },
    {
      "cell_type": "markdown",
      "metadata": {
        "id": "o-zNmu2FAqRw"
      },
      "source": [
        "## Categorical features\n",
        "\n",
        "We can calculate and visualize each feature by group. You may also apply statistical tests to see if there are significant differences between groups.\n",
        "\n",
        "For simple visualizations in Python, the package [seaborn](https://seaborn.pydata.org/) may come in handy."
      ]
    },
    {
      "cell_type": "code",
      "metadata": {
        "id": "Fb7Mu35fBMT8"
      },
      "source": [
        "# visualization package\n",
        "import seaborn as sns \n",
        "import matplotlib.pyplot as plt\n",
        "%matplotlib inline"
      ],
      "execution_count": 172,
      "outputs": []
    },
    {
      "cell_type": "markdown",
      "metadata": {
        "id": "UgTi5EcMBfFr"
      },
      "source": [
        "`GENDER`"
      ]
    },
    {
      "cell_type": "markdown",
      "metadata": {
        "id": "UUb-5or6CLF1"
      },
      "source": [
        "The average in-hospital mortality rate for each gender"
      ]
    },
    {
      "cell_type": "code",
      "metadata": {
        "colab": {
          "base_uri": "https://localhost:8080/",
          "height": 142
        },
        "id": "6d8mTM9SBc-I",
        "outputId": "8b47074d-8b37-4540-8ebf-f92b3875cdff"
      },
      "source": [
        "df[['GENDER', 'IN_HOSP_DEATH']].groupby(['GENDER']).mean()"
      ],
      "execution_count": 173,
      "outputs": [
        {
          "output_type": "execute_result",
          "data": {
            "text/html": [
              "<div>\n",
              "<style scoped>\n",
              "    .dataframe tbody tr th:only-of-type {\n",
              "        vertical-align: middle;\n",
              "    }\n",
              "\n",
              "    .dataframe tbody tr th {\n",
              "        vertical-align: top;\n",
              "    }\n",
              "\n",
              "    .dataframe thead th {\n",
              "        text-align: right;\n",
              "    }\n",
              "</style>\n",
              "<table border=\"1\" class=\"dataframe\">\n",
              "  <thead>\n",
              "    <tr style=\"text-align: right;\">\n",
              "      <th></th>\n",
              "      <th>IN_HOSP_DEATH</th>\n",
              "    </tr>\n",
              "    <tr>\n",
              "      <th>GENDER</th>\n",
              "      <th></th>\n",
              "    </tr>\n",
              "  </thead>\n",
              "  <tbody>\n",
              "    <tr>\n",
              "      <th>F</th>\n",
              "      <td>0.125596</td>\n",
              "    </tr>\n",
              "    <tr>\n",
              "      <th>M</th>\n",
              "      <td>0.117100</td>\n",
              "    </tr>\n",
              "  </tbody>\n",
              "</table>\n",
              "</div>"
            ],
            "text/plain": [
              "        IN_HOSP_DEATH\n",
              "GENDER               \n",
              "F            0.125596\n",
              "M            0.117100"
            ]
          },
          "metadata": {
            "tags": []
          },
          "execution_count": 173
        }
      ]
    },
    {
      "cell_type": "code",
      "metadata": {
        "colab": {
          "base_uri": "https://localhost:8080/",
          "height": 296
        },
        "id": "wUkGfrWCCZI_",
        "outputId": "574cef18-8b6d-44fb-d2f1-78b6e8aa4e79"
      },
      "source": [
        "sns.barplot(x = 'GENDER', y = 'IN_HOSP_DEATH', data = df)"
      ],
      "execution_count": 174,
      "outputs": [
        {
          "output_type": "execute_result",
          "data": {
            "text/plain": [
              "<matplotlib.axes._subplots.AxesSubplot at 0x7fe3c550fa10>"
            ]
          },
          "metadata": {
            "tags": []
          },
          "execution_count": 174
        },
        {
          "output_type": "display_data",
          "data": {
            "image/png": "[encoded data removed]",
            "text/plain": [
              "<Figure size 432x288 with 1 Axes>"
            ]
          },
          "metadata": {
            "tags": [],
            "needs_background": "light"
          }
        }
      ]
    },
    {
      "cell_type": "markdown",
      "metadata": {
        "id": "tE0YBFQQEkWM"
      },
      "source": [
        "`ADMISSION_TYPE`"
      ]
    },
    {
      "cell_type": "code",
      "metadata": {
        "colab": {
          "base_uri": "https://localhost:8080/",
          "height": 173
        },
        "id": "4MQ5OwCWE13j",
        "outputId": "be7699d1-ad22-45e4-ea1f-a1afa6366a6a"
      },
      "source": [
        "df[['ADMISSION_TYPE', 'IN_HOSP_DEATH']].groupby(['ADMISSION_TYPE']).mean()"
      ],
      "execution_count": 175,
      "outputs": [
        {
          "output_type": "execute_result",
          "data": {
            "text/html": [
              "<div>\n",
              "<style scoped>\n",
              "    .dataframe tbody tr th:only-of-type {\n",
              "        vertical-align: middle;\n",
              "    }\n",
              "\n",
              "    .dataframe tbody tr th {\n",
              "        vertical-align: top;\n",
              "    }\n",
              "\n",
              "    .dataframe thead th {\n",
              "        text-align: right;\n",
              "    }\n",
              "</style>\n",
              "<table border=\"1\" class=\"dataframe\">\n",
              "  <thead>\n",
              "    <tr style=\"text-align: right;\">\n",
              "      <th></th>\n",
              "      <th>IN_HOSP_DEATH</th>\n",
              "    </tr>\n",
              "    <tr>\n",
              "      <th>ADMISSION_TYPE</th>\n",
              "      <th></th>\n",
              "    </tr>\n",
              "  </thead>\n",
              "  <tbody>\n",
              "    <tr>\n",
              "      <th>ELECTIVE</th>\n",
              "      <td>0.031440</td>\n",
              "    </tr>\n",
              "    <tr>\n",
              "      <th>EMERGENCY</th>\n",
              "      <td>0.136695</td>\n",
              "    </tr>\n",
              "    <tr>\n",
              "      <th>URGENT</th>\n",
              "      <td>0.129170</td>\n",
              "    </tr>\n",
              "  </tbody>\n",
              "</table>\n",
              "</div>"
            ],
            "text/plain": [
              "                IN_HOSP_DEATH\n",
              "ADMISSION_TYPE               \n",
              "ELECTIVE             0.031440\n",
              "EMERGENCY            0.136695\n",
              "URGENT               0.129170"
            ]
          },
          "metadata": {
            "tags": []
          },
          "execution_count": 175
        }
      ]
    },
    {
      "cell_type": "code",
      "metadata": {
        "colab": {
          "base_uri": "https://localhost:8080/",
          "height": 297
        },
        "id": "B1sJc0ctE92m",
        "outputId": "cb3748c3-fa6f-43e7-abb7-07e355a0af37"
      },
      "source": [
        "sns.barplot(x = 'ADMISSION_TYPE', y = 'IN_HOSP_DEATH', data = df)"
      ],
      "execution_count": 176,
      "outputs": [
        {
          "output_type": "execute_result",
          "data": {
            "text/plain": [
              "<matplotlib.axes._subplots.AxesSubplot at 0x7fe3c51ca7d0>"
            ]
          },
          "metadata": {
            "tags": []
          },
          "execution_count": 176
        },
        {
          "output_type": "display_data",
          "data": {
            "image/png": "[encoded data removed]",
            "text/plain": [
              "<Figure size 432x288 with 1 Axes>"
            ]
          },
          "metadata": {
            "tags": [],
            "needs_background": "light"
          }
        }
      ]
    },
    {
      "cell_type": "markdown",
      "metadata": {
        "id": "GWeU1AvJGfa6"
      },
      "source": [
        "## Numerical features"
      ]
    },
    {
      "cell_type": "code",
      "metadata": {
        "colab": {
          "base_uri": "https://localhost:8080/",
          "height": 334
        },
        "id": "mj3Z0hWtGnb2",
        "outputId": "ab52a0f0-611f-407e-dc8b-75a7014069ac"
      },
      "source": [
        "df.describe()"
      ],
      "execution_count": 177,
      "outputs": [
        {
          "output_type": "execute_result",
          "data": {
            "text/html": [
              "<div>\n",
              "<style scoped>\n",
              "    .dataframe tbody tr th:only-of-type {\n",
              "        vertical-align: middle;\n",
              "    }\n",
              "\n",
              "    .dataframe tbody tr th {\n",
              "        vertical-align: top;\n",
              "    }\n",
              "\n",
              "    .dataframe thead th {\n",
              "        text-align: right;\n",
              "    }\n",
              "</style>\n",
              "<table border=\"1\" class=\"dataframe\">\n",
              "  <thead>\n",
              "    <tr style=\"text-align: right;\">\n",
              "      <th></th>\n",
              "      <th>SUBJECT_ID</th>\n",
              "      <th>HADM_ID</th>\n",
              "      <th>IN_HOSP_DEATH</th>\n",
              "      <th>LOS_ICU</th>\n",
              "      <th>DIAG_COUNT</th>\n",
              "      <th>CPT_COUNT</th>\n",
              "      <th>TRANSFER_COUNT</th>\n",
              "      <th>MICRO_COUNT</th>\n",
              "      <th>SEPSIS</th>\n",
              "      <th>ORGAN_FAILURE</th>\n",
              "      <th>CARDIOVASCULAR</th>\n",
              "      <th>RENAL</th>\n",
              "      <th>HEPATIC</th>\n",
              "      <th>HEMATOLOGIC</th>\n",
              "      <th>METABOLIC</th>\n",
              "      <th>NEUROLOGIC</th>\n",
              "      <th>HeartRate_Mean</th>\n",
              "      <th>SysBP_Mean</th>\n",
              "      <th>DiasBP_Mean</th>\n",
              "      <th>MeanBP_Mean</th>\n",
              "      <th>RespRate_Mean</th>\n",
              "      <th>TempC_Mean</th>\n",
              "      <th>SpO2_Mean</th>\n",
              "      <th>Glucose_Mean</th>\n",
              "      <th>AGE</th>\n",
              "      <th>LOS</th>\n",
              "      <th>ADULT</th>\n",
              "      <th>DIAG_COUNT_DAY</th>\n",
              "      <th>CPT_COUNT_DAY</th>\n",
              "      <th>TRANSFER_COUNT_DAY</th>\n",
              "      <th>MICRO_COUNT_DAY</th>\n",
              "      <th>ADMISSION_TYPE_ELECTIVE</th>\n",
              "      <th>ADMISSION_TYPE_EMERGENCY</th>\n",
              "      <th>ADMISSION_TYPE_NEWBORN</th>\n",
              "      <th>ADMISSION_TYPE_URGENT</th>\n",
              "      <th>GENDER_F</th>\n",
              "      <th>ETHNICITY_WHITE</th>\n",
              "      <th>ETHNICITY_BLACK/AFRICAN AMERICAN</th>\n",
              "      <th>ETHNICITY_UNKNOWN/NOT SPECIFIED</th>\n",
              "      <th>ETHNICITY_OTHERS</th>\n",
              "    </tr>\n",
              "  </thead>\n",
              "  <tbody>\n",
              "    <tr>\n",
              "      <th>count</th>\n",
              "      <td>54208.000000</td>\n",
              "      <td>54208.000000</td>\n",
              "      <td>54208.000000</td>\n",
              "      <td>54208.000000</td>\n",
              "      <td>54208.000000</td>\n",
              "      <td>54208.000000</td>\n",
              "      <td>54208.000000</td>\n",
              "      <td>54208.000000</td>\n",
              "      <td>54208.000000</td>\n",
              "      <td>54208.000000</td>\n",
              "      <td>54208.000000</td>\n",
              "      <td>54208.000000</td>\n",
              "      <td>54208.000000</td>\n",
              "      <td>54208.000000</td>\n",
              "      <td>54208.000000</td>\n",
              "      <td>54208.000000</td>\n",
              "      <td>54208.000000</td>\n",
              "      <td>54208.000000</td>\n",
              "      <td>54208.000000</td>\n",
              "      <td>54208.000000</td>\n",
              "      <td>54208.000000</td>\n",
              "      <td>54208.000000</td>\n",
              "      <td>54208.000000</td>\n",
              "      <td>54208.000000</td>\n",
              "      <td>54208.000000</td>\n",
              "      <td>54208.000000</td>\n",
              "      <td>51462.0</td>\n",
              "      <td>54208.000000</td>\n",
              "      <td>54208.000000</td>\n",
              "      <td>54208.000000</td>\n",
              "      <td>54208.000000</td>\n",
              "      <td>54208.000000</td>\n",
              "      <td>54208.000000</td>\n",
              "      <td>54208.0</td>\n",
              "      <td>54208.000000</td>\n",
              "      <td>54208.000000</td>\n",
              "      <td>54208.000000</td>\n",
              "      <td>54208.000000</td>\n",
              "      <td>54208.000000</td>\n",
              "      <td>54208.000000</td>\n",
              "    </tr>\n",
              "    <tr>\n",
              "      <th>mean</th>\n",
              "      <td>36617.271786</td>\n",
              "      <td>149985.074731</td>\n",
              "      <td>0.120812</td>\n",
              "      <td>4.860773</td>\n",
              "      <td>12.234320</td>\n",
              "      <td>12.811559</td>\n",
              "      <td>4.704675</td>\n",
              "      <td>13.863470</td>\n",
              "      <td>0.165160</td>\n",
              "      <td>0.596794</td>\n",
              "      <td>0.138153</td>\n",
              "      <td>0.318532</td>\n",
              "      <td>0.037356</td>\n",
              "      <td>0.104911</td>\n",
              "      <td>0.091979</td>\n",
              "      <td>0.080412</td>\n",
              "      <td>82.299417</td>\n",
              "      <td>114.375117</td>\n",
              "      <td>58.336950</td>\n",
              "      <td>74.999598</td>\n",
              "      <td>18.130181</td>\n",
              "      <td>34.827908</td>\n",
              "      <td>93.411634</td>\n",
              "      <td>134.412104</td>\n",
              "      <td>63.562094</td>\n",
              "      <td>11.112964</td>\n",
              "      <td>1.0</td>\n",
              "      <td>1.892853</td>\n",
              "      <td>1.076678</td>\n",
              "      <td>0.695213</td>\n",
              "      <td>1.133151</td>\n",
              "      <td>0.149037</td>\n",
              "      <td>0.824970</td>\n",
              "      <td>0.0</td>\n",
              "      <td>0.025992</td>\n",
              "      <td>0.436965</td>\n",
              "      <td>0.711094</td>\n",
              "      <td>0.089009</td>\n",
              "      <td>0.079324</td>\n",
              "      <td>0.120573</td>\n",
              "    </tr>\n",
              "    <tr>\n",
              "      <th>std</th>\n",
              "      <td>28986.643624</td>\n",
              "      <td>28928.097561</td>\n",
              "      <td>0.325912</td>\n",
              "      <td>7.570722</td>\n",
              "      <td>6.715598</td>\n",
              "      <td>20.628739</td>\n",
              "      <td>2.220978</td>\n",
              "      <td>25.897515</td>\n",
              "      <td>0.371328</td>\n",
              "      <td>0.490546</td>\n",
              "      <td>0.345064</td>\n",
              "      <td>0.465911</td>\n",
              "      <td>0.189635</td>\n",
              "      <td>0.306441</td>\n",
              "      <td>0.288999</td>\n",
              "      <td>0.271933</td>\n",
              "      <td>22.320960</td>\n",
              "      <td>28.277533</td>\n",
              "      <td>15.868869</td>\n",
              "      <td>18.518615</td>\n",
              "      <td>5.369300</td>\n",
              "      <td>8.345167</td>\n",
              "      <td>18.827445</td>\n",
              "      <td>615.783726</td>\n",
              "      <td>17.111109</td>\n",
              "      <td>13.053650</td>\n",
              "      <td>0.0</td>\n",
              "      <td>2.011830</td>\n",
              "      <td>0.851507</td>\n",
              "      <td>0.542040</td>\n",
              "      <td>2.111380</td>\n",
              "      <td>0.356128</td>\n",
              "      <td>0.379996</td>\n",
              "      <td>0.0</td>\n",
              "      <td>0.159114</td>\n",
              "      <td>0.496015</td>\n",
              "      <td>0.453258</td>\n",
              "      <td>0.284759</td>\n",
              "      <td>0.270246</td>\n",
              "      <td>0.325633</td>\n",
              "    </tr>\n",
              "    <tr>\n",
              "      <th>min</th>\n",
              "      <td>3.000000</td>\n",
              "      <td>100001.000000</td>\n",
              "      <td>0.000000</td>\n",
              "      <td>0.000000</td>\n",
              "      <td>1.000000</td>\n",
              "      <td>0.000000</td>\n",
              "      <td>1.000000</td>\n",
              "      <td>0.000000</td>\n",
              "      <td>0.000000</td>\n",
              "      <td>0.000000</td>\n",
              "      <td>0.000000</td>\n",
              "      <td>0.000000</td>\n",
              "      <td>0.000000</td>\n",
              "      <td>0.000000</td>\n",
              "      <td>0.000000</td>\n",
              "      <td>0.000000</td>\n",
              "      <td>0.000000</td>\n",
              "      <td>0.000000</td>\n",
              "      <td>0.000000</td>\n",
              "      <td>0.000000</td>\n",
              "      <td>0.000000</td>\n",
              "      <td>0.000000</td>\n",
              "      <td>0.000000</td>\n",
              "      <td>0.000000</td>\n",
              "      <td>18.000000</td>\n",
              "      <td>-0.945139</td>\n",
              "      <td>1.0</td>\n",
              "      <td>0.038462</td>\n",
              "      <td>0.000000</td>\n",
              "      <td>0.019231</td>\n",
              "      <td>0.000000</td>\n",
              "      <td>0.000000</td>\n",
              "      <td>0.000000</td>\n",
              "      <td>0.0</td>\n",
              "      <td>0.000000</td>\n",
              "      <td>0.000000</td>\n",
              "      <td>0.000000</td>\n",
              "      <td>0.000000</td>\n",
              "      <td>0.000000</td>\n",
              "      <td>0.000000</td>\n",
              "    </tr>\n",
              "    <tr>\n",
              "      <th>25%</th>\n",
              "      <td>13183.000000</td>\n",
              "      <td>124888.500000</td>\n",
              "      <td>0.000000</td>\n",
              "      <td>1.233100</td>\n",
              "      <td>8.000000</td>\n",
              "      <td>2.000000</td>\n",
              "      <td>3.000000</td>\n",
              "      <td>1.000000</td>\n",
              "      <td>0.000000</td>\n",
              "      <td>0.000000</td>\n",
              "      <td>0.000000</td>\n",
              "      <td>0.000000</td>\n",
              "      <td>0.000000</td>\n",
              "      <td>0.000000</td>\n",
              "      <td>0.000000</td>\n",
              "      <td>0.000000</td>\n",
              "      <td>73.035406</td>\n",
              "      <td>105.390700</td>\n",
              "      <td>52.272727</td>\n",
              "      <td>69.291667</td>\n",
              "      <td>15.760000</td>\n",
              "      <td>36.355556</td>\n",
              "      <td>95.923077</td>\n",
              "      <td>107.500000</td>\n",
              "      <td>52.000000</td>\n",
              "      <td>4.148611</td>\n",
              "      <td>1.0</td>\n",
              "      <td>0.777778</td>\n",
              "      <td>0.400000</td>\n",
              "      <td>0.352941</td>\n",
              "      <td>0.200000</td>\n",
              "      <td>0.000000</td>\n",
              "      <td>1.000000</td>\n",
              "      <td>0.0</td>\n",
              "      <td>0.000000</td>\n",
              "      <td>0.000000</td>\n",
              "      <td>0.000000</td>\n",
              "      <td>0.000000</td>\n",
              "      <td>0.000000</td>\n",
              "      <td>0.000000</td>\n",
              "    </tr>\n",
              "    <tr>\n",
              "      <th>50%</th>\n",
              "      <td>26523.000000</td>\n",
              "      <td>150047.000000</td>\n",
              "      <td>0.000000</td>\n",
              "      <td>2.312950</td>\n",
              "      <td>10.000000</td>\n",
              "      <td>7.000000</td>\n",
              "      <td>4.000000</td>\n",
              "      <td>4.000000</td>\n",
              "      <td>0.000000</td>\n",
              "      <td>1.000000</td>\n",
              "      <td>0.000000</td>\n",
              "      <td>0.000000</td>\n",
              "      <td>0.000000</td>\n",
              "      <td>0.000000</td>\n",
              "      <td>0.000000</td>\n",
              "      <td>0.000000</td>\n",
              "      <td>83.692308</td>\n",
              "      <td>115.636364</td>\n",
              "      <td>59.096774</td>\n",
              "      <td>76.032926</td>\n",
              "      <td>18.000000</td>\n",
              "      <td>36.750732</td>\n",
              "      <td>97.428571</td>\n",
              "      <td>127.200000</td>\n",
              "      <td>65.000000</td>\n",
              "      <td>7.221875</td>\n",
              "      <td>1.0</td>\n",
              "      <td>1.333333</td>\n",
              "      <td>1.000000</td>\n",
              "      <td>0.571429</td>\n",
              "      <td>0.625000</td>\n",
              "      <td>0.000000</td>\n",
              "      <td>1.000000</td>\n",
              "      <td>0.0</td>\n",
              "      <td>0.000000</td>\n",
              "      <td>0.000000</td>\n",
              "      <td>1.000000</td>\n",
              "      <td>0.000000</td>\n",
              "      <td>0.000000</td>\n",
              "      <td>0.000000</td>\n",
              "    </tr>\n",
              "    <tr>\n",
              "      <th>75%</th>\n",
              "      <td>59875.000000</td>\n",
              "      <td>175048.500000</td>\n",
              "      <td>0.000000</td>\n",
              "      <td>4.999500</td>\n",
              "      <td>16.000000</td>\n",
              "      <td>14.000000</td>\n",
              "      <td>6.000000</td>\n",
              "      <td>16.000000</td>\n",
              "      <td>0.000000</td>\n",
              "      <td>1.000000</td>\n",
              "      <td>0.000000</td>\n",
              "      <td>1.000000</td>\n",
              "      <td>0.000000</td>\n",
              "      <td>0.000000</td>\n",
              "      <td>0.000000</td>\n",
              "      <td>0.000000</td>\n",
              "      <td>95.035714</td>\n",
              "      <td>128.681818</td>\n",
              "      <td>66.676112</td>\n",
              "      <td>84.105263</td>\n",
              "      <td>20.880000</td>\n",
              "      <td>37.158730</td>\n",
              "      <td>98.650000</td>\n",
              "      <td>153.500000</td>\n",
              "      <td>77.000000</td>\n",
              "      <td>13.118056</td>\n",
              "      <td>1.0</td>\n",
              "      <td>2.250000</td>\n",
              "      <td>1.500000</td>\n",
              "      <td>0.846154</td>\n",
              "      <td>1.444444</td>\n",
              "      <td>0.000000</td>\n",
              "      <td>1.000000</td>\n",
              "      <td>0.0</td>\n",
              "      <td>0.000000</td>\n",
              "      <td>1.000000</td>\n",
              "      <td>1.000000</td>\n",
              "      <td>0.000000</td>\n",
              "      <td>0.000000</td>\n",
              "      <td>0.000000</td>\n",
              "    </tr>\n",
              "    <tr>\n",
              "      <th>max</th>\n",
              "      <td>99999.000000</td>\n",
              "      <td>199999.000000</td>\n",
              "      <td>1.000000</td>\n",
              "      <td>260.708900</td>\n",
              "      <td>39.000000</td>\n",
              "      <td>362.000000</td>\n",
              "      <td>25.000000</td>\n",
              "      <td>565.000000</td>\n",
              "      <td>1.000000</td>\n",
              "      <td>1.000000</td>\n",
              "      <td>1.000000</td>\n",
              "      <td>1.000000</td>\n",
              "      <td>1.000000</td>\n",
              "      <td>1.000000</td>\n",
              "      <td>1.000000</td>\n",
              "      <td>1.000000</td>\n",
              "      <td>163.875000</td>\n",
              "      <td>215.833333</td>\n",
              "      <td>132.333333</td>\n",
              "      <td>153.838710</td>\n",
              "      <td>47.000000</td>\n",
              "      <td>40.833333</td>\n",
              "      <td>100.000000</td>\n",
              "      <td>142966.857143</td>\n",
              "      <td>90.000000</td>\n",
              "      <td>294.660417</td>\n",
              "      <td>1.0</td>\n",
              "      <td>31.000000</td>\n",
              "      <td>15.000000</td>\n",
              "      <td>7.000000</td>\n",
              "      <td>246.500000</td>\n",
              "      <td>1.000000</td>\n",
              "      <td>1.000000</td>\n",
              "      <td>0.0</td>\n",
              "      <td>1.000000</td>\n",
              "      <td>1.000000</td>\n",
              "      <td>1.000000</td>\n",
              "      <td>1.000000</td>\n",
              "      <td>1.000000</td>\n",
              "      <td>1.000000</td>\n",
              "    </tr>\n",
              "  </tbody>\n",
              "</table>\n",
              "</div>"
            ],
            "text/plain": [
              "         SUBJECT_ID  ...  ETHNICITY_OTHERS\n",
              "count  54208.000000  ...      54208.000000\n",
              "mean   36617.271786  ...          0.120573\n",
              "std    28986.643624  ...          0.325633\n",
              "min        3.000000  ...          0.000000\n",
              "25%    13183.000000  ...          0.000000\n",
              "50%    26523.000000  ...          0.000000\n",
              "75%    59875.000000  ...          0.000000\n",
              "max    99999.000000  ...          1.000000\n",
              "\n",
              "[8 rows x 40 columns]"
            ]
          },
          "metadata": {
            "tags": []
          },
          "execution_count": 177
        }
      ]
    },
    {
      "cell_type": "code",
      "metadata": {
        "colab": {
          "base_uri": "https://localhost:8080/",
          "height": 296
        },
        "id": "LjWmXOLUGri9",
        "outputId": "8109565f-776c-4e40-9963-c55727ccc912"
      },
      "source": [
        "sns.histplot(x = 'AGE', data = df)"
      ],
      "execution_count": 178,
      "outputs": [
        {
          "output_type": "execute_result",
          "data": {
            "text/plain": [
              "<matplotlib.axes._subplots.AxesSubplot at 0x7fe3b4ac9f50>"
            ]
          },
          "metadata": {
            "tags": []
          },
          "execution_count": 178
        },
        {
          "output_type": "display_data",
          "data": {
            "image/png": "[encoded data removed]",
            "text/plain": [
              "<Figure size 432x288 with 1 Axes>"
            ]
          },
          "metadata": {
            "tags": [],
            "needs_background": "light"
          }
        }
      ]
    },
    {
      "cell_type": "code",
      "metadata": {
        "colab": {
          "base_uri": "https://localhost:8080/",
          "height": 296
        },
        "id": "7GSDH0buGuEb",
        "outputId": "067a5de5-b91e-4b97-97cd-95270b0b5309"
      },
      "source": [
        "sns.boxplot(x = 'AGE', data = df)"
      ],
      "execution_count": 179,
      "outputs": [
        {
          "output_type": "execute_result",
          "data": {
            "text/plain": [
              "<matplotlib.axes._subplots.AxesSubplot at 0x7fe3b50ebe10>"
            ]
          },
          "metadata": {
            "tags": []
          },
          "execution_count": 179
        },
        {
          "output_type": "display_data",
          "data": {
            "image/png": "[encoded data removed]",
            "text/plain": [
              "<Figure size 432x288 with 1 Axes>"
            ]
          },
          "metadata": {
            "tags": [],
            "needs_background": "light"
          }
        }
      ]
    },
    {
      "cell_type": "code",
      "metadata": {
        "colab": {
          "base_uri": "https://localhost:8080/",
          "height": 242
        },
        "id": "_27zILgyGxqi",
        "outputId": "d3a45220-b123-461b-ecca-84f8f37d9f12"
      },
      "source": [
        "g = sns.FacetGrid(df, col = 'SEPSIS', sharey = False)\n",
        "g.map(sns.histplot, 'AGE', bins = 20)"
      ],
      "execution_count": 180,
      "outputs": [
        {
          "output_type": "execute_result",
          "data": {
            "text/plain": [
              "<seaborn.axisgrid.FacetGrid at 0x7fe3d928dfd0>"
            ]
          },
          "metadata": {
            "tags": []
          },
          "execution_count": 180
        },
        {
          "output_type": "display_data",
          "data": {
            "image/png": "[encoded data removed]",
            "text/plain": [
              "<Figure size 432x216 with 2 Axes>"
            ]
          },
          "metadata": {
            "tags": [],
            "needs_background": "light"
          }
        }
      ]
    },
    {
      "cell_type": "code",
      "metadata": {
        "colab": {
          "base_uri": "https://localhost:8080/"
        },
        "id": "V7sq7CYid578",
        "outputId": "d89f52f0-2ee5-462c-9140-cc39cde54723"
      },
      "source": [
        "df.columns"
      ],
      "execution_count": 182,
      "outputs": [
        {
          "output_type": "execute_result",
          "data": {
            "text/plain": [
              "Index(['SUBJECT_ID', 'HADM_ID', 'ADMISSION_TYPE', 'ADMITTIME', 'DISCHTIME',\n",
              "       'DEATHTIME', 'IN_HOSP_DEATH', 'DIAGNOSIS', 'ETHNICITY', 'GENDER', 'DOB',\n",
              "       'LOS_ICU', 'DIAG_COUNT', 'CPT_COUNT', 'TRANSFER_COUNT', 'MICRO_COUNT',\n",
              "       'SEPSIS', 'ORGAN_FAILURE', 'CARDIOVASCULAR', 'RENAL', 'HEPATIC',\n",
              "       'HEMATOLOGIC', 'METABOLIC', 'NEUROLOGIC', 'HeartRate_Mean',\n",
              "       'SysBP_Mean', 'DiasBP_Mean', 'MeanBP_Mean', 'RespRate_Mean',\n",
              "       'TempC_Mean', 'SpO2_Mean', 'Glucose_Mean', 'AGE', 'LOS', 'ADULT',\n",
              "       'DIAG_COUNT_DAY', 'CPT_COUNT_DAY', 'TRANSFER_COUNT_DAY',\n",
              "       'MICRO_COUNT_DAY', 'ADMISSION_TYPE_ELECTIVE',\n",
              "       'ADMISSION_TYPE_EMERGENCY', 'ADMISSION_TYPE_NEWBORN',\n",
              "       'ADMISSION_TYPE_URGENT', 'GENDER_F', 'ETHNICITY_WHITE',\n",
              "       'ETHNICITY_BLACK/AFRICAN AMERICAN', 'ETHNICITY_UNKNOWN/NOT SPECIFIED',\n",
              "       'ETHNICITY_OTHERS'],\n",
              "      dtype='object')"
            ]
          },
          "metadata": {
            "tags": []
          },
          "execution_count": 182
        }
      ]
    },
    {
      "cell_type": "code",
      "metadata": {
        "colab": {
          "base_uri": "https://localhost:8080/",
          "height": 215
        },
        "id": "X8Emcjc_HOkU",
        "outputId": "73ec0f05-1dd0-44a8-8096-e8b6f87fea69"
      },
      "source": [
        "numerical_feaures = ['LOS_ICU', 'DIAG_COUNT', 'CPT_COUNT', 'TRANSFER_COUNT', 'MICRO_COUNT',\n",
        "       'SEPSIS', 'ORGAN_FAILURE', 'CARDIOVASCULAR', 'RENAL', 'HEPATIC',\n",
        "       'HEMATOLOGIC', 'METABOLIC', 'NEUROLOGIC', 'HeartRate_Mean',\n",
        "       'SysBP_Mean', 'DiasBP_Mean', 'MeanBP_Mean', 'RespRate_Mean',\n",
        "       'TempC_Mean', 'SpO2_Mean', 'Glucose_Mean', 'AGE', 'LOS', 'ADULT',\n",
        "       'DIAG_COUNT_DAY', 'CPT_COUNT_DAY', 'TRANSFER_COUNT_DAY',\n",
        "       'MICRO_COUNT_DAY']\n",
        "\n",
        "for col_name in numerical_feaures:\n",
        "  sns.displot(data = df, x = col_name, hue = 'SEPSIS', stat = 'density', kde = True)\n",
        "  plt.show()"
      ],
      "execution_count": 4,
      "outputs": [
        {
          "output_type": "error",
          "ename": "NameError",
          "evalue": "ignored",
          "traceback": [
            "\u001b[0;31m---------------------------------------------------------------------------\u001b[0m",
            "\u001b[0;31mNameError\u001b[0m                                 Traceback (most recent call last)",
            "\u001b[0;32m<ipython-input-4-d22d37f86724>\u001b[0m in \u001b[0;36m<module>\u001b[0;34m()\u001b[0m\n\u001b[1;32m      8\u001b[0m \u001b[0;34m\u001b[0m\u001b[0m\n\u001b[1;32m      9\u001b[0m \u001b[0;32mfor\u001b[0m \u001b[0mcol_name\u001b[0m \u001b[0;32min\u001b[0m \u001b[0mnumerical_feaures\u001b[0m\u001b[0;34m:\u001b[0m\u001b[0;34m\u001b[0m\u001b[0;34m\u001b[0m\u001b[0m\n\u001b[0;32m---> 10\u001b[0;31m   \u001b[0msns\u001b[0m\u001b[0;34m.\u001b[0m\u001b[0mdisplot\u001b[0m\u001b[0;34m(\u001b[0m\u001b[0mdata\u001b[0m \u001b[0;34m=\u001b[0m \u001b[0mdf\u001b[0m\u001b[0;34m,\u001b[0m \u001b[0mx\u001b[0m \u001b[0;34m=\u001b[0m \u001b[0mcol_name\u001b[0m\u001b[0;34m,\u001b[0m \u001b[0mhue\u001b[0m \u001b[0;34m=\u001b[0m \u001b[0;34m'SEPSIS'\u001b[0m\u001b[0;34m,\u001b[0m \u001b[0mstat\u001b[0m \u001b[0;34m=\u001b[0m \u001b[0;34m'density'\u001b[0m\u001b[0;34m,\u001b[0m \u001b[0mkde\u001b[0m \u001b[0;34m=\u001b[0m \u001b[0;32mTrue\u001b[0m\u001b[0;34m)\u001b[0m\u001b[0;34m\u001b[0m\u001b[0;34m\u001b[0m\u001b[0m\n\u001b[0m\u001b[1;32m     11\u001b[0m   \u001b[0mplt\u001b[0m\u001b[0;34m.\u001b[0m\u001b[0mshow\u001b[0m\u001b[0;34m(\u001b[0m\u001b[0;34m)\u001b[0m\u001b[0;34m\u001b[0m\u001b[0;34m\u001b[0m\u001b[0m\n",
            "\u001b[0;31mNameError\u001b[0m: name 'sns' is not defined"
          ]
        }
      ]
    },
    {
      "cell_type": "markdown",
      "metadata": {
        "id": "2dqMdfKbLIbV"
      },
      "source": [
        "# Setup"
      ]
    },
    {
      "cell_type": "code",
      "metadata": {
        "colab": {
          "base_uri": "https://localhost:8080/",
          "height": 377
        },
        "id": "OBq3R5F_Lhq9",
        "outputId": "affdf8fb-1e67-4f35-b020-44160c5a8d42"
      },
      "source": [
        "df.head()"
      ],
      "execution_count": 49,
      "outputs": [
        {
          "output_type": "execute_result",
          "data": {
            "text/html": [
              "<div>\n",
              "<style scoped>\n",
              "    .dataframe tbody tr th:only-of-type {\n",
              "        vertical-align: middle;\n",
              "    }\n",
              "\n",
              "    .dataframe tbody tr th {\n",
              "        vertical-align: top;\n",
              "    }\n",
              "\n",
              "    .dataframe thead th {\n",
              "        text-align: right;\n",
              "    }\n",
              "</style>\n",
              "<table border=\"1\" class=\"dataframe\">\n",
              "  <thead>\n",
              "    <tr style=\"text-align: right;\">\n",
              "      <th></th>\n",
              "      <th>SUBJECT_ID</th>\n",
              "      <th>HADM_ID</th>\n",
              "      <th>ADMISSION_TYPE</th>\n",
              "      <th>ADMITTIME</th>\n",
              "      <th>DISCHTIME</th>\n",
              "      <th>DEATHTIME</th>\n",
              "      <th>IN_HOSP_DEATH</th>\n",
              "      <th>DIAGNOSIS</th>\n",
              "      <th>ETHNICITY</th>\n",
              "      <th>GENDER</th>\n",
              "      <th>DOB</th>\n",
              "      <th>LOS_ICU</th>\n",
              "      <th>DIAG_COUNT</th>\n",
              "      <th>CPT_COUNT</th>\n",
              "      <th>TRANSFER_COUNT</th>\n",
              "      <th>MICRO_COUNT</th>\n",
              "      <th>SEPSIS</th>\n",
              "      <th>ORGAN_FAILURE</th>\n",
              "      <th>CARDIOVASCULAR</th>\n",
              "      <th>RENAL</th>\n",
              "      <th>HEPATIC</th>\n",
              "      <th>HEMATOLOGIC</th>\n",
              "      <th>METABOLIC</th>\n",
              "      <th>NEUROLOGIC</th>\n",
              "      <th>HeartRate_Mean</th>\n",
              "      <th>SysBP_Mean</th>\n",
              "      <th>DiasBP_Mean</th>\n",
              "      <th>MeanBP_Mean</th>\n",
              "      <th>RespRate_Mean</th>\n",
              "      <th>TempC_Mean</th>\n",
              "      <th>SpO2_Mean</th>\n",
              "      <th>Glucose_Mean</th>\n",
              "      <th>AGE</th>\n",
              "      <th>LOS</th>\n",
              "      <th>ADULT</th>\n",
              "      <th>DIAG_COUNT_DAY</th>\n",
              "      <th>CPT_COUNT_DAY</th>\n",
              "      <th>TRANSFER_COUNT_DAY</th>\n",
              "      <th>MICRO_COUNT_DAY</th>\n",
              "      <th>ADMISSION_TYPE_ELECTIVE</th>\n",
              "      <th>ADMISSION_TYPE_EMERGENCY</th>\n",
              "      <th>ADMISSION_TYPE_NEWBORN</th>\n",
              "      <th>ADMISSION_TYPE_URGENT</th>\n",
              "      <th>GENDER_F</th>\n",
              "      <th>ETHNICITY_WHITE</th>\n",
              "      <th>ETHNICITY_BLACK/AFRICAN AMERICAN</th>\n",
              "      <th>ETHNICITY_UNKNOWN/NOT SPECIFIED</th>\n",
              "      <th>ETHNICITY_OTHERS</th>\n",
              "    </tr>\n",
              "  </thead>\n",
              "  <tbody>\n",
              "    <tr>\n",
              "      <th>0</th>\n",
              "      <td>7275</td>\n",
              "      <td>136809</td>\n",
              "      <td>EMERGENCY</td>\n",
              "      <td>2139-08-28 12:35:00</td>\n",
              "      <td>2139-09-01 16:32:00</td>\n",
              "      <td>NaT</td>\n",
              "      <td>0</td>\n",
              "      <td>ALTERED MENTAL STATUS; DYSPNEA</td>\n",
              "      <td>WHITE</td>\n",
              "      <td>M</td>\n",
              "      <td>2078-11-11</td>\n",
              "      <td>1.3848</td>\n",
              "      <td>15</td>\n",
              "      <td>7.0</td>\n",
              "      <td>3</td>\n",
              "      <td>47.0</td>\n",
              "      <td>1</td>\n",
              "      <td>1</td>\n",
              "      <td>0</td>\n",
              "      <td>1</td>\n",
              "      <td>0</td>\n",
              "      <td>0</td>\n",
              "      <td>0</td>\n",
              "      <td>0</td>\n",
              "      <td>92.772727</td>\n",
              "      <td>142.111111</td>\n",
              "      <td>56.722222</td>\n",
              "      <td>76.000000</td>\n",
              "      <td>20.875000</td>\n",
              "      <td>36.851852</td>\n",
              "      <td>95.086957</td>\n",
              "      <td>133.750000</td>\n",
              "      <td>60</td>\n",
              "      <td>4.164583</td>\n",
              "      <td>1.0</td>\n",
              "      <td>3.000000</td>\n",
              "      <td>1.400000</td>\n",
              "      <td>0.600000</td>\n",
              "      <td>9.400000</td>\n",
              "      <td>0</td>\n",
              "      <td>1</td>\n",
              "      <td>0</td>\n",
              "      <td>0</td>\n",
              "      <td>0</td>\n",
              "      <td>1</td>\n",
              "      <td>0</td>\n",
              "      <td>0</td>\n",
              "      <td>0</td>\n",
              "    </tr>\n",
              "    <tr>\n",
              "      <th>1</th>\n",
              "      <td>17575</td>\n",
              "      <td>187131</td>\n",
              "      <td>EMERGENCY</td>\n",
              "      <td>2124-10-21 08:32:00</td>\n",
              "      <td>2124-11-01 11:14:00</td>\n",
              "      <td>NaT</td>\n",
              "      <td>0</td>\n",
              "      <td>MVA;TRAUMA</td>\n",
              "      <td>BLACK/AFRICAN AMERICAN</td>\n",
              "      <td>M</td>\n",
              "      <td>2106-01-23</td>\n",
              "      <td>3.2653</td>\n",
              "      <td>9</td>\n",
              "      <td>0.0</td>\n",
              "      <td>3</td>\n",
              "      <td>27.0</td>\n",
              "      <td>0</td>\n",
              "      <td>1</td>\n",
              "      <td>0</td>\n",
              "      <td>0</td>\n",
              "      <td>0</td>\n",
              "      <td>0</td>\n",
              "      <td>0</td>\n",
              "      <td>0</td>\n",
              "      <td>108.268293</td>\n",
              "      <td>119.780488</td>\n",
              "      <td>53.317073</td>\n",
              "      <td>73.948718</td>\n",
              "      <td>18.291667</td>\n",
              "      <td>38.388888</td>\n",
              "      <td>99.288889</td>\n",
              "      <td>115.000000</td>\n",
              "      <td>18</td>\n",
              "      <td>11.112500</td>\n",
              "      <td>1.0</td>\n",
              "      <td>0.750000</td>\n",
              "      <td>0.000000</td>\n",
              "      <td>0.250000</td>\n",
              "      <td>2.250000</td>\n",
              "      <td>0</td>\n",
              "      <td>1</td>\n",
              "      <td>0</td>\n",
              "      <td>0</td>\n",
              "      <td>0</td>\n",
              "      <td>0</td>\n",
              "      <td>1</td>\n",
              "      <td>0</td>\n",
              "      <td>0</td>\n",
              "    </tr>\n",
              "    <tr>\n",
              "      <th>2</th>\n",
              "      <td>25251</td>\n",
              "      <td>142346</td>\n",
              "      <td>EMERGENCY</td>\n",
              "      <td>2167-01-23 16:23:00</td>\n",
              "      <td>2167-02-06 13:53:00</td>\n",
              "      <td>NaT</td>\n",
              "      <td>0</td>\n",
              "      <td>INFECTED RIGHT FOOT</td>\n",
              "      <td>WHITE</td>\n",
              "      <td>M</td>\n",
              "      <td>2096-08-27</td>\n",
              "      <td>3.2458</td>\n",
              "      <td>9</td>\n",
              "      <td>0.0</td>\n",
              "      <td>6</td>\n",
              "      <td>46.0</td>\n",
              "      <td>0</td>\n",
              "      <td>0</td>\n",
              "      <td>0</td>\n",
              "      <td>0</td>\n",
              "      <td>0</td>\n",
              "      <td>0</td>\n",
              "      <td>0</td>\n",
              "      <td>0</td>\n",
              "      <td>96.522727</td>\n",
              "      <td>109.454545</td>\n",
              "      <td>57.795455</td>\n",
              "      <td>73.727273</td>\n",
              "      <td>15.500000</td>\n",
              "      <td>36.697619</td>\n",
              "      <td>98.380952</td>\n",
              "      <td>149.619048</td>\n",
              "      <td>70</td>\n",
              "      <td>13.895833</td>\n",
              "      <td>1.0</td>\n",
              "      <td>0.642857</td>\n",
              "      <td>0.000000</td>\n",
              "      <td>0.428571</td>\n",
              "      <td>3.285714</td>\n",
              "      <td>0</td>\n",
              "      <td>1</td>\n",
              "      <td>0</td>\n",
              "      <td>0</td>\n",
              "      <td>0</td>\n",
              "      <td>1</td>\n",
              "      <td>0</td>\n",
              "      <td>0</td>\n",
              "      <td>0</td>\n",
              "    </tr>\n",
              "    <tr>\n",
              "      <th>4</th>\n",
              "      <td>30746</td>\n",
              "      <td>155603</td>\n",
              "      <td>EMERGENCY</td>\n",
              "      <td>2131-08-22 23:07:00</td>\n",
              "      <td>2131-08-28 13:10:00</td>\n",
              "      <td>NaT</td>\n",
              "      <td>0</td>\n",
              "      <td>ALTERED MENTAL STATUS</td>\n",
              "      <td>WHITE</td>\n",
              "      <td>M</td>\n",
              "      <td>2055-03-16</td>\n",
              "      <td>5.5894</td>\n",
              "      <td>22</td>\n",
              "      <td>10.0</td>\n",
              "      <td>7</td>\n",
              "      <td>5.0</td>\n",
              "      <td>0</td>\n",
              "      <td>1</td>\n",
              "      <td>1</td>\n",
              "      <td>0</td>\n",
              "      <td>0</td>\n",
              "      <td>0</td>\n",
              "      <td>0</td>\n",
              "      <td>1</td>\n",
              "      <td>79.285714</td>\n",
              "      <td>130.814815</td>\n",
              "      <td>60.740741</td>\n",
              "      <td>79.740741</td>\n",
              "      <td>18.875000</td>\n",
              "      <td>37.074074</td>\n",
              "      <td>98.827586</td>\n",
              "      <td>141.300000</td>\n",
              "      <td>76</td>\n",
              "      <td>5.585417</td>\n",
              "      <td>1.0</td>\n",
              "      <td>3.666667</td>\n",
              "      <td>1.666667</td>\n",
              "      <td>1.166667</td>\n",
              "      <td>0.833333</td>\n",
              "      <td>0</td>\n",
              "      <td>1</td>\n",
              "      <td>0</td>\n",
              "      <td>0</td>\n",
              "      <td>0</td>\n",
              "      <td>1</td>\n",
              "      <td>0</td>\n",
              "      <td>0</td>\n",
              "      <td>0</td>\n",
              "    </tr>\n",
              "    <tr>\n",
              "      <th>6</th>\n",
              "      <td>51820</td>\n",
              "      <td>148131</td>\n",
              "      <td>EMERGENCY</td>\n",
              "      <td>2184-02-06 17:37:00</td>\n",
              "      <td>2184-02-08 15:23:00</td>\n",
              "      <td>NaT</td>\n",
              "      <td>0</td>\n",
              "      <td>UPPER GI BLEED</td>\n",
              "      <td>WHITE</td>\n",
              "      <td>F</td>\n",
              "      <td>2095-03-01</td>\n",
              "      <td>1.9061</td>\n",
              "      <td>7</td>\n",
              "      <td>5.0</td>\n",
              "      <td>3</td>\n",
              "      <td>4.0</td>\n",
              "      <td>0</td>\n",
              "      <td>0</td>\n",
              "      <td>0</td>\n",
              "      <td>0</td>\n",
              "      <td>0</td>\n",
              "      <td>0</td>\n",
              "      <td>0</td>\n",
              "      <td>0</td>\n",
              "      <td>64.884615</td>\n",
              "      <td>109.320000</td>\n",
              "      <td>58.480000</td>\n",
              "      <td>72.280000</td>\n",
              "      <td>18.466667</td>\n",
              "      <td>36.611111</td>\n",
              "      <td>97.769231</td>\n",
              "      <td>109.000000</td>\n",
              "      <td>88</td>\n",
              "      <td>1.906944</td>\n",
              "      <td>1.0</td>\n",
              "      <td>3.500000</td>\n",
              "      <td>2.500000</td>\n",
              "      <td>1.500000</td>\n",
              "      <td>2.000000</td>\n",
              "      <td>0</td>\n",
              "      <td>1</td>\n",
              "      <td>0</td>\n",
              "      <td>0</td>\n",
              "      <td>1</td>\n",
              "      <td>1</td>\n",
              "      <td>0</td>\n",
              "      <td>0</td>\n",
              "      <td>0</td>\n",
              "    </tr>\n",
              "  </tbody>\n",
              "</table>\n",
              "</div>"
            ],
            "text/plain": [
              "   SUBJECT_ID  HADM_ID  ... ETHNICITY_UNKNOWN/NOT SPECIFIED ETHNICITY_OTHERS\n",
              "0        7275   136809  ...                               0                0\n",
              "1       17575   187131  ...                               0                0\n",
              "2       25251   142346  ...                               0                0\n",
              "4       30746   155603  ...                               0                0\n",
              "6       51820   148131  ...                               0                0\n",
              "\n",
              "[5 rows x 48 columns]"
            ]
          },
          "metadata": {
            "tags": []
          },
          "execution_count": 49
        }
      ]
    },
    {
      "cell_type": "code",
      "metadata": {
        "colab": {
          "base_uri": "https://localhost:8080/"
        },
        "id": "DZGGiyYELlqu",
        "outputId": "72e8016d-5e56-48bb-8d49-110323616b69"
      },
      "source": [
        "df.columns"
      ],
      "execution_count": 50,
      "outputs": [
        {
          "output_type": "execute_result",
          "data": {
            "text/plain": [
              "Index(['SUBJECT_ID', 'HADM_ID', 'ADMISSION_TYPE', 'ADMITTIME', 'DISCHTIME',\n",
              "       'DEATHTIME', 'IN_HOSP_DEATH', 'DIAGNOSIS', 'ETHNICITY', 'GENDER', 'DOB',\n",
              "       'LOS_ICU', 'DIAG_COUNT', 'CPT_COUNT', 'TRANSFER_COUNT', 'MICRO_COUNT',\n",
              "       'SEPSIS', 'ORGAN_FAILURE', 'CARDIOVASCULAR', 'RENAL', 'HEPATIC',\n",
              "       'HEMATOLOGIC', 'METABOLIC', 'NEUROLOGIC', 'HeartRate_Mean',\n",
              "       'SysBP_Mean', 'DiasBP_Mean', 'MeanBP_Mean', 'RespRate_Mean',\n",
              "       'TempC_Mean', 'SpO2_Mean', 'Glucose_Mean', 'AGE', 'LOS', 'ADULT',\n",
              "       'DIAG_COUNT_DAY', 'CPT_COUNT_DAY', 'TRANSFER_COUNT_DAY',\n",
              "       'MICRO_COUNT_DAY', 'ADMISSION_TYPE_ELECTIVE',\n",
              "       'ADMISSION_TYPE_EMERGENCY', 'ADMISSION_TYPE_NEWBORN',\n",
              "       'ADMISSION_TYPE_URGENT', 'GENDER_F', 'ETHNICITY_WHITE',\n",
              "       'ETHNICITY_BLACK/AFRICAN AMERICAN', 'ETHNICITY_UNKNOWN/NOT SPECIFIED',\n",
              "       'ETHNICITY_OTHERS'],\n",
              "      dtype='object')"
            ]
          },
          "metadata": {
            "tags": []
          },
          "execution_count": 50
        }
      ]
    },
    {
      "cell_type": "code",
      "metadata": {
        "colab": {
          "base_uri": "https://localhost:8080/"
        },
        "id": "b3o8ZdnILRC5",
        "outputId": "d404e83c-e62a-48c1-972b-bd0bee3d7948"
      },
      "source": [
        "features_list = ['IN_HOSP_DEATH', 'LOS_ICU', 'DIAG_COUNT', 'CPT_COUNT', 'TRANSFER_COUNT', 'MICRO_COUNT',\n",
        "       'SEPSIS', 'ORGAN_FAILURE', 'CARDIOVASCULAR', 'RENAL', 'HEPATIC',\n",
        "       'HEMATOLOGIC', 'METABOLIC', 'NEUROLOGIC', 'HeartRate_Mean',\n",
        "       'SysBP_Mean', 'DiasBP_Mean', 'MeanBP_Mean', 'RespRate_Mean',\n",
        "       'TempC_Mean', 'SpO2_Mean', 'Glucose_Mean', 'AGE', 'LOS',\n",
        "       'DIAG_COUNT_DAY', 'CPT_COUNT_DAY', 'TRANSFER_COUNT_DAY',\n",
        "       'MICRO_COUNT_DAY', 'GENDER_F', 'ETHNICITY_WHITE',\n",
        "       'ETHNICITY_BLACK/AFRICAN AMERICAN', 'ETHNICITY_UNKNOWN/NOT SPECIFIED',\n",
        "       'ETHNICITY_OTHERS', 'ADMISSION_TYPE_ELECTIVE',\n",
        "       'ADMISSION_TYPE_EMERGENCY', 'ADMISSION_TYPE_NEWBORN',\n",
        "       'ADMISSION_TYPE_URGENT', 'ADMISSION_TYPE_ELECTIVE',\n",
        "       'ADMISSION_TYPE_EMERGENCY', 'ADMISSION_TYPE_NEWBORN',\n",
        "       'ADMISSION_TYPE_URGENT']\n",
        "\n",
        "len(features_list)"
      ],
      "execution_count": 51,
      "outputs": [
        {
          "output_type": "execute_result",
          "data": {
            "text/plain": [
              "41"
            ]
          },
          "metadata": {
            "tags": []
          },
          "execution_count": 51
        }
      ]
    },
    {
      "cell_type": "code",
      "metadata": {
        "id": "RcRrttGzM0c0"
      },
      "source": [
        "X = df[features_list]\n",
        "y = df['SEPSIS']"
      ],
      "execution_count": 52,
      "outputs": []
    },
    {
      "cell_type": "markdown",
      "metadata": {
        "id": "Ip-E4fVAK3ZG"
      },
      "source": [
        "# Train-test Split\n",
        "\n",
        "* Help mitigate overfitting (model learns to fit the noise and error terms of the data) while we train machine learning models\n",
        "* Allow us to report an unbiased performance metric using data unseen by the model\n",
        "* A 70-30 or 80-20 split is usually the most common. \n",
        "\n",
        "![](https://miro.medium.com/max/694/1*tBErXYVvTw2jSUYK7thU2A.png)\n",
        "\n",
        "([Source](https://towardsdatascience.com/train-test-split-and-cross-validation-in-python-80b61beca4b6))"
      ]
    },
    {
      "cell_type": "code",
      "metadata": {
        "id": "0C6FywdvLFZm"
      },
      "source": [
        "X_train, X_test, y_train, y_test = train_test_split(X, y, \n",
        "                                                    test_size = 0.2,  # 20% of data belongs to the test set\n",
        "                                                    random_state = 1, # make sure the split is the same across different devices for illustrative purposes\n",
        "                                                    stratify = y)     # ensure the number of positive examples in the train and test sets are similar"
      ],
      "execution_count": 67,
      "outputs": []
    },
    {
      "cell_type": "code",
      "metadata": {
        "colab": {
          "base_uri": "https://localhost:8080/"
        },
        "id": "bUvXu_K_MZb3",
        "outputId": "e05d6cea-b336-48a5-c4df-5528406faecd"
      },
      "source": [
        "X_train.shape"
      ],
      "execution_count": 68,
      "outputs": [
        {
          "output_type": "execute_result",
          "data": {
            "text/plain": [
              "(41169, 41)"
            ]
          },
          "metadata": {
            "tags": []
          },
          "execution_count": 68
        }
      ]
    },
    {
      "cell_type": "code",
      "metadata": {
        "colab": {
          "base_uri": "https://localhost:8080/"
        },
        "id": "T_B9FjJIMamO",
        "outputId": "e3b6484f-3b99-4d51-fd65-e3fa04c229f1"
      },
      "source": [
        "X_test.shape"
      ],
      "execution_count": 69,
      "outputs": [
        {
          "output_type": "execute_result",
          "data": {
            "text/plain": [
              "(10293, 41)"
            ]
          },
          "metadata": {
            "tags": []
          },
          "execution_count": 69
        }
      ]
    },
    {
      "cell_type": "markdown",
      "metadata": {
        "id": "JAwrcf4gMk6N"
      },
      "source": [
        "As a result, our training and test set would include 49,981 and 12,496 admissions respectively."
      ]
    },
    {
      "cell_type": "markdown",
      "metadata": {
        "id": "fmRQn6S7NL__"
      },
      "source": [
        "# Logistic Regression"
      ]
    },
    {
      "cell_type": "markdown",
      "metadata": {
        "id": "QG85Xb6lNaAa"
      },
      "source": [
        "In this example, we would be utilizing the package package [Scikit-learn](https://scikit-learn.org/stable/user_guide.html) heavily for modelling. In Scikit-learn, the general flow can be simplified as follows:\n",
        "\n",
        "1. Specify a model to be trained\n",
        "  * Choose a type of model based on your task and dataset. A full list of available models in the package can be found [here](https://scikit-learn.org/stable/modules/classes.html).\n",
        "  * Set the hyperparameters of the model. \n",
        "  * Assign the model to a variable.\n",
        "2. Train the model\n",
        "  * Call the `.fit()` function using your cleaned train dataset.\n",
        "3. Make predictions\n",
        "  * Call the `.predict()` function using your cleaned test dataset."
      ]
    },
    {
      "cell_type": "markdown",
      "metadata": {
        "id": "9gDiD2D5Ntu6"
      },
      "source": [
        "## Model Training and Prediction"
      ]
    },
    {
      "cell_type": "markdown",
      "metadata": {
        "id": "BiF5VFwiN7sQ"
      },
      "source": [
        ""
      ]
    },
    {
      "cell_type": "code",
      "metadata": {
        "id": "yKfw5YplN_aM"
      },
      "source": [
        "# 1. Specify a model to be trained\n",
        "model_lr = LogisticRegression(random_state = 1, \n",
        "                              n_jobs = -1) # use all available CPUs within your Colab notebook for computation"
      ],
      "execution_count": 70,
      "outputs": []
    },
    {
      "cell_type": "code",
      "metadata": {
        "colab": {
          "base_uri": "https://localhost:8080/"
        },
        "id": "QhRG5pFTOCJg",
        "outputId": "adbb2922-f06e-497c-ca4d-c469b5f6cc4f"
      },
      "source": [
        "# 2. Train the model\n",
        "model_lr.fit(X_train, y_train)"
      ],
      "execution_count": 71,
      "outputs": [
        {
          "output_type": "execute_result",
          "data": {
            "text/plain": [
              "LogisticRegression(C=1.0, class_weight=None, dual=False, fit_intercept=True,\n",
              "                   intercept_scaling=1, l1_ratio=None, max_iter=100,\n",
              "                   multi_class='auto', n_jobs=-1, penalty='l2', random_state=1,\n",
              "                   solver='lbfgs', tol=0.0001, verbose=0, warm_start=False)"
            ]
          },
          "metadata": {
            "tags": []
          },
          "execution_count": 71
        }
      ]
    },
    {
      "cell_type": "code",
      "metadata": {
        "colab": {
          "base_uri": "https://localhost:8080/"
        },
        "id": "ffHe515IOESY",
        "outputId": "b7a07094-f1a2-4fb1-b017-25a50e7be68e"
      },
      "source": [
        "# 3. Make predictions\n",
        "y_pred_lr = model_lr.predict(X_test)\n",
        "y_pred_lr"
      ],
      "execution_count": 72,
      "outputs": [
        {
          "output_type": "execute_result",
          "data": {
            "text/plain": [
              "array([0, 0, 0, ..., 0, 0, 1], dtype=int64)"
            ]
          },
          "metadata": {
            "tags": []
          },
          "execution_count": 72
        }
      ]
    },
    {
      "cell_type": "markdown",
      "metadata": {
        "id": "p4s14f7zOL4r"
      },
      "source": [
        "Use `.predict_proba()` instead if you want probabilistic outputs over class outputs. "
      ]
    },
    {
      "cell_type": "code",
      "metadata": {
        "colab": {
          "base_uri": "https://localhost:8080/"
        },
        "id": "vQtfeMwWOPfZ",
        "outputId": "e3d7d7e8-e8f4-42c6-b2f6-3dca565b0376"
      },
      "source": [
        "model_lr.predict_proba(X_test) # the two columns represent the prob of 0 and 1 respectively "
      ],
      "execution_count": 73,
      "outputs": [
        {
          "output_type": "execute_result",
          "data": {
            "text/plain": [
              "array([[6.72384306e-01, 3.27615694e-01],\n",
              "       [9.99029779e-01, 9.70220617e-04],\n",
              "       [9.90600384e-01, 9.39961600e-03],\n",
              "       ...,\n",
              "       [9.99761181e-01, 2.38818745e-04],\n",
              "       [9.62792369e-01, 3.72076309e-02],\n",
              "       [4.91989791e-01, 5.08010209e-01]])"
            ]
          },
          "metadata": {
            "tags": []
          },
          "execution_count": 73
        }
      ]
    },
    {
      "cell_type": "code",
      "metadata": {
        "id": "jQ6bGxuBTlEm"
      },
      "source": [
        "dfoutput = model_lr.predict_proba(X_test)"
      ],
      "execution_count": 74,
      "outputs": []
    },
    {
      "cell_type": "markdown",
      "metadata": {
        "id": "nfsR0tpOOaTx"
      },
      "source": [
        "## Evaluation"
      ]
    },
    {
      "cell_type": "markdown",
      "metadata": {
        "id": "7zhmsshoOgwZ"
      },
      "source": [
        "There are several metrics for evaluating the binary classification performances. In general, F1-score, being the harmonic mean of precision and recall, is the most common metric for these kind of machine learning problems.  \n",
        "\n",
        "![binary classification metrics](https://2.bp.blogspot.com/-EvSXDotTOwc/XMfeOGZ-CVI/AAAAAAAAEiE/oePFfvhfOQM11dgRn9FkPxlegCXbgOF4QCLcBGAs/s1600/confusionMatrxiUpdated.jpg)\n",
        "\n",
        "([Source](https://manisha-sirsat.blogspot.com/2019/04/confusion-matrix.html))"
      ]
    },
    {
      "cell_type": "code",
      "metadata": {
        "colab": {
          "base_uri": "https://localhost:8080/"
        },
        "id": "Ff0od66cOcO4",
        "outputId": "87585a37-530e-4593-d670-805ef3c84104"
      },
      "source": [
        "accuracy_score(y_test, y_pred_lr)"
      ],
      "execution_count": 75,
      "outputs": [
        {
          "output_type": "execute_result",
          "data": {
            "text/plain": [
              "0.9143106965899155"
            ]
          },
          "metadata": {
            "tags": []
          },
          "execution_count": 75
        }
      ]
    },
    {
      "cell_type": "code",
      "metadata": {
        "colab": {
          "base_uri": "https://localhost:8080/"
        },
        "id": "3Fnv35v2Omyo",
        "outputId": "ed9f381f-5e2c-44a3-b5f4-3daec9192beb"
      },
      "source": [
        "print(classification_report(y_test, y_pred_lr))"
      ],
      "execution_count": 76,
      "outputs": [
        {
          "output_type": "stream",
          "text": [
            "              precision    recall  f1-score   support\n",
            "\n",
            "           0       0.93      0.97      0.95      8616\n",
            "           1       0.80      0.64      0.71      1677\n",
            "\n",
            "    accuracy                           0.91     10293\n",
            "   macro avg       0.86      0.80      0.83     10293\n",
            "weighted avg       0.91      0.91      0.91     10293\n",
            "\n"
          ],
          "name": "stdout"
        }
      ]
    },
    {
      "cell_type": "code",
      "metadata": {
        "colab": {
          "base_uri": "https://localhost:8080/",
          "height": 279
        },
        "id": "OoQqX6UJOrJk",
        "outputId": "3021619e-9a42-49e3-aa77-d682ee4f5314"
      },
      "source": [
        "plot_confusion_matrix(model_lr, X_test, y_test, values_format = 'd')\n",
        "plt.show()"
      ],
      "execution_count": 77,
      "outputs": [
        {
          "output_type": "display_data",
          "data": {
            "image/png": "[encoded data removed]",
            "text/plain": [
              "<Figure size 432x288 with 2 Axes>"
            ]
          },
          "metadata": {
            "tags": [],
            "needs_background": "light"
          }
        }
      ]
    },
    {
      "cell_type": "code",
      "metadata": {
        "colab": {
          "base_uri": "https://localhost:8080/",
          "height": 279
        },
        "id": "RhQ2UPEgOtrm",
        "outputId": "08a1f5ee-da73-443a-96f3-38f2509c9749"
      },
      "source": [
        "# recall-related metrics\n",
        "plot_confusion_matrix(model_lr, X_test, y_test, normalize = 'true') \n",
        "plt.show()"
      ],
      "execution_count": 78,
      "outputs": [
        {
          "output_type": "display_data",
          "data": {
            "image/png": "[encoded data removed]",
            "text/plain": [
              "<Figure size 432x288 with 2 Axes>"
            ]
          },
          "metadata": {
            "tags": [],
            "needs_background": "light"
          }
        }
      ]
    },
    {
      "cell_type": "code",
      "metadata": {
        "colab": {
          "base_uri": "https://localhost:8080/",
          "height": 279
        },
        "id": "VYPN_m4AOwBm",
        "outputId": "61a9f49c-7cb0-47ea-ea38-7214a23844e1"
      },
      "source": [
        "# precision-related metrics\n",
        "plot_confusion_matrix(model_lr, X_test, y_test, normalize = 'pred')\n",
        "plt.show()"
      ],
      "execution_count": 79,
      "outputs": [
        {
          "output_type": "display_data",
          "data": {
            "image/png": "[encoded data removed]",
            "text/plain": [
              "<Figure size 432x288 with 2 Axes>"
            ]
          },
          "metadata": {
            "tags": [],
            "needs_background": "light"
          }
        }
      ]
    },
    {
      "cell_type": "code",
      "metadata": {
        "colab": {
          "base_uri": "https://localhost:8080/",
          "height": 279
        },
        "id": "azIHY8MGOykH",
        "outputId": "a58b6ae3-abaf-4154-addb-3a8cb12e418d"
      },
      "source": [
        "plot_roc_curve(model_lr, X_test, y_test)\n",
        "plt.show()"
      ],
      "execution_count": 80,
      "outputs": [
        {
          "output_type": "display_data",
          "data": {
            "image/png": "[encoded data removed]",
            "text/plain": [
              "<Figure size 432x288 with 1 Axes>"
            ]
          },
          "metadata": {
            "tags": [],
            "needs_background": "light"
          }
        }
      ]
    },
    {
      "cell_type": "markdown",
      "metadata": {
        "id": "Yis8D55CO2FE"
      },
      "source": [
        "**Observations**\n",
        "\n",
        "* Despite having an accuracy of 92.6%, the overall F1-score is around 48%. The high accuracy is due to class imbalance and the model predicted the majority class (`SEPSIS == 0`) correctly. \n",
        "* The recall for the positive examples is 34%, meaning that only around one-third of those who died within their hospital stay is successfully detected by the model."
      ]
    },
    {
      "cell_type": "code",
      "metadata": {
        "id": "9WMb1HmiO4OE"
      },
      "source": [
        ""
      ],
      "execution_count": 80,
      "outputs": []
    },
    {
      "cell_type": "markdown",
      "metadata": {
        "id": "vWwKZ9AuO8No"
      },
      "source": [
        "#Random Forest Model\n",
        "\n",
        "![Random Forest](https://cdn.analyticsvidhya.com/wp-content/uploads/2020/02/rfc_vs_dt1.png)\n",
        "\n",
        "([Source](https://www.analyticsvidhya.com/blog/2020/05/decision-tree-vs-random-forest-algorithm/))"
      ]
    },
    {
      "cell_type": "markdown",
      "metadata": {
        "id": "cHPQgvAVPXxx"
      },
      "source": [
        "## Model Training and Prediction"
      ]
    },
    {
      "cell_type": "markdown",
      "metadata": {
        "id": "oCTkjvtEPogc"
      },
      "source": [
        "Define the configuration/hyperparameters of a random forest model. Here we specify that the model contains 200 decision trees."
      ]
    },
    {
      "cell_type": "code",
      "metadata": {
        "id": "p_hDcSlZPkOI"
      },
      "source": [
        "model_rf1 = RandomForestClassifier(n_estimators = 200, \n",
        "                                   random_state = 1,\n",
        "                                   n_jobs = -1)"
      ],
      "execution_count": 89,
      "outputs": []
    },
    {
      "cell_type": "code",
      "metadata": {
        "colab": {
          "base_uri": "https://localhost:8080/"
        },
        "id": "zra9VJG8Pv10",
        "outputId": "eb2400ee-b613-4dcb-c469-99c4714cf8a8"
      },
      "source": [
        "model_rf1.fit(X_train, y_train)"
      ],
      "execution_count": 90,
      "outputs": [
        {
          "output_type": "execute_result",
          "data": {
            "text/plain": [
              "RandomForestClassifier(bootstrap=True, ccp_alpha=0.0, class_weight=None,\n",
              "                       criterion='gini', max_depth=None, max_features='auto',\n",
              "                       max_leaf_nodes=None, max_samples=None,\n",
              "                       min_impurity_decrease=0.0, min_impurity_split=None,\n",
              "                       min_samples_leaf=1, min_samples_split=2,\n",
              "                       min_weight_fraction_leaf=0.0, n_estimators=200,\n",
              "                       n_jobs=-1, oob_score=False, random_state=1, verbose=0,\n",
              "                       warm_start=False)"
            ]
          },
          "metadata": {
            "tags": []
          },
          "execution_count": 90
        }
      ]
    },
    {
      "cell_type": "code",
      "metadata": {
        "id": "eSbO51ccPy4d"
      },
      "source": [
        "y_pred_rf1 = model_rf1.predict(X_test)"
      ],
      "execution_count": 91,
      "outputs": []
    },
    {
      "cell_type": "markdown",
      "metadata": {
        "id": "Re4cEe7VP19c"
      },
      "source": [
        "## Evaluation"
      ]
    },
    {
      "cell_type": "code",
      "metadata": {
        "colab": {
          "base_uri": "https://localhost:8080/"
        },
        "id": "cIJ0Y6NtQA_U",
        "outputId": "d093ea87-375f-409f-d595-6f851ea23327"
      },
      "source": [
        "print(classification_report(y_test, y_pred_rf1))"
      ],
      "execution_count": 92,
      "outputs": [
        {
          "output_type": "stream",
          "text": [
            "              precision    recall  f1-score   support\n",
            "\n",
            "           0       1.00      1.00      1.00      8616\n",
            "           1       1.00      1.00      1.00      1677\n",
            "\n",
            "    accuracy                           1.00     10293\n",
            "   macro avg       1.00      1.00      1.00     10293\n",
            "weighted avg       1.00      1.00      1.00     10293\n",
            "\n"
          ],
          "name": "stdout"
        }
      ]
    },
    {
      "cell_type": "code",
      "metadata": {
        "colab": {
          "base_uri": "https://localhost:8080/",
          "height": 279
        },
        "id": "LLWM1DjMQDHv",
        "outputId": "b6238548-b5f9-4d87-af0a-69261b47b088"
      },
      "source": [
        "plot_confusion_matrix(model_rf1, X_test, y_test, values_format = 'd')\n",
        "plt.show()"
      ],
      "execution_count": 93,
      "outputs": [
        {
          "output_type": "display_data",
          "data": {
            "image/png": "[encoded data removed]",
            "text/plain": [
              "<Figure size 432x288 with 2 Axes>"
            ]
          },
          "metadata": {
            "tags": [],
            "needs_background": "light"
          }
        }
      ]
    },
    {
      "cell_type": "code",
      "metadata": {
        "colab": {
          "base_uri": "https://localhost:8080/",
          "height": 283
        },
        "id": "D4Y2FD0MQFMU",
        "outputId": "fcaba691-2f5d-4660-d7f3-aa6a5460ab43"
      },
      "source": [
        "plot_confusion_matrix(model_rf1, X_test, y_test, normalize = 'true') # recall\n",
        "plt.show()"
      ],
      "execution_count": 94,
      "outputs": [
        {
          "output_type": "display_data",
          "data": {
            "image/png": "[encoded data removed]",
            "text/plain": [
              "<Figure size 432x288 with 2 Axes>"
            ]
          },
          "metadata": {
            "tags": [],
            "needs_background": "light"
          }
        }
      ]
    },
    {
      "cell_type": "code",
      "metadata": {
        "colab": {
          "base_uri": "https://localhost:8080/",
          "height": 283
        },
        "id": "cV47-pJUQHLM",
        "outputId": "797fb7b7-c0a6-4f2d-df6e-b209aa3da8bf"
      },
      "source": [
        "plot_confusion_matrix(model_rf1, X_test, y_test, normalize = 'pred') # precision\n",
        "plt.show()"
      ],
      "execution_count": 95,
      "outputs": [
        {
          "output_type": "display_data",
          "data": {
            "image/png": "[encoded data removed]",
            "text/plain": [
              "<Figure size 432x288 with 2 Axes>"
            ]
          },
          "metadata": {
            "tags": [],
            "needs_background": "light"
          }
        }
      ]
    },
    {
      "cell_type": "code",
      "metadata": {
        "colab": {
          "base_uri": "https://localhost:8080/",
          "height": 296
        },
        "id": "-ak3xPh1QJMg",
        "outputId": "4d0cf5d7-cb6b-445b-f2d8-289be64cda35"
      },
      "source": [
        "plot_roc_curve(model_rf1, X_test, y_test)"
      ],
      "execution_count": 96,
      "outputs": [
        {
          "output_type": "execute_result",
          "data": {
            "text/plain": [
              "<sklearn.metrics._plot.roc_curve.RocCurveDisplay at 0x7f8009099910>"
            ]
          },
          "metadata": {
            "tags": []
          },
          "execution_count": 96
        },
        {
          "output_type": "display_data",
          "data": {
            "image/png": "[encoded data removed]",
            "text/plain": [
              "<Figure size 432x288 with 1 Axes>"
            ]
          },
          "metadata": {
            "tags": [],
            "needs_background": "light"
          }
        }
      ]
    },
    {
      "cell_type": "markdown",
      "metadata": {
        "id": "1rvm9J5eQSAd"
      },
      "source": [
        "#Tuning Random Forest Model"
      ]
    },
    {
      "cell_type": "markdown",
      "metadata": {
        "id": "Q32aEM42RRbR"
      },
      "source": [
        "Now, we try to **tune the hyperparameters** of the random forest model above based on cross-validation and grid search. We apply the `GridSearchCV()` function and specify a list of hyperparameters and their respective values to be tested. Models are trained for each combination of values and fold. The best performing set of hyperparameters across all folds would then be reported and used. \n",
        "\n",
        "![train-validation-test split](https://scikit-learn.org/stable/_images/grid_search_cross_validation.png)\n",
        "\n",
        "([Source](https://scikit-learn.org/stable/))\n",
        "\n",
        "---\n",
        "\n",
        "Performing this step requires at least a basic understanding on the meaning and effect of each hyperparameter. You should always refer to the docs of the model you are using in this step ([RandomForestClassifier](https://scikit-learn.org/stable/modules/generated/sklearn.ensemble.RandomForestClassifier.html#sklearn.ensemble.RandomForestClassifier) in this case). An explanation of Random Forest hyperparameters can also be found [here](https://www.analyticsvidhya.com/blog/2020/03/beginners-guide-random-forest-hyperparameter-tuning/)."
      ]
    },
    {
      "cell_type": "code",
      "metadata": {
        "id": "d8Py_hX_QTzp"
      },
      "source": [
        "# a set of hyperparameters and their respective values to be tested\n",
        "\n",
        "param_grid = {\n",
        "    'n_estimators': [100, 200, 300],   # number of decision trees in the forest \n",
        "    'max_depth': [10, 40, None],       # how many times can each tree be split. None means no specific limit. \n",
        "    'class_weight': ['balanced', None] # weight of each sample. None means equal weight, balanced would put more weight on the less represented classes\n",
        "}"
      ],
      "execution_count": 97,
      "outputs": []
    },
    {
      "cell_type": "code",
      "metadata": {
        "id": "nzjUnm3LRaX6"
      },
      "source": [
        "grid_search_rf = GridSearchCV(\n",
        "    estimator = RandomForestClassifier(random_state = 1, n_jobs = -1), # define type of model to be tuned\n",
        "    param_grid = param_grid,                                           # hyperparameters to be tested\n",
        "    cv = 3,                                                            # 3-fold cross-validation\n",
        "    scoring = 'f1',                                                    # metric to be optimized\n",
        "    n_jobs = -1, \n",
        "    verbose = 2\n",
        "    )"
      ],
      "execution_count": 98,
      "outputs": []
    },
    {
      "cell_type": "code",
      "metadata": {
        "colab": {
          "base_uri": "https://localhost:8080/"
        },
        "id": "aURkFYQ6RczO",
        "outputId": "e2014cc0-5a54-447e-c3dd-d07fe49404f7"
      },
      "source": [
        "grid_search_rf.fit(X_train, y_train)\n",
        "\n",
        "# this would take 10 to 15 minutes to run\n",
        "# this could take even longer depending on the number of hyperparameters to be tested, number of folds or the size of the dataset"
      ],
      "execution_count": 99,
      "outputs": [
        {
          "output_type": "stream",
          "text": [
            "Fitting 3 folds for each of 18 candidates, totalling 54 fits\n"
          ],
          "name": "stdout"
        },
        {
          "output_type": "stream",
          "text": [
            "[Parallel(n_jobs=-1)]: Using backend LokyBackend with 2 concurrent workers.\n",
            "[Parallel(n_jobs=-1)]: Done  37 tasks      | elapsed:  2.7min\n",
            "[Parallel(n_jobs=-1)]: Done  54 out of  54 | elapsed:  4.0min finished\n"
          ],
          "name": "stderr"
        },
        {
          "output_type": "execute_result",
          "data": {
            "text/plain": [
              "GridSearchCV(cv=3, error_score=nan,\n",
              "             estimator=RandomForestClassifier(bootstrap=True, ccp_alpha=0.0,\n",
              "                                              class_weight=None,\n",
              "                                              criterion='gini', max_depth=None,\n",
              "                                              max_features='auto',\n",
              "                                              max_leaf_nodes=None,\n",
              "                                              max_samples=None,\n",
              "                                              min_impurity_decrease=0.0,\n",
              "                                              min_impurity_split=None,\n",
              "                                              min_samples_leaf=1,\n",
              "                                              min_samples_split=2,\n",
              "                                              min_weight_fraction_leaf=0.0,\n",
              "                                              n_estimators=100, n_jobs=-1,\n",
              "                                              oob_score=False, random_state=1,\n",
              "                                              verbose=0, warm_start=False),\n",
              "             iid='deprecated', n_jobs=-1,\n",
              "             param_grid={'class_weight': ['balanced', None],\n",
              "                         'max_depth': [10, 40, None],\n",
              "                         'n_estimators': [100, 200, 300]},\n",
              "             pre_dispatch='2*n_jobs', refit=True, return_train_score=False,\n",
              "             scoring='f1', verbose=2)"
            ]
          },
          "metadata": {
            "tags": []
          },
          "execution_count": 99
        }
      ]
    },
    {
      "cell_type": "markdown",
      "metadata": {
        "id": "8-0JUOirRi-l"
      },
      "source": [
        "## Tuning Results"
      ]
    },
    {
      "cell_type": "markdown",
      "metadata": {
        "id": "RST3ogLbRq_Q"
      },
      "source": [
        "\n",
        "\n",
        "```\n",
        "# This is formatted as code\n",
        "```\n",
        "\n",
        "Retrieve the best performing set of hyperparams using `.best_params_`"
      ]
    },
    {
      "cell_type": "code",
      "metadata": {
        "colab": {
          "base_uri": "https://localhost:8080/"
        },
        "id": "x1aBCW-xRhpP",
        "outputId": "d01f4e0e-67a8-40ea-c77c-d0ba35ef88cd"
      },
      "source": [
        "grid_search_rf.best_params_"
      ],
      "execution_count": 100,
      "outputs": [
        {
          "output_type": "execute_result",
          "data": {
            "text/plain": [
              "{'class_weight': 'balanced', 'max_depth': 10, 'n_estimators': 100}"
            ]
          },
          "metadata": {
            "tags": []
          },
          "execution_count": 100
        }
      ]
    },
    {
      "cell_type": "markdown",
      "metadata": {
        "id": "jD3t3OXNR0bY"
      },
      "source": [
        "Retrieve the best performing model using .best_estimator_ and save it as a seperate variable.\n"
      ]
    },
    {
      "cell_type": "code",
      "metadata": {
        "id": "2MU78nFmRzEg"
      },
      "source": [
        "model_rf2 = grid_search_rf.best_estimator_"
      ],
      "execution_count": 101,
      "outputs": []
    },
    {
      "cell_type": "code",
      "metadata": {
        "colab": {
          "base_uri": "https://localhost:8080/"
        },
        "id": "LZP_6h4MR6bx",
        "outputId": "83987f0e-de86-4802-e90b-ce2e026579ee"
      },
      "source": [
        "model_rf2\n",
        "\n",
        "# Note: this would be the same as training a seperate model using the same inputs, i.e.\n",
        "# model_rf2 = RandomForestClassifier(class_weight='balanced', max_depth=10, n_estimators=300,\n",
        "#                                    n_jobs=-1, random_state=1)\n",
        "# model_rf2.fit(X_train, y_train)"
      ],
      "execution_count": 102,
      "outputs": [
        {
          "output_type": "execute_result",
          "data": {
            "text/plain": [
              "RandomForestClassifier(bootstrap=True, ccp_alpha=0.0, class_weight='balanced',\n",
              "                       criterion='gini', max_depth=10, max_features='auto',\n",
              "                       max_leaf_nodes=None, max_samples=None,\n",
              "                       min_impurity_decrease=0.0, min_impurity_split=None,\n",
              "                       min_samples_leaf=1, min_samples_split=2,\n",
              "                       min_weight_fraction_leaf=0.0, n_estimators=100,\n",
              "                       n_jobs=-1, oob_score=False, random_state=1, verbose=0,\n",
              "                       warm_start=False)"
            ]
          },
          "metadata": {
            "tags": []
          },
          "execution_count": 102
        }
      ]
    },
    {
      "cell_type": "markdown",
      "metadata": {
        "id": "XWFRTR0_R_ck"
      },
      "source": [
        "Use `.cv_results_` in case you want to look into the details of each set of hyperparams. This could help you determine the apprioriate range of each hyperparameter, and thus setting up better `param_grid`'s in any subsequent tuning using more refined ranges. For exampleIn the example below, it appears that having a `max_depth` of 10 is better than both 40 and `None`."
      ]
    },
    {
      "cell_type": "code",
      "metadata": {
        "colab": {
          "base_uri": "https://localhost:8080/",
          "height": 0
        },
        "id": "9SROMEiaR-KU",
        "outputId": "473518dc-313f-48f6-e310-bb403226817f"
      },
      "source": [
        "pd.DataFrame(grid_search_rf.cv_results_)"
      ],
      "execution_count": 103,
      "outputs": [
        {
          "output_type": "execute_result",
          "data": {
            "text/html": [
              "<div>\n",
              "<style scoped>\n",
              "    .dataframe tbody tr th:only-of-type {\n",
              "        vertical-align: middle;\n",
              "    }\n",
              "\n",
              "    .dataframe tbody tr th {\n",
              "        vertical-align: top;\n",
              "    }\n",
              "\n",
              "    .dataframe thead th {\n",
              "        text-align: right;\n",
              "    }\n",
              "</style>\n",
              "<table border=\"1\" class=\"dataframe\">\n",
              "  <thead>\n",
              "    <tr style=\"text-align: right;\">\n",
              "      <th></th>\n",
              "      <th>mean_fit_time</th>\n",
              "      <th>std_fit_time</th>\n",
              "      <th>mean_score_time</th>\n",
              "      <th>std_score_time</th>\n",
              "      <th>param_class_weight</th>\n",
              "      <th>param_max_depth</th>\n",
              "      <th>param_n_estimators</th>\n",
              "      <th>params</th>\n",
              "      <th>split0_test_score</th>\n",
              "      <th>split1_test_score</th>\n",
              "      <th>split2_test_score</th>\n",
              "      <th>mean_test_score</th>\n",
              "      <th>std_test_score</th>\n",
              "      <th>rank_test_score</th>\n",
              "    </tr>\n",
              "  </thead>\n",
              "  <tbody>\n",
              "    <tr>\n",
              "      <th>0</th>\n",
              "      <td>4.296800</td>\n",
              "      <td>0.127229</td>\n",
              "      <td>0.192203</td>\n",
              "      <td>0.051048</td>\n",
              "      <td>balanced</td>\n",
              "      <td>10</td>\n",
              "      <td>100</td>\n",
              "      <td>{'class_weight': 'balanced', 'max_depth': 10, ...</td>\n",
              "      <td>1.0</td>\n",
              "      <td>1.0</td>\n",
              "      <td>1.0</td>\n",
              "      <td>1.0</td>\n",
              "      <td>0.0</td>\n",
              "      <td>1</td>\n",
              "    </tr>\n",
              "    <tr>\n",
              "      <th>1</th>\n",
              "      <td>7.966098</td>\n",
              "      <td>0.084902</td>\n",
              "      <td>0.436264</td>\n",
              "      <td>0.010270</td>\n",
              "      <td>balanced</td>\n",
              "      <td>10</td>\n",
              "      <td>200</td>\n",
              "      <td>{'class_weight': 'balanced', 'max_depth': 10, ...</td>\n",
              "      <td>1.0</td>\n",
              "      <td>1.0</td>\n",
              "      <td>1.0</td>\n",
              "      <td>1.0</td>\n",
              "      <td>0.0</td>\n",
              "      <td>1</td>\n",
              "    </tr>\n",
              "    <tr>\n",
              "      <th>2</th>\n",
              "      <td>11.987856</td>\n",
              "      <td>0.027259</td>\n",
              "      <td>0.608454</td>\n",
              "      <td>0.044946</td>\n",
              "      <td>balanced</td>\n",
              "      <td>10</td>\n",
              "      <td>300</td>\n",
              "      <td>{'class_weight': 'balanced', 'max_depth': 10, ...</td>\n",
              "      <td>1.0</td>\n",
              "      <td>1.0</td>\n",
              "      <td>1.0</td>\n",
              "      <td>1.0</td>\n",
              "      <td>0.0</td>\n",
              "      <td>1</td>\n",
              "    </tr>\n",
              "    <tr>\n",
              "      <th>3</th>\n",
              "      <td>4.362056</td>\n",
              "      <td>0.058306</td>\n",
              "      <td>0.267281</td>\n",
              "      <td>0.047651</td>\n",
              "      <td>balanced</td>\n",
              "      <td>40</td>\n",
              "      <td>100</td>\n",
              "      <td>{'class_weight': 'balanced', 'max_depth': 40, ...</td>\n",
              "      <td>1.0</td>\n",
              "      <td>1.0</td>\n",
              "      <td>1.0</td>\n",
              "      <td>1.0</td>\n",
              "      <td>0.0</td>\n",
              "      <td>1</td>\n",
              "    </tr>\n",
              "    <tr>\n",
              "      <th>4</th>\n",
              "      <td>8.505461</td>\n",
              "      <td>0.066232</td>\n",
              "      <td>0.476080</td>\n",
              "      <td>0.044651</td>\n",
              "      <td>balanced</td>\n",
              "      <td>40</td>\n",
              "      <td>200</td>\n",
              "      <td>{'class_weight': 'balanced', 'max_depth': 40, ...</td>\n",
              "      <td>1.0</td>\n",
              "      <td>1.0</td>\n",
              "      <td>1.0</td>\n",
              "      <td>1.0</td>\n",
              "      <td>0.0</td>\n",
              "      <td>1</td>\n",
              "    </tr>\n",
              "    <tr>\n",
              "      <th>5</th>\n",
              "      <td>12.613508</td>\n",
              "      <td>0.055751</td>\n",
              "      <td>0.670317</td>\n",
              "      <td>0.044387</td>\n",
              "      <td>balanced</td>\n",
              "      <td>40</td>\n",
              "      <td>300</td>\n",
              "      <td>{'class_weight': 'balanced', 'max_depth': 40, ...</td>\n",
              "      <td>1.0</td>\n",
              "      <td>1.0</td>\n",
              "      <td>1.0</td>\n",
              "      <td>1.0</td>\n",
              "      <td>0.0</td>\n",
              "      <td>1</td>\n",
              "    </tr>\n",
              "    <tr>\n",
              "      <th>6</th>\n",
              "      <td>4.489398</td>\n",
              "      <td>0.113634</td>\n",
              "      <td>0.295550</td>\n",
              "      <td>0.048616</td>\n",
              "      <td>balanced</td>\n",
              "      <td>None</td>\n",
              "      <td>100</td>\n",
              "      <td>{'class_weight': 'balanced', 'max_depth': None...</td>\n",
              "      <td>1.0</td>\n",
              "      <td>1.0</td>\n",
              "      <td>1.0</td>\n",
              "      <td>1.0</td>\n",
              "      <td>0.0</td>\n",
              "      <td>1</td>\n",
              "    </tr>\n",
              "    <tr>\n",
              "      <th>7</th>\n",
              "      <td>8.458428</td>\n",
              "      <td>0.105265</td>\n",
              "      <td>0.469496</td>\n",
              "      <td>0.045147</td>\n",
              "      <td>balanced</td>\n",
              "      <td>None</td>\n",
              "      <td>200</td>\n",
              "      <td>{'class_weight': 'balanced', 'max_depth': None...</td>\n",
              "      <td>1.0</td>\n",
              "      <td>1.0</td>\n",
              "      <td>1.0</td>\n",
              "      <td>1.0</td>\n",
              "      <td>0.0</td>\n",
              "      <td>1</td>\n",
              "    </tr>\n",
              "    <tr>\n",
              "      <th>8</th>\n",
              "      <td>12.755681</td>\n",
              "      <td>0.132495</td>\n",
              "      <td>0.638332</td>\n",
              "      <td>0.005557</td>\n",
              "      <td>balanced</td>\n",
              "      <td>None</td>\n",
              "      <td>300</td>\n",
              "      <td>{'class_weight': 'balanced', 'max_depth': None...</td>\n",
              "      <td>1.0</td>\n",
              "      <td>1.0</td>\n",
              "      <td>1.0</td>\n",
              "      <td>1.0</td>\n",
              "      <td>0.0</td>\n",
              "      <td>1</td>\n",
              "    </tr>\n",
              "    <tr>\n",
              "      <th>9</th>\n",
              "      <td>4.177445</td>\n",
              "      <td>0.064566</td>\n",
              "      <td>0.270099</td>\n",
              "      <td>0.048953</td>\n",
              "      <td>None</td>\n",
              "      <td>10</td>\n",
              "      <td>100</td>\n",
              "      <td>{'class_weight': None, 'max_depth': 10, 'n_est...</td>\n",
              "      <td>1.0</td>\n",
              "      <td>1.0</td>\n",
              "      <td>1.0</td>\n",
              "      <td>1.0</td>\n",
              "      <td>0.0</td>\n",
              "      <td>1</td>\n",
              "    </tr>\n",
              "    <tr>\n",
              "      <th>10</th>\n",
              "      <td>8.155710</td>\n",
              "      <td>0.189485</td>\n",
              "      <td>0.435267</td>\n",
              "      <td>0.006367</td>\n",
              "      <td>None</td>\n",
              "      <td>10</td>\n",
              "      <td>200</td>\n",
              "      <td>{'class_weight': None, 'max_depth': 10, 'n_est...</td>\n",
              "      <td>1.0</td>\n",
              "      <td>1.0</td>\n",
              "      <td>1.0</td>\n",
              "      <td>1.0</td>\n",
              "      <td>0.0</td>\n",
              "      <td>1</td>\n",
              "    </tr>\n",
              "    <tr>\n",
              "      <th>11</th>\n",
              "      <td>12.178989</td>\n",
              "      <td>0.082267</td>\n",
              "      <td>0.569319</td>\n",
              "      <td>0.047785</td>\n",
              "      <td>None</td>\n",
              "      <td>10</td>\n",
              "      <td>300</td>\n",
              "      <td>{'class_weight': None, 'max_depth': 10, 'n_est...</td>\n",
              "      <td>1.0</td>\n",
              "      <td>1.0</td>\n",
              "      <td>1.0</td>\n",
              "      <td>1.0</td>\n",
              "      <td>0.0</td>\n",
              "      <td>1</td>\n",
              "    </tr>\n",
              "    <tr>\n",
              "      <th>12</th>\n",
              "      <td>4.546802</td>\n",
              "      <td>0.013410</td>\n",
              "      <td>0.274375</td>\n",
              "      <td>0.053580</td>\n",
              "      <td>None</td>\n",
              "      <td>40</td>\n",
              "      <td>100</td>\n",
              "      <td>{'class_weight': None, 'max_depth': 40, 'n_est...</td>\n",
              "      <td>1.0</td>\n",
              "      <td>1.0</td>\n",
              "      <td>1.0</td>\n",
              "      <td>1.0</td>\n",
              "      <td>0.0</td>\n",
              "      <td>1</td>\n",
              "    </tr>\n",
              "    <tr>\n",
              "      <th>13</th>\n",
              "      <td>8.840553</td>\n",
              "      <td>0.048333</td>\n",
              "      <td>0.465765</td>\n",
              "      <td>0.049707</td>\n",
              "      <td>None</td>\n",
              "      <td>40</td>\n",
              "      <td>200</td>\n",
              "      <td>{'class_weight': None, 'max_depth': 40, 'n_est...</td>\n",
              "      <td>1.0</td>\n",
              "      <td>1.0</td>\n",
              "      <td>1.0</td>\n",
              "      <td>1.0</td>\n",
              "      <td>0.0</td>\n",
              "      <td>1</td>\n",
              "    </tr>\n",
              "    <tr>\n",
              "      <th>14</th>\n",
              "      <td>12.924187</td>\n",
              "      <td>0.098102</td>\n",
              "      <td>0.604505</td>\n",
              "      <td>0.050985</td>\n",
              "      <td>None</td>\n",
              "      <td>40</td>\n",
              "      <td>300</td>\n",
              "      <td>{'class_weight': None, 'max_depth': 40, 'n_est...</td>\n",
              "      <td>1.0</td>\n",
              "      <td>1.0</td>\n",
              "      <td>1.0</td>\n",
              "      <td>1.0</td>\n",
              "      <td>0.0</td>\n",
              "      <td>1</td>\n",
              "    </tr>\n",
              "    <tr>\n",
              "      <th>15</th>\n",
              "      <td>4.624565</td>\n",
              "      <td>0.083729</td>\n",
              "      <td>0.307414</td>\n",
              "      <td>0.045942</td>\n",
              "      <td>None</td>\n",
              "      <td>None</td>\n",
              "      <td>100</td>\n",
              "      <td>{'class_weight': None, 'max_depth': None, 'n_e...</td>\n",
              "      <td>1.0</td>\n",
              "      <td>1.0</td>\n",
              "      <td>1.0</td>\n",
              "      <td>1.0</td>\n",
              "      <td>0.0</td>\n",
              "      <td>1</td>\n",
              "    </tr>\n",
              "    <tr>\n",
              "      <th>16</th>\n",
              "      <td>8.862140</td>\n",
              "      <td>0.180975</td>\n",
              "      <td>0.438530</td>\n",
              "      <td>0.003724</td>\n",
              "      <td>None</td>\n",
              "      <td>None</td>\n",
              "      <td>200</td>\n",
              "      <td>{'class_weight': None, 'max_depth': None, 'n_e...</td>\n",
              "      <td>1.0</td>\n",
              "      <td>1.0</td>\n",
              "      <td>1.0</td>\n",
              "      <td>1.0</td>\n",
              "      <td>0.0</td>\n",
              "      <td>1</td>\n",
              "    </tr>\n",
              "    <tr>\n",
              "      <th>17</th>\n",
              "      <td>12.279154</td>\n",
              "      <td>1.161858</td>\n",
              "      <td>0.561633</td>\n",
              "      <td>0.181909</td>\n",
              "      <td>None</td>\n",
              "      <td>None</td>\n",
              "      <td>300</td>\n",
              "      <td>{'class_weight': None, 'max_depth': None, 'n_e...</td>\n",
              "      <td>1.0</td>\n",
              "      <td>1.0</td>\n",
              "      <td>1.0</td>\n",
              "      <td>1.0</td>\n",
              "      <td>0.0</td>\n",
              "      <td>1</td>\n",
              "    </tr>\n",
              "  </tbody>\n",
              "</table>\n",
              "</div>"
            ],
            "text/plain": [
              "    mean_fit_time  std_fit_time  ...  std_test_score  rank_test_score\n",
              "0        4.296800      0.127229  ...             0.0                1\n",
              "1        7.966098      0.084902  ...             0.0                1\n",
              "2       11.987856      0.027259  ...             0.0                1\n",
              "3        4.362056      0.058306  ...             0.0                1\n",
              "4        8.505461      0.066232  ...             0.0                1\n",
              "5       12.613508      0.055751  ...             0.0                1\n",
              "6        4.489398      0.113634  ...             0.0                1\n",
              "7        8.458428      0.105265  ...             0.0                1\n",
              "8       12.755681      0.132495  ...             0.0                1\n",
              "9        4.177445      0.064566  ...             0.0                1\n",
              "10       8.155710      0.189485  ...             0.0                1\n",
              "11      12.178989      0.082267  ...             0.0                1\n",
              "12       4.546802      0.013410  ...             0.0                1\n",
              "13       8.840553      0.048333  ...             0.0                1\n",
              "14      12.924187      0.098102  ...             0.0                1\n",
              "15       4.624565      0.083729  ...             0.0                1\n",
              "16       8.862140      0.180975  ...             0.0                1\n",
              "17      12.279154      1.161858  ...             0.0                1\n",
              "\n",
              "[18 rows x 14 columns]"
            ]
          },
          "metadata": {
            "tags": []
          },
          "execution_count": 103
        }
      ]
    },
    {
      "cell_type": "markdown",
      "metadata": {
        "id": "FtD7IcLDSb2e"
      },
      "source": [
        "## Evaluation"
      ]
    },
    {
      "cell_type": "code",
      "metadata": {
        "id": "Bz3PMacuShQS"
      },
      "source": [
        "y_pred_rf2 = model_rf2.predict(X_test)"
      ],
      "execution_count": 104,
      "outputs": []
    },
    {
      "cell_type": "code",
      "metadata": {
        "colab": {
          "base_uri": "https://localhost:8080/"
        },
        "id": "K4J2Y5Z7Sj5X",
        "outputId": "4c300ed5-f492-4871-fbda-7b9b87dca402"
      },
      "source": [
        "print(classification_report(y_test, y_pred_rf2))"
      ],
      "execution_count": 105,
      "outputs": [
        {
          "output_type": "stream",
          "text": [
            "              precision    recall  f1-score   support\n",
            "\n",
            "           0       1.00      1.00      1.00      8616\n",
            "           1       1.00      1.00      1.00      1677\n",
            "\n",
            "    accuracy                           1.00     10293\n",
            "   macro avg       1.00      1.00      1.00     10293\n",
            "weighted avg       1.00      1.00      1.00     10293\n",
            "\n"
          ],
          "name": "stdout"
        }
      ]
    },
    {
      "cell_type": "code",
      "metadata": {
        "colab": {
          "base_uri": "https://localhost:8080/",
          "height": 0
        },
        "id": "RAnjJW4KSmE6",
        "outputId": "965a4e82-ef12-4609-e0cb-5193962af343"
      },
      "source": [
        "plot_confusion_matrix(model_rf2, X_test, y_test, normalize = 'true') # recall\n",
        "plt.show()"
      ],
      "execution_count": 106,
      "outputs": [
        {
          "output_type": "display_data",
          "data": {
            "image/png": "[encoded data removed]",
            "text/plain": [
              "<Figure size 432x288 with 2 Axes>"
            ]
          },
          "metadata": {
            "tags": [],
            "needs_background": "light"
          }
        }
      ]
    },
    {
      "cell_type": "code",
      "metadata": {
        "colab": {
          "base_uri": "https://localhost:8080/",
          "height": 0
        },
        "id": "7uNjEGqISoc4",
        "outputId": "d0008ddf-7cc8-4b75-be69-f980fbb81626"
      },
      "source": [
        "plot_confusion_matrix(model_rf2, X_test, y_test, normalize = 'pred') # precision\n",
        "plt.show()"
      ],
      "execution_count": 107,
      "outputs": [
        {
          "output_type": "display_data",
          "data": {
            "image/png": "[encoded data removed]",
            "text/plain": [
              "<Figure size 432x288 with 2 Axes>"
            ]
          },
          "metadata": {
            "tags": [],
            "needs_background": "light"
          }
        }
      ]
    },
    {
      "cell_type": "code",
      "metadata": {
        "colab": {
          "base_uri": "https://localhost:8080/",
          "height": 0
        },
        "id": "17WX_PNmSrse",
        "outputId": "2834107d-00ba-41c7-b407-631b627c997c"
      },
      "source": [
        "plot_roc_curve(model_rf2, X_test, y_test)"
      ],
      "execution_count": 108,
      "outputs": [
        {
          "output_type": "execute_result",
          "data": {
            "text/plain": [
              "<sklearn.metrics._plot.roc_curve.RocCurveDisplay at 0x7f8007ebbd50>"
            ]
          },
          "metadata": {
            "tags": []
          },
          "execution_count": 108
        },
        {
          "output_type": "display_data",
          "data": {
            "image/png": "[encoded data removed]",
            "text/plain": [
              "<Figure size 432x288 with 1 Axes>"
            ]
          },
          "metadata": {
            "tags": [],
            "needs_background": "light"
          }
        }
      ]
    },
    {
      "cell_type": "markdown",
      "metadata": {
        "id": "q68t3tgOSu3e"
      },
      "source": [
        "**Observations**\n",
        "\n",
        "* The AUC (0.93 vs 0.92), accuracy (0.94 vs 0.9) and F1-scores (0.78 vs 0.77) of the untuned and tuned model are comparable. \n",
        "* The overall recall of the tuned model is remarkably higher (72% vs 82%). In particular, 72% of those who died within their hospital stay is successfully detected by the model."
      ]
    },
    {
      "cell_type": "markdown",
      "metadata": {
        "id": "3WcxxBFBS0vt"
      },
      "source": [
        "## Understanding the model\n",
        "\n",
        "One major strength of tree-based machine learning models is its inherent ability to report feature importance. This could be useful to finding insights in the model."
      ]
    },
    {
      "cell_type": "code",
      "metadata": {
        "colab": {
          "base_uri": "https://localhost:8080/"
        },
        "id": "lh3Y6gZNS5Xt",
        "outputId": "8c0eb75f-e585-4c50-e7bd-ab93a8f8f6fa"
      },
      "source": [
        "model_rf2_importance = pd.Series(model_rf2.feature_importances_, index = features_list)\n",
        "model_rf2_importance"
      ],
      "execution_count": 109,
      "outputs": [
        {
          "output_type": "execute_result",
          "data": {
            "text/plain": [
              "IN_HOSP_DEATH                       0.006377\n",
              "LOS_ICU                             0.010560\n",
              "DIAG_COUNT                          0.031958\n",
              "CPT_COUNT                           0.030663\n",
              "TRANSFER_COUNT                      0.001627\n",
              "MICRO_COUNT                         0.100454\n",
              "SEPSIS                              0.574056\n",
              "ORGAN_FAILURE                       0.019038\n",
              "CARDIOVASCULAR                      0.034095\n",
              "RENAL                               0.017742\n",
              "HEPATIC                             0.000258\n",
              "HEMATOLOGIC                         0.001519\n",
              "METABOLIC                           0.000661\n",
              "NEUROLOGIC                          0.000144\n",
              "HeartRate_Mean                      0.004149\n",
              "SysBP_Mean                          0.007412\n",
              "DiasBP_Mean                         0.002943\n",
              "MeanBP_Mean                         0.005275\n",
              "RespRate_Mean                       0.008225\n",
              "TempC_Mean                          0.002574\n",
              "SpO2_Mean                           0.002296\n",
              "Glucose_Mean                        0.002046\n",
              "AGE                                 0.002185\n",
              "LOS                                 0.011823\n",
              "DIAG_COUNT_DAY                      0.003769\n",
              "CPT_COUNT_DAY                       0.004870\n",
              "TRANSFER_COUNT_DAY                  0.019566\n",
              "MICRO_COUNT_DAY                     0.087364\n",
              "GENDER_F                            0.000278\n",
              "ETHNICITY_WHITE                     0.000188\n",
              "ETHNICITY_BLACK/AFRICAN AMERICAN    0.000183\n",
              "ETHNICITY_UNKNOWN/NOT SPECIFIED     0.000154\n",
              "ETHNICITY_OTHERS                    0.000143\n",
              "ADMISSION_TYPE_ELECTIVE             0.001250\n",
              "ADMISSION_TYPE_EMERGENCY            0.000800\n",
              "ADMISSION_TYPE_NEWBORN              0.000000\n",
              "ADMISSION_TYPE_URGENT               0.000087\n",
              "ADMISSION_TYPE_ELECTIVE             0.002339\n",
              "ADMISSION_TYPE_EMERGENCY            0.000807\n",
              "ADMISSION_TYPE_NEWBORN              0.000000\n",
              "ADMISSION_TYPE_URGENT               0.000120\n",
              "dtype: float64"
            ]
          },
          "metadata": {
            "tags": []
          },
          "execution_count": 109
        }
      ]
    },
    {
      "cell_type": "code",
      "metadata": {
        "colab": {
          "base_uri": "https://localhost:8080/",
          "height": 0
        },
        "id": "_G_TJkdXS87u",
        "outputId": "6101c0fd-9ed0-495f-a06c-ad7ca3325439"
      },
      "source": [
        "plt.figure(figsize = (9, 9))\n",
        "sns.barplot(x = model_rf2.feature_importances_, y = features_list)"
      ],
      "execution_count": 110,
      "outputs": [
        {
          "output_type": "execute_result",
          "data": {
            "text/plain": [
              "<matplotlib.axes._subplots.AxesSubplot at 0x7f800895c2d0>"
            ]
          },
          "metadata": {
            "tags": []
          },
          "execution_count": 110
        },
        {
          "output_type": "display_data",
          "data": {
            "image/png": "[encoded data removed]",
            "text/plain": [
              "<Figure size 648x648 with 1 Axes>"
            ]
          },
          "metadata": {
            "tags": [],
            "needs_background": "light"
          }
        }
      ]
    },
    {
      "cell_type": "markdown",
      "metadata": {
        "id": "USZ1qa1zTBve"
      },
      "source": [
        "## Saving and Loading your trained model\n",
        "\n",
        "After training a model you might want to save your model to your Google Drive so that you do not need to re-train it next time. (As a side note, due to the random nature of most machine learning algorithms, if you did not set a `random_state` while training, you would end up with a model with different trained parameters when you re-train a model)"
      ]
    },
    {
      "cell_type": "code",
      "metadata": {
        "id": "NS6fL7NoTGHh"
      },
      "source": [
        "import joblib"
      ],
      "execution_count": 111,
      "outputs": []
    },
    {
      "cell_type": "markdown",
      "metadata": {
        "id": "SP2n6VTOTKTT"
      },
      "source": [
        "To save:"
      ]
    },
    {
      "cell_type": "code",
      "metadata": {
        "colab": {
          "base_uri": "https://localhost:8080/"
        },
        "id": "Jev2-oVATM-c",
        "outputId": "c7cbda7d-294f-4c85-82e3-119c2b775b4c"
      },
      "source": [
        "joblib.dump(model_rf2, gdrive_rootpath + 'mimic_in_hosp_mortality_model_rf2.joblib') # specify your filename here"
      ],
      "execution_count": 112,
      "outputs": [
        {
          "output_type": "execute_result",
          "data": {
            "text/plain": [
              "['/content/gdrive/MyDrive/mimic_in_hosp_mortality_model_rf2.joblib']"
            ]
          },
          "metadata": {
            "tags": []
          },
          "execution_count": 112
        }
      ]
    },
    {
      "cell_type": "markdown",
      "metadata": {
        "id": "xcGKdsL7TQvW"
      },
      "source": [
        "To load:"
      ]
    },
    {
      "cell_type": "code",
      "metadata": {
        "id": "vM8TMjAATP0g"
      },
      "source": [
        "model_rf2_loaded = joblib.load(gdrive_rootpath + 'mimic_in_hosp_mortality_model_rf2.joblib') # specify your filename here"
      ],
      "execution_count": 113,
      "outputs": []
    },
    {
      "cell_type": "code",
      "metadata": {
        "colab": {
          "base_uri": "https://localhost:8080/"
        },
        "id": "1vttMNRPTWMG",
        "outputId": "9e648540-8a01-400f-8f8f-678d13206b2c"
      },
      "source": [
        "model_rf2_loaded"
      ],
      "execution_count": 114,
      "outputs": [
        {
          "output_type": "execute_result",
          "data": {
            "text/plain": [
              "RandomForestClassifier(bootstrap=True, ccp_alpha=0.0, class_weight='balanced',\n",
              "                       criterion='gini', max_depth=10, max_features='auto',\n",
              "                       max_leaf_nodes=None, max_samples=None,\n",
              "                       min_impurity_decrease=0.0, min_impurity_split=None,\n",
              "                       min_samples_leaf=1, min_samples_split=2,\n",
              "                       min_weight_fraction_leaf=0.0, n_estimators=100,\n",
              "                       n_jobs=-1, oob_score=False, random_state=1, verbose=0,\n",
              "                       warm_start=False)"
            ]
          },
          "metadata": {
            "tags": []
          },
          "execution_count": 114
        }
      ]
    },
    {
      "cell_type": "markdown",
      "metadata": {
        "id": "xo75ntCBTtQL"
      },
      "source": [
        "# Discussion\n",
        "\n",
        "How well will the models above translate into a decision support system in practice? Here are some issues you may think about (which is beyond the scope of training machine learning models itself):\n",
        "\n",
        "* What are the purposes or goals of the model? Do they align with the interests and focuses of clinicians, patients or other stakeholders? \n",
        "* Suppose we trained a reasonably reliable model. What could be the associated interventions based on the model predictions?\n",
        "* What are the limitations of the model from an operational perspective? \n",
        "  * e.g. consider the time of which the variables becomes available. Could the model deliver the predictions in a timely manner? Can this be improved? "
      ]
    }
  ]
}