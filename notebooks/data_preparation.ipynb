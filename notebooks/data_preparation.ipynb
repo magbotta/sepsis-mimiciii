{
  "nbformat": 4,
  "nbformat_minor": 0,
  "metadata": {
    "colab": {
      "name": "Course Work.ipynb",
      "provenance": [],
      "collapsed_sections": [],
      "authorship_tag": "ABX9TyMN/Z1Quq3+JapffQDf1DGj",
      "include_colab_link": true
    },
    "kernelspec": {
      "name": "python3",
      "display_name": "Python 3"
    },
    "language_info": {
      "name": "python"
    }
  },
  "cells": [
    {
      "cell_type": "markdown",
      "metadata": {
        "id": "view-in-github",
        "colab_type": "text"
      },
      "source": [
        "<a href=\"https://colab.research.google.com/github/magbotta/sepsis-mimiciii/blob/main/notebooks/data_preparation.ipynb\" target=\"_parent\"><img src=\"https://colab.research.google.com/assets/colab-badge.svg\" alt=\"Open In Colab\"/></a>"
      ]
    },
    {
      "cell_type": "code",
      "metadata": {
        "id": "a7CC4CASzSPc",
        "colab": {
          "base_uri": "https://localhost:8080/"
        },
        "outputId": "19f1b059-f65f-4d59-ab87-b7a09504aaaf"
      },
      "source": [
        "import pandas as pd\n",
        "import numpy as np\n",
        "\n",
        "from google.colab import auth\n",
        "auth.authenticate_user()\n",
        "print('Authenticated')\n"
      ],
      "execution_count": 89,
      "outputs": [
        {
          "output_type": "stream",
          "text": [
            "Authenticated\n"
          ],
          "name": "stdout"
        }
      ]
    },
    {
      "cell_type": "code",
      "metadata": {
        "id": "men4Muje_mYa"
      },
      "source": [
        "%%bigquery --project physionet-data-303120 df\n",
        "# make sure you change the project ID above!\n",
        "\n",
        "WITH \n",
        "icustay AS (SELECT HADM_ID, SUM(LOS) AS LOS_ICU FROM `physionet-data.mimiciii_clinical.icustays` GROUP BY HADM_ID), \n",
        "callout AS (SELECT HADM_ID, COUNT(HADM_ID) AS CALLOUT_COUNT FROM  `physionet-data.mimiciii_clinical.callout` GROUP BY HADM_ID),\n",
        "diags AS (SELECT HADM_ID, COUNT(HADM_ID) AS DIAG_COUNT FROM `physionet-data.mimiciii_clinical.diagnoses_icd` GROUP BY HADM_ID),\n",
        "preps AS (SELECT HADM_ID, COUNT(HADM_ID) AS PRES_COUNT FROM `physionet-data.mimiciii_clinical.prescriptions` GROUP BY HADM_ID),\n",
        "procs AS (SELECT HADM_ID, COUNT(HADM_ID) AS PROC_COUNT FROM `physionet-data.mimiciii_clinical.procedures_icd` GROUP BY HADM_ID),\n",
        "cpts AS (SELECT HADM_ID, COUNT(HADM_ID) AS CPT_COUNT FROM `physionet-data.mimiciii_clinical.cptevents` GROUP BY HADM_ID),\n",
        "labs AS (SELECT HADM_ID, COUNT(HADM_ID) AS LAB_COUNT FROM `physionet-data.mimiciii_clinical.labevents` GROUP BY HADM_ID),\n",
        "inputs_cv AS (SELECT HADM_ID, COUNT(HADM_ID) AS INPUTS_CV_COUNT FROM `physionet-data.mimiciii_clinical.inputevents_cv` GROUP BY HADM_ID),\n",
        "inputs_mv AS (SELECT HADM_ID, COUNT(HADM_ID) AS INPUTS_MV_COUNT FROM `physionet-data.mimiciii_clinical.inputevents_mv` GROUP BY HADM_ID),\n",
        "outputs AS (SELECT HADM_ID, COUNT(HADM_ID) AS OUTPUT_COUNT FROM `physionet-data.mimiciii_clinical.outputevents` GROUP BY HADM_ID),\n",
        "transfers AS (SELECT HADM_ID, COUNT(HADM_ID) AS TRANSFER_COUNT FROM `physionet-data.mimiciii_clinical.transfers` GROUP BY HADM_ID),\n",
        "micros AS (SELECT HADM_ID, COUNT(HADM_ID) AS MICRO_COUNT FROM `physionet-data.mimiciii_clinical.microbiologyevents` GROUP BY HADM_ID),\n",
        "diafeature AS (WITH co_dx AS\n",
        "(\n",
        "\tSELECT subject_id, hadm_id\n",
        "  , MAX(\n",
        "    \tCASE\n",
        "        -- septicemia\n",
        "    \t\tWHEN substring(icd9_code,1,3) = '038' THEN 1\n",
        "        -- septicemic, bacteremia, disseminated fungal infection, disseminated candida infection\n",
        "\t\t\t\t-- NOTE: the paper specifies 020.0 ... but this is bubonic plague\n",
        "\t\t\t\t-- presumably, they meant 020.2, which is septicemic plague\n",
        "        WHEN substring(icd9_code,1,4) in ('0202','7907','1179','1125') THEN 1\n",
        "        -- disseminated fungal endocarditis\n",
        "        WHEN substring(icd9_code,1,5) = '11281' THEN 1\n",
        "      ELSE 0 END\n",
        "    ) AS sepsis\n",
        "    , MAX(\n",
        "      CASE\n",
        "        WHEN substring(icd9_code,1,4) in ('7991') THEN 1\n",
        "        WHEN substring(icd9_code,1,5) in ('51881','51882','51885','78609') THEN 1\n",
        "      ELSE 0 END\n",
        "    ) AS respiratory\n",
        "    , MAX(\n",
        "      CASE\n",
        "        WHEN substring(icd9_code,1,4) in ('4580','7855','4580','4588','4589','7963') THEN 1\n",
        "        WHEN substring(icd9_code,1,5) in ('785.51','785.59') THEN 1\n",
        "      ELSE 0 END\n",
        "    ) AS cardiovascular\n",
        "    , MAX(\n",
        "      CASE\n",
        "        WHEN substring(icd9_code,1,3) in ('584','580','585') THEN 1\n",
        "      ELSE 0 END\n",
        "    ) AS renal\n",
        "    , MAX(\n",
        "      CASE\n",
        "        WHEN substring(icd9_code,1,3) in ('570') THEN 1\n",
        "        WHEN substring(icd9_code,1,4) in ('5722','5733') THEN 1\n",
        "      ELSE 0 END\n",
        "    ) AS hepatic\n",
        "    , MAX(\n",
        "      CASE\n",
        "        WHEN substring(icd9_code,1,4) in ('2862','2866','2869','2873','2874','2875') THEN 1\n",
        "      ELSE 0 END\n",
        "    ) AS hematologic\n",
        "    , MAX(\n",
        "      CASE\n",
        "        WHEN substring(icd9_code,1,4) in ('2762') THEN 1\n",
        "      ELSE 0 END\n",
        "    ) AS metabolic\n",
        "    , MAX(\n",
        "      CASE\n",
        "        WHEN substring(icd9_code,1,3) in ('293') THEN 1\n",
        "        WHEN substring(icd9_code,1,4) in ('3481','3483') THEN 1\n",
        "        WHEN substring(icd9_code,1,5) in ('78001','78009') THEN 1\n",
        "      ELSE 0 END\n",
        "    ) AS neurologic\n",
        "  FROM `physionet-data.mimiciii_clinical.diagnoses_icd`\n",
        "  GROUP BY subject_id, hadm_id\n",
        ")\n",
        "-- procedure codes:\n",
        "-- \"96.7 - Ventilator management\"\n",
        "-- translated:\n",
        "--    9670\tContinuous invasive mechanical ventilation of unspecified duration\n",
        "--    9671\tContinuous invasive mechanical ventilation for less than 96 consecutive hours\n",
        "--    9672\tContinuous invasive mechanical ventilation for 96 consecutive hours or more\n",
        "-- \"39.95 - Hemodialysis\"\n",
        "--    3995\tHemodialysis\n",
        "-- \"89.14 - Electroencephalography\"\n",
        "--    8914\tElectroencephalogram\n",
        ", co_proc as\n",
        "(\n",
        "  SELECT subject_id, hadm_id\n",
        "  , MAX(CASE WHEN substring(icd9_code,1,3) = '967' then 1 ELSE 0 END) as respiratory\n",
        "  , MAX(CASE WHEN substring(icd9_code,1,4) = '3995' then 1 ELSE 0 END) as renal\n",
        "  , MAX(CASE WHEN substring(icd9_code,1,4) = '8914' then 1 ELSE 0 END) as neurologic\n",
        "  FROM  `physionet-data.mimiciii_clinical.procedures_icd`\n",
        "  GROUP BY subject_id, hadm_id\n",
        ")\n",
        "select adm.subject_id, adm.hadm_id\n",
        ", co_dx.sepsis\n",
        ", CASE\n",
        "    WHEN co_dx.respiratory = 1 OR co_proc.respiratory = 1\n",
        "      OR co_dx.cardiovascular = 1\n",
        "      OR co_dx.renal = 1 OR co_proc.renal = 1\n",
        "      OR co_dx.hepatic = 1\n",
        "      OR co_dx.hematologic = 1\n",
        "      OR co_dx.metabolic = 1\n",
        "      OR co_dx.neurologic = 1 OR co_proc.neurologic = 1\n",
        "    THEN 1\n",
        "  ELSE 0 END as organ_failure\n",
        ", case when co_dx.respiratory = 1 or co_proc.respiratory = 1 then 1 else 0 end as respiratory\n",
        ", co_dx.cardiovascular\n",
        ", case when co_dx.renal = 1 or co_proc.renal = 1 then 1 else 0 end as renal\n",
        ", co_dx.hepatic\n",
        ", co_dx.hematologic\n",
        ", co_dx.metabolic\n",
        ", case when co_dx.neurologic = 1 or co_proc.neurologic = 1 then 1 else 0 end as neurologic\n",
        "FROM `physionet-data.mimiciii_clinical.admissions` adm\n",
        "left join co_dx\n",
        "  on adm.hadm_id = co_dx.hadm_id\n",
        "left join co_proc\n",
        "  on adm.hadm_id = co_proc.hadm_id),\n",
        "vitals as (\n",
        "SELECT pvt.subject_id, pvt.hadm_id, pvt.icustay_id\n",
        "-- Easier names\n",
        ", min(case when VitalID = 1 then valuenum else null end) as HeartRate_Min\n",
        ", max(case when VitalID = 1 then valuenum else null end) as HeartRate_Max\n",
        ", avg(case when VitalID = 1 then valuenum else null end) as HeartRate_Mean\n",
        ", min(case when VitalID = 2 then valuenum else null end) as SysBP_Min\n",
        ", max(case when VitalID = 2 then valuenum else null end) as SysBP_Max\n",
        ", avg(case when VitalID = 2 then valuenum else null end) as SysBP_Mean\n",
        ", min(case when VitalID = 3 then valuenum else null end) as DiasBP_Min\n",
        ", max(case when VitalID = 3 then valuenum else null end) as DiasBP_Max\n",
        ", avg(case when VitalID = 3 then valuenum else null end) as DiasBP_Mean\n",
        ", min(case when VitalID = 4 then valuenum else null end) as MeanBP_Min\n",
        ", max(case when VitalID = 4 then valuenum else null end) as MeanBP_Max\n",
        ", avg(case when VitalID = 4 then valuenum else null end) as MeanBP_Mean\n",
        ", min(case when VitalID = 5 then valuenum else null end) as RespRate_Min\n",
        ", max(case when VitalID = 5 then valuenum else null end) as RespRate_Max\n",
        ", avg(case when VitalID = 5 then valuenum else null end) as RespRate_Mean\n",
        ", min(case when VitalID = 6 then valuenum else null end) as TempC_Min\n",
        ", max(case when VitalID = 6 then valuenum else null end) as TempC_Max\n",
        ", avg(case when VitalID = 6 then valuenum else null end) as TempC_Mean\n",
        ", min(case when VitalID = 7 then valuenum else null end) as SpO2_Min\n",
        ", max(case when VitalID = 7 then valuenum else null end) as SpO2_Max\n",
        ", avg(case when VitalID = 7 then valuenum else null end) as SpO2_Mean\n",
        ", min(case when VitalID = 8 then valuenum else null end) as Glucose_Min\n",
        ", max(case when VitalID = 8 then valuenum else null end) as Glucose_Max\n",
        ", avg(case when VitalID = 8 then valuenum else null end) as Glucose_Mean\n",
        "\n",
        "FROM  (\n",
        "  select ie.subject_id, ie.hadm_id, ie.icustay_id\n",
        "  , case\n",
        "    when itemid in (211,220045) and valuenum > 0 and valuenum < 300 then 1 -- HeartRate\n",
        "    when itemid in (51,442,455,6701,220179,220050) and valuenum > 0 and valuenum < 400 then 2 -- SysBP\n",
        "    when itemid in (8368,8440,8441,8555,220180,220051) and valuenum > 0 and valuenum < 300 then 3 -- DiasBP\n",
        "    when itemid in (456,52,6702,443,220052,220181,225312) and valuenum > 0 and valuenum < 300 then 4 -- MeanBP\n",
        "    when itemid in (615,618,220210,224690) and valuenum > 0 and valuenum < 70 then 5 -- RespRate\n",
        "    when itemid in (223761,678) and valuenum > 70 and valuenum < 120  then 6 -- TempF, converted to degC in valuenum call\n",
        "    when itemid in (223762,676) and valuenum > 10 and valuenum < 50  then 6 -- TempC\n",
        "    when itemid in (646,220277) and valuenum > 0 and valuenum <= 100 then 7 -- SpO2\n",
        "    when itemid in (807,811,1529,3745,3744,225664,220621,226537) and valuenum > 0 then 8 -- Glucose\n",
        "\n",
        "    else null end as VitalID\n",
        "      -- convert F to C\n",
        "  , case when itemid in (223761,678) then (valuenum-32)/1.8 else valuenum end as valuenum\n",
        "\n",
        "  from `physionet-data.mimiciii_clinical.icustays`  ie\n",
        "  left join  `physionet-data.mimiciii_clinical.chartevents` ce\n",
        "  on ie.subject_id = ce.subject_id and ie.hadm_id = ce.hadm_id and ie.icustay_id = ce.icustay_id\n",
        "  and ce.charttime between ie.intime and DATE_ADD(ie.intime , INTERVAL 1 day)\n",
        "  -- exclude rows marked as error\n",
        "  and ce.error IS DISTINCT FROM 1\n",
        "  where ce.itemid in\n",
        "  (\n",
        "  -- HEART RATE\n",
        "  211, --\"Heart Rate\"\n",
        "  220045, --\"Heart Rate\"\n",
        "\n",
        "  -- Systolic/diastolic\n",
        "\n",
        "  51, --\tArterial BP [Systolic]\n",
        "  442, --\tManual BP [Systolic]\n",
        "  455, --\tNBP [Systolic]\n",
        "  6701, --\tArterial BP #2 [Systolic]\n",
        "  220179, --\tNon Invasive Blood Pressure systolic\n",
        "  220050, --\tArterial Blood Pressure systolic\n",
        "\n",
        "  8368, --\tArterial BP [Diastolic]\n",
        "  8440, --\tManual BP [Diastolic]\n",
        "  8441, --\tNBP [Diastolic]\n",
        "  8555, --\tArterial BP #2 [Diastolic]\n",
        "  220180, --\tNon Invasive Blood Pressure diastolic\n",
        "  220051, --\tArterial Blood Pressure diastolic\n",
        "\n",
        "\n",
        "  -- MEAN ARTERIAL PRESSURE\n",
        "  456, --\"NBP Mean\"\n",
        "  52, --\"Arterial BP Mean\"\n",
        "  6702, --\tArterial BP Mean #2\n",
        "  443, --\tManual BP Mean(calc)\n",
        "  220052, --\"Arterial Blood Pressure mean\"\n",
        "  220181, --\"Non Invasive Blood Pressure mean\"\n",
        "  225312, --\"ART BP mean\"\n",
        "\n",
        "  -- RESPIRATORY RATE\n",
        "  618,--\tRespiratory Rate\n",
        "  615,--\tResp Rate (Total)\n",
        "  220210,--\tRespiratory Rate\n",
        "  224690, --\tRespiratory Rate (Total)\n",
        "\n",
        "\n",
        "  -- SPO2, peripheral\n",
        "  646, 220277,\n",
        "\n",
        "  -- GLUCOSE, both lab and fingerstick\n",
        "  807,--\tFingerstick Glucose\n",
        "  811,--\tGlucose (70-105)\n",
        "  1529,--\tGlucose\n",
        "  3745,--\tBloodGlucose\n",
        "  3744,--\tBlood Glucose\n",
        "  225664,--\tGlucose finger stick\n",
        "  220621,--\tGlucose (serum)\n",
        "  226537,--\tGlucose (whole blood)\n",
        "\n",
        "  -- TEMPERATURE\n",
        "  223762, -- \"Temperature Celsius\"\n",
        "  676,\t-- \"Temperature C\"\n",
        "  223761, -- \"Temperature Fahrenheit\"\n",
        "  678 --\t\"Temperature F\"\n",
        "\n",
        "  )\n",
        ") pvt\n",
        "group by pvt.subject_id, pvt.hadm_id, pvt.icustay_id\n",
        "order by pvt.subject_id, pvt.hadm_id, pvt.icustay_id)  \n",
        "\n",
        "\n",
        "SELECT adm.SUBJECT_ID, adm.HADM_ID, adm.ADMISSION_TYPE, \n",
        "adm.ADMITTIME, adm.DISCHTIME, adm.DEATHTIME, adm.HOSPITAL_EXPIRE_FLAG, \n",
        "adm.DIAGNOSIS, adm.MARITAL_STATUS, adm.INSURANCE, adm.LANGUAGE, adm.RELIGION, adm.ETHNICITY,\n",
        "pts.GENDER, pts.DOB, \n",
        "icustay.LOS_ICU, callout.CALLOUT_COUNT, diags.DIAG_COUNT, preps.PRES_COUNT, procs.PROC_COUNT, cpts.CPT_COUNT, labs.LAB_COUNT, inputs_cv.INPUTS_CV_COUNT, inputs_mv.INPUTS_MV_COUNT, outputs.OUTPUT_COUNT, transfers.TRANSFER_COUNT, micros.MICRO_COUNT, diafeature.SEPSIS , diafeature.ORGAN_FAILURE, diafeature.CARDIOVASCULAR, diafeature.RENAL, diafeature.HEPATIC,\n",
        "diafeature.HEMATOLOGIC, diafeature.METABOLIC, diafeature.NEUROLOGIC ,vitals.HeartRate_Mean, vitals.SysBP_Mean, vitals.DiasBP_Mean, vitals.MeanBP_Mean, vitals.RespRate_Mean, vitals.TempC_Mean, vitals.SpO2_Mean, vitals.Glucose_Mean\n",
        "FROM `physionet-data.mimiciii_clinical.admissions` AS adm\n",
        "LEFT JOIN `physionet-data.mimiciii_clinical.patients` AS pts on adm.SUBJECT_ID = pts.SUBJECT_ID\n",
        "LEFT JOIN icustay on adm.HADM_ID = icustay.HADM_ID\n",
        "LEFT JOIN callout on adm.HADM_ID = callout.HADM_ID\n",
        "LEFT JOIN diags on adm.HADM_ID = diags.HADM_ID\n",
        "LEFT JOIN preps on adm.HADM_ID = preps.HADM_ID\n",
        "LEFT JOIN procs on adm.HADM_ID = procs.HADM_ID\n",
        "LEFT JOIN cpts on adm.HADM_ID = cpts.HADM_ID\n",
        "LEFT JOIN labs on adm.HADM_ID = labs.HADM_ID\n",
        "LEFT JOIN inputs_cv on adm.HADM_ID = inputs_cv.HADM_ID\n",
        "LEFT JOIN inputs_mv on adm.HADM_ID = inputs_mv.HADM_ID\n",
        "LEFT JOIN outputs on adm.HADM_ID = outputs.HADM_ID\n",
        "LEFT JOIN transfers on adm.HADM_ID = transfers.HADM_ID\n",
        "LEFT JOIN micros on adm.HADM_ID = micros.HADM_ID\n",
        "LEFT JOIN diafeature on adm.HADM_ID = diafeature.HADM_ID\n",
        "LEFT JOIN vitals on adm.HADM_ID = vitals.HADM_ID\n",
        "\n"
      ],
      "execution_count": 95,
      "outputs": []
    },
    {
      "cell_type": "code",
      "metadata": {
        "colab": {
          "base_uri": "https://localhost:8080/",
          "height": 326
        },
        "id": "jXAbzKNL_4pQ",
        "outputId": "040a260d-25b8-4b45-f657-a8e875d6090c"
      },
      "source": [
        "df.head()"
      ],
      "execution_count": 96,
      "outputs": [
        {
          "output_type": "execute_result",
          "data": {
            "text/html": [
              "<div>\n",
              "<style scoped>\n",
              "    .dataframe tbody tr th:only-of-type {\n",
              "        vertical-align: middle;\n",
              "    }\n",
              "\n",
              "    .dataframe tbody tr th {\n",
              "        vertical-align: top;\n",
              "    }\n",
              "\n",
              "    .dataframe thead th {\n",
              "        text-align: right;\n",
              "    }\n",
              "</style>\n",
              "<table border=\"1\" class=\"dataframe\">\n",
              "  <thead>\n",
              "    <tr style=\"text-align: right;\">\n",
              "      <th></th>\n",
              "      <th>SUBJECT_ID</th>\n",
              "      <th>HADM_ID</th>\n",
              "      <th>ADMISSION_TYPE</th>\n",
              "      <th>ADMITTIME</th>\n",
              "      <th>DISCHTIME</th>\n",
              "      <th>DEATHTIME</th>\n",
              "      <th>HOSPITAL_EXPIRE_FLAG</th>\n",
              "      <th>DIAGNOSIS</th>\n",
              "      <th>MARITAL_STATUS</th>\n",
              "      <th>INSURANCE</th>\n",
              "      <th>LANGUAGE</th>\n",
              "      <th>RELIGION</th>\n",
              "      <th>ETHNICITY</th>\n",
              "      <th>GENDER</th>\n",
              "      <th>DOB</th>\n",
              "      <th>LOS_ICU</th>\n",
              "      <th>CALLOUT_COUNT</th>\n",
              "      <th>DIAG_COUNT</th>\n",
              "      <th>PRES_COUNT</th>\n",
              "      <th>PROC_COUNT</th>\n",
              "      <th>CPT_COUNT</th>\n",
              "      <th>LAB_COUNT</th>\n",
              "      <th>INPUTS_CV_COUNT</th>\n",
              "      <th>INPUTS_MV_COUNT</th>\n",
              "      <th>OUTPUT_COUNT</th>\n",
              "      <th>TRANSFER_COUNT</th>\n",
              "      <th>MICRO_COUNT</th>\n",
              "      <th>SEPSIS</th>\n",
              "      <th>ORGAN_FAILURE</th>\n",
              "      <th>CARDIOVASCULAR</th>\n",
              "      <th>RENAL</th>\n",
              "      <th>HEPATIC</th>\n",
              "      <th>HEMATOLOGIC</th>\n",
              "      <th>METABOLIC</th>\n",
              "      <th>NEUROLOGIC</th>\n",
              "      <th>HeartRate_Mean</th>\n",
              "      <th>SysBP_Mean</th>\n",
              "      <th>DiasBP_Mean</th>\n",
              "      <th>MeanBP_Mean</th>\n",
              "      <th>RespRate_Mean</th>\n",
              "      <th>TempC_Mean</th>\n",
              "      <th>SpO2_Mean</th>\n",
              "      <th>Glucose_Mean</th>\n",
              "    </tr>\n",
              "  </thead>\n",
              "  <tbody>\n",
              "    <tr>\n",
              "      <th>0</th>\n",
              "      <td>7275</td>\n",
              "      <td>136809</td>\n",
              "      <td>EMERGENCY</td>\n",
              "      <td>2139-08-28 12:35:00</td>\n",
              "      <td>2139-09-01 16:32:00</td>\n",
              "      <td>NaT</td>\n",
              "      <td>0</td>\n",
              "      <td>ALTERED MENTAL STATUS; DYSPNEA</td>\n",
              "      <td>DIVORCED</td>\n",
              "      <td>Medicare</td>\n",
              "      <td>ENGL</td>\n",
              "      <td>EPISCOPALIAN</td>\n",
              "      <td>WHITE</td>\n",
              "      <td>M</td>\n",
              "      <td>2078-11-11</td>\n",
              "      <td>1.3848</td>\n",
              "      <td>1.0</td>\n",
              "      <td>15</td>\n",
              "      <td>44.0</td>\n",
              "      <td>1.0</td>\n",
              "      <td>7.0</td>\n",
              "      <td>182.0</td>\n",
              "      <td>NaN</td>\n",
              "      <td>18.0</td>\n",
              "      <td>NaN</td>\n",
              "      <td>3</td>\n",
              "      <td>47.0</td>\n",
              "      <td>1</td>\n",
              "      <td>1</td>\n",
              "      <td>0</td>\n",
              "      <td>1</td>\n",
              "      <td>0</td>\n",
              "      <td>0</td>\n",
              "      <td>0</td>\n",
              "      <td>0</td>\n",
              "      <td>92.772727</td>\n",
              "      <td>142.111111</td>\n",
              "      <td>56.722222</td>\n",
              "      <td>76.000000</td>\n",
              "      <td>20.875000</td>\n",
              "      <td>36.851852</td>\n",
              "      <td>95.086957</td>\n",
              "      <td>133.750000</td>\n",
              "    </tr>\n",
              "    <tr>\n",
              "      <th>1</th>\n",
              "      <td>17575</td>\n",
              "      <td>187131</td>\n",
              "      <td>EMERGENCY</td>\n",
              "      <td>2124-10-21 08:32:00</td>\n",
              "      <td>2124-11-01 11:14:00</td>\n",
              "      <td>NaT</td>\n",
              "      <td>0</td>\n",
              "      <td>MVA;TRAUMA</td>\n",
              "      <td>SINGLE</td>\n",
              "      <td>Government</td>\n",
              "      <td>None</td>\n",
              "      <td>OTHER</td>\n",
              "      <td>BLACK/AFRICAN AMERICAN</td>\n",
              "      <td>M</td>\n",
              "      <td>2106-01-23</td>\n",
              "      <td>3.2653</td>\n",
              "      <td>NaN</td>\n",
              "      <td>9</td>\n",
              "      <td>NaN</td>\n",
              "      <td>9.0</td>\n",
              "      <td>NaN</td>\n",
              "      <td>408.0</td>\n",
              "      <td>331.0</td>\n",
              "      <td>NaN</td>\n",
              "      <td>89.0</td>\n",
              "      <td>3</td>\n",
              "      <td>27.0</td>\n",
              "      <td>0</td>\n",
              "      <td>1</td>\n",
              "      <td>0</td>\n",
              "      <td>0</td>\n",
              "      <td>0</td>\n",
              "      <td>0</td>\n",
              "      <td>0</td>\n",
              "      <td>0</td>\n",
              "      <td>108.268293</td>\n",
              "      <td>119.780488</td>\n",
              "      <td>53.317073</td>\n",
              "      <td>73.948718</td>\n",
              "      <td>18.291667</td>\n",
              "      <td>38.388888</td>\n",
              "      <td>99.288889</td>\n",
              "      <td>115.000000</td>\n",
              "    </tr>\n",
              "    <tr>\n",
              "      <th>2</th>\n",
              "      <td>25251</td>\n",
              "      <td>142346</td>\n",
              "      <td>EMERGENCY</td>\n",
              "      <td>2167-01-23 16:23:00</td>\n",
              "      <td>2167-02-06 13:53:00</td>\n",
              "      <td>NaT</td>\n",
              "      <td>0</td>\n",
              "      <td>INFECTED RIGHT FOOT</td>\n",
              "      <td>DIVORCED</td>\n",
              "      <td>Medicare</td>\n",
              "      <td>None</td>\n",
              "      <td>EPISCOPALIAN</td>\n",
              "      <td>WHITE</td>\n",
              "      <td>M</td>\n",
              "      <td>2096-08-27</td>\n",
              "      <td>3.2458</td>\n",
              "      <td>NaN</td>\n",
              "      <td>9</td>\n",
              "      <td>NaN</td>\n",
              "      <td>8.0</td>\n",
              "      <td>NaN</td>\n",
              "      <td>574.0</td>\n",
              "      <td>390.0</td>\n",
              "      <td>NaN</td>\n",
              "      <td>90.0</td>\n",
              "      <td>6</td>\n",
              "      <td>46.0</td>\n",
              "      <td>0</td>\n",
              "      <td>0</td>\n",
              "      <td>0</td>\n",
              "      <td>0</td>\n",
              "      <td>0</td>\n",
              "      <td>0</td>\n",
              "      <td>0</td>\n",
              "      <td>0</td>\n",
              "      <td>96.522727</td>\n",
              "      <td>109.454545</td>\n",
              "      <td>57.795455</td>\n",
              "      <td>73.727273</td>\n",
              "      <td>15.500000</td>\n",
              "      <td>36.697619</td>\n",
              "      <td>98.380952</td>\n",
              "      <td>149.619048</td>\n",
              "    </tr>\n",
              "    <tr>\n",
              "      <th>3</th>\n",
              "      <td>32339</td>\n",
              "      <td>181355</td>\n",
              "      <td>EMERGENCY</td>\n",
              "      <td>2110-07-29 23:56:00</td>\n",
              "      <td>2110-08-04 15:10:00</td>\n",
              "      <td>NaT</td>\n",
              "      <td>0</td>\n",
              "      <td>GASTROINTESTINAL BLEED;CHEST PAIN;TELEMETRY</td>\n",
              "      <td>MARRIED</td>\n",
              "      <td>Medicare</td>\n",
              "      <td>ENGL</td>\n",
              "      <td>JEWISH</td>\n",
              "      <td>WHITE</td>\n",
              "      <td>M</td>\n",
              "      <td>1810-07-29</td>\n",
              "      <td>1.7603</td>\n",
              "      <td>1.0</td>\n",
              "      <td>15</td>\n",
              "      <td>30.0</td>\n",
              "      <td>2.0</td>\n",
              "      <td>8.0</td>\n",
              "      <td>207.0</td>\n",
              "      <td>NaN</td>\n",
              "      <td>21.0</td>\n",
              "      <td>20.0</td>\n",
              "      <td>4</td>\n",
              "      <td>NaN</td>\n",
              "      <td>0</td>\n",
              "      <td>1</td>\n",
              "      <td>0</td>\n",
              "      <td>1</td>\n",
              "      <td>0</td>\n",
              "      <td>0</td>\n",
              "      <td>1</td>\n",
              "      <td>0</td>\n",
              "      <td>50.038462</td>\n",
              "      <td>137.714286</td>\n",
              "      <td>44.571429</td>\n",
              "      <td>67.809524</td>\n",
              "      <td>17.038462</td>\n",
              "      <td>36.244444</td>\n",
              "      <td>97.346154</td>\n",
              "      <td>105.000000</td>\n",
              "    </tr>\n",
              "    <tr>\n",
              "      <th>4</th>\n",
              "      <td>30746</td>\n",
              "      <td>155603</td>\n",
              "      <td>EMERGENCY</td>\n",
              "      <td>2131-08-22 23:07:00</td>\n",
              "      <td>2131-08-28 13:10:00</td>\n",
              "      <td>NaT</td>\n",
              "      <td>0</td>\n",
              "      <td>ALTERED MENTAL STATUS</td>\n",
              "      <td>DIVORCED</td>\n",
              "      <td>Medicare</td>\n",
              "      <td>ENGL</td>\n",
              "      <td>JEWISH</td>\n",
              "      <td>WHITE</td>\n",
              "      <td>M</td>\n",
              "      <td>2055-03-16</td>\n",
              "      <td>5.5894</td>\n",
              "      <td>NaN</td>\n",
              "      <td>22</td>\n",
              "      <td>53.0</td>\n",
              "      <td>6.0</td>\n",
              "      <td>10.0</td>\n",
              "      <td>378.0</td>\n",
              "      <td>165.0</td>\n",
              "      <td>NaN</td>\n",
              "      <td>115.0</td>\n",
              "      <td>7</td>\n",
              "      <td>5.0</td>\n",
              "      <td>0</td>\n",
              "      <td>1</td>\n",
              "      <td>1</td>\n",
              "      <td>0</td>\n",
              "      <td>0</td>\n",
              "      <td>0</td>\n",
              "      <td>0</td>\n",
              "      <td>1</td>\n",
              "      <td>79.285714</td>\n",
              "      <td>130.814815</td>\n",
              "      <td>60.740741</td>\n",
              "      <td>79.740741</td>\n",
              "      <td>18.875000</td>\n",
              "      <td>37.074074</td>\n",
              "      <td>98.827586</td>\n",
              "      <td>141.300000</td>\n",
              "    </tr>\n",
              "  </tbody>\n",
              "</table>\n",
              "</div>"
            ],
            "text/plain": [
              "   SUBJECT_ID  HADM_ID ADMISSION_TYPE  ... TempC_Mean  SpO2_Mean Glucose_Mean\n",
              "0        7275   136809      EMERGENCY  ...  36.851852  95.086957   133.750000\n",
              "1       17575   187131      EMERGENCY  ...  38.388888  99.288889   115.000000\n",
              "2       25251   142346      EMERGENCY  ...  36.697619  98.380952   149.619048\n",
              "3       32339   181355      EMERGENCY  ...  36.244444  97.346154   105.000000\n",
              "4       30746   155603      EMERGENCY  ...  37.074074  98.827586   141.300000\n",
              "\n",
              "[5 rows x 43 columns]"
            ]
          },
          "metadata": {
            "tags": []
          },
          "execution_count": 96
        }
      ]
    },
    {
      "cell_type": "code",
      "metadata": {
        "colab": {
          "base_uri": "https://localhost:8080/"
        },
        "id": "wIZpCX7qBomD",
        "outputId": "3808a628-c243-4694-d308-e84b486e37a4"
      },
      "source": [
        "df.columns"
      ],
      "execution_count": 97,
      "outputs": [
        {
          "output_type": "execute_result",
          "data": {
            "text/plain": [
              "Index(['SUBJECT_ID', 'HADM_ID', 'ADMISSION_TYPE', 'ADMITTIME', 'DISCHTIME',\n",
              "       'DEATHTIME', 'HOSPITAL_EXPIRE_FLAG', 'DIAGNOSIS', 'MARITAL_STATUS',\n",
              "       'INSURANCE', 'LANGUAGE', 'RELIGION', 'ETHNICITY', 'GENDER', 'DOB',\n",
              "       'LOS_ICU', 'CALLOUT_COUNT', 'DIAG_COUNT', 'PRES_COUNT', 'PROC_COUNT',\n",
              "       'CPT_COUNT', 'LAB_COUNT', 'INPUTS_CV_COUNT', 'INPUTS_MV_COUNT',\n",
              "       'OUTPUT_COUNT', 'TRANSFER_COUNT', 'MICRO_COUNT', 'SEPSIS',\n",
              "       'ORGAN_FAILURE', 'CARDIOVASCULAR', 'RENAL', 'HEPATIC', 'HEMATOLOGIC',\n",
              "       'METABOLIC', 'NEUROLOGIC', 'HeartRate_Mean', 'SysBP_Mean',\n",
              "       'DiasBP_Mean', 'MeanBP_Mean', 'RespRate_Mean', 'TempC_Mean',\n",
              "       'SpO2_Mean', 'Glucose_Mean'],\n",
              "      dtype='object')"
            ]
          },
          "metadata": {
            "tags": []
          },
          "execution_count": 97
        }
      ]
    },
    {
      "cell_type": "code",
      "metadata": {
        "colab": {
          "base_uri": "https://localhost:8080/"
        },
        "id": "Re0TBFnhBvDP",
        "outputId": "980dbb74-5dbf-4483-a421-34e3af234030"
      },
      "source": [
        "df.info()"
      ],
      "execution_count": 98,
      "outputs": [
        {
          "output_type": "stream",
          "text": [
            "<class 'pandas.core.frame.DataFrame'>\n",
            "RangeIndex: 62477 entries, 0 to 62476\n",
            "Data columns (total 43 columns):\n",
            " #   Column                Non-Null Count  Dtype         \n",
            "---  ------                --------------  -----         \n",
            " 0   SUBJECT_ID            62477 non-null  int64         \n",
            " 1   HADM_ID               62477 non-null  int64         \n",
            " 2   ADMISSION_TYPE        62477 non-null  object        \n",
            " 3   ADMITTIME             62477 non-null  datetime64[ns]\n",
            " 4   DISCHTIME             62477 non-null  datetime64[ns]\n",
            " 5   DEATHTIME             6624 non-null   object        \n",
            " 6   HOSPITAL_EXPIRE_FLAG  62477 non-null  int64         \n",
            " 7   DIAGNOSIS             62452 non-null  object        \n",
            " 8   MARITAL_STATUS        52155 non-null  object        \n",
            " 9   INSURANCE             62477 non-null  object        \n",
            " 10  LANGUAGE              35933 non-null  object        \n",
            " 11  RELIGION              61995 non-null  object        \n",
            " 12  ETHNICITY             62477 non-null  object        \n",
            " 13  GENDER                62477 non-null  object        \n",
            " 14  DOB                   62477 non-null  datetime64[ns]\n",
            " 15  LOS_ICU               61277 non-null  float64       \n",
            " 16  CALLOUT_COUNT         31252 non-null  float64       \n",
            " 17  DIAG_COUNT            62477 non-null  int64         \n",
            " 18  PRES_COUNT            53492 non-null  float64       \n",
            " 19  PROC_COUNT            55681 non-null  float64       \n",
            " 20  CPT_COUNT             47430 non-null  float64       \n",
            " 21  LAB_COUNT             61652 non-null  float64       \n",
            " 22  INPUTS_CV_COUNT       33945 non-null  float64       \n",
            " 23  INPUTS_MV_COUNT       23422 non-null  float64       \n",
            " 24  OUTPUT_COUNT          55467 non-null  float64       \n",
            " 25  TRANSFER_COUNT        62477 non-null  int64         \n",
            " 26  MICRO_COUNT           52143 non-null  float64       \n",
            " 27  SEPSIS                62477 non-null  int64         \n",
            " 28  ORGAN_FAILURE         62477 non-null  int64         \n",
            " 29  CARDIOVASCULAR        62477 non-null  int64         \n",
            " 30  RENAL                 62477 non-null  int64         \n",
            " 31  HEPATIC               62477 non-null  int64         \n",
            " 32  HEMATOLOGIC           62477 non-null  int64         \n",
            " 33  METABOLIC             62477 non-null  int64         \n",
            " 34  NEUROLOGIC            62477 non-null  int64         \n",
            " 35  HeartRate_Mean        59048 non-null  float64       \n",
            " 36  SysBP_Mean            52254 non-null  float64       \n",
            " 37  DiasBP_Mean           52252 non-null  float64       \n",
            " 38  MeanBP_Mean           52288 non-null  float64       \n",
            " 39  RespRate_Mean         52229 non-null  float64       \n",
            " 40  TempC_Mean            51382 non-null  float64       \n",
            " 41  SpO2_Mean             52233 non-null  float64       \n",
            " 42  Glucose_Mean          52991 non-null  float64       \n",
            "dtypes: datetime64[ns](3), float64(18), int64(13), object(9)\n",
            "memory usage: 20.5+ MB\n"
          ],
          "name": "stdout"
        }
      ]
    },
    {
      "cell_type": "code",
      "metadata": {
        "colab": {
          "base_uri": "https://localhost:8080/"
        },
        "id": "uRfe1s8MCFmq",
        "outputId": "16dfb2f5-70cd-4b89-9332-ec884eedb17e"
      },
      "source": [
        "df.isna().sum()"
      ],
      "execution_count": 99,
      "outputs": [
        {
          "output_type": "execute_result",
          "data": {
            "text/plain": [
              "SUBJECT_ID                  0\n",
              "HADM_ID                     0\n",
              "ADMISSION_TYPE              0\n",
              "ADMITTIME                   0\n",
              "DISCHTIME                   0\n",
              "DEATHTIME               55853\n",
              "HOSPITAL_EXPIRE_FLAG        0\n",
              "DIAGNOSIS                  25\n",
              "MARITAL_STATUS          10322\n",
              "INSURANCE                   0\n",
              "LANGUAGE                26544\n",
              "RELIGION                  482\n",
              "ETHNICITY                   0\n",
              "GENDER                      0\n",
              "DOB                         0\n",
              "LOS_ICU                  1200\n",
              "CALLOUT_COUNT           31225\n",
              "DIAG_COUNT                  0\n",
              "PRES_COUNT               8985\n",
              "PROC_COUNT               6796\n",
              "CPT_COUNT               15047\n",
              "LAB_COUNT                 825\n",
              "INPUTS_CV_COUNT         28532\n",
              "INPUTS_MV_COUNT         39055\n",
              "OUTPUT_COUNT             7010\n",
              "TRANSFER_COUNT              0\n",
              "MICRO_COUNT             10334\n",
              "SEPSIS                      0\n",
              "ORGAN_FAILURE               0\n",
              "CARDIOVASCULAR              0\n",
              "RENAL                       0\n",
              "HEPATIC                     0\n",
              "HEMATOLOGIC                 0\n",
              "METABOLIC                   0\n",
              "NEUROLOGIC                  0\n",
              "HeartRate_Mean           3429\n",
              "SysBP_Mean              10223\n",
              "DiasBP_Mean             10225\n",
              "MeanBP_Mean             10189\n",
              "RespRate_Mean           10248\n",
              "TempC_Mean              11095\n",
              "SpO2_Mean               10244\n",
              "Glucose_Mean             9486\n",
              "dtype: int64"
            ]
          },
          "metadata": {
            "tags": []
          },
          "execution_count": 99
        }
      ]
    },
    {
      "cell_type": "code",
      "metadata": {
        "id": "5QLXckfoChCK"
      },
      "source": [
        "df = df.rename(columns={'HOSPITAL_EXPIRE_FLAG': 'IN_HOSP_DEATH'})"
      ],
      "execution_count": 100,
      "outputs": []
    },
    {
      "cell_type": "code",
      "metadata": {
        "colab": {
          "base_uri": "https://localhost:8080/"
        },
        "id": "dxbz2uDpCn63",
        "outputId": "7dd7a774-3f19-4e1f-e26f-4e79bc1428f7"
      },
      "source": [
        "df.columns"
      ],
      "execution_count": 101,
      "outputs": [
        {
          "output_type": "execute_result",
          "data": {
            "text/plain": [
              "Index(['SUBJECT_ID', 'HADM_ID', 'ADMISSION_TYPE', 'ADMITTIME', 'DISCHTIME',\n",
              "       'DEATHTIME', 'IN_HOSP_DEATH', 'DIAGNOSIS', 'MARITAL_STATUS',\n",
              "       'INSURANCE', 'LANGUAGE', 'RELIGION', 'ETHNICITY', 'GENDER', 'DOB',\n",
              "       'LOS_ICU', 'CALLOUT_COUNT', 'DIAG_COUNT', 'PRES_COUNT', 'PROC_COUNT',\n",
              "       'CPT_COUNT', 'LAB_COUNT', 'INPUTS_CV_COUNT', 'INPUTS_MV_COUNT',\n",
              "       'OUTPUT_COUNT', 'TRANSFER_COUNT', 'MICRO_COUNT', 'SEPSIS',\n",
              "       'ORGAN_FAILURE', 'CARDIOVASCULAR', 'RENAL', 'HEPATIC', 'HEMATOLOGIC',\n",
              "       'METABOLIC', 'NEUROLOGIC', 'HeartRate_Mean', 'SysBP_Mean',\n",
              "       'DiasBP_Mean', 'MeanBP_Mean', 'RespRate_Mean', 'TempC_Mean',\n",
              "       'SpO2_Mean', 'Glucose_Mean'],\n",
              "      dtype='object')"
            ]
          },
          "metadata": {
            "tags": []
          },
          "execution_count": 101
        }
      ]
    },
    {
      "cell_type": "code",
      "metadata": {
        "colab": {
          "base_uri": "https://localhost:8080/"
        },
        "id": "lob7TA_jCwEC",
        "outputId": "d95b242d-9e83-46fd-e20e-d83ac6a6448c"
      },
      "source": [
        "df['IN_HOSP_DEATH'].isna().sum() # no missing value"
      ],
      "execution_count": 102,
      "outputs": [
        {
          "output_type": "execute_result",
          "data": {
            "text/plain": [
              "0"
            ]
          },
          "metadata": {
            "tags": []
          },
          "execution_count": 102
        }
      ]
    },
    {
      "cell_type": "code",
      "metadata": {
        "colab": {
          "base_uri": "https://localhost:8080/"
        },
        "id": "R7ZP0LLMJ3nf",
        "outputId": "aa0286cf-6077-4249-b1af-6fb501cd2678"
      },
      "source": [
        "df['RespRate_Mean'].isna().sum() # no missing value"
      ],
      "execution_count": 103,
      "outputs": [
        {
          "output_type": "execute_result",
          "data": {
            "text/plain": [
              "10248"
            ]
          },
          "metadata": {
            "tags": []
          },
          "execution_count": 103
        }
      ]
    },
    {
      "cell_type": "code",
      "metadata": {
        "colab": {
          "base_uri": "https://localhost:8080/"
        },
        "id": "ErrvCqB1Czk8",
        "outputId": "2ca97e7a-d606-4c8a-df25-7ce812764f7a"
      },
      "source": [
        "df['IN_HOSP_DEATH'].value_counts()"
      ],
      "execution_count": 104,
      "outputs": [
        {
          "output_type": "execute_result",
          "data": {
            "text/plain": [
              "0    55853\n",
              "1     6624\n",
              "Name: IN_HOSP_DEATH, dtype: int64"
            ]
          },
          "metadata": {
            "tags": []
          },
          "execution_count": 104
        }
      ]
    },
    {
      "cell_type": "code",
      "metadata": {
        "colab": {
          "base_uri": "https://localhost:8080/"
        },
        "id": "PdnusEkQC3aT",
        "outputId": "a027ea2d-fc0a-4f39-fd62-12075113cb03"
      },
      "source": [
        "df['AGE'] = df['ADMITTIME'].sub(df['DOB']) // np.timedelta64(1,'Y') # subtract DOB from ADMITTIME and express difference in years 'Y'\n",
        "\n",
        "df['AGE']"
      ],
      "execution_count": 105,
      "outputs": [
        {
          "output_type": "execute_result",
          "data": {
            "text/plain": [
              "0         60\n",
              "1         18\n",
              "2         70\n",
              "3       -285\n",
              "4         76\n",
              "        ... \n",
              "62472     38\n",
              "62473     48\n",
              "62474     33\n",
              "62475     54\n",
              "62476     41\n",
              "Name: AGE, Length: 62477, dtype: int64"
            ]
          },
          "metadata": {
            "tags": []
          },
          "execution_count": 105
        }
      ]
    },
    {
      "cell_type": "code",
      "metadata": {
        "colab": {
          "base_uri": "https://localhost:8080/",
          "height": 283
        },
        "id": "RBFdxUPBC6lk",
        "outputId": "508578d0-b4e2-4a25-968f-20f20b4bcac5"
      },
      "source": [
        "df['AGE'].hist()"
      ],
      "execution_count": 106,
      "outputs": [
        {
          "output_type": "execute_result",
          "data": {
            "text/plain": [
              "<matplotlib.axes._subplots.AxesSubplot at 0x7fb9d9b62b90>"
            ]
          },
          "metadata": {
            "tags": []
          },
          "execution_count": 106
        },
        {
          "output_type": "display_data",
          "data": {
            "image/png": "[encoded data removed]",
            "text/plain": [
              "<Figure size 432x288 with 1 Axes>"
            ]
          },
          "metadata": {
            "tags": [],
            "needs_background": "light"
          }
        }
      ]
    },
    {
      "cell_type": "code",
      "metadata": {
        "colab": {
          "base_uri": "https://localhost:8080/"
        },
        "id": "RnLHczEqDHj-",
        "outputId": "29c1d080-9dde-455c-ded4-bdb7fe1ddf78"
      },
      "source": [
        "df['LOS'] = df['DISCHTIME'].sub(df['ADMITTIME']) / np.timedelta64(1,'D') # subtract ADMITTIME from DISCHTIME and express difference in days 'D'\n",
        "\n",
        "df['LOS']"
      ],
      "execution_count": 107,
      "outputs": [
        {
          "output_type": "execute_result",
          "data": {
            "text/plain": [
              "0         4.164583\n",
              "1        11.112500\n",
              "2        13.895833\n",
              "3         5.634722\n",
              "4         5.585417\n",
              "           ...    \n",
              "62472     1.872917\n",
              "62473     2.502083\n",
              "62474     1.609722\n",
              "62475     3.710417\n",
              "62476     3.100000\n",
              "Name: LOS, Length: 62477, dtype: float64"
            ]
          },
          "metadata": {
            "tags": []
          },
          "execution_count": 107
        }
      ]
    },
    {
      "cell_type": "code",
      "metadata": {
        "colab": {
          "base_uri": "https://localhost:8080/"
        },
        "id": "qnk3hIwwDMvX",
        "outputId": "a7b6535f-a9b7-49d6-b298-108be3cab866"
      },
      "source": [
        "df['LOS'].describe()"
      ],
      "execution_count": 108,
      "outputs": [
        {
          "output_type": "execute_result",
          "data": {
            "text/plain": [
              "count    62477.000000\n",
              "mean        11.166875\n",
              "std         14.141929\n",
              "min         -0.945139\n",
              "25%          3.866667\n",
              "50%          6.888194\n",
              "75%         12.938889\n",
              "max        294.660417\n",
              "Name: LOS, dtype: float64"
            ]
          },
          "metadata": {
            "tags": []
          },
          "execution_count": 108
        }
      ]
    },
    {
      "cell_type": "code",
      "metadata": {
        "colab": {
          "base_uri": "https://localhost:8080/",
          "height": 284
        },
        "id": "pFLdvrk2DQU9",
        "outputId": "412022da-3743-4bd3-c49d-20b3eda927fb"
      },
      "source": [
        "df['LOS'].hist()"
      ],
      "execution_count": 109,
      "outputs": [
        {
          "output_type": "execute_result",
          "data": {
            "text/plain": [
              "<matplotlib.axes._subplots.AxesSubplot at 0x7fb9d543f790>"
            ]
          },
          "metadata": {
            "tags": []
          },
          "execution_count": 109
        },
        {
          "output_type": "display_data",
          "data": {
            "image/png": "[encoded data removed]",
            "text/plain": [
              "<Figure size 432x288 with 1 Axes>"
            ]
          },
          "metadata": {
            "tags": [],
            "needs_background": "light"
          }
        }
      ]
    },
    {
      "cell_type": "code",
      "metadata": {
        "id": "GpvdTG5R7w0c"
      },
      "source": [
        "df.loc[df['LOS'] <= 5, 'PREDLOS'] = 0 \n",
        "df.loc[df['LOS'] > 5, 'PREDLOS'] = 1"
      ],
      "execution_count": 111,
      "outputs": []
    },
    {
      "cell_type": "code",
      "metadata": {
        "id": "G646uAo-Dbmj"
      },
      "source": [
        "for col_name in ['CALLOUT_COUNT', 'PRES_COUNT', 'PROC_COUNT', 'CPT_COUNT', 'LAB_COUNT', 'INPUTS_CV_COUNT', 'INPUTS_MV_COUNT', 'OUTPUT_COUNT', 'TRANSFER_COUNT', 'MICRO_COUNT']:\n",
        "  df[col_name + '_DAY'] = df[col_name] / np.maximum(np.ceil(df['LOS']), 1)"
      ],
      "execution_count": 112,
      "outputs": []
    },
    {
      "cell_type": "code",
      "metadata": {
        "colab": {
          "base_uri": "https://localhost:8080/",
          "height": 326
        },
        "id": "jaWhuD_nDf1O",
        "outputId": "05f52ec2-0104-44db-a81a-bf688f7f54ea"
      },
      "source": [
        "df.head()"
      ],
      "execution_count": 113,
      "outputs": [
        {
          "output_type": "execute_result",
          "data": {
            "text/html": [
              "<div>\n",
              "<style scoped>\n",
              "    .dataframe tbody tr th:only-of-type {\n",
              "        vertical-align: middle;\n",
              "    }\n",
              "\n",
              "    .dataframe tbody tr th {\n",
              "        vertical-align: top;\n",
              "    }\n",
              "\n",
              "    .dataframe thead th {\n",
              "        text-align: right;\n",
              "    }\n",
              "</style>\n",
              "<table border=\"1\" class=\"dataframe\">\n",
              "  <thead>\n",
              "    <tr style=\"text-align: right;\">\n",
              "      <th></th>\n",
              "      <th>SUBJECT_ID</th>\n",
              "      <th>HADM_ID</th>\n",
              "      <th>ADMISSION_TYPE</th>\n",
              "      <th>ADMITTIME</th>\n",
              "      <th>DISCHTIME</th>\n",
              "      <th>DEATHTIME</th>\n",
              "      <th>IN_HOSP_DEATH</th>\n",
              "      <th>DIAGNOSIS</th>\n",
              "      <th>MARITAL_STATUS</th>\n",
              "      <th>INSURANCE</th>\n",
              "      <th>LANGUAGE</th>\n",
              "      <th>RELIGION</th>\n",
              "      <th>ETHNICITY</th>\n",
              "      <th>GENDER</th>\n",
              "      <th>DOB</th>\n",
              "      <th>LOS_ICU</th>\n",
              "      <th>CALLOUT_COUNT</th>\n",
              "      <th>DIAG_COUNT</th>\n",
              "      <th>PRES_COUNT</th>\n",
              "      <th>PROC_COUNT</th>\n",
              "      <th>CPT_COUNT</th>\n",
              "      <th>LAB_COUNT</th>\n",
              "      <th>INPUTS_CV_COUNT</th>\n",
              "      <th>INPUTS_MV_COUNT</th>\n",
              "      <th>OUTPUT_COUNT</th>\n",
              "      <th>TRANSFER_COUNT</th>\n",
              "      <th>MICRO_COUNT</th>\n",
              "      <th>SEPSIS</th>\n",
              "      <th>ORGAN_FAILURE</th>\n",
              "      <th>CARDIOVASCULAR</th>\n",
              "      <th>RENAL</th>\n",
              "      <th>HEPATIC</th>\n",
              "      <th>HEMATOLOGIC</th>\n",
              "      <th>METABOLIC</th>\n",
              "      <th>NEUROLOGIC</th>\n",
              "      <th>HeartRate_Mean</th>\n",
              "      <th>SysBP_Mean</th>\n",
              "      <th>DiasBP_Mean</th>\n",
              "      <th>MeanBP_Mean</th>\n",
              "      <th>RespRate_Mean</th>\n",
              "      <th>TempC_Mean</th>\n",
              "      <th>SpO2_Mean</th>\n",
              "      <th>Glucose_Mean</th>\n",
              "      <th>AGE</th>\n",
              "      <th>LOS</th>\n",
              "      <th>PREDLOS</th>\n",
              "      <th>CALLOUT_COUNT_DAY</th>\n",
              "      <th>PRES_COUNT_DAY</th>\n",
              "      <th>PROC_COUNT_DAY</th>\n",
              "      <th>CPT_COUNT_DAY</th>\n",
              "      <th>LAB_COUNT_DAY</th>\n",
              "      <th>INPUTS_CV_COUNT_DAY</th>\n",
              "      <th>INPUTS_MV_COUNT_DAY</th>\n",
              "      <th>OUTPUT_COUNT_DAY</th>\n",
              "      <th>TRANSFER_COUNT_DAY</th>\n",
              "      <th>MICRO_COUNT_DAY</th>\n",
              "    </tr>\n",
              "  </thead>\n",
              "  <tbody>\n",
              "    <tr>\n",
              "      <th>0</th>\n",
              "      <td>7275</td>\n",
              "      <td>136809</td>\n",
              "      <td>EMERGENCY</td>\n",
              "      <td>2139-08-28 12:35:00</td>\n",
              "      <td>2139-09-01 16:32:00</td>\n",
              "      <td>NaT</td>\n",
              "      <td>0</td>\n",
              "      <td>ALTERED MENTAL STATUS; DYSPNEA</td>\n",
              "      <td>DIVORCED</td>\n",
              "      <td>Medicare</td>\n",
              "      <td>ENGL</td>\n",
              "      <td>EPISCOPALIAN</td>\n",
              "      <td>WHITE</td>\n",
              "      <td>M</td>\n",
              "      <td>2078-11-11</td>\n",
              "      <td>1.3848</td>\n",
              "      <td>1.0</td>\n",
              "      <td>15</td>\n",
              "      <td>44.0</td>\n",
              "      <td>1.0</td>\n",
              "      <td>7.0</td>\n",
              "      <td>182.0</td>\n",
              "      <td>NaN</td>\n",
              "      <td>18.0</td>\n",
              "      <td>NaN</td>\n",
              "      <td>3</td>\n",
              "      <td>47.0</td>\n",
              "      <td>1</td>\n",
              "      <td>1</td>\n",
              "      <td>0</td>\n",
              "      <td>1</td>\n",
              "      <td>0</td>\n",
              "      <td>0</td>\n",
              "      <td>0</td>\n",
              "      <td>0</td>\n",
              "      <td>92.772727</td>\n",
              "      <td>142.111111</td>\n",
              "      <td>56.722222</td>\n",
              "      <td>76.000000</td>\n",
              "      <td>20.875000</td>\n",
              "      <td>36.851852</td>\n",
              "      <td>95.086957</td>\n",
              "      <td>133.750000</td>\n",
              "      <td>60</td>\n",
              "      <td>4.164583</td>\n",
              "      <td>0.0</td>\n",
              "      <td>0.200000</td>\n",
              "      <td>8.800000</td>\n",
              "      <td>0.200000</td>\n",
              "      <td>1.400000</td>\n",
              "      <td>36.4</td>\n",
              "      <td>NaN</td>\n",
              "      <td>3.6</td>\n",
              "      <td>NaN</td>\n",
              "      <td>0.600000</td>\n",
              "      <td>9.400000</td>\n",
              "    </tr>\n",
              "    <tr>\n",
              "      <th>1</th>\n",
              "      <td>17575</td>\n",
              "      <td>187131</td>\n",
              "      <td>EMERGENCY</td>\n",
              "      <td>2124-10-21 08:32:00</td>\n",
              "      <td>2124-11-01 11:14:00</td>\n",
              "      <td>NaT</td>\n",
              "      <td>0</td>\n",
              "      <td>MVA;TRAUMA</td>\n",
              "      <td>SINGLE</td>\n",
              "      <td>Government</td>\n",
              "      <td>None</td>\n",
              "      <td>OTHER</td>\n",
              "      <td>BLACK/AFRICAN AMERICAN</td>\n",
              "      <td>M</td>\n",
              "      <td>2106-01-23</td>\n",
              "      <td>3.2653</td>\n",
              "      <td>NaN</td>\n",
              "      <td>9</td>\n",
              "      <td>NaN</td>\n",
              "      <td>9.0</td>\n",
              "      <td>NaN</td>\n",
              "      <td>408.0</td>\n",
              "      <td>331.0</td>\n",
              "      <td>NaN</td>\n",
              "      <td>89.0</td>\n",
              "      <td>3</td>\n",
              "      <td>27.0</td>\n",
              "      <td>0</td>\n",
              "      <td>1</td>\n",
              "      <td>0</td>\n",
              "      <td>0</td>\n",
              "      <td>0</td>\n",
              "      <td>0</td>\n",
              "      <td>0</td>\n",
              "      <td>0</td>\n",
              "      <td>108.268293</td>\n",
              "      <td>119.780488</td>\n",
              "      <td>53.317073</td>\n",
              "      <td>73.948718</td>\n",
              "      <td>18.291667</td>\n",
              "      <td>38.388888</td>\n",
              "      <td>99.288889</td>\n",
              "      <td>115.000000</td>\n",
              "      <td>18</td>\n",
              "      <td>11.112500</td>\n",
              "      <td>1.0</td>\n",
              "      <td>NaN</td>\n",
              "      <td>NaN</td>\n",
              "      <td>0.750000</td>\n",
              "      <td>NaN</td>\n",
              "      <td>34.0</td>\n",
              "      <td>27.583333</td>\n",
              "      <td>NaN</td>\n",
              "      <td>7.416667</td>\n",
              "      <td>0.250000</td>\n",
              "      <td>2.250000</td>\n",
              "    </tr>\n",
              "    <tr>\n",
              "      <th>2</th>\n",
              "      <td>25251</td>\n",
              "      <td>142346</td>\n",
              "      <td>EMERGENCY</td>\n",
              "      <td>2167-01-23 16:23:00</td>\n",
              "      <td>2167-02-06 13:53:00</td>\n",
              "      <td>NaT</td>\n",
              "      <td>0</td>\n",
              "      <td>INFECTED RIGHT FOOT</td>\n",
              "      <td>DIVORCED</td>\n",
              "      <td>Medicare</td>\n",
              "      <td>None</td>\n",
              "      <td>EPISCOPALIAN</td>\n",
              "      <td>WHITE</td>\n",
              "      <td>M</td>\n",
              "      <td>2096-08-27</td>\n",
              "      <td>3.2458</td>\n",
              "      <td>NaN</td>\n",
              "      <td>9</td>\n",
              "      <td>NaN</td>\n",
              "      <td>8.0</td>\n",
              "      <td>NaN</td>\n",
              "      <td>574.0</td>\n",
              "      <td>390.0</td>\n",
              "      <td>NaN</td>\n",
              "      <td>90.0</td>\n",
              "      <td>6</td>\n",
              "      <td>46.0</td>\n",
              "      <td>0</td>\n",
              "      <td>0</td>\n",
              "      <td>0</td>\n",
              "      <td>0</td>\n",
              "      <td>0</td>\n",
              "      <td>0</td>\n",
              "      <td>0</td>\n",
              "      <td>0</td>\n",
              "      <td>96.522727</td>\n",
              "      <td>109.454545</td>\n",
              "      <td>57.795455</td>\n",
              "      <td>73.727273</td>\n",
              "      <td>15.500000</td>\n",
              "      <td>36.697619</td>\n",
              "      <td>98.380952</td>\n",
              "      <td>149.619048</td>\n",
              "      <td>70</td>\n",
              "      <td>13.895833</td>\n",
              "      <td>1.0</td>\n",
              "      <td>NaN</td>\n",
              "      <td>NaN</td>\n",
              "      <td>0.571429</td>\n",
              "      <td>NaN</td>\n",
              "      <td>41.0</td>\n",
              "      <td>27.857143</td>\n",
              "      <td>NaN</td>\n",
              "      <td>6.428571</td>\n",
              "      <td>0.428571</td>\n",
              "      <td>3.285714</td>\n",
              "    </tr>\n",
              "    <tr>\n",
              "      <th>3</th>\n",
              "      <td>32339</td>\n",
              "      <td>181355</td>\n",
              "      <td>EMERGENCY</td>\n",
              "      <td>2110-07-29 23:56:00</td>\n",
              "      <td>2110-08-04 15:10:00</td>\n",
              "      <td>NaT</td>\n",
              "      <td>0</td>\n",
              "      <td>GASTROINTESTINAL BLEED;CHEST PAIN;TELEMETRY</td>\n",
              "      <td>MARRIED</td>\n",
              "      <td>Medicare</td>\n",
              "      <td>ENGL</td>\n",
              "      <td>JEWISH</td>\n",
              "      <td>WHITE</td>\n",
              "      <td>M</td>\n",
              "      <td>1810-07-29</td>\n",
              "      <td>1.7603</td>\n",
              "      <td>1.0</td>\n",
              "      <td>15</td>\n",
              "      <td>30.0</td>\n",
              "      <td>2.0</td>\n",
              "      <td>8.0</td>\n",
              "      <td>207.0</td>\n",
              "      <td>NaN</td>\n",
              "      <td>21.0</td>\n",
              "      <td>20.0</td>\n",
              "      <td>4</td>\n",
              "      <td>NaN</td>\n",
              "      <td>0</td>\n",
              "      <td>1</td>\n",
              "      <td>0</td>\n",
              "      <td>1</td>\n",
              "      <td>0</td>\n",
              "      <td>0</td>\n",
              "      <td>1</td>\n",
              "      <td>0</td>\n",
              "      <td>50.038462</td>\n",
              "      <td>137.714286</td>\n",
              "      <td>44.571429</td>\n",
              "      <td>67.809524</td>\n",
              "      <td>17.038462</td>\n",
              "      <td>36.244444</td>\n",
              "      <td>97.346154</td>\n",
              "      <td>105.000000</td>\n",
              "      <td>-285</td>\n",
              "      <td>5.634722</td>\n",
              "      <td>1.0</td>\n",
              "      <td>0.166667</td>\n",
              "      <td>5.000000</td>\n",
              "      <td>0.333333</td>\n",
              "      <td>1.333333</td>\n",
              "      <td>34.5</td>\n",
              "      <td>NaN</td>\n",
              "      <td>3.5</td>\n",
              "      <td>3.333333</td>\n",
              "      <td>0.666667</td>\n",
              "      <td>NaN</td>\n",
              "    </tr>\n",
              "    <tr>\n",
              "      <th>4</th>\n",
              "      <td>30746</td>\n",
              "      <td>155603</td>\n",
              "      <td>EMERGENCY</td>\n",
              "      <td>2131-08-22 23:07:00</td>\n",
              "      <td>2131-08-28 13:10:00</td>\n",
              "      <td>NaT</td>\n",
              "      <td>0</td>\n",
              "      <td>ALTERED MENTAL STATUS</td>\n",
              "      <td>DIVORCED</td>\n",
              "      <td>Medicare</td>\n",
              "      <td>ENGL</td>\n",
              "      <td>JEWISH</td>\n",
              "      <td>WHITE</td>\n",
              "      <td>M</td>\n",
              "      <td>2055-03-16</td>\n",
              "      <td>5.5894</td>\n",
              "      <td>NaN</td>\n",
              "      <td>22</td>\n",
              "      <td>53.0</td>\n",
              "      <td>6.0</td>\n",
              "      <td>10.0</td>\n",
              "      <td>378.0</td>\n",
              "      <td>165.0</td>\n",
              "      <td>NaN</td>\n",
              "      <td>115.0</td>\n",
              "      <td>7</td>\n",
              "      <td>5.0</td>\n",
              "      <td>0</td>\n",
              "      <td>1</td>\n",
              "      <td>1</td>\n",
              "      <td>0</td>\n",
              "      <td>0</td>\n",
              "      <td>0</td>\n",
              "      <td>0</td>\n",
              "      <td>1</td>\n",
              "      <td>79.285714</td>\n",
              "      <td>130.814815</td>\n",
              "      <td>60.740741</td>\n",
              "      <td>79.740741</td>\n",
              "      <td>18.875000</td>\n",
              "      <td>37.074074</td>\n",
              "      <td>98.827586</td>\n",
              "      <td>141.300000</td>\n",
              "      <td>76</td>\n",
              "      <td>5.585417</td>\n",
              "      <td>1.0</td>\n",
              "      <td>NaN</td>\n",
              "      <td>8.833333</td>\n",
              "      <td>1.000000</td>\n",
              "      <td>1.666667</td>\n",
              "      <td>63.0</td>\n",
              "      <td>27.500000</td>\n",
              "      <td>NaN</td>\n",
              "      <td>19.166667</td>\n",
              "      <td>1.166667</td>\n",
              "      <td>0.833333</td>\n",
              "    </tr>\n",
              "  </tbody>\n",
              "</table>\n",
              "</div>"
            ],
            "text/plain": [
              "   SUBJECT_ID  HADM_ID  ... TRANSFER_COUNT_DAY MICRO_COUNT_DAY\n",
              "0        7275   136809  ...           0.600000        9.400000\n",
              "1       17575   187131  ...           0.250000        2.250000\n",
              "2       25251   142346  ...           0.428571        3.285714\n",
              "3       32339   181355  ...           0.666667             NaN\n",
              "4       30746   155603  ...           1.166667        0.833333\n",
              "\n",
              "[5 rows x 56 columns]"
            ]
          },
          "metadata": {
            "tags": []
          },
          "execution_count": 113
        }
      ]
    },
    {
      "cell_type": "code",
      "metadata": {
        "colab": {
          "base_uri": "https://localhost:8080/"
        },
        "id": "AjvW0HYwDiy9",
        "outputId": "34897665-3ad1-450a-94e9-b944911ac05d"
      },
      "source": [
        "df.info()"
      ],
      "execution_count": 114,
      "outputs": [
        {
          "output_type": "stream",
          "text": [
            "<class 'pandas.core.frame.DataFrame'>\n",
            "RangeIndex: 62477 entries, 0 to 62476\n",
            "Data columns (total 56 columns):\n",
            " #   Column               Non-Null Count  Dtype         \n",
            "---  ------               --------------  -----         \n",
            " 0   SUBJECT_ID           62477 non-null  int64         \n",
            " 1   HADM_ID              62477 non-null  int64         \n",
            " 2   ADMISSION_TYPE       62477 non-null  object        \n",
            " 3   ADMITTIME            62477 non-null  datetime64[ns]\n",
            " 4   DISCHTIME            62477 non-null  datetime64[ns]\n",
            " 5   DEATHTIME            6624 non-null   object        \n",
            " 6   IN_HOSP_DEATH        62477 non-null  int64         \n",
            " 7   DIAGNOSIS            62452 non-null  object        \n",
            " 8   MARITAL_STATUS       52155 non-null  object        \n",
            " 9   INSURANCE            62477 non-null  object        \n",
            " 10  LANGUAGE             35933 non-null  object        \n",
            " 11  RELIGION             61995 non-null  object        \n",
            " 12  ETHNICITY            62477 non-null  object        \n",
            " 13  GENDER               62477 non-null  object        \n",
            " 14  DOB                  62477 non-null  datetime64[ns]\n",
            " 15  LOS_ICU              61277 non-null  float64       \n",
            " 16  CALLOUT_COUNT        31252 non-null  float64       \n",
            " 17  DIAG_COUNT           62477 non-null  int64         \n",
            " 18  PRES_COUNT           53492 non-null  float64       \n",
            " 19  PROC_COUNT           55681 non-null  float64       \n",
            " 20  CPT_COUNT            47430 non-null  float64       \n",
            " 21  LAB_COUNT            61652 non-null  float64       \n",
            " 22  INPUTS_CV_COUNT      33945 non-null  float64       \n",
            " 23  INPUTS_MV_COUNT      23422 non-null  float64       \n",
            " 24  OUTPUT_COUNT         55467 non-null  float64       \n",
            " 25  TRANSFER_COUNT       62477 non-null  int64         \n",
            " 26  MICRO_COUNT          52143 non-null  float64       \n",
            " 27  SEPSIS               62477 non-null  int64         \n",
            " 28  ORGAN_FAILURE        62477 non-null  int64         \n",
            " 29  CARDIOVASCULAR       62477 non-null  int64         \n",
            " 30  RENAL                62477 non-null  int64         \n",
            " 31  HEPATIC              62477 non-null  int64         \n",
            " 32  HEMATOLOGIC          62477 non-null  int64         \n",
            " 33  METABOLIC            62477 non-null  int64         \n",
            " 34  NEUROLOGIC           62477 non-null  int64         \n",
            " 35  HeartRate_Mean       59048 non-null  float64       \n",
            " 36  SysBP_Mean           52254 non-null  float64       \n",
            " 37  DiasBP_Mean          52252 non-null  float64       \n",
            " 38  MeanBP_Mean          52288 non-null  float64       \n",
            " 39  RespRate_Mean        52229 non-null  float64       \n",
            " 40  TempC_Mean           51382 non-null  float64       \n",
            " 41  SpO2_Mean            52233 non-null  float64       \n",
            " 42  Glucose_Mean         52991 non-null  float64       \n",
            " 43  AGE                  62477 non-null  int64         \n",
            " 44  LOS                  62477 non-null  float64       \n",
            " 45  PREDLOS              62477 non-null  float64       \n",
            " 46  CALLOUT_COUNT_DAY    31252 non-null  float64       \n",
            " 47  PRES_COUNT_DAY       53492 non-null  float64       \n",
            " 48  PROC_COUNT_DAY       55681 non-null  float64       \n",
            " 49  CPT_COUNT_DAY        47430 non-null  float64       \n",
            " 50  LAB_COUNT_DAY        61652 non-null  float64       \n",
            " 51  INPUTS_CV_COUNT_DAY  33945 non-null  float64       \n",
            " 52  INPUTS_MV_COUNT_DAY  23422 non-null  float64       \n",
            " 53  OUTPUT_COUNT_DAY     55467 non-null  float64       \n",
            " 54  TRANSFER_COUNT_DAY   62477 non-null  float64       \n",
            " 55  MICRO_COUNT_DAY      52143 non-null  float64       \n",
            "dtypes: datetime64[ns](3), float64(30), int64(14), object(9)\n",
            "memory usage: 26.7+ MB\n"
          ],
          "name": "stdout"
        }
      ]
    },
    {
      "cell_type": "code",
      "metadata": {
        "id": "a3HfcWIoDtNE"
      },
      "source": [
        "for col_name in ['CALLOUT_COUNT', 'PRES_COUNT', 'PROC_COUNT', 'CPT_COUNT', 'LAB_COUNT', 'INPUTS_CV_COUNT', 'INPUTS_MV_COUNT', 'OUTPUT_COUNT', 'TRANSFER_COUNT', 'MICRO_COUNT']:\n",
        "  df[col_name] = df[col_name].fillna(0)\n",
        "  df[col_name + '_DAY'] = df[col_name + '_DAY'].fillna(0)"
      ],
      "execution_count": 115,
      "outputs": []
    },
    {
      "cell_type": "code",
      "metadata": {
        "id": "fIMq31nMDx84"
      },
      "source": [
        "df['DIAG_COUNT'] = df['DIAG_COUNT'].fillna(0)\n",
        "df['LOS_ICU'] = df['LOS_ICU'].fillna(0)\n"
      ],
      "execution_count": 116,
      "outputs": []
    },
    {
      "cell_type": "code",
      "metadata": {
        "id": "-RlUAM97O6qz"
      },
      "source": [
        "df['HeartRate_Mean'] = df['HeartRate_Mean'].fillna(0)\n",
        "df['SysBP_Mean'] = df['SysBP_Mean'].fillna(0)\n",
        "df['DiasBP_Mean'] = df['DiasBP_Mean'].fillna(0)\n",
        "df['MeanBP_Mean'] = df['MeanBP_Mean'].fillna(0)\n",
        "df['RespRate_Mean'] = df['RespRate_Mean'].fillna(0)\n",
        "df['TempC_Mean'] = df['TempC_Mean'].fillna(0)\n",
        "df['SpO2_Mean'] = df['SpO2_Mean'].fillna(0)\n",
        "df['Glucose_Mean'] = df['Glucose_Mean'].fillna(0)"
      ],
      "execution_count": 117,
      "outputs": []
    },
    {
      "cell_type": "code",
      "metadata": {
        "id": "IHtK9-MKRL2b"
      },
      "source": [
        ""
      ],
      "execution_count": null,
      "outputs": []
    },
    {
      "cell_type": "code",
      "metadata": {
        "colab": {
          "base_uri": "https://localhost:8080/"
        },
        "id": "nGMNhRkqRMI6",
        "outputId": "882e4e79-0b9b-4246-8d0d-d186f3a64e72"
      },
      "source": [
        "df.isna().sum()"
      ],
      "execution_count": 118,
      "outputs": [
        {
          "output_type": "execute_result",
          "data": {
            "text/plain": [
              "SUBJECT_ID                 0\n",
              "HADM_ID                    0\n",
              "ADMISSION_TYPE             0\n",
              "ADMITTIME                  0\n",
              "DISCHTIME                  0\n",
              "DEATHTIME              55853\n",
              "IN_HOSP_DEATH              0\n",
              "DIAGNOSIS                 25\n",
              "MARITAL_STATUS         10322\n",
              "INSURANCE                  0\n",
              "LANGUAGE               26544\n",
              "RELIGION                 482\n",
              "ETHNICITY                  0\n",
              "GENDER                     0\n",
              "DOB                        0\n",
              "LOS_ICU                    0\n",
              "CALLOUT_COUNT              0\n",
              "DIAG_COUNT                 0\n",
              "PRES_COUNT                 0\n",
              "PROC_COUNT                 0\n",
              "CPT_COUNT                  0\n",
              "LAB_COUNT                  0\n",
              "INPUTS_CV_COUNT            0\n",
              "INPUTS_MV_COUNT            0\n",
              "OUTPUT_COUNT               0\n",
              "TRANSFER_COUNT             0\n",
              "MICRO_COUNT                0\n",
              "SEPSIS                     0\n",
              "ORGAN_FAILURE              0\n",
              "CARDIOVASCULAR             0\n",
              "RENAL                      0\n",
              "HEPATIC                    0\n",
              "HEMATOLOGIC                0\n",
              "METABOLIC                  0\n",
              "NEUROLOGIC                 0\n",
              "HeartRate_Mean             0\n",
              "SysBP_Mean                 0\n",
              "DiasBP_Mean                0\n",
              "MeanBP_Mean                0\n",
              "RespRate_Mean              0\n",
              "TempC_Mean                 0\n",
              "SpO2_Mean                  0\n",
              "Glucose_Mean               0\n",
              "AGE                        0\n",
              "LOS                        0\n",
              "PREDLOS                    0\n",
              "CALLOUT_COUNT_DAY          0\n",
              "PRES_COUNT_DAY             0\n",
              "PROC_COUNT_DAY             0\n",
              "CPT_COUNT_DAY              0\n",
              "LAB_COUNT_DAY              0\n",
              "INPUTS_CV_COUNT_DAY        0\n",
              "INPUTS_MV_COUNT_DAY        0\n",
              "OUTPUT_COUNT_DAY           0\n",
              "TRANSFER_COUNT_DAY         0\n",
              "MICRO_COUNT_DAY            0\n",
              "dtype: int64"
            ]
          },
          "metadata": {
            "tags": []
          },
          "execution_count": 118
        }
      ]
    },
    {
      "cell_type": "code",
      "metadata": {
        "colab": {
          "base_uri": "https://localhost:8080/",
          "height": 326
        },
        "id": "sl4cnTXvD7KE",
        "outputId": "fad8ef84-4995-4d63-ef3b-a7fc803d7f06"
      },
      "source": [
        "df.head()"
      ],
      "execution_count": 119,
      "outputs": [
        {
          "output_type": "execute_result",
          "data": {
            "text/html": [
              "<div>\n",
              "<style scoped>\n",
              "    .dataframe tbody tr th:only-of-type {\n",
              "        vertical-align: middle;\n",
              "    }\n",
              "\n",
              "    .dataframe tbody tr th {\n",
              "        vertical-align: top;\n",
              "    }\n",
              "\n",
              "    .dataframe thead th {\n",
              "        text-align: right;\n",
              "    }\n",
              "</style>\n",
              "<table border=\"1\" class=\"dataframe\">\n",
              "  <thead>\n",
              "    <tr style=\"text-align: right;\">\n",
              "      <th></th>\n",
              "      <th>SUBJECT_ID</th>\n",
              "      <th>HADM_ID</th>\n",
              "      <th>ADMISSION_TYPE</th>\n",
              "      <th>ADMITTIME</th>\n",
              "      <th>DISCHTIME</th>\n",
              "      <th>DEATHTIME</th>\n",
              "      <th>IN_HOSP_DEATH</th>\n",
              "      <th>DIAGNOSIS</th>\n",
              "      <th>MARITAL_STATUS</th>\n",
              "      <th>INSURANCE</th>\n",
              "      <th>LANGUAGE</th>\n",
              "      <th>RELIGION</th>\n",
              "      <th>ETHNICITY</th>\n",
              "      <th>GENDER</th>\n",
              "      <th>DOB</th>\n",
              "      <th>LOS_ICU</th>\n",
              "      <th>CALLOUT_COUNT</th>\n",
              "      <th>DIAG_COUNT</th>\n",
              "      <th>PRES_COUNT</th>\n",
              "      <th>PROC_COUNT</th>\n",
              "      <th>CPT_COUNT</th>\n",
              "      <th>LAB_COUNT</th>\n",
              "      <th>INPUTS_CV_COUNT</th>\n",
              "      <th>INPUTS_MV_COUNT</th>\n",
              "      <th>OUTPUT_COUNT</th>\n",
              "      <th>TRANSFER_COUNT</th>\n",
              "      <th>MICRO_COUNT</th>\n",
              "      <th>SEPSIS</th>\n",
              "      <th>ORGAN_FAILURE</th>\n",
              "      <th>CARDIOVASCULAR</th>\n",
              "      <th>RENAL</th>\n",
              "      <th>HEPATIC</th>\n",
              "      <th>HEMATOLOGIC</th>\n",
              "      <th>METABOLIC</th>\n",
              "      <th>NEUROLOGIC</th>\n",
              "      <th>HeartRate_Mean</th>\n",
              "      <th>SysBP_Mean</th>\n",
              "      <th>DiasBP_Mean</th>\n",
              "      <th>MeanBP_Mean</th>\n",
              "      <th>RespRate_Mean</th>\n",
              "      <th>TempC_Mean</th>\n",
              "      <th>SpO2_Mean</th>\n",
              "      <th>Glucose_Mean</th>\n",
              "      <th>AGE</th>\n",
              "      <th>LOS</th>\n",
              "      <th>PREDLOS</th>\n",
              "      <th>CALLOUT_COUNT_DAY</th>\n",
              "      <th>PRES_COUNT_DAY</th>\n",
              "      <th>PROC_COUNT_DAY</th>\n",
              "      <th>CPT_COUNT_DAY</th>\n",
              "      <th>LAB_COUNT_DAY</th>\n",
              "      <th>INPUTS_CV_COUNT_DAY</th>\n",
              "      <th>INPUTS_MV_COUNT_DAY</th>\n",
              "      <th>OUTPUT_COUNT_DAY</th>\n",
              "      <th>TRANSFER_COUNT_DAY</th>\n",
              "      <th>MICRO_COUNT_DAY</th>\n",
              "    </tr>\n",
              "  </thead>\n",
              "  <tbody>\n",
              "    <tr>\n",
              "      <th>0</th>\n",
              "      <td>7275</td>\n",
              "      <td>136809</td>\n",
              "      <td>EMERGENCY</td>\n",
              "      <td>2139-08-28 12:35:00</td>\n",
              "      <td>2139-09-01 16:32:00</td>\n",
              "      <td>NaT</td>\n",
              "      <td>0</td>\n",
              "      <td>ALTERED MENTAL STATUS; DYSPNEA</td>\n",
              "      <td>DIVORCED</td>\n",
              "      <td>Medicare</td>\n",
              "      <td>ENGL</td>\n",
              "      <td>EPISCOPALIAN</td>\n",
              "      <td>WHITE</td>\n",
              "      <td>M</td>\n",
              "      <td>2078-11-11</td>\n",
              "      <td>1.3848</td>\n",
              "      <td>1.0</td>\n",
              "      <td>15</td>\n",
              "      <td>44.0</td>\n",
              "      <td>1.0</td>\n",
              "      <td>7.0</td>\n",
              "      <td>182.0</td>\n",
              "      <td>0.0</td>\n",
              "      <td>18.0</td>\n",
              "      <td>0.0</td>\n",
              "      <td>3</td>\n",
              "      <td>47.0</td>\n",
              "      <td>1</td>\n",
              "      <td>1</td>\n",
              "      <td>0</td>\n",
              "      <td>1</td>\n",
              "      <td>0</td>\n",
              "      <td>0</td>\n",
              "      <td>0</td>\n",
              "      <td>0</td>\n",
              "      <td>92.772727</td>\n",
              "      <td>142.111111</td>\n",
              "      <td>56.722222</td>\n",
              "      <td>76.000000</td>\n",
              "      <td>20.875000</td>\n",
              "      <td>36.851852</td>\n",
              "      <td>95.086957</td>\n",
              "      <td>133.750000</td>\n",
              "      <td>60</td>\n",
              "      <td>4.164583</td>\n",
              "      <td>0.0</td>\n",
              "      <td>0.200000</td>\n",
              "      <td>8.800000</td>\n",
              "      <td>0.200000</td>\n",
              "      <td>1.400000</td>\n",
              "      <td>36.4</td>\n",
              "      <td>0.000000</td>\n",
              "      <td>3.6</td>\n",
              "      <td>0.000000</td>\n",
              "      <td>0.600000</td>\n",
              "      <td>9.400000</td>\n",
              "    </tr>\n",
              "    <tr>\n",
              "      <th>1</th>\n",
              "      <td>17575</td>\n",
              "      <td>187131</td>\n",
              "      <td>EMERGENCY</td>\n",
              "      <td>2124-10-21 08:32:00</td>\n",
              "      <td>2124-11-01 11:14:00</td>\n",
              "      <td>NaT</td>\n",
              "      <td>0</td>\n",
              "      <td>MVA;TRAUMA</td>\n",
              "      <td>SINGLE</td>\n",
              "      <td>Government</td>\n",
              "      <td>None</td>\n",
              "      <td>OTHER</td>\n",
              "      <td>BLACK/AFRICAN AMERICAN</td>\n",
              "      <td>M</td>\n",
              "      <td>2106-01-23</td>\n",
              "      <td>3.2653</td>\n",
              "      <td>0.0</td>\n",
              "      <td>9</td>\n",
              "      <td>0.0</td>\n",
              "      <td>9.0</td>\n",
              "      <td>0.0</td>\n",
              "      <td>408.0</td>\n",
              "      <td>331.0</td>\n",
              "      <td>0.0</td>\n",
              "      <td>89.0</td>\n",
              "      <td>3</td>\n",
              "      <td>27.0</td>\n",
              "      <td>0</td>\n",
              "      <td>1</td>\n",
              "      <td>0</td>\n",
              "      <td>0</td>\n",
              "      <td>0</td>\n",
              "      <td>0</td>\n",
              "      <td>0</td>\n",
              "      <td>0</td>\n",
              "      <td>108.268293</td>\n",
              "      <td>119.780488</td>\n",
              "      <td>53.317073</td>\n",
              "      <td>73.948718</td>\n",
              "      <td>18.291667</td>\n",
              "      <td>38.388888</td>\n",
              "      <td>99.288889</td>\n",
              "      <td>115.000000</td>\n",
              "      <td>18</td>\n",
              "      <td>11.112500</td>\n",
              "      <td>1.0</td>\n",
              "      <td>0.000000</td>\n",
              "      <td>0.000000</td>\n",
              "      <td>0.750000</td>\n",
              "      <td>0.000000</td>\n",
              "      <td>34.0</td>\n",
              "      <td>27.583333</td>\n",
              "      <td>0.0</td>\n",
              "      <td>7.416667</td>\n",
              "      <td>0.250000</td>\n",
              "      <td>2.250000</td>\n",
              "    </tr>\n",
              "    <tr>\n",
              "      <th>2</th>\n",
              "      <td>25251</td>\n",
              "      <td>142346</td>\n",
              "      <td>EMERGENCY</td>\n",
              "      <td>2167-01-23 16:23:00</td>\n",
              "      <td>2167-02-06 13:53:00</td>\n",
              "      <td>NaT</td>\n",
              "      <td>0</td>\n",
              "      <td>INFECTED RIGHT FOOT</td>\n",
              "      <td>DIVORCED</td>\n",
              "      <td>Medicare</td>\n",
              "      <td>None</td>\n",
              "      <td>EPISCOPALIAN</td>\n",
              "      <td>WHITE</td>\n",
              "      <td>M</td>\n",
              "      <td>2096-08-27</td>\n",
              "      <td>3.2458</td>\n",
              "      <td>0.0</td>\n",
              "      <td>9</td>\n",
              "      <td>0.0</td>\n",
              "      <td>8.0</td>\n",
              "      <td>0.0</td>\n",
              "      <td>574.0</td>\n",
              "      <td>390.0</td>\n",
              "      <td>0.0</td>\n",
              "      <td>90.0</td>\n",
              "      <td>6</td>\n",
              "      <td>46.0</td>\n",
              "      <td>0</td>\n",
              "      <td>0</td>\n",
              "      <td>0</td>\n",
              "      <td>0</td>\n",
              "      <td>0</td>\n",
              "      <td>0</td>\n",
              "      <td>0</td>\n",
              "      <td>0</td>\n",
              "      <td>96.522727</td>\n",
              "      <td>109.454545</td>\n",
              "      <td>57.795455</td>\n",
              "      <td>73.727273</td>\n",
              "      <td>15.500000</td>\n",
              "      <td>36.697619</td>\n",
              "      <td>98.380952</td>\n",
              "      <td>149.619048</td>\n",
              "      <td>70</td>\n",
              "      <td>13.895833</td>\n",
              "      <td>1.0</td>\n",
              "      <td>0.000000</td>\n",
              "      <td>0.000000</td>\n",
              "      <td>0.571429</td>\n",
              "      <td>0.000000</td>\n",
              "      <td>41.0</td>\n",
              "      <td>27.857143</td>\n",
              "      <td>0.0</td>\n",
              "      <td>6.428571</td>\n",
              "      <td>0.428571</td>\n",
              "      <td>3.285714</td>\n",
              "    </tr>\n",
              "    <tr>\n",
              "      <th>3</th>\n",
              "      <td>32339</td>\n",
              "      <td>181355</td>\n",
              "      <td>EMERGENCY</td>\n",
              "      <td>2110-07-29 23:56:00</td>\n",
              "      <td>2110-08-04 15:10:00</td>\n",
              "      <td>NaT</td>\n",
              "      <td>0</td>\n",
              "      <td>GASTROINTESTINAL BLEED;CHEST PAIN;TELEMETRY</td>\n",
              "      <td>MARRIED</td>\n",
              "      <td>Medicare</td>\n",
              "      <td>ENGL</td>\n",
              "      <td>JEWISH</td>\n",
              "      <td>WHITE</td>\n",
              "      <td>M</td>\n",
              "      <td>1810-07-29</td>\n",
              "      <td>1.7603</td>\n",
              "      <td>1.0</td>\n",
              "      <td>15</td>\n",
              "      <td>30.0</td>\n",
              "      <td>2.0</td>\n",
              "      <td>8.0</td>\n",
              "      <td>207.0</td>\n",
              "      <td>0.0</td>\n",
              "      <td>21.0</td>\n",
              "      <td>20.0</td>\n",
              "      <td>4</td>\n",
              "      <td>0.0</td>\n",
              "      <td>0</td>\n",
              "      <td>1</td>\n",
              "      <td>0</td>\n",
              "      <td>1</td>\n",
              "      <td>0</td>\n",
              "      <td>0</td>\n",
              "      <td>1</td>\n",
              "      <td>0</td>\n",
              "      <td>50.038462</td>\n",
              "      <td>137.714286</td>\n",
              "      <td>44.571429</td>\n",
              "      <td>67.809524</td>\n",
              "      <td>17.038462</td>\n",
              "      <td>36.244444</td>\n",
              "      <td>97.346154</td>\n",
              "      <td>105.000000</td>\n",
              "      <td>-285</td>\n",
              "      <td>5.634722</td>\n",
              "      <td>1.0</td>\n",
              "      <td>0.166667</td>\n",
              "      <td>5.000000</td>\n",
              "      <td>0.333333</td>\n",
              "      <td>1.333333</td>\n",
              "      <td>34.5</td>\n",
              "      <td>0.000000</td>\n",
              "      <td>3.5</td>\n",
              "      <td>3.333333</td>\n",
              "      <td>0.666667</td>\n",
              "      <td>0.000000</td>\n",
              "    </tr>\n",
              "    <tr>\n",
              "      <th>4</th>\n",
              "      <td>30746</td>\n",
              "      <td>155603</td>\n",
              "      <td>EMERGENCY</td>\n",
              "      <td>2131-08-22 23:07:00</td>\n",
              "      <td>2131-08-28 13:10:00</td>\n",
              "      <td>NaT</td>\n",
              "      <td>0</td>\n",
              "      <td>ALTERED MENTAL STATUS</td>\n",
              "      <td>DIVORCED</td>\n",
              "      <td>Medicare</td>\n",
              "      <td>ENGL</td>\n",
              "      <td>JEWISH</td>\n",
              "      <td>WHITE</td>\n",
              "      <td>M</td>\n",
              "      <td>2055-03-16</td>\n",
              "      <td>5.5894</td>\n",
              "      <td>0.0</td>\n",
              "      <td>22</td>\n",
              "      <td>53.0</td>\n",
              "      <td>6.0</td>\n",
              "      <td>10.0</td>\n",
              "      <td>378.0</td>\n",
              "      <td>165.0</td>\n",
              "      <td>0.0</td>\n",
              "      <td>115.0</td>\n",
              "      <td>7</td>\n",
              "      <td>5.0</td>\n",
              "      <td>0</td>\n",
              "      <td>1</td>\n",
              "      <td>1</td>\n",
              "      <td>0</td>\n",
              "      <td>0</td>\n",
              "      <td>0</td>\n",
              "      <td>0</td>\n",
              "      <td>1</td>\n",
              "      <td>79.285714</td>\n",
              "      <td>130.814815</td>\n",
              "      <td>60.740741</td>\n",
              "      <td>79.740741</td>\n",
              "      <td>18.875000</td>\n",
              "      <td>37.074074</td>\n",
              "      <td>98.827586</td>\n",
              "      <td>141.300000</td>\n",
              "      <td>76</td>\n",
              "      <td>5.585417</td>\n",
              "      <td>1.0</td>\n",
              "      <td>0.000000</td>\n",
              "      <td>8.833333</td>\n",
              "      <td>1.000000</td>\n",
              "      <td>1.666667</td>\n",
              "      <td>63.0</td>\n",
              "      <td>27.500000</td>\n",
              "      <td>0.0</td>\n",
              "      <td>19.166667</td>\n",
              "      <td>1.166667</td>\n",
              "      <td>0.833333</td>\n",
              "    </tr>\n",
              "  </tbody>\n",
              "</table>\n",
              "</div>"
            ],
            "text/plain": [
              "   SUBJECT_ID  HADM_ID  ... TRANSFER_COUNT_DAY MICRO_COUNT_DAY\n",
              "0        7275   136809  ...           0.600000        9.400000\n",
              "1       17575   187131  ...           0.250000        2.250000\n",
              "2       25251   142346  ...           0.428571        3.285714\n",
              "3       32339   181355  ...           0.666667        0.000000\n",
              "4       30746   155603  ...           1.166667        0.833333\n",
              "\n",
              "[5 rows x 56 columns]"
            ]
          },
          "metadata": {
            "tags": []
          },
          "execution_count": 119
        }
      ]
    },
    {
      "cell_type": "code",
      "metadata": {
        "colab": {
          "base_uri": "https://localhost:8080/"
        },
        "id": "31bpvER8D98b",
        "outputId": "5a36163d-9bc0-43ef-ece9-1e291cae794e"
      },
      "source": [
        "df.info()"
      ],
      "execution_count": 120,
      "outputs": [
        {
          "output_type": "stream",
          "text": [
            "<class 'pandas.core.frame.DataFrame'>\n",
            "RangeIndex: 62477 entries, 0 to 62476\n",
            "Data columns (total 56 columns):\n",
            " #   Column               Non-Null Count  Dtype         \n",
            "---  ------               --------------  -----         \n",
            " 0   SUBJECT_ID           62477 non-null  int64         \n",
            " 1   HADM_ID              62477 non-null  int64         \n",
            " 2   ADMISSION_TYPE       62477 non-null  object        \n",
            " 3   ADMITTIME            62477 non-null  datetime64[ns]\n",
            " 4   DISCHTIME            62477 non-null  datetime64[ns]\n",
            " 5   DEATHTIME            6624 non-null   object        \n",
            " 6   IN_HOSP_DEATH        62477 non-null  int64         \n",
            " 7   DIAGNOSIS            62452 non-null  object        \n",
            " 8   MARITAL_STATUS       52155 non-null  object        \n",
            " 9   INSURANCE            62477 non-null  object        \n",
            " 10  LANGUAGE             35933 non-null  object        \n",
            " 11  RELIGION             61995 non-null  object        \n",
            " 12  ETHNICITY            62477 non-null  object        \n",
            " 13  GENDER               62477 non-null  object        \n",
            " 14  DOB                  62477 non-null  datetime64[ns]\n",
            " 15  LOS_ICU              62477 non-null  float64       \n",
            " 16  CALLOUT_COUNT        62477 non-null  float64       \n",
            " 17  DIAG_COUNT           62477 non-null  int64         \n",
            " 18  PRES_COUNT           62477 non-null  float64       \n",
            " 19  PROC_COUNT           62477 non-null  float64       \n",
            " 20  CPT_COUNT            62477 non-null  float64       \n",
            " 21  LAB_COUNT            62477 non-null  float64       \n",
            " 22  INPUTS_CV_COUNT      62477 non-null  float64       \n",
            " 23  INPUTS_MV_COUNT      62477 non-null  float64       \n",
            " 24  OUTPUT_COUNT         62477 non-null  float64       \n",
            " 25  TRANSFER_COUNT       62477 non-null  int64         \n",
            " 26  MICRO_COUNT          62477 non-null  float64       \n",
            " 27  SEPSIS               62477 non-null  int64         \n",
            " 28  ORGAN_FAILURE        62477 non-null  int64         \n",
            " 29  CARDIOVASCULAR       62477 non-null  int64         \n",
            " 30  RENAL                62477 non-null  int64         \n",
            " 31  HEPATIC              62477 non-null  int64         \n",
            " 32  HEMATOLOGIC          62477 non-null  int64         \n",
            " 33  METABOLIC            62477 non-null  int64         \n",
            " 34  NEUROLOGIC           62477 non-null  int64         \n",
            " 35  HeartRate_Mean       62477 non-null  float64       \n",
            " 36  SysBP_Mean           62477 non-null  float64       \n",
            " 37  DiasBP_Mean          62477 non-null  float64       \n",
            " 38  MeanBP_Mean          62477 non-null  float64       \n",
            " 39  RespRate_Mean        62477 non-null  float64       \n",
            " 40  TempC_Mean           62477 non-null  float64       \n",
            " 41  SpO2_Mean            62477 non-null  float64       \n",
            " 42  Glucose_Mean         62477 non-null  float64       \n",
            " 43  AGE                  62477 non-null  int64         \n",
            " 44  LOS                  62477 non-null  float64       \n",
            " 45  PREDLOS              62477 non-null  float64       \n",
            " 46  CALLOUT_COUNT_DAY    62477 non-null  float64       \n",
            " 47  PRES_COUNT_DAY       62477 non-null  float64       \n",
            " 48  PROC_COUNT_DAY       62477 non-null  float64       \n",
            " 49  CPT_COUNT_DAY        62477 non-null  float64       \n",
            " 50  LAB_COUNT_DAY        62477 non-null  float64       \n",
            " 51  INPUTS_CV_COUNT_DAY  62477 non-null  float64       \n",
            " 52  INPUTS_MV_COUNT_DAY  62477 non-null  float64       \n",
            " 53  OUTPUT_COUNT_DAY     62477 non-null  float64       \n",
            " 54  TRANSFER_COUNT_DAY   62477 non-null  float64       \n",
            " 55  MICRO_COUNT_DAY      62477 non-null  float64       \n",
            "dtypes: datetime64[ns](3), float64(30), int64(14), object(9)\n",
            "memory usage: 26.7+ MB\n"
          ],
          "name": "stdout"
        }
      ]
    },
    {
      "cell_type": "code",
      "metadata": {
        "colab": {
          "base_uri": "https://localhost:8080/"
        },
        "id": "VoMXQ3GkEI0r",
        "outputId": "89e50f13-ae31-48f5-bf26-8c101ed547c6"
      },
      "source": [
        "df ['MARITAL_STATUS'].value_counts()\n",
        "df['MARITAL_STATUS'].value_counts(dropna = False) \n",
        "# by specifying dropna = False, the function counts the number of NaN too\n",
        "df['MARITAL_STATUS'] = df['MARITAL_STATUS'].fillna('UNKNOWN (DEFAULT)')\n",
        "df['MARITAL_STATUS'].value_counts(dropna = False) # no more NaN's!"
      ],
      "execution_count": 121,
      "outputs": [
        {
          "output_type": "execute_result",
          "data": {
            "text/plain": [
              "MARRIED              25939\n",
              "SINGLE               14105\n",
              "UNKNOWN (DEFAULT)    10694\n",
              "WIDOWED               7659\n",
              "DIVORCED              3455\n",
              "SEPARATED              609\n",
              "LIFE PARTNER            16\n",
              "Name: MARITAL_STATUS, dtype: int64"
            ]
          },
          "metadata": {
            "tags": []
          },
          "execution_count": 121
        }
      ]
    },
    {
      "cell_type": "code",
      "metadata": {
        "colab": {
          "base_uri": "https://localhost:8080/"
        },
        "id": "cP006VfIEkgf",
        "outputId": "43a15d2e-c276-4bd3-da22-1b87b4e76a89"
      },
      "source": [
        "df['RELIGION'].value_counts(dropna = False)\n",
        "df['RELIGION'] = df['RELIGION'].fillna('NOT SPECIFIED')\n",
        "df['RELIGION'].value_counts(dropna = False) # no more NaN's!"
      ],
      "execution_count": 123,
      "outputs": [
        {
          "output_type": "execute_result",
          "data": {
            "text/plain": [
              "CATHOLIC                  21956\n",
              "NOT SPECIFIED             12857\n",
              "UNOBTAINABLE               8573\n",
              "PROTESTANT QUAKER          7661\n",
              "JEWISH                     5656\n",
              "OTHER                      2862\n",
              "EPISCOPALIAN                816\n",
              "GREEK ORTHODOX              482\n",
              "CHRISTIAN SCIENTIST         453\n",
              "BUDDHIST                    289\n",
              "MUSLIM                      244\n",
              "JEHOVAH'S WITNESS           146\n",
              "UNITARIAN-UNIVERSALIST      132\n",
              "HINDU                       116\n",
              "ROMANIAN EAST. ORTH          93\n",
              "7TH DAY ADVENTIST            86\n",
              "BAPTIST                      28\n",
              "HEBREW                       18\n",
              "METHODIST                     8\n",
              "LUTHERAN                      1\n",
              "Name: RELIGION, dtype: int64"
            ]
          },
          "metadata": {
            "tags": []
          },
          "execution_count": 123
        }
      ]
    },
    {
      "cell_type": "code",
      "metadata": {
        "colab": {
          "base_uri": "https://localhost:8080/"
        },
        "id": "KWzVFNnAEw_3",
        "outputId": "dbd38209-4cad-40d3-e1c1-a3e543c4a111"
      },
      "source": [
        "df['LANGUAGE'].value_counts(dropna = False)\n",
        "df['LANGUAGE'] = df['LANGUAGE'].fillna('ENGL')\n",
        "df['LANGUAGE'].value_counts(dropna = False) # no more NaN's!"
      ],
      "execution_count": 124,
      "outputs": [
        {
          "output_type": "execute_result",
          "data": {
            "text/plain": [
              "ENGL    57604\n",
              "SPAN     1151\n",
              "RUSS      848\n",
              "PTUN      675\n",
              "CANT      439\n",
              "        ...  \n",
              "*RUS        1\n",
              "*FIL        1\n",
              "*PUN        1\n",
              "*FAR        1\n",
              "*ARA        1\n",
              "Name: LANGUAGE, Length: 75, dtype: int64"
            ]
          },
          "metadata": {
            "tags": []
          },
          "execution_count": 124
        }
      ]
    },
    {
      "cell_type": "code",
      "metadata": {
        "colab": {
          "base_uri": "https://localhost:8080/"
        },
        "id": "luT5eQb4E9F0",
        "outputId": "2b1b95d9-3d1d-4587-dc75-04f750e7ca49"
      },
      "source": [
        "df.info()"
      ],
      "execution_count": 125,
      "outputs": [
        {
          "output_type": "stream",
          "text": [
            "<class 'pandas.core.frame.DataFrame'>\n",
            "RangeIndex: 62477 entries, 0 to 62476\n",
            "Data columns (total 56 columns):\n",
            " #   Column               Non-Null Count  Dtype         \n",
            "---  ------               --------------  -----         \n",
            " 0   SUBJECT_ID           62477 non-null  int64         \n",
            " 1   HADM_ID              62477 non-null  int64         \n",
            " 2   ADMISSION_TYPE       62477 non-null  object        \n",
            " 3   ADMITTIME            62477 non-null  datetime64[ns]\n",
            " 4   DISCHTIME            62477 non-null  datetime64[ns]\n",
            " 5   DEATHTIME            6624 non-null   object        \n",
            " 6   IN_HOSP_DEATH        62477 non-null  int64         \n",
            " 7   DIAGNOSIS            62452 non-null  object        \n",
            " 8   MARITAL_STATUS       62477 non-null  object        \n",
            " 9   INSURANCE            62477 non-null  object        \n",
            " 10  LANGUAGE             62477 non-null  object        \n",
            " 11  RELIGION             62477 non-null  object        \n",
            " 12  ETHNICITY            62477 non-null  object        \n",
            " 13  GENDER               62477 non-null  object        \n",
            " 14  DOB                  62477 non-null  datetime64[ns]\n",
            " 15  LOS_ICU              62477 non-null  float64       \n",
            " 16  CALLOUT_COUNT        62477 non-null  float64       \n",
            " 17  DIAG_COUNT           62477 non-null  int64         \n",
            " 18  PRES_COUNT           62477 non-null  float64       \n",
            " 19  PROC_COUNT           62477 non-null  float64       \n",
            " 20  CPT_COUNT            62477 non-null  float64       \n",
            " 21  LAB_COUNT            62477 non-null  float64       \n",
            " 22  INPUTS_CV_COUNT      62477 non-null  float64       \n",
            " 23  INPUTS_MV_COUNT      62477 non-null  float64       \n",
            " 24  OUTPUT_COUNT         62477 non-null  float64       \n",
            " 25  TRANSFER_COUNT       62477 non-null  int64         \n",
            " 26  MICRO_COUNT          62477 non-null  float64       \n",
            " 27  SEPSIS               62477 non-null  int64         \n",
            " 28  ORGAN_FAILURE        62477 non-null  int64         \n",
            " 29  CARDIOVASCULAR       62477 non-null  int64         \n",
            " 30  RENAL                62477 non-null  int64         \n",
            " 31  HEPATIC              62477 non-null  int64         \n",
            " 32  HEMATOLOGIC          62477 non-null  int64         \n",
            " 33  METABOLIC            62477 non-null  int64         \n",
            " 34  NEUROLOGIC           62477 non-null  int64         \n",
            " 35  HeartRate_Mean       62477 non-null  float64       \n",
            " 36  SysBP_Mean           62477 non-null  float64       \n",
            " 37  DiasBP_Mean          62477 non-null  float64       \n",
            " 38  MeanBP_Mean          62477 non-null  float64       \n",
            " 39  RespRate_Mean        62477 non-null  float64       \n",
            " 40  TempC_Mean           62477 non-null  float64       \n",
            " 41  SpO2_Mean            62477 non-null  float64       \n",
            " 42  Glucose_Mean         62477 non-null  float64       \n",
            " 43  AGE                  62477 non-null  int64         \n",
            " 44  LOS                  62477 non-null  float64       \n",
            " 45  PREDLOS              62477 non-null  float64       \n",
            " 46  CALLOUT_COUNT_DAY    62477 non-null  float64       \n",
            " 47  PRES_COUNT_DAY       62477 non-null  float64       \n",
            " 48  PROC_COUNT_DAY       62477 non-null  float64       \n",
            " 49  CPT_COUNT_DAY        62477 non-null  float64       \n",
            " 50  LAB_COUNT_DAY        62477 non-null  float64       \n",
            " 51  INPUTS_CV_COUNT_DAY  62477 non-null  float64       \n",
            " 52  INPUTS_MV_COUNT_DAY  62477 non-null  float64       \n",
            " 53  OUTPUT_COUNT_DAY     62477 non-null  float64       \n",
            " 54  TRANSFER_COUNT_DAY   62477 non-null  float64       \n",
            " 55  MICRO_COUNT_DAY      62477 non-null  float64       \n",
            "dtypes: datetime64[ns](3), float64(30), int64(14), object(9)\n",
            "memory usage: 26.7+ MB\n"
          ],
          "name": "stdout"
        }
      ]
    },
    {
      "cell_type": "code",
      "metadata": {
        "colab": {
          "base_uri": "https://localhost:8080/",
          "height": 283
        },
        "id": "2UHsLaeUFDyT",
        "outputId": "005ee40f-beb3-479f-80d8-a2de993e4d4a"
      },
      "source": [
        "df['AGE'].hist()\n",
        "df.loc[df['AGE'] < 0, 'AGE'] = 90\n",
        "df['AGE'].hist()"
      ],
      "execution_count": 126,
      "outputs": [
        {
          "output_type": "execute_result",
          "data": {
            "text/plain": [
              "<matplotlib.axes._subplots.AxesSubplot at 0x7fb9d77a5f90>"
            ]
          },
          "metadata": {
            "tags": []
          },
          "execution_count": 126
        },
        {
          "output_type": "display_data",
          "data": {
            "image/png": "[encoded data removed]",
            "text/plain": [
              "<Figure size 432x288 with 1 Axes>"
            ]
          },
          "metadata": {
            "tags": [],
            "needs_background": "light"
          }
        }
      ]
    },
    {
      "cell_type": "code",
      "metadata": {
        "colab": {
          "base_uri": "https://localhost:8080/",
          "height": 419
        },
        "id": "nSF34ChzFOz4",
        "outputId": "44f4eec2-0bc3-404b-ac0b-5af9e49ab39d"
      },
      "source": [
        "tmp_df_admissions = pd.get_dummies(df['ADMISSION_TYPE'], prefix = 'ADMISSION_TYPE')\n",
        "tmp_df_admissions"
      ],
      "execution_count": 127,
      "outputs": [
        {
          "output_type": "execute_result",
          "data": {
            "text/html": [
              "<div>\n",
              "<style scoped>\n",
              "    .dataframe tbody tr th:only-of-type {\n",
              "        vertical-align: middle;\n",
              "    }\n",
              "\n",
              "    .dataframe tbody tr th {\n",
              "        vertical-align: top;\n",
              "    }\n",
              "\n",
              "    .dataframe thead th {\n",
              "        text-align: right;\n",
              "    }\n",
              "</style>\n",
              "<table border=\"1\" class=\"dataframe\">\n",
              "  <thead>\n",
              "    <tr style=\"text-align: right;\">\n",
              "      <th></th>\n",
              "      <th>ADMISSION_TYPE_ELECTIVE</th>\n",
              "      <th>ADMISSION_TYPE_EMERGENCY</th>\n",
              "      <th>ADMISSION_TYPE_NEWBORN</th>\n",
              "      <th>ADMISSION_TYPE_URGENT</th>\n",
              "    </tr>\n",
              "  </thead>\n",
              "  <tbody>\n",
              "    <tr>\n",
              "      <th>0</th>\n",
              "      <td>0</td>\n",
              "      <td>1</td>\n",
              "      <td>0</td>\n",
              "      <td>0</td>\n",
              "    </tr>\n",
              "    <tr>\n",
              "      <th>1</th>\n",
              "      <td>0</td>\n",
              "      <td>1</td>\n",
              "      <td>0</td>\n",
              "      <td>0</td>\n",
              "    </tr>\n",
              "    <tr>\n",
              "      <th>2</th>\n",
              "      <td>0</td>\n",
              "      <td>1</td>\n",
              "      <td>0</td>\n",
              "      <td>0</td>\n",
              "    </tr>\n",
              "    <tr>\n",
              "      <th>3</th>\n",
              "      <td>0</td>\n",
              "      <td>1</td>\n",
              "      <td>0</td>\n",
              "      <td>0</td>\n",
              "    </tr>\n",
              "    <tr>\n",
              "      <th>4</th>\n",
              "      <td>0</td>\n",
              "      <td>1</td>\n",
              "      <td>0</td>\n",
              "      <td>0</td>\n",
              "    </tr>\n",
              "    <tr>\n",
              "      <th>...</th>\n",
              "      <td>...</td>\n",
              "      <td>...</td>\n",
              "      <td>...</td>\n",
              "      <td>...</td>\n",
              "    </tr>\n",
              "    <tr>\n",
              "      <th>62472</th>\n",
              "      <td>0</td>\n",
              "      <td>1</td>\n",
              "      <td>0</td>\n",
              "      <td>0</td>\n",
              "    </tr>\n",
              "    <tr>\n",
              "      <th>62473</th>\n",
              "      <td>0</td>\n",
              "      <td>1</td>\n",
              "      <td>0</td>\n",
              "      <td>0</td>\n",
              "    </tr>\n",
              "    <tr>\n",
              "      <th>62474</th>\n",
              "      <td>0</td>\n",
              "      <td>1</td>\n",
              "      <td>0</td>\n",
              "      <td>0</td>\n",
              "    </tr>\n",
              "    <tr>\n",
              "      <th>62475</th>\n",
              "      <td>0</td>\n",
              "      <td>1</td>\n",
              "      <td>0</td>\n",
              "      <td>0</td>\n",
              "    </tr>\n",
              "    <tr>\n",
              "      <th>62476</th>\n",
              "      <td>0</td>\n",
              "      <td>0</td>\n",
              "      <td>0</td>\n",
              "      <td>1</td>\n",
              "    </tr>\n",
              "  </tbody>\n",
              "</table>\n",
              "<p>62477 rows × 4 columns</p>\n",
              "</div>"
            ],
            "text/plain": [
              "       ADMISSION_TYPE_ELECTIVE  ...  ADMISSION_TYPE_URGENT\n",
              "0                            0  ...                      0\n",
              "1                            0  ...                      0\n",
              "2                            0  ...                      0\n",
              "3                            0  ...                      0\n",
              "4                            0  ...                      0\n",
              "...                        ...  ...                    ...\n",
              "62472                        0  ...                      0\n",
              "62473                        0  ...                      0\n",
              "62474                        0  ...                      0\n",
              "62475                        0  ...                      0\n",
              "62476                        0  ...                      1\n",
              "\n",
              "[62477 rows x 4 columns]"
            ]
          },
          "metadata": {
            "tags": []
          },
          "execution_count": 127
        }
      ]
    },
    {
      "cell_type": "code",
      "metadata": {
        "id": "aw8Q4sDEGH2F"
      },
      "source": [
        "df = pd.concat([df, tmp_df_admissions], axis = 1) \n",
        "# add the above temporary dataframe to the original dataframe, axis = 1 specifies that we want to stack them horizontally not vertically"
      ],
      "execution_count": 128,
      "outputs": []
    },
    {
      "cell_type": "code",
      "metadata": {
        "colab": {
          "base_uri": "https://localhost:8080/"
        },
        "id": "_7OB_m_2GKhp",
        "outputId": "7e6e34d9-e08f-4c3a-cf5a-1827b0e035ad"
      },
      "source": [
        "df.info()"
      ],
      "execution_count": 129,
      "outputs": [
        {
          "output_type": "stream",
          "text": [
            "<class 'pandas.core.frame.DataFrame'>\n",
            "RangeIndex: 62477 entries, 0 to 62476\n",
            "Data columns (total 60 columns):\n",
            " #   Column                    Non-Null Count  Dtype         \n",
            "---  ------                    --------------  -----         \n",
            " 0   SUBJECT_ID                62477 non-null  int64         \n",
            " 1   HADM_ID                   62477 non-null  int64         \n",
            " 2   ADMISSION_TYPE            62477 non-null  object        \n",
            " 3   ADMITTIME                 62477 non-null  datetime64[ns]\n",
            " 4   DISCHTIME                 62477 non-null  datetime64[ns]\n",
            " 5   DEATHTIME                 6624 non-null   object        \n",
            " 6   IN_HOSP_DEATH             62477 non-null  int64         \n",
            " 7   DIAGNOSIS                 62452 non-null  object        \n",
            " 8   MARITAL_STATUS            62477 non-null  object        \n",
            " 9   INSURANCE                 62477 non-null  object        \n",
            " 10  LANGUAGE                  62477 non-null  object        \n",
            " 11  RELIGION                  62477 non-null  object        \n",
            " 12  ETHNICITY                 62477 non-null  object        \n",
            " 13  GENDER                    62477 non-null  object        \n",
            " 14  DOB                       62477 non-null  datetime64[ns]\n",
            " 15  LOS_ICU                   62477 non-null  float64       \n",
            " 16  CALLOUT_COUNT             62477 non-null  float64       \n",
            " 17  DIAG_COUNT                62477 non-null  int64         \n",
            " 18  PRES_COUNT                62477 non-null  float64       \n",
            " 19  PROC_COUNT                62477 non-null  float64       \n",
            " 20  CPT_COUNT                 62477 non-null  float64       \n",
            " 21  LAB_COUNT                 62477 non-null  float64       \n",
            " 22  INPUTS_CV_COUNT           62477 non-null  float64       \n",
            " 23  INPUTS_MV_COUNT           62477 non-null  float64       \n",
            " 24  OUTPUT_COUNT              62477 non-null  float64       \n",
            " 25  TRANSFER_COUNT            62477 non-null  int64         \n",
            " 26  MICRO_COUNT               62477 non-null  float64       \n",
            " 27  SEPSIS                    62477 non-null  int64         \n",
            " 28  ORGAN_FAILURE             62477 non-null  int64         \n",
            " 29  CARDIOVASCULAR            62477 non-null  int64         \n",
            " 30  RENAL                     62477 non-null  int64         \n",
            " 31  HEPATIC                   62477 non-null  int64         \n",
            " 32  HEMATOLOGIC               62477 non-null  int64         \n",
            " 33  METABOLIC                 62477 non-null  int64         \n",
            " 34  NEUROLOGIC                62477 non-null  int64         \n",
            " 35  HeartRate_Mean            62477 non-null  float64       \n",
            " 36  SysBP_Mean                62477 non-null  float64       \n",
            " 37  DiasBP_Mean               62477 non-null  float64       \n",
            " 38  MeanBP_Mean               62477 non-null  float64       \n",
            " 39  RespRate_Mean             62477 non-null  float64       \n",
            " 40  TempC_Mean                62477 non-null  float64       \n",
            " 41  SpO2_Mean                 62477 non-null  float64       \n",
            " 42  Glucose_Mean              62477 non-null  float64       \n",
            " 43  AGE                       62477 non-null  int64         \n",
            " 44  LOS                       62477 non-null  float64       \n",
            " 45  PREDLOS                   62477 non-null  float64       \n",
            " 46  CALLOUT_COUNT_DAY         62477 non-null  float64       \n",
            " 47  PRES_COUNT_DAY            62477 non-null  float64       \n",
            " 48  PROC_COUNT_DAY            62477 non-null  float64       \n",
            " 49  CPT_COUNT_DAY             62477 non-null  float64       \n",
            " 50  LAB_COUNT_DAY             62477 non-null  float64       \n",
            " 51  INPUTS_CV_COUNT_DAY       62477 non-null  float64       \n",
            " 52  INPUTS_MV_COUNT_DAY       62477 non-null  float64       \n",
            " 53  OUTPUT_COUNT_DAY          62477 non-null  float64       \n",
            " 54  TRANSFER_COUNT_DAY        62477 non-null  float64       \n",
            " 55  MICRO_COUNT_DAY           62477 non-null  float64       \n",
            " 56  ADMISSION_TYPE_ELECTIVE   62477 non-null  uint8         \n",
            " 57  ADMISSION_TYPE_EMERGENCY  62477 non-null  uint8         \n",
            " 58  ADMISSION_TYPE_NEWBORN    62477 non-null  uint8         \n",
            " 59  ADMISSION_TYPE_URGENT     62477 non-null  uint8         \n",
            "dtypes: datetime64[ns](3), float64(30), int64(14), object(9), uint8(4)\n",
            "memory usage: 26.9+ MB\n"
          ],
          "name": "stdout"
        }
      ]
    },
    {
      "cell_type": "code",
      "metadata": {
        "colab": {
          "base_uri": "https://localhost:8080/"
        },
        "id": "zXT6JxjHGPKm",
        "outputId": "5133d954-34fa-4e81-ca6d-332b121b4349"
      },
      "source": [
        "df['GENDER'].value_counts()\n",
        "df['GENDER_F'] = (df['GENDER'] == 'F') * 1\n",
        "df['GENDER_F'].value_counts()"
      ],
      "execution_count": 130,
      "outputs": [
        {
          "output_type": "execute_result",
          "data": {
            "text/plain": [
              "0    34986\n",
              "1    27491\n",
              "Name: GENDER_F, dtype: int64"
            ]
          },
          "metadata": {
            "tags": []
          },
          "execution_count": 130
        }
      ]
    },
    {
      "cell_type": "code",
      "metadata": {
        "colab": {
          "base_uri": "https://localhost:8080/"
        },
        "id": "YLRYoRRuGWrs",
        "outputId": "054820d6-dc3a-4ec6-fc8e-fb76db592af5"
      },
      "source": [
        "df['RELIGION'].value_counts()"
      ],
      "execution_count": 131,
      "outputs": [
        {
          "output_type": "execute_result",
          "data": {
            "text/plain": [
              "CATHOLIC                  21956\n",
              "NOT SPECIFIED             12857\n",
              "UNOBTAINABLE               8573\n",
              "PROTESTANT QUAKER          7661\n",
              "JEWISH                     5656\n",
              "OTHER                      2862\n",
              "EPISCOPALIAN                816\n",
              "GREEK ORTHODOX              482\n",
              "CHRISTIAN SCIENTIST         453\n",
              "BUDDHIST                    289\n",
              "MUSLIM                      244\n",
              "JEHOVAH'S WITNESS           146\n",
              "UNITARIAN-UNIVERSALIST      132\n",
              "HINDU                       116\n",
              "ROMANIAN EAST. ORTH          93\n",
              "7TH DAY ADVENTIST            86\n",
              "BAPTIST                      28\n",
              "HEBREW                       18\n",
              "METHODIST                     8\n",
              "LUTHERAN                      1\n",
              "Name: RELIGION, dtype: int64"
            ]
          },
          "metadata": {
            "tags": []
          },
          "execution_count": 131
        }
      ]
    },
    {
      "cell_type": "code",
      "metadata": {
        "colab": {
          "base_uri": "https://localhost:8080/",
          "height": 419
        },
        "id": "LQnCZCfwGchJ",
        "outputId": "f4d00006-7754-4b42-c99a-5500cd65f7f5"
      },
      "source": [
        "tmp_categories = list(df['RELIGION'].value_counts()[:3].keys()) + ['OTHERS'] # retain the top 3 categories, plus 'OTHERS\n",
        "\n",
        "tmp_categories_dtype = pd.CategoricalDtype(tmp_categories)\n",
        "\n",
        "tmp_df = df['RELIGION'].astype(tmp_categories_dtype).fillna('OTHERS') \n",
        "tmp_df = pd.get_dummies(tmp_df, prefix = 'RELIGION') # create a temporary dataframe with the modified categories\n",
        "\n",
        "df = pd.concat([df, tmp_df], axis = 1) # add to original dataframe\n",
        "\n",
        "tmp_df"
      ],
      "execution_count": 132,
      "outputs": [
        {
          "output_type": "execute_result",
          "data": {
            "text/html": [
              "<div>\n",
              "<style scoped>\n",
              "    .dataframe tbody tr th:only-of-type {\n",
              "        vertical-align: middle;\n",
              "    }\n",
              "\n",
              "    .dataframe tbody tr th {\n",
              "        vertical-align: top;\n",
              "    }\n",
              "\n",
              "    .dataframe thead th {\n",
              "        text-align: right;\n",
              "    }\n",
              "</style>\n",
              "<table border=\"1\" class=\"dataframe\">\n",
              "  <thead>\n",
              "    <tr style=\"text-align: right;\">\n",
              "      <th></th>\n",
              "      <th>RELIGION_CATHOLIC</th>\n",
              "      <th>RELIGION_NOT SPECIFIED</th>\n",
              "      <th>RELIGION_UNOBTAINABLE</th>\n",
              "      <th>RELIGION_OTHERS</th>\n",
              "    </tr>\n",
              "  </thead>\n",
              "  <tbody>\n",
              "    <tr>\n",
              "      <th>0</th>\n",
              "      <td>0</td>\n",
              "      <td>0</td>\n",
              "      <td>0</td>\n",
              "      <td>1</td>\n",
              "    </tr>\n",
              "    <tr>\n",
              "      <th>1</th>\n",
              "      <td>0</td>\n",
              "      <td>0</td>\n",
              "      <td>0</td>\n",
              "      <td>1</td>\n",
              "    </tr>\n",
              "    <tr>\n",
              "      <th>2</th>\n",
              "      <td>0</td>\n",
              "      <td>0</td>\n",
              "      <td>0</td>\n",
              "      <td>1</td>\n",
              "    </tr>\n",
              "    <tr>\n",
              "      <th>3</th>\n",
              "      <td>0</td>\n",
              "      <td>0</td>\n",
              "      <td>0</td>\n",
              "      <td>1</td>\n",
              "    </tr>\n",
              "    <tr>\n",
              "      <th>4</th>\n",
              "      <td>0</td>\n",
              "      <td>0</td>\n",
              "      <td>0</td>\n",
              "      <td>1</td>\n",
              "    </tr>\n",
              "    <tr>\n",
              "      <th>...</th>\n",
              "      <td>...</td>\n",
              "      <td>...</td>\n",
              "      <td>...</td>\n",
              "      <td>...</td>\n",
              "    </tr>\n",
              "    <tr>\n",
              "      <th>62472</th>\n",
              "      <td>0</td>\n",
              "      <td>0</td>\n",
              "      <td>1</td>\n",
              "      <td>0</td>\n",
              "    </tr>\n",
              "    <tr>\n",
              "      <th>62473</th>\n",
              "      <td>0</td>\n",
              "      <td>0</td>\n",
              "      <td>0</td>\n",
              "      <td>1</td>\n",
              "    </tr>\n",
              "    <tr>\n",
              "      <th>62474</th>\n",
              "      <td>0</td>\n",
              "      <td>1</td>\n",
              "      <td>0</td>\n",
              "      <td>0</td>\n",
              "    </tr>\n",
              "    <tr>\n",
              "      <th>62475</th>\n",
              "      <td>0</td>\n",
              "      <td>1</td>\n",
              "      <td>0</td>\n",
              "      <td>0</td>\n",
              "    </tr>\n",
              "    <tr>\n",
              "      <th>62476</th>\n",
              "      <td>0</td>\n",
              "      <td>1</td>\n",
              "      <td>0</td>\n",
              "      <td>0</td>\n",
              "    </tr>\n",
              "  </tbody>\n",
              "</table>\n",
              "<p>62477 rows × 4 columns</p>\n",
              "</div>"
            ],
            "text/plain": [
              "       RELIGION_CATHOLIC  ...  RELIGION_OTHERS\n",
              "0                      0  ...                1\n",
              "1                      0  ...                1\n",
              "2                      0  ...                1\n",
              "3                      0  ...                1\n",
              "4                      0  ...                1\n",
              "...                  ...  ...              ...\n",
              "62472                  0  ...                0\n",
              "62473                  0  ...                1\n",
              "62474                  0  ...                0\n",
              "62475                  0  ...                0\n",
              "62476                  0  ...                0\n",
              "\n",
              "[62477 rows x 4 columns]"
            ]
          },
          "metadata": {
            "tags": []
          },
          "execution_count": 132
        }
      ]
    },
    {
      "cell_type": "code",
      "metadata": {
        "colab": {
          "base_uri": "https://localhost:8080/",
          "height": 419
        },
        "id": "cF_-dDu4G425",
        "outputId": "84d32f51-0c0a-4afe-fe04-239911482190"
      },
      "source": [
        "tmp_categories = list(df['INSURANCE'].value_counts()[:3].keys()) + ['OTHERS'] # retain the top 3 categories, plus 'OTHERS\n",
        "\n",
        "tmp_categories_dtype = pd.CategoricalDtype(tmp_categories)\n",
        "\n",
        "tmp_df = df['INSURANCE'].astype(tmp_categories_dtype).fillna('OTHERS')\n",
        "tmp_df = pd.get_dummies(tmp_df, prefix = 'INSURANCE') # create a temporary dataframe with the modified categories\n",
        "\n",
        "df = pd.concat([df, tmp_df], axis = 1) # add to original dataframe\n",
        "\n",
        "tmp_df"
      ],
      "execution_count": 133,
      "outputs": [
        {
          "output_type": "execute_result",
          "data": {
            "text/html": [
              "<div>\n",
              "<style scoped>\n",
              "    .dataframe tbody tr th:only-of-type {\n",
              "        vertical-align: middle;\n",
              "    }\n",
              "\n",
              "    .dataframe tbody tr th {\n",
              "        vertical-align: top;\n",
              "    }\n",
              "\n",
              "    .dataframe thead th {\n",
              "        text-align: right;\n",
              "    }\n",
              "</style>\n",
              "<table border=\"1\" class=\"dataframe\">\n",
              "  <thead>\n",
              "    <tr style=\"text-align: right;\">\n",
              "      <th></th>\n",
              "      <th>INSURANCE_Medicare</th>\n",
              "      <th>INSURANCE_Private</th>\n",
              "      <th>INSURANCE_Medicaid</th>\n",
              "      <th>INSURANCE_OTHERS</th>\n",
              "    </tr>\n",
              "  </thead>\n",
              "  <tbody>\n",
              "    <tr>\n",
              "      <th>0</th>\n",
              "      <td>1</td>\n",
              "      <td>0</td>\n",
              "      <td>0</td>\n",
              "      <td>0</td>\n",
              "    </tr>\n",
              "    <tr>\n",
              "      <th>1</th>\n",
              "      <td>0</td>\n",
              "      <td>0</td>\n",
              "      <td>0</td>\n",
              "      <td>1</td>\n",
              "    </tr>\n",
              "    <tr>\n",
              "      <th>2</th>\n",
              "      <td>1</td>\n",
              "      <td>0</td>\n",
              "      <td>0</td>\n",
              "      <td>0</td>\n",
              "    </tr>\n",
              "    <tr>\n",
              "      <th>3</th>\n",
              "      <td>1</td>\n",
              "      <td>0</td>\n",
              "      <td>0</td>\n",
              "      <td>0</td>\n",
              "    </tr>\n",
              "    <tr>\n",
              "      <th>4</th>\n",
              "      <td>1</td>\n",
              "      <td>0</td>\n",
              "      <td>0</td>\n",
              "      <td>0</td>\n",
              "    </tr>\n",
              "    <tr>\n",
              "      <th>...</th>\n",
              "      <td>...</td>\n",
              "      <td>...</td>\n",
              "      <td>...</td>\n",
              "      <td>...</td>\n",
              "    </tr>\n",
              "    <tr>\n",
              "      <th>62472</th>\n",
              "      <td>0</td>\n",
              "      <td>1</td>\n",
              "      <td>0</td>\n",
              "      <td>0</td>\n",
              "    </tr>\n",
              "    <tr>\n",
              "      <th>62473</th>\n",
              "      <td>0</td>\n",
              "      <td>0</td>\n",
              "      <td>1</td>\n",
              "      <td>0</td>\n",
              "    </tr>\n",
              "    <tr>\n",
              "      <th>62474</th>\n",
              "      <td>0</td>\n",
              "      <td>1</td>\n",
              "      <td>0</td>\n",
              "      <td>0</td>\n",
              "    </tr>\n",
              "    <tr>\n",
              "      <th>62475</th>\n",
              "      <td>1</td>\n",
              "      <td>0</td>\n",
              "      <td>0</td>\n",
              "      <td>0</td>\n",
              "    </tr>\n",
              "    <tr>\n",
              "      <th>62476</th>\n",
              "      <td>1</td>\n",
              "      <td>0</td>\n",
              "      <td>0</td>\n",
              "      <td>0</td>\n",
              "    </tr>\n",
              "  </tbody>\n",
              "</table>\n",
              "<p>62477 rows × 4 columns</p>\n",
              "</div>"
            ],
            "text/plain": [
              "       INSURANCE_Medicare  ...  INSURANCE_OTHERS\n",
              "0                       1  ...                 0\n",
              "1                       0  ...                 1\n",
              "2                       1  ...                 0\n",
              "3                       1  ...                 0\n",
              "4                       1  ...                 0\n",
              "...                   ...  ...               ...\n",
              "62472                   0  ...                 0\n",
              "62473                   0  ...                 0\n",
              "62474                   0  ...                 0\n",
              "62475                   1  ...                 0\n",
              "62476                   1  ...                 0\n",
              "\n",
              "[62477 rows x 4 columns]"
            ]
          },
          "metadata": {
            "tags": []
          },
          "execution_count": 133
        }
      ]
    },
    {
      "cell_type": "code",
      "metadata": {
        "colab": {
          "base_uri": "https://localhost:8080/",
          "height": 419
        },
        "id": "R7dVlBy4G-Go",
        "outputId": "0d7ea035-c412-4da1-bfa1-c0d2557ae4c6"
      },
      "source": [
        "tmp_categories = list(df['MARITAL_STATUS'].value_counts()[:3].keys()) + ['OTHERS'] # retain the top 3 categories, plus 'OTHERS\n",
        "\n",
        "tmp_categories_dtype = pd.CategoricalDtype(tmp_categories)\n",
        "\n",
        "tmp_df = df['MARITAL_STATUS'].astype(tmp_categories_dtype).fillna('OTHERS')\n",
        "tmp_df = pd.get_dummies(tmp_df, prefix = 'MARITAL_STATUS') # create a temporary dataframe with the modified categories\n",
        "\n",
        "df = pd.concat([df, tmp_df], axis = 1) # add to original dataframe\n",
        "\n",
        "tmp_df"
      ],
      "execution_count": 134,
      "outputs": [
        {
          "output_type": "execute_result",
          "data": {
            "text/html": [
              "<div>\n",
              "<style scoped>\n",
              "    .dataframe tbody tr th:only-of-type {\n",
              "        vertical-align: middle;\n",
              "    }\n",
              "\n",
              "    .dataframe tbody tr th {\n",
              "        vertical-align: top;\n",
              "    }\n",
              "\n",
              "    .dataframe thead th {\n",
              "        text-align: right;\n",
              "    }\n",
              "</style>\n",
              "<table border=\"1\" class=\"dataframe\">\n",
              "  <thead>\n",
              "    <tr style=\"text-align: right;\">\n",
              "      <th></th>\n",
              "      <th>MARITAL_STATUS_MARRIED</th>\n",
              "      <th>MARITAL_STATUS_SINGLE</th>\n",
              "      <th>MARITAL_STATUS_UNKNOWN (DEFAULT)</th>\n",
              "      <th>MARITAL_STATUS_OTHERS</th>\n",
              "    </tr>\n",
              "  </thead>\n",
              "  <tbody>\n",
              "    <tr>\n",
              "      <th>0</th>\n",
              "      <td>0</td>\n",
              "      <td>0</td>\n",
              "      <td>0</td>\n",
              "      <td>1</td>\n",
              "    </tr>\n",
              "    <tr>\n",
              "      <th>1</th>\n",
              "      <td>0</td>\n",
              "      <td>1</td>\n",
              "      <td>0</td>\n",
              "      <td>0</td>\n",
              "    </tr>\n",
              "    <tr>\n",
              "      <th>2</th>\n",
              "      <td>0</td>\n",
              "      <td>0</td>\n",
              "      <td>0</td>\n",
              "      <td>1</td>\n",
              "    </tr>\n",
              "    <tr>\n",
              "      <th>3</th>\n",
              "      <td>1</td>\n",
              "      <td>0</td>\n",
              "      <td>0</td>\n",
              "      <td>0</td>\n",
              "    </tr>\n",
              "    <tr>\n",
              "      <th>4</th>\n",
              "      <td>0</td>\n",
              "      <td>0</td>\n",
              "      <td>0</td>\n",
              "      <td>1</td>\n",
              "    </tr>\n",
              "    <tr>\n",
              "      <th>...</th>\n",
              "      <td>...</td>\n",
              "      <td>...</td>\n",
              "      <td>...</td>\n",
              "      <td>...</td>\n",
              "    </tr>\n",
              "    <tr>\n",
              "      <th>62472</th>\n",
              "      <td>0</td>\n",
              "      <td>0</td>\n",
              "      <td>1</td>\n",
              "      <td>0</td>\n",
              "    </tr>\n",
              "    <tr>\n",
              "      <th>62473</th>\n",
              "      <td>0</td>\n",
              "      <td>0</td>\n",
              "      <td>0</td>\n",
              "      <td>1</td>\n",
              "    </tr>\n",
              "    <tr>\n",
              "      <th>62474</th>\n",
              "      <td>1</td>\n",
              "      <td>0</td>\n",
              "      <td>0</td>\n",
              "      <td>0</td>\n",
              "    </tr>\n",
              "    <tr>\n",
              "      <th>62475</th>\n",
              "      <td>0</td>\n",
              "      <td>0</td>\n",
              "      <td>0</td>\n",
              "      <td>1</td>\n",
              "    </tr>\n",
              "    <tr>\n",
              "      <th>62476</th>\n",
              "      <td>0</td>\n",
              "      <td>1</td>\n",
              "      <td>0</td>\n",
              "      <td>0</td>\n",
              "    </tr>\n",
              "  </tbody>\n",
              "</table>\n",
              "<p>62477 rows × 4 columns</p>\n",
              "</div>"
            ],
            "text/plain": [
              "       MARITAL_STATUS_MARRIED  ...  MARITAL_STATUS_OTHERS\n",
              "0                           0  ...                      1\n",
              "1                           0  ...                      0\n",
              "2                           0  ...                      1\n",
              "3                           1  ...                      0\n",
              "4                           0  ...                      1\n",
              "...                       ...  ...                    ...\n",
              "62472                       0  ...                      0\n",
              "62473                       0  ...                      1\n",
              "62474                       1  ...                      0\n",
              "62475                       0  ...                      1\n",
              "62476                       0  ...                      0\n",
              "\n",
              "[62477 rows x 4 columns]"
            ]
          },
          "metadata": {
            "tags": []
          },
          "execution_count": 134
        }
      ]
    },
    {
      "cell_type": "code",
      "metadata": {
        "colab": {
          "base_uri": "https://localhost:8080/",
          "height": 419
        },
        "id": "7rLuUuktHCI_",
        "outputId": "aae181ab-9040-46cc-ed83-18fe325df3a3"
      },
      "source": [
        "tmp_categories = list(df['LANGUAGE'].value_counts()[:3].keys()) + ['OTHERS'] # retain the top 3 categories, plus 'OTHERS\n",
        "\n",
        "tmp_categories_dtype = pd.CategoricalDtype(tmp_categories)\n",
        "\n",
        "tmp_df = df['LANGUAGE'].astype(tmp_categories_dtype).fillna('OTHERS')\n",
        "tmp_df = pd.get_dummies(tmp_df, prefix = 'LANGUAGE') # create a temporary dataframe with the modified categories\n",
        "\n",
        "df = pd.concat([df, tmp_df], axis = 1) # add to original dataframe\n",
        "\n",
        "tmp_df"
      ],
      "execution_count": 135,
      "outputs": [
        {
          "output_type": "execute_result",
          "data": {
            "text/html": [
              "<div>\n",
              "<style scoped>\n",
              "    .dataframe tbody tr th:only-of-type {\n",
              "        vertical-align: middle;\n",
              "    }\n",
              "\n",
              "    .dataframe tbody tr th {\n",
              "        vertical-align: top;\n",
              "    }\n",
              "\n",
              "    .dataframe thead th {\n",
              "        text-align: right;\n",
              "    }\n",
              "</style>\n",
              "<table border=\"1\" class=\"dataframe\">\n",
              "  <thead>\n",
              "    <tr style=\"text-align: right;\">\n",
              "      <th></th>\n",
              "      <th>LANGUAGE_ENGL</th>\n",
              "      <th>LANGUAGE_SPAN</th>\n",
              "      <th>LANGUAGE_RUSS</th>\n",
              "      <th>LANGUAGE_OTHERS</th>\n",
              "    </tr>\n",
              "  </thead>\n",
              "  <tbody>\n",
              "    <tr>\n",
              "      <th>0</th>\n",
              "      <td>1</td>\n",
              "      <td>0</td>\n",
              "      <td>0</td>\n",
              "      <td>0</td>\n",
              "    </tr>\n",
              "    <tr>\n",
              "      <th>1</th>\n",
              "      <td>1</td>\n",
              "      <td>0</td>\n",
              "      <td>0</td>\n",
              "      <td>0</td>\n",
              "    </tr>\n",
              "    <tr>\n",
              "      <th>2</th>\n",
              "      <td>1</td>\n",
              "      <td>0</td>\n",
              "      <td>0</td>\n",
              "      <td>0</td>\n",
              "    </tr>\n",
              "    <tr>\n",
              "      <th>3</th>\n",
              "      <td>1</td>\n",
              "      <td>0</td>\n",
              "      <td>0</td>\n",
              "      <td>0</td>\n",
              "    </tr>\n",
              "    <tr>\n",
              "      <th>4</th>\n",
              "      <td>1</td>\n",
              "      <td>0</td>\n",
              "      <td>0</td>\n",
              "      <td>0</td>\n",
              "    </tr>\n",
              "    <tr>\n",
              "      <th>...</th>\n",
              "      <td>...</td>\n",
              "      <td>...</td>\n",
              "      <td>...</td>\n",
              "      <td>...</td>\n",
              "    </tr>\n",
              "    <tr>\n",
              "      <th>62472</th>\n",
              "      <td>0</td>\n",
              "      <td>0</td>\n",
              "      <td>0</td>\n",
              "      <td>1</td>\n",
              "    </tr>\n",
              "    <tr>\n",
              "      <th>62473</th>\n",
              "      <td>0</td>\n",
              "      <td>0</td>\n",
              "      <td>0</td>\n",
              "      <td>1</td>\n",
              "    </tr>\n",
              "    <tr>\n",
              "      <th>62474</th>\n",
              "      <td>0</td>\n",
              "      <td>0</td>\n",
              "      <td>0</td>\n",
              "      <td>1</td>\n",
              "    </tr>\n",
              "    <tr>\n",
              "      <th>62475</th>\n",
              "      <td>1</td>\n",
              "      <td>0</td>\n",
              "      <td>0</td>\n",
              "      <td>0</td>\n",
              "    </tr>\n",
              "    <tr>\n",
              "      <th>62476</th>\n",
              "      <td>1</td>\n",
              "      <td>0</td>\n",
              "      <td>0</td>\n",
              "      <td>0</td>\n",
              "    </tr>\n",
              "  </tbody>\n",
              "</table>\n",
              "<p>62477 rows × 4 columns</p>\n",
              "</div>"
            ],
            "text/plain": [
              "       LANGUAGE_ENGL  LANGUAGE_SPAN  LANGUAGE_RUSS  LANGUAGE_OTHERS\n",
              "0                  1              0              0                0\n",
              "1                  1              0              0                0\n",
              "2                  1              0              0                0\n",
              "3                  1              0              0                0\n",
              "4                  1              0              0                0\n",
              "...              ...            ...            ...              ...\n",
              "62472              0              0              0                1\n",
              "62473              0              0              0                1\n",
              "62474              0              0              0                1\n",
              "62475              1              0              0                0\n",
              "62476              1              0              0                0\n",
              "\n",
              "[62477 rows x 4 columns]"
            ]
          },
          "metadata": {
            "tags": []
          },
          "execution_count": 135
        }
      ]
    },
    {
      "cell_type": "code",
      "metadata": {
        "colab": {
          "base_uri": "https://localhost:8080/",
          "height": 419
        },
        "id": "L6IXRwjQHF7E",
        "outputId": "da3678b4-9e32-49ef-caf7-ddc8be92d636"
      },
      "source": [
        "tmp_categories = list(df['ETHNICITY'].value_counts()[:3].keys()) + ['OTHERS'] # retain the top 3 categories, plus 'OTHERS\n",
        "\n",
        "tmp_categories_dtype = pd.CategoricalDtype(tmp_categories)\n",
        "\n",
        "tmp_df = df['ETHNICITY'].astype(tmp_categories_dtype).fillna('OTHERS')\n",
        "tmp_df = pd.get_dummies(tmp_df, prefix = 'ETHNICITY') # create a temporary dataframe with the modified categories\n",
        "\n",
        "df = pd.concat([df, tmp_df], axis = 1) # add to original dataframe\n",
        "\n",
        "tmp_df"
      ],
      "execution_count": 136,
      "outputs": [
        {
          "output_type": "execute_result",
          "data": {
            "text/html": [
              "<div>\n",
              "<style scoped>\n",
              "    .dataframe tbody tr th:only-of-type {\n",
              "        vertical-align: middle;\n",
              "    }\n",
              "\n",
              "    .dataframe tbody tr th {\n",
              "        vertical-align: top;\n",
              "    }\n",
              "\n",
              "    .dataframe thead th {\n",
              "        text-align: right;\n",
              "    }\n",
              "</style>\n",
              "<table border=\"1\" class=\"dataframe\">\n",
              "  <thead>\n",
              "    <tr style=\"text-align: right;\">\n",
              "      <th></th>\n",
              "      <th>ETHNICITY_WHITE</th>\n",
              "      <th>ETHNICITY_BLACK/AFRICAN AMERICAN</th>\n",
              "      <th>ETHNICITY_UNKNOWN/NOT SPECIFIED</th>\n",
              "      <th>ETHNICITY_OTHERS</th>\n",
              "    </tr>\n",
              "  </thead>\n",
              "  <tbody>\n",
              "    <tr>\n",
              "      <th>0</th>\n",
              "      <td>1</td>\n",
              "      <td>0</td>\n",
              "      <td>0</td>\n",
              "      <td>0</td>\n",
              "    </tr>\n",
              "    <tr>\n",
              "      <th>1</th>\n",
              "      <td>0</td>\n",
              "      <td>1</td>\n",
              "      <td>0</td>\n",
              "      <td>0</td>\n",
              "    </tr>\n",
              "    <tr>\n",
              "      <th>2</th>\n",
              "      <td>1</td>\n",
              "      <td>0</td>\n",
              "      <td>0</td>\n",
              "      <td>0</td>\n",
              "    </tr>\n",
              "    <tr>\n",
              "      <th>3</th>\n",
              "      <td>1</td>\n",
              "      <td>0</td>\n",
              "      <td>0</td>\n",
              "      <td>0</td>\n",
              "    </tr>\n",
              "    <tr>\n",
              "      <th>4</th>\n",
              "      <td>1</td>\n",
              "      <td>0</td>\n",
              "      <td>0</td>\n",
              "      <td>0</td>\n",
              "    </tr>\n",
              "    <tr>\n",
              "      <th>...</th>\n",
              "      <td>...</td>\n",
              "      <td>...</td>\n",
              "      <td>...</td>\n",
              "      <td>...</td>\n",
              "    </tr>\n",
              "    <tr>\n",
              "      <th>62472</th>\n",
              "      <td>0</td>\n",
              "      <td>0</td>\n",
              "      <td>1</td>\n",
              "      <td>0</td>\n",
              "    </tr>\n",
              "    <tr>\n",
              "      <th>62473</th>\n",
              "      <td>0</td>\n",
              "      <td>0</td>\n",
              "      <td>0</td>\n",
              "      <td>1</td>\n",
              "    </tr>\n",
              "    <tr>\n",
              "      <th>62474</th>\n",
              "      <td>1</td>\n",
              "      <td>0</td>\n",
              "      <td>0</td>\n",
              "      <td>0</td>\n",
              "    </tr>\n",
              "    <tr>\n",
              "      <th>62475</th>\n",
              "      <td>0</td>\n",
              "      <td>0</td>\n",
              "      <td>1</td>\n",
              "      <td>0</td>\n",
              "    </tr>\n",
              "    <tr>\n",
              "      <th>62476</th>\n",
              "      <td>1</td>\n",
              "      <td>0</td>\n",
              "      <td>0</td>\n",
              "      <td>0</td>\n",
              "    </tr>\n",
              "  </tbody>\n",
              "</table>\n",
              "<p>62477 rows × 4 columns</p>\n",
              "</div>"
            ],
            "text/plain": [
              "       ETHNICITY_WHITE  ...  ETHNICITY_OTHERS\n",
              "0                    1  ...                 0\n",
              "1                    0  ...                 0\n",
              "2                    1  ...                 0\n",
              "3                    1  ...                 0\n",
              "4                    1  ...                 0\n",
              "...                ...  ...               ...\n",
              "62472                0  ...                 0\n",
              "62473                0  ...                 1\n",
              "62474                1  ...                 0\n",
              "62475                0  ...                 0\n",
              "62476                1  ...                 0\n",
              "\n",
              "[62477 rows x 4 columns]"
            ]
          },
          "metadata": {
            "tags": []
          },
          "execution_count": 136
        }
      ]
    },
    {
      "cell_type": "code",
      "metadata": {
        "colab": {
          "base_uri": "https://localhost:8080/"
        },
        "id": "17NwBHtqHIyb",
        "outputId": "fb29ddd1-471e-471d-face-601fafef435f"
      },
      "source": [
        "df.info()"
      ],
      "execution_count": 137,
      "outputs": [
        {
          "output_type": "stream",
          "text": [
            "<class 'pandas.core.frame.DataFrame'>\n",
            "RangeIndex: 62477 entries, 0 to 62476\n",
            "Data columns (total 81 columns):\n",
            " #   Column                            Non-Null Count  Dtype         \n",
            "---  ------                            --------------  -----         \n",
            " 0   SUBJECT_ID                        62477 non-null  int64         \n",
            " 1   HADM_ID                           62477 non-null  int64         \n",
            " 2   ADMISSION_TYPE                    62477 non-null  object        \n",
            " 3   ADMITTIME                         62477 non-null  datetime64[ns]\n",
            " 4   DISCHTIME                         62477 non-null  datetime64[ns]\n",
            " 5   DEATHTIME                         6624 non-null   object        \n",
            " 6   IN_HOSP_DEATH                     62477 non-null  int64         \n",
            " 7   DIAGNOSIS                         62452 non-null  object        \n",
            " 8   MARITAL_STATUS                    62477 non-null  object        \n",
            " 9   INSURANCE                         62477 non-null  object        \n",
            " 10  LANGUAGE                          62477 non-null  object        \n",
            " 11  RELIGION                          62477 non-null  object        \n",
            " 12  ETHNICITY                         62477 non-null  object        \n",
            " 13  GENDER                            62477 non-null  object        \n",
            " 14  DOB                               62477 non-null  datetime64[ns]\n",
            " 15  LOS_ICU                           62477 non-null  float64       \n",
            " 16  CALLOUT_COUNT                     62477 non-null  float64       \n",
            " 17  DIAG_COUNT                        62477 non-null  int64         \n",
            " 18  PRES_COUNT                        62477 non-null  float64       \n",
            " 19  PROC_COUNT                        62477 non-null  float64       \n",
            " 20  CPT_COUNT                         62477 non-null  float64       \n",
            " 21  LAB_COUNT                         62477 non-null  float64       \n",
            " 22  INPUTS_CV_COUNT                   62477 non-null  float64       \n",
            " 23  INPUTS_MV_COUNT                   62477 non-null  float64       \n",
            " 24  OUTPUT_COUNT                      62477 non-null  float64       \n",
            " 25  TRANSFER_COUNT                    62477 non-null  int64         \n",
            " 26  MICRO_COUNT                       62477 non-null  float64       \n",
            " 27  SEPSIS                            62477 non-null  int64         \n",
            " 28  ORGAN_FAILURE                     62477 non-null  int64         \n",
            " 29  CARDIOVASCULAR                    62477 non-null  int64         \n",
            " 30  RENAL                             62477 non-null  int64         \n",
            " 31  HEPATIC                           62477 non-null  int64         \n",
            " 32  HEMATOLOGIC                       62477 non-null  int64         \n",
            " 33  METABOLIC                         62477 non-null  int64         \n",
            " 34  NEUROLOGIC                        62477 non-null  int64         \n",
            " 35  HeartRate_Mean                    62477 non-null  float64       \n",
            " 36  SysBP_Mean                        62477 non-null  float64       \n",
            " 37  DiasBP_Mean                       62477 non-null  float64       \n",
            " 38  MeanBP_Mean                       62477 non-null  float64       \n",
            " 39  RespRate_Mean                     62477 non-null  float64       \n",
            " 40  TempC_Mean                        62477 non-null  float64       \n",
            " 41  SpO2_Mean                         62477 non-null  float64       \n",
            " 42  Glucose_Mean                      62477 non-null  float64       \n",
            " 43  AGE                               62477 non-null  int64         \n",
            " 44  LOS                               62477 non-null  float64       \n",
            " 45  PREDLOS                           62477 non-null  float64       \n",
            " 46  CALLOUT_COUNT_DAY                 62477 non-null  float64       \n",
            " 47  PRES_COUNT_DAY                    62477 non-null  float64       \n",
            " 48  PROC_COUNT_DAY                    62477 non-null  float64       \n",
            " 49  CPT_COUNT_DAY                     62477 non-null  float64       \n",
            " 50  LAB_COUNT_DAY                     62477 non-null  float64       \n",
            " 51  INPUTS_CV_COUNT_DAY               62477 non-null  float64       \n",
            " 52  INPUTS_MV_COUNT_DAY               62477 non-null  float64       \n",
            " 53  OUTPUT_COUNT_DAY                  62477 non-null  float64       \n",
            " 54  TRANSFER_COUNT_DAY                62477 non-null  float64       \n",
            " 55  MICRO_COUNT_DAY                   62477 non-null  float64       \n",
            " 56  ADMISSION_TYPE_ELECTIVE           62477 non-null  uint8         \n",
            " 57  ADMISSION_TYPE_EMERGENCY          62477 non-null  uint8         \n",
            " 58  ADMISSION_TYPE_NEWBORN            62477 non-null  uint8         \n",
            " 59  ADMISSION_TYPE_URGENT             62477 non-null  uint8         \n",
            " 60  GENDER_F                          62477 non-null  int64         \n",
            " 61  RELIGION_CATHOLIC                 62477 non-null  uint8         \n",
            " 62  RELIGION_NOT SPECIFIED            62477 non-null  uint8         \n",
            " 63  RELIGION_UNOBTAINABLE             62477 non-null  uint8         \n",
            " 64  RELIGION_OTHERS                   62477 non-null  uint8         \n",
            " 65  INSURANCE_Medicare                62477 non-null  uint8         \n",
            " 66  INSURANCE_Private                 62477 non-null  uint8         \n",
            " 67  INSURANCE_Medicaid                62477 non-null  uint8         \n",
            " 68  INSURANCE_OTHERS                  62477 non-null  uint8         \n",
            " 69  MARITAL_STATUS_MARRIED            62477 non-null  uint8         \n",
            " 70  MARITAL_STATUS_SINGLE             62477 non-null  uint8         \n",
            " 71  MARITAL_STATUS_UNKNOWN (DEFAULT)  62477 non-null  uint8         \n",
            " 72  MARITAL_STATUS_OTHERS             62477 non-null  uint8         \n",
            " 73  LANGUAGE_ENGL                     62477 non-null  uint8         \n",
            " 74  LANGUAGE_SPAN                     62477 non-null  uint8         \n",
            " 75  LANGUAGE_RUSS                     62477 non-null  uint8         \n",
            " 76  LANGUAGE_OTHERS                   62477 non-null  uint8         \n",
            " 77  ETHNICITY_WHITE                   62477 non-null  uint8         \n",
            " 78  ETHNICITY_BLACK/AFRICAN AMERICAN  62477 non-null  uint8         \n",
            " 79  ETHNICITY_UNKNOWN/NOT SPECIFIED   62477 non-null  uint8         \n",
            " 80  ETHNICITY_OTHERS                  62477 non-null  uint8         \n",
            "dtypes: datetime64[ns](3), float64(30), int64(15), object(9), uint8(24)\n",
            "memory usage: 28.6+ MB\n"
          ],
          "name": "stdout"
        }
      ]
    },
    {
      "cell_type": "code",
      "metadata": {
        "colab": {
          "base_uri": "https://localhost:8080/"
        },
        "id": "JpcJBrQZHqdP",
        "outputId": "43a2d439-4a39-4109-f904-d3e46b194b32"
      },
      "source": [
        "# Grant access to your Google Drive. You would need to authenicate once again\n",
        "from google.colab import drive \n",
        "drive.mount('/content/gdrive', force_remount = True)\n",
        "\n",
        "gdrive_rootpath = '/content/gdrive/MyDrive/'"
      ],
      "execution_count": 138,
      "outputs": [
        {
          "output_type": "stream",
          "text": [
            "Mounted at /content/gdrive\n"
          ],
          "name": "stdout"
        }
      ]
    },
    {
      "cell_type": "code",
      "metadata": {
        "id": "lmiJuhb6Ie90"
      },
      "source": [
        "df.to_csv(gdrive_rootpath + 'mimic_in_hosp_death_clean.csv', index = False)"
      ],
      "execution_count": 139,
      "outputs": []
    },
    {
      "cell_type": "code",
      "metadata": {
        "id": "MckjcL3jIlMm",
        "colab": {
          "base_uri": "https://localhost:8080/",
          "height": 830
        },
        "outputId": "debeb711-e0bb-45aa-8849-202447c31e47"
      },
      "source": [
        "pd.read_csv(gdrive_rootpath + 'mimic_in_hosp_death_clean.csv')\n",
        "\n",
        "# if you want to save it as a variable, run this instead\n",
        "# df = pd.read_csv(gdrive_rootpath + 'mimic_in_hosp_death_clean.csv')"
      ],
      "execution_count": 140,
      "outputs": [
        {
          "output_type": "stream",
          "text": [
            "/usr/local/lib/python3.7/dist-packages/IPython/core/interactiveshell.py:2718: DtypeWarning: Columns (5) have mixed types.Specify dtype option on import or set low_memory=False.\n",
            "  interactivity=interactivity, compiler=compiler, result=result)\n"
          ],
          "name": "stderr"
        },
        {
          "output_type": "execute_result",
          "data": {
            "text/html": [
              "<div>\n",
              "<style scoped>\n",
              "    .dataframe tbody tr th:only-of-type {\n",
              "        vertical-align: middle;\n",
              "    }\n",
              "\n",
              "    .dataframe tbody tr th {\n",
              "        vertical-align: top;\n",
              "    }\n",
              "\n",
              "    .dataframe thead th {\n",
              "        text-align: right;\n",
              "    }\n",
              "</style>\n",
              "<table border=\"1\" class=\"dataframe\">\n",
              "  <thead>\n",
              "    <tr style=\"text-align: right;\">\n",
              "      <th></th>\n",
              "      <th>SUBJECT_ID</th>\n",
              "      <th>HADM_ID</th>\n",
              "      <th>ADMISSION_TYPE</th>\n",
              "      <th>ADMITTIME</th>\n",
              "      <th>DISCHTIME</th>\n",
              "      <th>DEATHTIME</th>\n",
              "      <th>IN_HOSP_DEATH</th>\n",
              "      <th>DIAGNOSIS</th>\n",
              "      <th>MARITAL_STATUS</th>\n",
              "      <th>INSURANCE</th>\n",
              "      <th>LANGUAGE</th>\n",
              "      <th>RELIGION</th>\n",
              "      <th>ETHNICITY</th>\n",
              "      <th>GENDER</th>\n",
              "      <th>DOB</th>\n",
              "      <th>LOS_ICU</th>\n",
              "      <th>CALLOUT_COUNT</th>\n",
              "      <th>DIAG_COUNT</th>\n",
              "      <th>PRES_COUNT</th>\n",
              "      <th>PROC_COUNT</th>\n",
              "      <th>CPT_COUNT</th>\n",
              "      <th>LAB_COUNT</th>\n",
              "      <th>INPUTS_CV_COUNT</th>\n",
              "      <th>INPUTS_MV_COUNT</th>\n",
              "      <th>OUTPUT_COUNT</th>\n",
              "      <th>TRANSFER_COUNT</th>\n",
              "      <th>MICRO_COUNT</th>\n",
              "      <th>SEPSIS</th>\n",
              "      <th>ORGAN_FAILURE</th>\n",
              "      <th>CARDIOVASCULAR</th>\n",
              "      <th>RENAL</th>\n",
              "      <th>HEPATIC</th>\n",
              "      <th>HEMATOLOGIC</th>\n",
              "      <th>METABOLIC</th>\n",
              "      <th>NEUROLOGIC</th>\n",
              "      <th>HeartRate_Mean</th>\n",
              "      <th>SysBP_Mean</th>\n",
              "      <th>DiasBP_Mean</th>\n",
              "      <th>MeanBP_Mean</th>\n",
              "      <th>RespRate_Mean</th>\n",
              "      <th>...</th>\n",
              "      <th>SpO2_Mean</th>\n",
              "      <th>Glucose_Mean</th>\n",
              "      <th>AGE</th>\n",
              "      <th>LOS</th>\n",
              "      <th>PREDLOS</th>\n",
              "      <th>CALLOUT_COUNT_DAY</th>\n",
              "      <th>PRES_COUNT_DAY</th>\n",
              "      <th>PROC_COUNT_DAY</th>\n",
              "      <th>CPT_COUNT_DAY</th>\n",
              "      <th>LAB_COUNT_DAY</th>\n",
              "      <th>INPUTS_CV_COUNT_DAY</th>\n",
              "      <th>INPUTS_MV_COUNT_DAY</th>\n",
              "      <th>OUTPUT_COUNT_DAY</th>\n",
              "      <th>TRANSFER_COUNT_DAY</th>\n",
              "      <th>MICRO_COUNT_DAY</th>\n",
              "      <th>ADMISSION_TYPE_ELECTIVE</th>\n",
              "      <th>ADMISSION_TYPE_EMERGENCY</th>\n",
              "      <th>ADMISSION_TYPE_NEWBORN</th>\n",
              "      <th>ADMISSION_TYPE_URGENT</th>\n",
              "      <th>GENDER_F</th>\n",
              "      <th>RELIGION_CATHOLIC</th>\n",
              "      <th>RELIGION_NOT SPECIFIED</th>\n",
              "      <th>RELIGION_UNOBTAINABLE</th>\n",
              "      <th>RELIGION_OTHERS</th>\n",
              "      <th>INSURANCE_Medicare</th>\n",
              "      <th>INSURANCE_Private</th>\n",
              "      <th>INSURANCE_Medicaid</th>\n",
              "      <th>INSURANCE_OTHERS</th>\n",
              "      <th>MARITAL_STATUS_MARRIED</th>\n",
              "      <th>MARITAL_STATUS_SINGLE</th>\n",
              "      <th>MARITAL_STATUS_UNKNOWN (DEFAULT)</th>\n",
              "      <th>MARITAL_STATUS_OTHERS</th>\n",
              "      <th>LANGUAGE_ENGL</th>\n",
              "      <th>LANGUAGE_SPAN</th>\n",
              "      <th>LANGUAGE_RUSS</th>\n",
              "      <th>LANGUAGE_OTHERS</th>\n",
              "      <th>ETHNICITY_WHITE</th>\n",
              "      <th>ETHNICITY_BLACK/AFRICAN AMERICAN</th>\n",
              "      <th>ETHNICITY_UNKNOWN/NOT SPECIFIED</th>\n",
              "      <th>ETHNICITY_OTHERS</th>\n",
              "    </tr>\n",
              "  </thead>\n",
              "  <tbody>\n",
              "    <tr>\n",
              "      <th>0</th>\n",
              "      <td>7275</td>\n",
              "      <td>136809</td>\n",
              "      <td>EMERGENCY</td>\n",
              "      <td>2139-08-28 12:35:00</td>\n",
              "      <td>2139-09-01 16:32:00</td>\n",
              "      <td>NaN</td>\n",
              "      <td>0</td>\n",
              "      <td>ALTERED MENTAL STATUS; DYSPNEA</td>\n",
              "      <td>DIVORCED</td>\n",
              "      <td>Medicare</td>\n",
              "      <td>ENGL</td>\n",
              "      <td>EPISCOPALIAN</td>\n",
              "      <td>WHITE</td>\n",
              "      <td>M</td>\n",
              "      <td>2078-11-11 00:00:00</td>\n",
              "      <td>1.3848</td>\n",
              "      <td>1.0</td>\n",
              "      <td>15</td>\n",
              "      <td>44.0</td>\n",
              "      <td>1.0</td>\n",
              "      <td>7.0</td>\n",
              "      <td>182.0</td>\n",
              "      <td>0.0</td>\n",
              "      <td>18.0</td>\n",
              "      <td>0.0</td>\n",
              "      <td>3</td>\n",
              "      <td>47.0</td>\n",
              "      <td>1</td>\n",
              "      <td>1</td>\n",
              "      <td>0</td>\n",
              "      <td>1</td>\n",
              "      <td>0</td>\n",
              "      <td>0</td>\n",
              "      <td>0</td>\n",
              "      <td>0</td>\n",
              "      <td>92.772727</td>\n",
              "      <td>142.111111</td>\n",
              "      <td>56.722222</td>\n",
              "      <td>76.000000</td>\n",
              "      <td>20.875000</td>\n",
              "      <td>...</td>\n",
              "      <td>95.086957</td>\n",
              "      <td>133.750000</td>\n",
              "      <td>60</td>\n",
              "      <td>4.164583</td>\n",
              "      <td>0.0</td>\n",
              "      <td>0.200000</td>\n",
              "      <td>8.800000</td>\n",
              "      <td>0.200000</td>\n",
              "      <td>1.400000</td>\n",
              "      <td>36.400000</td>\n",
              "      <td>0.000000</td>\n",
              "      <td>3.600000</td>\n",
              "      <td>0.000000</td>\n",
              "      <td>0.600000</td>\n",
              "      <td>9.400000</td>\n",
              "      <td>0</td>\n",
              "      <td>1</td>\n",
              "      <td>0</td>\n",
              "      <td>0</td>\n",
              "      <td>0</td>\n",
              "      <td>0</td>\n",
              "      <td>0</td>\n",
              "      <td>0</td>\n",
              "      <td>1</td>\n",
              "      <td>1</td>\n",
              "      <td>0</td>\n",
              "      <td>0</td>\n",
              "      <td>0</td>\n",
              "      <td>0</td>\n",
              "      <td>0</td>\n",
              "      <td>0</td>\n",
              "      <td>1</td>\n",
              "      <td>1</td>\n",
              "      <td>0</td>\n",
              "      <td>0</td>\n",
              "      <td>0</td>\n",
              "      <td>1</td>\n",
              "      <td>0</td>\n",
              "      <td>0</td>\n",
              "      <td>0</td>\n",
              "    </tr>\n",
              "    <tr>\n",
              "      <th>1</th>\n",
              "      <td>17575</td>\n",
              "      <td>187131</td>\n",
              "      <td>EMERGENCY</td>\n",
              "      <td>2124-10-21 08:32:00</td>\n",
              "      <td>2124-11-01 11:14:00</td>\n",
              "      <td>NaN</td>\n",
              "      <td>0</td>\n",
              "      <td>MVA;TRAUMA</td>\n",
              "      <td>SINGLE</td>\n",
              "      <td>Government</td>\n",
              "      <td>ENGL</td>\n",
              "      <td>OTHER</td>\n",
              "      <td>BLACK/AFRICAN AMERICAN</td>\n",
              "      <td>M</td>\n",
              "      <td>2106-01-23 00:00:00</td>\n",
              "      <td>3.2653</td>\n",
              "      <td>0.0</td>\n",
              "      <td>9</td>\n",
              "      <td>0.0</td>\n",
              "      <td>9.0</td>\n",
              "      <td>0.0</td>\n",
              "      <td>408.0</td>\n",
              "      <td>331.0</td>\n",
              "      <td>0.0</td>\n",
              "      <td>89.0</td>\n",
              "      <td>3</td>\n",
              "      <td>27.0</td>\n",
              "      <td>0</td>\n",
              "      <td>1</td>\n",
              "      <td>0</td>\n",
              "      <td>0</td>\n",
              "      <td>0</td>\n",
              "      <td>0</td>\n",
              "      <td>0</td>\n",
              "      <td>0</td>\n",
              "      <td>108.268293</td>\n",
              "      <td>119.780488</td>\n",
              "      <td>53.317073</td>\n",
              "      <td>73.948718</td>\n",
              "      <td>18.291667</td>\n",
              "      <td>...</td>\n",
              "      <td>99.288889</td>\n",
              "      <td>115.000000</td>\n",
              "      <td>18</td>\n",
              "      <td>11.112500</td>\n",
              "      <td>1.0</td>\n",
              "      <td>0.000000</td>\n",
              "      <td>0.000000</td>\n",
              "      <td>0.750000</td>\n",
              "      <td>0.000000</td>\n",
              "      <td>34.000000</td>\n",
              "      <td>27.583333</td>\n",
              "      <td>0.000000</td>\n",
              "      <td>7.416667</td>\n",
              "      <td>0.250000</td>\n",
              "      <td>2.250000</td>\n",
              "      <td>0</td>\n",
              "      <td>1</td>\n",
              "      <td>0</td>\n",
              "      <td>0</td>\n",
              "      <td>0</td>\n",
              "      <td>0</td>\n",
              "      <td>0</td>\n",
              "      <td>0</td>\n",
              "      <td>1</td>\n",
              "      <td>0</td>\n",
              "      <td>0</td>\n",
              "      <td>0</td>\n",
              "      <td>1</td>\n",
              "      <td>0</td>\n",
              "      <td>1</td>\n",
              "      <td>0</td>\n",
              "      <td>0</td>\n",
              "      <td>1</td>\n",
              "      <td>0</td>\n",
              "      <td>0</td>\n",
              "      <td>0</td>\n",
              "      <td>0</td>\n",
              "      <td>1</td>\n",
              "      <td>0</td>\n",
              "      <td>0</td>\n",
              "    </tr>\n",
              "    <tr>\n",
              "      <th>2</th>\n",
              "      <td>25251</td>\n",
              "      <td>142346</td>\n",
              "      <td>EMERGENCY</td>\n",
              "      <td>2167-01-23 16:23:00</td>\n",
              "      <td>2167-02-06 13:53:00</td>\n",
              "      <td>NaN</td>\n",
              "      <td>0</td>\n",
              "      <td>INFECTED RIGHT FOOT</td>\n",
              "      <td>DIVORCED</td>\n",
              "      <td>Medicare</td>\n",
              "      <td>ENGL</td>\n",
              "      <td>EPISCOPALIAN</td>\n",
              "      <td>WHITE</td>\n",
              "      <td>M</td>\n",
              "      <td>2096-08-27 00:00:00</td>\n",
              "      <td>3.2458</td>\n",
              "      <td>0.0</td>\n",
              "      <td>9</td>\n",
              "      <td>0.0</td>\n",
              "      <td>8.0</td>\n",
              "      <td>0.0</td>\n",
              "      <td>574.0</td>\n",
              "      <td>390.0</td>\n",
              "      <td>0.0</td>\n",
              "      <td>90.0</td>\n",
              "      <td>6</td>\n",
              "      <td>46.0</td>\n",
              "      <td>0</td>\n",
              "      <td>0</td>\n",
              "      <td>0</td>\n",
              "      <td>0</td>\n",
              "      <td>0</td>\n",
              "      <td>0</td>\n",
              "      <td>0</td>\n",
              "      <td>0</td>\n",
              "      <td>96.522727</td>\n",
              "      <td>109.454545</td>\n",
              "      <td>57.795455</td>\n",
              "      <td>73.727273</td>\n",
              "      <td>15.500000</td>\n",
              "      <td>...</td>\n",
              "      <td>98.380952</td>\n",
              "      <td>149.619048</td>\n",
              "      <td>70</td>\n",
              "      <td>13.895833</td>\n",
              "      <td>1.0</td>\n",
              "      <td>0.000000</td>\n",
              "      <td>0.000000</td>\n",
              "      <td>0.571429</td>\n",
              "      <td>0.000000</td>\n",
              "      <td>41.000000</td>\n",
              "      <td>27.857143</td>\n",
              "      <td>0.000000</td>\n",
              "      <td>6.428571</td>\n",
              "      <td>0.428571</td>\n",
              "      <td>3.285714</td>\n",
              "      <td>0</td>\n",
              "      <td>1</td>\n",
              "      <td>0</td>\n",
              "      <td>0</td>\n",
              "      <td>0</td>\n",
              "      <td>0</td>\n",
              "      <td>0</td>\n",
              "      <td>0</td>\n",
              "      <td>1</td>\n",
              "      <td>1</td>\n",
              "      <td>0</td>\n",
              "      <td>0</td>\n",
              "      <td>0</td>\n",
              "      <td>0</td>\n",
              "      <td>0</td>\n",
              "      <td>0</td>\n",
              "      <td>1</td>\n",
              "      <td>1</td>\n",
              "      <td>0</td>\n",
              "      <td>0</td>\n",
              "      <td>0</td>\n",
              "      <td>1</td>\n",
              "      <td>0</td>\n",
              "      <td>0</td>\n",
              "      <td>0</td>\n",
              "    </tr>\n",
              "    <tr>\n",
              "      <th>3</th>\n",
              "      <td>32339</td>\n",
              "      <td>181355</td>\n",
              "      <td>EMERGENCY</td>\n",
              "      <td>2110-07-29 23:56:00</td>\n",
              "      <td>2110-08-04 15:10:00</td>\n",
              "      <td>NaN</td>\n",
              "      <td>0</td>\n",
              "      <td>GASTROINTESTINAL BLEED;CHEST PAIN;TELEMETRY</td>\n",
              "      <td>MARRIED</td>\n",
              "      <td>Medicare</td>\n",
              "      <td>ENGL</td>\n",
              "      <td>JEWISH</td>\n",
              "      <td>WHITE</td>\n",
              "      <td>M</td>\n",
              "      <td>1810-07-29 00:00:00</td>\n",
              "      <td>1.7603</td>\n",
              "      <td>1.0</td>\n",
              "      <td>15</td>\n",
              "      <td>30.0</td>\n",
              "      <td>2.0</td>\n",
              "      <td>8.0</td>\n",
              "      <td>207.0</td>\n",
              "      <td>0.0</td>\n",
              "      <td>21.0</td>\n",
              "      <td>20.0</td>\n",
              "      <td>4</td>\n",
              "      <td>0.0</td>\n",
              "      <td>0</td>\n",
              "      <td>1</td>\n",
              "      <td>0</td>\n",
              "      <td>1</td>\n",
              "      <td>0</td>\n",
              "      <td>0</td>\n",
              "      <td>1</td>\n",
              "      <td>0</td>\n",
              "      <td>50.038462</td>\n",
              "      <td>137.714286</td>\n",
              "      <td>44.571429</td>\n",
              "      <td>67.809524</td>\n",
              "      <td>17.038462</td>\n",
              "      <td>...</td>\n",
              "      <td>97.346154</td>\n",
              "      <td>105.000000</td>\n",
              "      <td>90</td>\n",
              "      <td>5.634722</td>\n",
              "      <td>1.0</td>\n",
              "      <td>0.166667</td>\n",
              "      <td>5.000000</td>\n",
              "      <td>0.333333</td>\n",
              "      <td>1.333333</td>\n",
              "      <td>34.500000</td>\n",
              "      <td>0.000000</td>\n",
              "      <td>3.500000</td>\n",
              "      <td>3.333333</td>\n",
              "      <td>0.666667</td>\n",
              "      <td>0.000000</td>\n",
              "      <td>0</td>\n",
              "      <td>1</td>\n",
              "      <td>0</td>\n",
              "      <td>0</td>\n",
              "      <td>0</td>\n",
              "      <td>0</td>\n",
              "      <td>0</td>\n",
              "      <td>0</td>\n",
              "      <td>1</td>\n",
              "      <td>1</td>\n",
              "      <td>0</td>\n",
              "      <td>0</td>\n",
              "      <td>0</td>\n",
              "      <td>1</td>\n",
              "      <td>0</td>\n",
              "      <td>0</td>\n",
              "      <td>0</td>\n",
              "      <td>1</td>\n",
              "      <td>0</td>\n",
              "      <td>0</td>\n",
              "      <td>0</td>\n",
              "      <td>1</td>\n",
              "      <td>0</td>\n",
              "      <td>0</td>\n",
              "      <td>0</td>\n",
              "    </tr>\n",
              "    <tr>\n",
              "      <th>4</th>\n",
              "      <td>30746</td>\n",
              "      <td>155603</td>\n",
              "      <td>EMERGENCY</td>\n",
              "      <td>2131-08-22 23:07:00</td>\n",
              "      <td>2131-08-28 13:10:00</td>\n",
              "      <td>NaN</td>\n",
              "      <td>0</td>\n",
              "      <td>ALTERED MENTAL STATUS</td>\n",
              "      <td>DIVORCED</td>\n",
              "      <td>Medicare</td>\n",
              "      <td>ENGL</td>\n",
              "      <td>JEWISH</td>\n",
              "      <td>WHITE</td>\n",
              "      <td>M</td>\n",
              "      <td>2055-03-16 00:00:00</td>\n",
              "      <td>5.5894</td>\n",
              "      <td>0.0</td>\n",
              "      <td>22</td>\n",
              "      <td>53.0</td>\n",
              "      <td>6.0</td>\n",
              "      <td>10.0</td>\n",
              "      <td>378.0</td>\n",
              "      <td>165.0</td>\n",
              "      <td>0.0</td>\n",
              "      <td>115.0</td>\n",
              "      <td>7</td>\n",
              "      <td>5.0</td>\n",
              "      <td>0</td>\n",
              "      <td>1</td>\n",
              "      <td>1</td>\n",
              "      <td>0</td>\n",
              "      <td>0</td>\n",
              "      <td>0</td>\n",
              "      <td>0</td>\n",
              "      <td>1</td>\n",
              "      <td>79.285714</td>\n",
              "      <td>130.814815</td>\n",
              "      <td>60.740741</td>\n",
              "      <td>79.740741</td>\n",
              "      <td>18.875000</td>\n",
              "      <td>...</td>\n",
              "      <td>98.827586</td>\n",
              "      <td>141.300000</td>\n",
              "      <td>76</td>\n",
              "      <td>5.585417</td>\n",
              "      <td>1.0</td>\n",
              "      <td>0.000000</td>\n",
              "      <td>8.833333</td>\n",
              "      <td>1.000000</td>\n",
              "      <td>1.666667</td>\n",
              "      <td>63.000000</td>\n",
              "      <td>27.500000</td>\n",
              "      <td>0.000000</td>\n",
              "      <td>19.166667</td>\n",
              "      <td>1.166667</td>\n",
              "      <td>0.833333</td>\n",
              "      <td>0</td>\n",
              "      <td>1</td>\n",
              "      <td>0</td>\n",
              "      <td>0</td>\n",
              "      <td>0</td>\n",
              "      <td>0</td>\n",
              "      <td>0</td>\n",
              "      <td>0</td>\n",
              "      <td>1</td>\n",
              "      <td>1</td>\n",
              "      <td>0</td>\n",
              "      <td>0</td>\n",
              "      <td>0</td>\n",
              "      <td>0</td>\n",
              "      <td>0</td>\n",
              "      <td>0</td>\n",
              "      <td>1</td>\n",
              "      <td>1</td>\n",
              "      <td>0</td>\n",
              "      <td>0</td>\n",
              "      <td>0</td>\n",
              "      <td>1</td>\n",
              "      <td>0</td>\n",
              "      <td>0</td>\n",
              "      <td>0</td>\n",
              "    </tr>\n",
              "    <tr>\n",
              "      <th>...</th>\n",
              "      <td>...</td>\n",
              "      <td>...</td>\n",
              "      <td>...</td>\n",
              "      <td>...</td>\n",
              "      <td>...</td>\n",
              "      <td>...</td>\n",
              "      <td>...</td>\n",
              "      <td>...</td>\n",
              "      <td>...</td>\n",
              "      <td>...</td>\n",
              "      <td>...</td>\n",
              "      <td>...</td>\n",
              "      <td>...</td>\n",
              "      <td>...</td>\n",
              "      <td>...</td>\n",
              "      <td>...</td>\n",
              "      <td>...</td>\n",
              "      <td>...</td>\n",
              "      <td>...</td>\n",
              "      <td>...</td>\n",
              "      <td>...</td>\n",
              "      <td>...</td>\n",
              "      <td>...</td>\n",
              "      <td>...</td>\n",
              "      <td>...</td>\n",
              "      <td>...</td>\n",
              "      <td>...</td>\n",
              "      <td>...</td>\n",
              "      <td>...</td>\n",
              "      <td>...</td>\n",
              "      <td>...</td>\n",
              "      <td>...</td>\n",
              "      <td>...</td>\n",
              "      <td>...</td>\n",
              "      <td>...</td>\n",
              "      <td>...</td>\n",
              "      <td>...</td>\n",
              "      <td>...</td>\n",
              "      <td>...</td>\n",
              "      <td>...</td>\n",
              "      <td>...</td>\n",
              "      <td>...</td>\n",
              "      <td>...</td>\n",
              "      <td>...</td>\n",
              "      <td>...</td>\n",
              "      <td>...</td>\n",
              "      <td>...</td>\n",
              "      <td>...</td>\n",
              "      <td>...</td>\n",
              "      <td>...</td>\n",
              "      <td>...</td>\n",
              "      <td>...</td>\n",
              "      <td>...</td>\n",
              "      <td>...</td>\n",
              "      <td>...</td>\n",
              "      <td>...</td>\n",
              "      <td>...</td>\n",
              "      <td>...</td>\n",
              "      <td>...</td>\n",
              "      <td>...</td>\n",
              "      <td>...</td>\n",
              "      <td>...</td>\n",
              "      <td>...</td>\n",
              "      <td>...</td>\n",
              "      <td>...</td>\n",
              "      <td>...</td>\n",
              "      <td>...</td>\n",
              "      <td>...</td>\n",
              "      <td>...</td>\n",
              "      <td>...</td>\n",
              "      <td>...</td>\n",
              "      <td>...</td>\n",
              "      <td>...</td>\n",
              "      <td>...</td>\n",
              "      <td>...</td>\n",
              "      <td>...</td>\n",
              "      <td>...</td>\n",
              "      <td>...</td>\n",
              "      <td>...</td>\n",
              "      <td>...</td>\n",
              "      <td>...</td>\n",
              "    </tr>\n",
              "    <tr>\n",
              "      <th>62472</th>\n",
              "      <td>31355</td>\n",
              "      <td>146717</td>\n",
              "      <td>EMERGENCY</td>\n",
              "      <td>2110-07-28 22:03:00</td>\n",
              "      <td>2110-07-30 19:00:00</td>\n",
              "      <td>NaN</td>\n",
              "      <td>0</td>\n",
              "      <td>NECROTIZING PANCREATITIS</td>\n",
              "      <td>UNKNOWN (DEFAULT)</td>\n",
              "      <td>Private</td>\n",
              "      <td>PTUN</td>\n",
              "      <td>UNOBTAINABLE</td>\n",
              "      <td>UNKNOWN/NOT SPECIFIED</td>\n",
              "      <td>M</td>\n",
              "      <td>2071-09-27 00:00:00</td>\n",
              "      <td>0.8021</td>\n",
              "      <td>1.0</td>\n",
              "      <td>2</td>\n",
              "      <td>61.0</td>\n",
              "      <td>0.0</td>\n",
              "      <td>1.0</td>\n",
              "      <td>134.0</td>\n",
              "      <td>42.0</td>\n",
              "      <td>0.0</td>\n",
              "      <td>21.0</td>\n",
              "      <td>3</td>\n",
              "      <td>2.0</td>\n",
              "      <td>0</td>\n",
              "      <td>0</td>\n",
              "      <td>0</td>\n",
              "      <td>0</td>\n",
              "      <td>0</td>\n",
              "      <td>0</td>\n",
              "      <td>0</td>\n",
              "      <td>0</td>\n",
              "      <td>116.588235</td>\n",
              "      <td>142.631579</td>\n",
              "      <td>72.157895</td>\n",
              "      <td>87.058824</td>\n",
              "      <td>19.473684</td>\n",
              "      <td>...</td>\n",
              "      <td>96.647059</td>\n",
              "      <td>152.000000</td>\n",
              "      <td>38</td>\n",
              "      <td>1.872917</td>\n",
              "      <td>0.0</td>\n",
              "      <td>0.500000</td>\n",
              "      <td>30.500000</td>\n",
              "      <td>0.000000</td>\n",
              "      <td>0.500000</td>\n",
              "      <td>67.000000</td>\n",
              "      <td>21.000000</td>\n",
              "      <td>0.000000</td>\n",
              "      <td>10.500000</td>\n",
              "      <td>1.500000</td>\n",
              "      <td>1.000000</td>\n",
              "      <td>0</td>\n",
              "      <td>1</td>\n",
              "      <td>0</td>\n",
              "      <td>0</td>\n",
              "      <td>0</td>\n",
              "      <td>0</td>\n",
              "      <td>0</td>\n",
              "      <td>1</td>\n",
              "      <td>0</td>\n",
              "      <td>0</td>\n",
              "      <td>1</td>\n",
              "      <td>0</td>\n",
              "      <td>0</td>\n",
              "      <td>0</td>\n",
              "      <td>0</td>\n",
              "      <td>1</td>\n",
              "      <td>0</td>\n",
              "      <td>0</td>\n",
              "      <td>0</td>\n",
              "      <td>0</td>\n",
              "      <td>1</td>\n",
              "      <td>0</td>\n",
              "      <td>0</td>\n",
              "      <td>1</td>\n",
              "      <td>0</td>\n",
              "    </tr>\n",
              "    <tr>\n",
              "      <th>62473</th>\n",
              "      <td>58016</td>\n",
              "      <td>105567</td>\n",
              "      <td>EMERGENCY</td>\n",
              "      <td>2118-10-08 20:59:00</td>\n",
              "      <td>2118-10-11 09:02:00</td>\n",
              "      <td>NaN</td>\n",
              "      <td>0</td>\n",
              "      <td>GALLSTONES</td>\n",
              "      <td>DIVORCED</td>\n",
              "      <td>Medicaid</td>\n",
              "      <td>PTUN</td>\n",
              "      <td>BUDDHIST</td>\n",
              "      <td>UNABLE TO OBTAIN</td>\n",
              "      <td>M</td>\n",
              "      <td>2070-06-16 00:00:00</td>\n",
              "      <td>2.0868</td>\n",
              "      <td>1.0</td>\n",
              "      <td>10</td>\n",
              "      <td>15.0</td>\n",
              "      <td>0.0</td>\n",
              "      <td>6.0</td>\n",
              "      <td>286.0</td>\n",
              "      <td>0.0</td>\n",
              "      <td>43.0</td>\n",
              "      <td>19.0</td>\n",
              "      <td>3</td>\n",
              "      <td>9.0</td>\n",
              "      <td>0</td>\n",
              "      <td>1</td>\n",
              "      <td>1</td>\n",
              "      <td>1</td>\n",
              "      <td>0</td>\n",
              "      <td>1</td>\n",
              "      <td>0</td>\n",
              "      <td>0</td>\n",
              "      <td>90.750000</td>\n",
              "      <td>86.521739</td>\n",
              "      <td>58.826087</td>\n",
              "      <td>65.826087</td>\n",
              "      <td>15.458333</td>\n",
              "      <td>...</td>\n",
              "      <td>99.125000</td>\n",
              "      <td>67.333333</td>\n",
              "      <td>48</td>\n",
              "      <td>2.502083</td>\n",
              "      <td>0.0</td>\n",
              "      <td>0.333333</td>\n",
              "      <td>5.000000</td>\n",
              "      <td>0.000000</td>\n",
              "      <td>2.000000</td>\n",
              "      <td>95.333333</td>\n",
              "      <td>0.000000</td>\n",
              "      <td>14.333333</td>\n",
              "      <td>6.333333</td>\n",
              "      <td>1.000000</td>\n",
              "      <td>3.000000</td>\n",
              "      <td>0</td>\n",
              "      <td>1</td>\n",
              "      <td>0</td>\n",
              "      <td>0</td>\n",
              "      <td>0</td>\n",
              "      <td>0</td>\n",
              "      <td>0</td>\n",
              "      <td>0</td>\n",
              "      <td>1</td>\n",
              "      <td>0</td>\n",
              "      <td>0</td>\n",
              "      <td>1</td>\n",
              "      <td>0</td>\n",
              "      <td>0</td>\n",
              "      <td>0</td>\n",
              "      <td>0</td>\n",
              "      <td>1</td>\n",
              "      <td>0</td>\n",
              "      <td>0</td>\n",
              "      <td>0</td>\n",
              "      <td>1</td>\n",
              "      <td>0</td>\n",
              "      <td>0</td>\n",
              "      <td>0</td>\n",
              "      <td>1</td>\n",
              "    </tr>\n",
              "    <tr>\n",
              "      <th>62474</th>\n",
              "      <td>64255</td>\n",
              "      <td>145415</td>\n",
              "      <td>EMERGENCY</td>\n",
              "      <td>2151-11-05 22:32:00</td>\n",
              "      <td>2151-11-07 13:10:00</td>\n",
              "      <td>NaN</td>\n",
              "      <td>0</td>\n",
              "      <td>STATUS EPILEPTICUS</td>\n",
              "      <td>MARRIED</td>\n",
              "      <td>Private</td>\n",
              "      <td>PTUN</td>\n",
              "      <td>NOT SPECIFIED</td>\n",
              "      <td>WHITE</td>\n",
              "      <td>F</td>\n",
              "      <td>2118-09-12 00:00:00</td>\n",
              "      <td>1.6445</td>\n",
              "      <td>1.0</td>\n",
              "      <td>1</td>\n",
              "      <td>46.0</td>\n",
              "      <td>0.0</td>\n",
              "      <td>4.0</td>\n",
              "      <td>67.0</td>\n",
              "      <td>0.0</td>\n",
              "      <td>48.0</td>\n",
              "      <td>18.0</td>\n",
              "      <td>2</td>\n",
              "      <td>1.0</td>\n",
              "      <td>0</td>\n",
              "      <td>0</td>\n",
              "      <td>0</td>\n",
              "      <td>0</td>\n",
              "      <td>0</td>\n",
              "      <td>0</td>\n",
              "      <td>0</td>\n",
              "      <td>0</td>\n",
              "      <td>102.041667</td>\n",
              "      <td>112.041667</td>\n",
              "      <td>64.166667</td>\n",
              "      <td>74.750000</td>\n",
              "      <td>16.607143</td>\n",
              "      <td>...</td>\n",
              "      <td>99.210526</td>\n",
              "      <td>90.000000</td>\n",
              "      <td>33</td>\n",
              "      <td>1.609722</td>\n",
              "      <td>0.0</td>\n",
              "      <td>0.500000</td>\n",
              "      <td>23.000000</td>\n",
              "      <td>0.000000</td>\n",
              "      <td>2.000000</td>\n",
              "      <td>33.500000</td>\n",
              "      <td>0.000000</td>\n",
              "      <td>24.000000</td>\n",
              "      <td>9.000000</td>\n",
              "      <td>1.000000</td>\n",
              "      <td>0.500000</td>\n",
              "      <td>0</td>\n",
              "      <td>1</td>\n",
              "      <td>0</td>\n",
              "      <td>0</td>\n",
              "      <td>1</td>\n",
              "      <td>0</td>\n",
              "      <td>1</td>\n",
              "      <td>0</td>\n",
              "      <td>0</td>\n",
              "      <td>0</td>\n",
              "      <td>1</td>\n",
              "      <td>0</td>\n",
              "      <td>0</td>\n",
              "      <td>1</td>\n",
              "      <td>0</td>\n",
              "      <td>0</td>\n",
              "      <td>0</td>\n",
              "      <td>0</td>\n",
              "      <td>0</td>\n",
              "      <td>0</td>\n",
              "      <td>1</td>\n",
              "      <td>1</td>\n",
              "      <td>0</td>\n",
              "      <td>0</td>\n",
              "      <td>0</td>\n",
              "    </tr>\n",
              "    <tr>\n",
              "      <th>62475</th>\n",
              "      <td>83060</td>\n",
              "      <td>122843</td>\n",
              "      <td>EMERGENCY</td>\n",
              "      <td>2158-10-11 19:08:00</td>\n",
              "      <td>2158-10-15 12:11:00</td>\n",
              "      <td>NaN</td>\n",
              "      <td>0</td>\n",
              "      <td>RIGHTBRONCHUS MASS</td>\n",
              "      <td>DIVORCED</td>\n",
              "      <td>Medicare</td>\n",
              "      <td>ENGL</td>\n",
              "      <td>NOT SPECIFIED</td>\n",
              "      <td>UNKNOWN/NOT SPECIFIED</td>\n",
              "      <td>M</td>\n",
              "      <td>2103-12-06 00:00:00</td>\n",
              "      <td>0.9236</td>\n",
              "      <td>1.0</td>\n",
              "      <td>13</td>\n",
              "      <td>34.0</td>\n",
              "      <td>1.0</td>\n",
              "      <td>9.0</td>\n",
              "      <td>132.0</td>\n",
              "      <td>0.0</td>\n",
              "      <td>15.0</td>\n",
              "      <td>8.0</td>\n",
              "      <td>4</td>\n",
              "      <td>1.0</td>\n",
              "      <td>0</td>\n",
              "      <td>0</td>\n",
              "      <td>0</td>\n",
              "      <td>0</td>\n",
              "      <td>0</td>\n",
              "      <td>0</td>\n",
              "      <td>0</td>\n",
              "      <td>0</td>\n",
              "      <td>77.600000</td>\n",
              "      <td>117.666667</td>\n",
              "      <td>58.266667</td>\n",
              "      <td>71.666667</td>\n",
              "      <td>18.750000</td>\n",
              "      <td>...</td>\n",
              "      <td>92.600000</td>\n",
              "      <td>197.200000</td>\n",
              "      <td>54</td>\n",
              "      <td>3.710417</td>\n",
              "      <td>0.0</td>\n",
              "      <td>0.250000</td>\n",
              "      <td>8.500000</td>\n",
              "      <td>0.250000</td>\n",
              "      <td>2.250000</td>\n",
              "      <td>33.000000</td>\n",
              "      <td>0.000000</td>\n",
              "      <td>3.750000</td>\n",
              "      <td>2.000000</td>\n",
              "      <td>1.000000</td>\n",
              "      <td>0.250000</td>\n",
              "      <td>0</td>\n",
              "      <td>1</td>\n",
              "      <td>0</td>\n",
              "      <td>0</td>\n",
              "      <td>0</td>\n",
              "      <td>0</td>\n",
              "      <td>1</td>\n",
              "      <td>0</td>\n",
              "      <td>0</td>\n",
              "      <td>1</td>\n",
              "      <td>0</td>\n",
              "      <td>0</td>\n",
              "      <td>0</td>\n",
              "      <td>0</td>\n",
              "      <td>0</td>\n",
              "      <td>0</td>\n",
              "      <td>1</td>\n",
              "      <td>1</td>\n",
              "      <td>0</td>\n",
              "      <td>0</td>\n",
              "      <td>0</td>\n",
              "      <td>0</td>\n",
              "      <td>0</td>\n",
              "      <td>1</td>\n",
              "      <td>0</td>\n",
              "    </tr>\n",
              "    <tr>\n",
              "      <th>62476</th>\n",
              "      <td>84694</td>\n",
              "      <td>149446</td>\n",
              "      <td>URGENT</td>\n",
              "      <td>2173-03-20 20:01:00</td>\n",
              "      <td>2173-03-23 22:25:00</td>\n",
              "      <td>NaN</td>\n",
              "      <td>0</td>\n",
              "      <td>HEMOPTYSIS</td>\n",
              "      <td>SINGLE</td>\n",
              "      <td>Medicare</td>\n",
              "      <td>ENGL</td>\n",
              "      <td>NOT SPECIFIED</td>\n",
              "      <td>WHITE</td>\n",
              "      <td>M</td>\n",
              "      <td>2131-04-14 00:00:00</td>\n",
              "      <td>2.0031</td>\n",
              "      <td>1.0</td>\n",
              "      <td>9</td>\n",
              "      <td>87.0</td>\n",
              "      <td>3.0</td>\n",
              "      <td>8.0</td>\n",
              "      <td>226.0</td>\n",
              "      <td>0.0</td>\n",
              "      <td>84.0</td>\n",
              "      <td>41.0</td>\n",
              "      <td>4</td>\n",
              "      <td>18.0</td>\n",
              "      <td>1</td>\n",
              "      <td>1</td>\n",
              "      <td>0</td>\n",
              "      <td>0</td>\n",
              "      <td>0</td>\n",
              "      <td>0</td>\n",
              "      <td>0</td>\n",
              "      <td>0</td>\n",
              "      <td>85.321429</td>\n",
              "      <td>105.259259</td>\n",
              "      <td>64.074074</td>\n",
              "      <td>73.555556</td>\n",
              "      <td>20.363636</td>\n",
              "      <td>...</td>\n",
              "      <td>98.892857</td>\n",
              "      <td>92.500000</td>\n",
              "      <td>41</td>\n",
              "      <td>3.100000</td>\n",
              "      <td>0.0</td>\n",
              "      <td>0.250000</td>\n",
              "      <td>21.750000</td>\n",
              "      <td>0.750000</td>\n",
              "      <td>2.000000</td>\n",
              "      <td>56.500000</td>\n",
              "      <td>0.000000</td>\n",
              "      <td>21.000000</td>\n",
              "      <td>10.250000</td>\n",
              "      <td>1.000000</td>\n",
              "      <td>4.500000</td>\n",
              "      <td>0</td>\n",
              "      <td>0</td>\n",
              "      <td>0</td>\n",
              "      <td>1</td>\n",
              "      <td>0</td>\n",
              "      <td>0</td>\n",
              "      <td>1</td>\n",
              "      <td>0</td>\n",
              "      <td>0</td>\n",
              "      <td>1</td>\n",
              "      <td>0</td>\n",
              "      <td>0</td>\n",
              "      <td>0</td>\n",
              "      <td>0</td>\n",
              "      <td>1</td>\n",
              "      <td>0</td>\n",
              "      <td>0</td>\n",
              "      <td>1</td>\n",
              "      <td>0</td>\n",
              "      <td>0</td>\n",
              "      <td>0</td>\n",
              "      <td>1</td>\n",
              "      <td>0</td>\n",
              "      <td>0</td>\n",
              "      <td>0</td>\n",
              "    </tr>\n",
              "  </tbody>\n",
              "</table>\n",
              "<p>62477 rows × 81 columns</p>\n",
              "</div>"
            ],
            "text/plain": [
              "       SUBJECT_ID  HADM_ID  ... ETHNICITY_UNKNOWN/NOT SPECIFIED ETHNICITY_OTHERS\n",
              "0            7275   136809  ...                               0                0\n",
              "1           17575   187131  ...                               0                0\n",
              "2           25251   142346  ...                               0                0\n",
              "3           32339   181355  ...                               0                0\n",
              "4           30746   155603  ...                               0                0\n",
              "...           ...      ...  ...                             ...              ...\n",
              "62472       31355   146717  ...                               1                0\n",
              "62473       58016   105567  ...                               0                1\n",
              "62474       64255   145415  ...                               0                0\n",
              "62475       83060   122843  ...                               1                0\n",
              "62476       84694   149446  ...                               0                0\n",
              "\n",
              "[62477 rows x 81 columns]"
            ]
          },
          "metadata": {
            "tags": []
          },
          "execution_count": 140
        }
      ]
    },
    {
      "cell_type": "markdown",
      "metadata": {
        "id": "SOyReuGBJEE5"
      },
      "source": [
        "```\n",
        "# This is formatted as code\n",
        "```\n",
        "\n",
        "## Exploratory data analysis"
      ]
    },
    {
      "cell_type": "code",
      "metadata": {
        "colab": {
          "base_uri": "https://localhost:8080/"
        },
        "id": "7v8_cWPHJFRV",
        "outputId": "3b98fbae-dbe4-4aec-80a7-070891ed8cf6"
      },
      "source": [
        "df.columns"
      ],
      "execution_count": 141,
      "outputs": [
        {
          "output_type": "execute_result",
          "data": {
            "text/plain": [
              "Index(['SUBJECT_ID', 'HADM_ID', 'ADMISSION_TYPE', 'ADMITTIME', 'DISCHTIME',\n",
              "       'DEATHTIME', 'IN_HOSP_DEATH', 'DIAGNOSIS', 'MARITAL_STATUS',\n",
              "       'INSURANCE', 'LANGUAGE', 'RELIGION', 'ETHNICITY', 'GENDER', 'DOB',\n",
              "       'LOS_ICU', 'CALLOUT_COUNT', 'DIAG_COUNT', 'PRES_COUNT', 'PROC_COUNT',\n",
              "       'CPT_COUNT', 'LAB_COUNT', 'INPUTS_CV_COUNT', 'INPUTS_MV_COUNT',\n",
              "       'OUTPUT_COUNT', 'TRANSFER_COUNT', 'MICRO_COUNT', 'SEPSIS',\n",
              "       'ORGAN_FAILURE', 'CARDIOVASCULAR', 'RENAL', 'HEPATIC', 'HEMATOLOGIC',\n",
              "       'METABOLIC', 'NEUROLOGIC', 'HeartRate_Mean', 'SysBP_Mean',\n",
              "       'DiasBP_Mean', 'MeanBP_Mean', 'RespRate_Mean', 'TempC_Mean',\n",
              "       'SpO2_Mean', 'Glucose_Mean', 'AGE', 'LOS', 'PREDLOS',\n",
              "       'CALLOUT_COUNT_DAY', 'PRES_COUNT_DAY', 'PROC_COUNT_DAY',\n",
              "       'CPT_COUNT_DAY', 'LAB_COUNT_DAY', 'INPUTS_CV_COUNT_DAY',\n",
              "       'INPUTS_MV_COUNT_DAY', 'OUTPUT_COUNT_DAY', 'TRANSFER_COUNT_DAY',\n",
              "       'MICRO_COUNT_DAY', 'ADMISSION_TYPE_ELECTIVE',\n",
              "       'ADMISSION_TYPE_EMERGENCY', 'ADMISSION_TYPE_NEWBORN',\n",
              "       'ADMISSION_TYPE_URGENT', 'GENDER_F', 'RELIGION_CATHOLIC',\n",
              "       'RELIGION_NOT SPECIFIED', 'RELIGION_UNOBTAINABLE', 'RELIGION_OTHERS',\n",
              "       'INSURANCE_Medicare', 'INSURANCE_Private', 'INSURANCE_Medicaid',\n",
              "       'INSURANCE_OTHERS', 'MARITAL_STATUS_MARRIED', 'MARITAL_STATUS_SINGLE',\n",
              "       'MARITAL_STATUS_UNKNOWN (DEFAULT)', 'MARITAL_STATUS_OTHERS',\n",
              "       'LANGUAGE_ENGL', 'LANGUAGE_SPAN', 'LANGUAGE_RUSS', 'LANGUAGE_OTHERS',\n",
              "       'ETHNICITY_WHITE', 'ETHNICITY_BLACK/AFRICAN AMERICAN',\n",
              "       'ETHNICITY_UNKNOWN/NOT SPECIFIED', 'ETHNICITY_OTHERS'],\n",
              "      dtype='object')"
            ]
          },
          "metadata": {
            "tags": []
          },
          "execution_count": 141
        }
      ]
    },
    {
      "cell_type": "code",
      "metadata": {
        "colab": {
          "base_uri": "https://localhost:8080/"
        },
        "id": "8X3wnYYeJZ05",
        "outputId": "96b37959-29d6-4497-d40a-69d3c0c58122"
      },
      "source": [
        "df['IN_HOSP_DEATH'].value_counts()"
      ],
      "execution_count": 66,
      "outputs": [
        {
          "output_type": "execute_result",
          "data": {
            "text/plain": [
              "0    55853\n",
              "1     6624\n",
              "Name: IN_HOSP_DEATH, dtype: int64"
            ]
          },
          "metadata": {
            "tags": []
          },
          "execution_count": 66
        }
      ]
    },
    {
      "cell_type": "code",
      "metadata": {
        "id": "FzQ2XsbqJfQs"
      },
      "source": [
        "# visualization package\n",
        "import seaborn as sns \n",
        "import matplotlib.pyplot as plt\n",
        "%matplotlib inline"
      ],
      "execution_count": 67,
      "outputs": []
    },
    {
      "cell_type": "code",
      "metadata": {
        "colab": {
          "base_uri": "https://localhost:8080/",
          "height": 142
        },
        "id": "7c72K-0kJjuK",
        "outputId": "28336e18-f5fb-4777-9f0d-5c288b7e2141"
      },
      "source": [
        "df[['GENDER', 'IN_HOSP_DEATH']].groupby(['GENDER']).mean()"
      ],
      "execution_count": 68,
      "outputs": [
        {
          "output_type": "execute_result",
          "data": {
            "text/html": [
              "<div>\n",
              "<style scoped>\n",
              "    .dataframe tbody tr th:only-of-type {\n",
              "        vertical-align: middle;\n",
              "    }\n",
              "\n",
              "    .dataframe tbody tr th {\n",
              "        vertical-align: top;\n",
              "    }\n",
              "\n",
              "    .dataframe thead th {\n",
              "        text-align: right;\n",
              "    }\n",
              "</style>\n",
              "<table border=\"1\" class=\"dataframe\">\n",
              "  <thead>\n",
              "    <tr style=\"text-align: right;\">\n",
              "      <th></th>\n",
              "      <th>IN_HOSP_DEATH</th>\n",
              "    </tr>\n",
              "    <tr>\n",
              "      <th>GENDER</th>\n",
              "      <th></th>\n",
              "    </tr>\n",
              "  </thead>\n",
              "  <tbody>\n",
              "    <tr>\n",
              "      <th>F</th>\n",
              "      <td>0.109199</td>\n",
              "    </tr>\n",
              "    <tr>\n",
              "      <th>M</th>\n",
              "      <td>0.103527</td>\n",
              "    </tr>\n",
              "  </tbody>\n",
              "</table>\n",
              "</div>"
            ],
            "text/plain": [
              "        IN_HOSP_DEATH\n",
              "GENDER               \n",
              "F            0.109199\n",
              "M            0.103527"
            ]
          },
          "metadata": {
            "tags": []
          },
          "execution_count": 68
        }
      ]
    },
    {
      "cell_type": "code",
      "metadata": {
        "colab": {
          "base_uri": "https://localhost:8080/",
          "height": 296
        },
        "id": "jRcoOSpsJpsS",
        "outputId": "c602ecf4-4962-46c4-c228-a82cacf36e55"
      },
      "source": [
        "sns.barplot(x = 'GENDER', y = 'IN_HOSP_DEATH', data = df)"
      ],
      "execution_count": 69,
      "outputs": [
        {
          "output_type": "execute_result",
          "data": {
            "text/plain": [
              "<matplotlib.axes._subplots.AxesSubplot at 0x7fb9d17c0490>"
            ]
          },
          "metadata": {
            "tags": []
          },
          "execution_count": 69
        },
        {
          "output_type": "display_data",
          "data": {
            "image/png": "[encoded data removed]",
            "text/plain": [
              "<Figure size 432x288 with 1 Axes>"
            ]
          },
          "metadata": {
            "tags": [],
            "needs_background": "light"
          }
        }
      ]
    },
    {
      "cell_type": "code",
      "metadata": {
        "colab": {
          "base_uri": "https://localhost:8080/",
          "height": 204
        },
        "id": "n86f0dFnJzhI",
        "outputId": "500071ab-7de4-4e7e-a799-103bf0590b77"
      },
      "source": [
        "df[['ADMISSION_TYPE', 'IN_HOSP_DEATH']].groupby(['ADMISSION_TYPE']).mean()"
      ],
      "execution_count": 70,
      "outputs": [
        {
          "output_type": "execute_result",
          "data": {
            "text/html": [
              "<div>\n",
              "<style scoped>\n",
              "    .dataframe tbody tr th:only-of-type {\n",
              "        vertical-align: middle;\n",
              "    }\n",
              "\n",
              "    .dataframe tbody tr th {\n",
              "        vertical-align: top;\n",
              "    }\n",
              "\n",
              "    .dataframe thead th {\n",
              "        text-align: right;\n",
              "    }\n",
              "</style>\n",
              "<table border=\"1\" class=\"dataframe\">\n",
              "  <thead>\n",
              "    <tr style=\"text-align: right;\">\n",
              "      <th></th>\n",
              "      <th>IN_HOSP_DEATH</th>\n",
              "    </tr>\n",
              "    <tr>\n",
              "      <th>ADMISSION_TYPE</th>\n",
              "      <th></th>\n",
              "    </tr>\n",
              "  </thead>\n",
              "  <tbody>\n",
              "    <tr>\n",
              "      <th>ELECTIVE</th>\n",
              "      <td>0.031416</td>\n",
              "    </tr>\n",
              "    <tr>\n",
              "      <th>EMERGENCY</th>\n",
              "      <td>0.135993</td>\n",
              "    </tr>\n",
              "    <tr>\n",
              "      <th>NEWBORN</th>\n",
              "      <td>0.007829</td>\n",
              "    </tr>\n",
              "    <tr>\n",
              "      <th>URGENT</th>\n",
              "      <td>0.127615</td>\n",
              "    </tr>\n",
              "  </tbody>\n",
              "</table>\n",
              "</div>"
            ],
            "text/plain": [
              "                IN_HOSP_DEATH\n",
              "ADMISSION_TYPE               \n",
              "ELECTIVE             0.031416\n",
              "EMERGENCY            0.135993\n",
              "NEWBORN              0.007829\n",
              "URGENT               0.127615"
            ]
          },
          "metadata": {
            "tags": []
          },
          "execution_count": 70
        }
      ]
    },
    {
      "cell_type": "code",
      "metadata": {
        "colab": {
          "base_uri": "https://localhost:8080/",
          "height": 297
        },
        "id": "CiBh2coEJ2hu",
        "outputId": "4daa1699-3e1c-47fa-e7dc-5c2b21b69d6f"
      },
      "source": [
        "sns.barplot(x = 'ADMISSION_TYPE', y = 'IN_HOSP_DEATH', data = df)"
      ],
      "execution_count": 71,
      "outputs": [
        {
          "output_type": "execute_result",
          "data": {
            "text/plain": [
              "<matplotlib.axes._subplots.AxesSubplot at 0x7fb9db054310>"
            ]
          },
          "metadata": {
            "tags": []
          },
          "execution_count": 71
        },
        {
          "output_type": "display_data",
          "data": {
            "image/png": "[encoded data removed]",
            "text/plain": [
              "<Figure size 432x288 with 1 Axes>"
            ]
          },
          "metadata": {
            "tags": [],
            "needs_background": "light"
          }
        }
      ]
    },
    {
      "cell_type": "code",
      "metadata": {
        "colab": {
          "base_uri": "https://localhost:8080/",
          "height": 297
        },
        "id": "5Jg7FxwcJ40V",
        "outputId": "5bf9130f-ebeb-438b-fda4-a385b0759a2f"
      },
      "source": [
        "df[['MARITAL_STATUS', 'IN_HOSP_DEATH']].groupby(['MARITAL_STATUS']).mean()"
      ],
      "execution_count": 72,
      "outputs": [
        {
          "output_type": "execute_result",
          "data": {
            "text/html": [
              "<div>\n",
              "<style scoped>\n",
              "    .dataframe tbody tr th:only-of-type {\n",
              "        vertical-align: middle;\n",
              "    }\n",
              "\n",
              "    .dataframe tbody tr th {\n",
              "        vertical-align: top;\n",
              "    }\n",
              "\n",
              "    .dataframe thead th {\n",
              "        text-align: right;\n",
              "    }\n",
              "</style>\n",
              "<table border=\"1\" class=\"dataframe\">\n",
              "  <thead>\n",
              "    <tr style=\"text-align: right;\">\n",
              "      <th></th>\n",
              "      <th>IN_HOSP_DEATH</th>\n",
              "    </tr>\n",
              "    <tr>\n",
              "      <th>MARITAL_STATUS</th>\n",
              "      <th></th>\n",
              "    </tr>\n",
              "  </thead>\n",
              "  <tbody>\n",
              "    <tr>\n",
              "      <th>DIVORCED</th>\n",
              "      <td>0.107959</td>\n",
              "    </tr>\n",
              "    <tr>\n",
              "      <th>LIFE PARTNER</th>\n",
              "      <td>0.000000</td>\n",
              "    </tr>\n",
              "    <tr>\n",
              "      <th>MARRIED</th>\n",
              "      <td>0.115772</td>\n",
              "    </tr>\n",
              "    <tr>\n",
              "      <th>SEPARATED</th>\n",
              "      <td>0.101806</td>\n",
              "    </tr>\n",
              "    <tr>\n",
              "      <th>SINGLE</th>\n",
              "      <td>0.088621</td>\n",
              "    </tr>\n",
              "    <tr>\n",
              "      <th>UNKNOWN (DEFAULT)</th>\n",
              "      <td>0.071629</td>\n",
              "    </tr>\n",
              "    <tr>\n",
              "      <th>WIDOWED</th>\n",
              "      <td>0.152761</td>\n",
              "    </tr>\n",
              "  </tbody>\n",
              "</table>\n",
              "</div>"
            ],
            "text/plain": [
              "                   IN_HOSP_DEATH\n",
              "MARITAL_STATUS                  \n",
              "DIVORCED                0.107959\n",
              "LIFE PARTNER            0.000000\n",
              "MARRIED                 0.115772\n",
              "SEPARATED               0.101806\n",
              "SINGLE                  0.088621\n",
              "UNKNOWN (DEFAULT)       0.071629\n",
              "WIDOWED                 0.152761"
            ]
          },
          "metadata": {
            "tags": []
          },
          "execution_count": 72
        }
      ]
    },
    {
      "cell_type": "code",
      "metadata": {
        "colab": {
          "base_uri": "https://localhost:8080/",
          "height": 406
        },
        "id": "4vRmqJXdJ7tG",
        "outputId": "f7416c34-aeaf-44d5-d65a-ff5b02eb15f4"
      },
      "source": [
        "plt.figure(figsize = (10, 6)) # adjust the size of your plots, formatted as (width, height)\n",
        "sns.barplot(x = 'MARITAL_STATUS', y = 'IN_HOSP_DEATH', data = df)"
      ],
      "execution_count": 73,
      "outputs": [
        {
          "output_type": "execute_result",
          "data": {
            "text/plain": [
              "<matplotlib.axes._subplots.AxesSubplot at 0x7fb9daf409d0>"
            ]
          },
          "metadata": {
            "tags": []
          },
          "execution_count": 73
        },
        {
          "output_type": "display_data",
          "data": {
            "image/png": "[encoded data removed]",
            "text/plain": [
              "<Figure size 720x432 with 1 Axes>"
            ]
          },
          "metadata": {
            "tags": [],
            "needs_background": "light"
          }
        }
      ]
    },
    {
      "cell_type": "code",
      "metadata": {
        "colab": {
          "base_uri": "https://localhost:8080/",
          "height": 405
        },
        "id": "eFSusWaTJ_zq",
        "outputId": "92a782d0-c0a4-4b94-9f11-4e8ad8c4fff8"
      },
      "source": [
        "plt.figure(figsize = (10, 6))\n",
        "sns.barplot(x = 'GENDER', y = 'IN_HOSP_DEATH', hue = 'ADMISSION_TYPE', data = df)"
      ],
      "execution_count": 74,
      "outputs": [
        {
          "output_type": "execute_result",
          "data": {
            "text/plain": [
              "<matplotlib.axes._subplots.AxesSubplot at 0x7fb9dad69b90>"
            ]
          },
          "metadata": {
            "tags": []
          },
          "execution_count": 74
        },
        {
          "output_type": "display_data",
          "data": {
            "image/png": "[encoded data removed]",
            "text/plain": [
              "<Figure size 720x432 with 1 Axes>"
            ]
          },
          "metadata": {
            "tags": [],
            "needs_background": "light"
          }
        }
      ]
    },
    {
      "cell_type": "code",
      "metadata": {
        "colab": {
          "base_uri": "https://localhost:8080/",
          "height": 296
        },
        "id": "53yHIlTHKKnK",
        "outputId": "6e90732e-d1bc-4fa5-d186-4f2ffd08f571"
      },
      "source": [
        "sns.histplot(x = 'AGE', data = df)"
      ],
      "execution_count": 75,
      "outputs": [
        {
          "output_type": "execute_result",
          "data": {
            "text/plain": [
              "<matplotlib.axes._subplots.AxesSubplot at 0x7fb9dac6f290>"
            ]
          },
          "metadata": {
            "tags": []
          },
          "execution_count": 75
        },
        {
          "output_type": "display_data",
          "data": {
            "image/png": "[encoded data removed]",
            "text/plain": [
              "<Figure size 432x288 with 1 Axes>"
            ]
          },
          "metadata": {
            "tags": [],
            "needs_background": "light"
          }
        }
      ]
    },
    {
      "cell_type": "code",
      "metadata": {
        "colab": {
          "base_uri": "https://localhost:8080/",
          "height": 296
        },
        "id": "FYEW5VO_KNJ2",
        "outputId": "a778de3b-ae57-466f-e84e-8f4a44f54fb2"
      },
      "source": [
        "sns.boxplot(x = 'AGE', data = df)\n"
      ],
      "execution_count": 76,
      "outputs": [
        {
          "output_type": "execute_result",
          "data": {
            "text/plain": [
              "<matplotlib.axes._subplots.AxesSubplot at 0x7fb9dab790d0>"
            ]
          },
          "metadata": {
            "tags": []
          },
          "execution_count": 76
        },
        {
          "output_type": "display_data",
          "data": {
            "image/png": "[encoded data removed]",
            "text/plain": [
              "<Figure size 432x288 with 1 Axes>"
            ]
          },
          "metadata": {
            "tags": [],
            "needs_background": "light"
          }
        }
      ]
    },
    {
      "cell_type": "code",
      "metadata": {
        "colab": {
          "base_uri": "https://localhost:8080/",
          "height": 242
        },
        "id": "X-KWnOxjKPkQ",
        "outputId": "31daf147-efe2-43d3-f194-585591e2ee8e"
      },
      "source": [
        "g = sns.FacetGrid(df, col = 'IN_HOSP_DEATH', sharey = False)\n",
        "g.map(sns.histplot, 'AGE', bins = 20)"
      ],
      "execution_count": 77,
      "outputs": [
        {
          "output_type": "execute_result",
          "data": {
            "text/plain": [
              "<seaborn.axisgrid.FacetGrid at 0x7fb9da7f2610>"
            ]
          },
          "metadata": {
            "tags": []
          },
          "execution_count": 77
        },
        {
          "output_type": "display_data",
          "data": {
            "image/png": "[encoded data removed]",
            "text/plain": [
              "<Figure size 432x216 with 2 Axes>"
            ]
          },
          "metadata": {
            "tags": [],
            "needs_background": "light"
          }
        }
      ]
    },
    {
      "cell_type": "code",
      "metadata": {
        "colab": {
          "base_uri": "https://localhost:8080/",
          "height": 297
        },
        "id": "Fgw_L_blKSJp",
        "outputId": "b6f1bc5f-be4f-432d-a10a-77646f38b084"
      },
      "source": [
        "sns.histplot(x = 'DIAG_COUNT', data = df, bins = 20, kde = True) # kde = True adds a smoothed line"
      ],
      "execution_count": 78,
      "outputs": [
        {
          "output_type": "execute_result",
          "data": {
            "text/plain": [
              "<matplotlib.axes._subplots.AxesSubplot at 0x7fb9da9da390>"
            ]
          },
          "metadata": {
            "tags": []
          },
          "execution_count": 78
        },
        {
          "output_type": "display_data",
          "data": {
            "image/png": "[encoded data removed]",
            "text/plain": [
              "<Figure size 432x288 with 1 Axes>"
            ]
          },
          "metadata": {
            "tags": [],
            "needs_background": "light"
          }
        }
      ]
    },
    {
      "cell_type": "code",
      "metadata": {
        "colab": {
          "base_uri": "https://localhost:8080/",
          "height": 242
        },
        "id": "MPvofvihKUeg",
        "outputId": "9fec2562-1fcd-40ab-b5a2-093b773a1298"
      },
      "source": [
        "g = sns.FacetGrid(df, col = 'IN_HOSP_DEATH', sharey = False)\n",
        "g.map(sns.histplot, 'DIAG_COUNT', bins = 20, kde = True)"
      ],
      "execution_count": 79,
      "outputs": [
        {
          "output_type": "execute_result",
          "data": {
            "text/plain": [
              "<seaborn.axisgrid.FacetGrid at 0x7fb9da37b5d0>"
            ]
          },
          "metadata": {
            "tags": []
          },
          "execution_count": 79
        },
        {
          "output_type": "display_data",
          "data": {
            "image/png": "[encoded data removed]",
            "text/plain": [
              "<Figure size 432x216 with 2 Axes>"
            ]
          },
          "metadata": {
            "tags": [],
            "needs_background": "light"
          }
        }
      ]
    },
    {
      "cell_type": "code",
      "metadata": {
        "colab": {
          "base_uri": "https://localhost:8080/",
          "height": 1000
        },
        "id": "vAq9XeusKidS",
        "outputId": "0bdcc018-4de2-4de3-ea08-aa52c05d9d02"
      },
      "source": [
        "numerical_feaures = ['AGE', 'DIAG_COUNT', 'CALLOUT_COUNT_DAY', 'PRES_COUNT_DAY', \n",
        "                     'PROC_COUNT_DAY', 'CPT_COUNT_DAY', 'LAB_COUNT_DAY',\n",
        "                     'INPUTS_CV_COUNT_DAY', 'INPUTS_MV_COUNT_DAY', 'OUTPUT_COUNT_DAY', \n",
        "                     'TRANSFER_COUNT_DAY', 'MICRO_COUNT_DAY', 'LOS', 'LOS_ICU']\n",
        "\n",
        "for col_name in numerical_feaures:\n",
        "  sns.displot(data = df, x = col_name, hue = 'IN_HOSP_DEATH', stat = 'density', kde = True)\n",
        "  plt.show()"
      ],
      "execution_count": 80,
      "outputs": [
        {
          "output_type": "display_data",
          "data": {
            "image/png": "[encoded data removed]",
            "text/plain": [
              "<Figure size 449.5x360 with 1 Axes>"
            ]
          },
          "metadata": {
            "tags": [],
            "needs_background": "light"
          }
        },
        {
          "output_type": "display_data",
          "data": {
            "image/png": "[encoded data removed]",
            "text/plain": [
              "<Figure size 449.5x360 with 1 Axes>"
            ]
          },
          "metadata": {
            "tags": [],
            "needs_background": "light"
          }
        },
        {
          "output_type": "display_data",
          "data": {
            "image/png": "[encoded data removed]",
            "text/plain": [
              "<Figure size 449.5x360 with 1 Axes>"
            ]
          },
          "metadata": {
            "tags": [],
            "needs_background": "light"
          }
        },
        {
          "output_type": "display_data",
          "data": {
            "image/png": "[encoded data removed]",
            "text/plain": [
              "<Figure size 449.5x360 with 1 Axes>"
            ]
          },
          "metadata": {
            "tags": [],
            "needs_background": "light"
          }
        },
        {
          "output_type": "display_data",
          "data": {
            "image/png": "[encoded data removed]",
            "text/plain": [
              "<Figure size 449.5x360 with 1 Axes>"
            ]
          },
          "metadata": {
            "tags": [],
            "needs_background": "light"
          }
        },
        {
          "output_type": "display_data",
          "data": {
            "image/png": "[encoded data removed]",
            "text/plain": [
              "<Figure size 449.5x360 with 1 Axes>"
            ]
          },
          "metadata": {
            "tags": [],
            "needs_background": "light"
          }
        },
        {
          "output_type": "display_data",
          "data": {
            "image/png": "[encoded data removed]",
            "text/plain": [
              "<Figure size 449.5x360 with 1 Axes>"
            ]
          },
          "metadata": {
            "tags": [],
            "needs_background": "light"
          }
        },
        {
          "output_type": "display_data",
          "data": {
            "image/png": "[encoded data removed]",
            "text/plain": [
              "<Figure size 449.5x360 with 1 Axes>"
            ]
          },
          "metadata": {
            "tags": [],
            "needs_background": "light"
          }
        },
        {
          "output_type": "display_data",
          "data": {
            "image/png": "[encoded data removed]",
            "text/plain": [
              "<Figure size 449.5x360 with 1 Axes>"
            ]
          },
          "metadata": {
            "tags": [],
            "needs_background": "light"
          }
        },
        {
          "output_type": "display_data",
          "data": {
            "image/png": "[encoded data removed]",
            "text/plain": [
              "<Figure size 449.5x360 with 1 Axes>"
            ]
          },
          "metadata": {
            "tags": [],
            "needs_background": "light"
          }
        },
        {
          "output_type": "display_data",
          "data": {
            "image/png": "[encoded data removed]",
            "text/plain": [
              "<Figure size 449.5x360 with 1 Axes>"
            ]
          },
          "metadata": {
            "tags": [],
            "needs_background": "light"
          }
        },
        {
          "output_type": "display_data",
          "data": {
            "image/png": "[encoded data removed]",
            "text/plain": [
              "<Figure size 449.5x360 with 1 Axes>"
            ]
          },
          "metadata": {
            "tags": [],
            "needs_background": "light"
          }
        },
        {
          "output_type": "display_data",
          "data": {
            "image/png": "[encoded data removed]",
            "text/plain": [
              "<Figure size 449.5x360 with 1 Axes>"
            ]
          },
          "metadata": {
            "tags": [],
            "needs_background": "light"
          }
        },
        {
          "output_type": "display_data",
          "data": {
            "image/png": "[encoded data removed]",
            "text/plain": [
              "<Figure size 449.5x360 with 1 Axes>"
            ]
          },
          "metadata": {
            "tags": [],
            "needs_background": "light"
          }
        }
      ]
    },
    {
      "cell_type": "code",
      "metadata": {
        "id": "rbsXui59Q7aK"
      },
      "source": [
        ""
      ],
      "execution_count": null,
      "outputs": []
    }
  ]
}