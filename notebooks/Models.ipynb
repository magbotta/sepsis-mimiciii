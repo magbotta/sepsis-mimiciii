{
  "nbformat": 4,
  "nbformat_minor": 0,
  "metadata": {
    "colab": {
      "name": "Models.ipynb",
      "provenance": [],
      "collapsed_sections": [],
      "authorship_tag": "ABX9TyMEJrt5UVcIOMFvpsxZGoqN",
      "include_colab_link": true
    },
    "kernelspec": {
      "name": "python3",
      "display_name": "Python 3"
    },
    "language_info": {
      "name": "python"
    }
  },
  "cells": [
    {
      "cell_type": "markdown",
      "metadata": {
        "id": "view-in-github",
        "colab_type": "text"
      },
      "source": [
        "<a href=\"https://colab.research.google.com/github/magbotta/sepsis-mimiciii/blob/main/notebooks/Models.ipynb\" target=\"_parent\"><img src=\"https://colab.research.google.com/assets/colab-badge.svg\" alt=\"Open In Colab\"/></a>"
      ]
    },
    {
      "cell_type": "code",
      "metadata": {
        "id": "QuJ_2bnqaMq-"
      },
      "source": [
        "import pandas as pd\n",
        "import numpy as np\n",
        "\n",
        "import seaborn as sns \n",
        "import matplotlib.pyplot as plt\n",
        "%matplotlib inline"
      ],
      "execution_count": 15,
      "outputs": []
    },
    {
      "cell_type": "code",
      "metadata": {
        "id": "mFE9M_6gar_e"
      },
      "source": [
        "from sklearn.model_selection import train_test_split, GridSearchCV\n",
        "from sklearn.ensemble import RandomForestClassifier, RandomForestRegressor\n",
        "from sklearn.linear_model import LogisticRegression\n",
        "from sklearn.metrics import accuracy_score, f1_score, classification_report, plot_confusion_matrix, plot_roc_curve, mean_squared_error, r2_score"
      ],
      "execution_count": 16,
      "outputs": []
    },
    {
      "cell_type": "code",
      "metadata": {
        "colab": {
          "base_uri": "https://localhost:8080/"
        },
        "id": "SXhYzCQyawQm",
        "outputId": "d2e73d80-5fe5-42ff-ed4d-087f44f91dd1"
      },
      "source": [
        "from google.colab import drive \n",
        "drive.mount('/content/gdrive', force_remount = True)\n",
        "\n",
        "gdrive_rootpath = '/content/gdrive/MyDrive/'"
      ],
      "execution_count": 17,
      "outputs": [
        {
          "output_type": "stream",
          "text": [
            "Mounted at /content/gdrive\n"
          ],
          "name": "stdout"
        }
      ]
    },
    {
      "cell_type": "code",
      "metadata": {
        "colab": {
          "base_uri": "https://localhost:8080/"
        },
        "id": "EeCUfe6maySX",
        "outputId": "c9fa0903-7d34-4a2e-a266-d418a70b7277"
      },
      "source": [
        "df = pd.read_csv(gdrive_rootpath + 'mimic_in_hosp_death_clean.csv')"
      ],
      "execution_count": 18,
      "outputs": [
        {
          "output_type": "stream",
          "text": [
            "/usr/local/lib/python3.7/dist-packages/IPython/core/interactiveshell.py:2718: DtypeWarning: Columns (5) have mixed types.Specify dtype option on import or set low_memory=False.\n",
            "  interactivity=interactivity, compiler=compiler, result=result)\n"
          ],
          "name": "stderr"
        }
      ]
    },
    {
      "cell_type": "code",
      "metadata": {
        "colab": {
          "base_uri": "https://localhost:8080/"
        },
        "id": "slTuXqifa2sT",
        "outputId": "86a4b345-9c12-4fc5-e093-6454c1a77291"
      },
      "source": [
        "df.info()"
      ],
      "execution_count": 19,
      "outputs": [
        {
          "output_type": "stream",
          "text": [
            "<class 'pandas.core.frame.DataFrame'>\n",
            "RangeIndex: 62477 entries, 0 to 62476\n",
            "Data columns (total 81 columns):\n",
            " #   Column                            Non-Null Count  Dtype  \n",
            "---  ------                            --------------  -----  \n",
            " 0   SUBJECT_ID                        62477 non-null  int64  \n",
            " 1   HADM_ID                           62477 non-null  int64  \n",
            " 2   ADMISSION_TYPE                    62477 non-null  object \n",
            " 3   ADMITTIME                         62477 non-null  object \n",
            " 4   DISCHTIME                         62477 non-null  object \n",
            " 5   DEATHTIME                         6624 non-null   object \n",
            " 6   IN_HOSP_DEATH                     62477 non-null  int64  \n",
            " 7   DIAGNOSIS                         62452 non-null  object \n",
            " 8   MARITAL_STATUS                    62477 non-null  object \n",
            " 9   INSURANCE                         62477 non-null  object \n",
            " 10  LANGUAGE                          62477 non-null  object \n",
            " 11  RELIGION                          62477 non-null  object \n",
            " 12  ETHNICITY                         62477 non-null  object \n",
            " 13  GENDER                            62477 non-null  object \n",
            " 14  DOB                               62477 non-null  object \n",
            " 15  LOS_ICU                           62477 non-null  float64\n",
            " 16  CALLOUT_COUNT                     62477 non-null  float64\n",
            " 17  DIAG_COUNT                        62477 non-null  int64  \n",
            " 18  PRES_COUNT                        62477 non-null  float64\n",
            " 19  PROC_COUNT                        62477 non-null  float64\n",
            " 20  CPT_COUNT                         62477 non-null  float64\n",
            " 21  LAB_COUNT                         62477 non-null  float64\n",
            " 22  INPUTS_CV_COUNT                   62477 non-null  float64\n",
            " 23  INPUTS_MV_COUNT                   62477 non-null  float64\n",
            " 24  OUTPUT_COUNT                      62477 non-null  float64\n",
            " 25  TRANSFER_COUNT                    62477 non-null  int64  \n",
            " 26  MICRO_COUNT                       62477 non-null  float64\n",
            " 27  SEPSIS                            62477 non-null  int64  \n",
            " 28  ORGAN_FAILURE                     62477 non-null  int64  \n",
            " 29  CARDIOVASCULAR                    62477 non-null  int64  \n",
            " 30  RENAL                             62477 non-null  int64  \n",
            " 31  HEPATIC                           62477 non-null  int64  \n",
            " 32  HEMATOLOGIC                       62477 non-null  int64  \n",
            " 33  METABOLIC                         62477 non-null  int64  \n",
            " 34  NEUROLOGIC                        62477 non-null  int64  \n",
            " 35  HeartRate_Mean                    62477 non-null  float64\n",
            " 36  SysBP_Mean                        62477 non-null  float64\n",
            " 37  DiasBP_Mean                       62477 non-null  float64\n",
            " 38  MeanBP_Mean                       62477 non-null  float64\n",
            " 39  RespRate_Mean                     62477 non-null  float64\n",
            " 40  TempC_Mean                        62477 non-null  float64\n",
            " 41  SpO2_Mean                         62477 non-null  float64\n",
            " 42  Glucose_Mean                      62477 non-null  float64\n",
            " 43  AGE                               62477 non-null  int64  \n",
            " 44  LOS                               62477 non-null  float64\n",
            " 45  PREDLOS                           62477 non-null  float64\n",
            " 46  CALLOUT_COUNT_DAY                 62477 non-null  float64\n",
            " 47  PRES_COUNT_DAY                    62477 non-null  float64\n",
            " 48  PROC_COUNT_DAY                    62477 non-null  float64\n",
            " 49  CPT_COUNT_DAY                     62477 non-null  float64\n",
            " 50  LAB_COUNT_DAY                     62477 non-null  float64\n",
            " 51  INPUTS_CV_COUNT_DAY               62477 non-null  float64\n",
            " 52  INPUTS_MV_COUNT_DAY               62477 non-null  float64\n",
            " 53  OUTPUT_COUNT_DAY                  62477 non-null  float64\n",
            " 54  TRANSFER_COUNT_DAY                62477 non-null  float64\n",
            " 55  MICRO_COUNT_DAY                   62477 non-null  float64\n",
            " 56  ADMISSION_TYPE_ELECTIVE           62477 non-null  int64  \n",
            " 57  ADMISSION_TYPE_EMERGENCY          62477 non-null  int64  \n",
            " 58  ADMISSION_TYPE_NEWBORN            62477 non-null  int64  \n",
            " 59  ADMISSION_TYPE_URGENT             62477 non-null  int64  \n",
            " 60  GENDER_F                          62477 non-null  int64  \n",
            " 61  RELIGION_CATHOLIC                 62477 non-null  int64  \n",
            " 62  RELIGION_NOT SPECIFIED            62477 non-null  int64  \n",
            " 63  RELIGION_UNOBTAINABLE             62477 non-null  int64  \n",
            " 64  RELIGION_OTHERS                   62477 non-null  int64  \n",
            " 65  INSURANCE_Medicare                62477 non-null  int64  \n",
            " 66  INSURANCE_Private                 62477 non-null  int64  \n",
            " 67  INSURANCE_Medicaid                62477 non-null  int64  \n",
            " 68  INSURANCE_OTHERS                  62477 non-null  int64  \n",
            " 69  MARITAL_STATUS_MARRIED            62477 non-null  int64  \n",
            " 70  MARITAL_STATUS_SINGLE             62477 non-null  int64  \n",
            " 71  MARITAL_STATUS_UNKNOWN (DEFAULT)  62477 non-null  int64  \n",
            " 72  MARITAL_STATUS_OTHERS             62477 non-null  int64  \n",
            " 73  LANGUAGE_ENGL                     62477 non-null  int64  \n",
            " 74  LANGUAGE_SPAN                     62477 non-null  int64  \n",
            " 75  LANGUAGE_RUSS                     62477 non-null  int64  \n",
            " 76  LANGUAGE_OTHERS                   62477 non-null  int64  \n",
            " 77  ETHNICITY_WHITE                   62477 non-null  int64  \n",
            " 78  ETHNICITY_BLACK/AFRICAN AMERICAN  62477 non-null  int64  \n",
            " 79  ETHNICITY_UNKNOWN/NOT SPECIFIED   62477 non-null  int64  \n",
            " 80  ETHNICITY_OTHERS                  62477 non-null  int64  \n",
            "dtypes: float64(30), int64(39), object(12)\n",
            "memory usage: 38.6+ MB\n"
          ],
          "name": "stdout"
        }
      ]
    },
    {
      "cell_type": "code",
      "metadata": {
        "colab": {
          "base_uri": "https://localhost:8080/",
          "height": 440
        },
        "id": "iuYEfbgKb6aA",
        "outputId": "610cc9aa-bd91-434f-c5dd-d88b0563ee63"
      },
      "source": [
        "df.head()"
      ],
      "execution_count": 20,
      "outputs": [
        {
          "output_type": "execute_result",
          "data": {
            "text/html": [
              "<div>\n",
              "<style scoped>\n",
              "    .dataframe tbody tr th:only-of-type {\n",
              "        vertical-align: middle;\n",
              "    }\n",
              "\n",
              "    .dataframe tbody tr th {\n",
              "        vertical-align: top;\n",
              "    }\n",
              "\n",
              "    .dataframe thead th {\n",
              "        text-align: right;\n",
              "    }\n",
              "</style>\n",
              "<table border=\"1\" class=\"dataframe\">\n",
              "  <thead>\n",
              "    <tr style=\"text-align: right;\">\n",
              "      <th></th>\n",
              "      <th>SUBJECT_ID</th>\n",
              "      <th>HADM_ID</th>\n",
              "      <th>ADMISSION_TYPE</th>\n",
              "      <th>ADMITTIME</th>\n",
              "      <th>DISCHTIME</th>\n",
              "      <th>DEATHTIME</th>\n",
              "      <th>IN_HOSP_DEATH</th>\n",
              "      <th>DIAGNOSIS</th>\n",
              "      <th>MARITAL_STATUS</th>\n",
              "      <th>INSURANCE</th>\n",
              "      <th>LANGUAGE</th>\n",
              "      <th>RELIGION</th>\n",
              "      <th>ETHNICITY</th>\n",
              "      <th>GENDER</th>\n",
              "      <th>DOB</th>\n",
              "      <th>LOS_ICU</th>\n",
              "      <th>CALLOUT_COUNT</th>\n",
              "      <th>DIAG_COUNT</th>\n",
              "      <th>PRES_COUNT</th>\n",
              "      <th>PROC_COUNT</th>\n",
              "      <th>CPT_COUNT</th>\n",
              "      <th>LAB_COUNT</th>\n",
              "      <th>INPUTS_CV_COUNT</th>\n",
              "      <th>INPUTS_MV_COUNT</th>\n",
              "      <th>OUTPUT_COUNT</th>\n",
              "      <th>TRANSFER_COUNT</th>\n",
              "      <th>MICRO_COUNT</th>\n",
              "      <th>SEPSIS</th>\n",
              "      <th>ORGAN_FAILURE</th>\n",
              "      <th>CARDIOVASCULAR</th>\n",
              "      <th>RENAL</th>\n",
              "      <th>HEPATIC</th>\n",
              "      <th>HEMATOLOGIC</th>\n",
              "      <th>METABOLIC</th>\n",
              "      <th>NEUROLOGIC</th>\n",
              "      <th>HeartRate_Mean</th>\n",
              "      <th>SysBP_Mean</th>\n",
              "      <th>DiasBP_Mean</th>\n",
              "      <th>MeanBP_Mean</th>\n",
              "      <th>RespRate_Mean</th>\n",
              "      <th>...</th>\n",
              "      <th>SpO2_Mean</th>\n",
              "      <th>Glucose_Mean</th>\n",
              "      <th>AGE</th>\n",
              "      <th>LOS</th>\n",
              "      <th>PREDLOS</th>\n",
              "      <th>CALLOUT_COUNT_DAY</th>\n",
              "      <th>PRES_COUNT_DAY</th>\n",
              "      <th>PROC_COUNT_DAY</th>\n",
              "      <th>CPT_COUNT_DAY</th>\n",
              "      <th>LAB_COUNT_DAY</th>\n",
              "      <th>INPUTS_CV_COUNT_DAY</th>\n",
              "      <th>INPUTS_MV_COUNT_DAY</th>\n",
              "      <th>OUTPUT_COUNT_DAY</th>\n",
              "      <th>TRANSFER_COUNT_DAY</th>\n",
              "      <th>MICRO_COUNT_DAY</th>\n",
              "      <th>ADMISSION_TYPE_ELECTIVE</th>\n",
              "      <th>ADMISSION_TYPE_EMERGENCY</th>\n",
              "      <th>ADMISSION_TYPE_NEWBORN</th>\n",
              "      <th>ADMISSION_TYPE_URGENT</th>\n",
              "      <th>GENDER_F</th>\n",
              "      <th>RELIGION_CATHOLIC</th>\n",
              "      <th>RELIGION_NOT SPECIFIED</th>\n",
              "      <th>RELIGION_UNOBTAINABLE</th>\n",
              "      <th>RELIGION_OTHERS</th>\n",
              "      <th>INSURANCE_Medicare</th>\n",
              "      <th>INSURANCE_Private</th>\n",
              "      <th>INSURANCE_Medicaid</th>\n",
              "      <th>INSURANCE_OTHERS</th>\n",
              "      <th>MARITAL_STATUS_MARRIED</th>\n",
              "      <th>MARITAL_STATUS_SINGLE</th>\n",
              "      <th>MARITAL_STATUS_UNKNOWN (DEFAULT)</th>\n",
              "      <th>MARITAL_STATUS_OTHERS</th>\n",
              "      <th>LANGUAGE_ENGL</th>\n",
              "      <th>LANGUAGE_SPAN</th>\n",
              "      <th>LANGUAGE_RUSS</th>\n",
              "      <th>LANGUAGE_OTHERS</th>\n",
              "      <th>ETHNICITY_WHITE</th>\n",
              "      <th>ETHNICITY_BLACK/AFRICAN AMERICAN</th>\n",
              "      <th>ETHNICITY_UNKNOWN/NOT SPECIFIED</th>\n",
              "      <th>ETHNICITY_OTHERS</th>\n",
              "    </tr>\n",
              "  </thead>\n",
              "  <tbody>\n",
              "    <tr>\n",
              "      <th>0</th>\n",
              "      <td>7275</td>\n",
              "      <td>136809</td>\n",
              "      <td>EMERGENCY</td>\n",
              "      <td>2139-08-28 12:35:00</td>\n",
              "      <td>2139-09-01 16:32:00</td>\n",
              "      <td>NaN</td>\n",
              "      <td>0</td>\n",
              "      <td>ALTERED MENTAL STATUS; DYSPNEA</td>\n",
              "      <td>DIVORCED</td>\n",
              "      <td>Medicare</td>\n",
              "      <td>ENGL</td>\n",
              "      <td>EPISCOPALIAN</td>\n",
              "      <td>WHITE</td>\n",
              "      <td>M</td>\n",
              "      <td>2078-11-11 00:00:00</td>\n",
              "      <td>1.3848</td>\n",
              "      <td>1.0</td>\n",
              "      <td>15</td>\n",
              "      <td>44.0</td>\n",
              "      <td>1.0</td>\n",
              "      <td>7.0</td>\n",
              "      <td>182.0</td>\n",
              "      <td>0.0</td>\n",
              "      <td>18.0</td>\n",
              "      <td>0.0</td>\n",
              "      <td>3</td>\n",
              "      <td>47.0</td>\n",
              "      <td>1</td>\n",
              "      <td>1</td>\n",
              "      <td>0</td>\n",
              "      <td>1</td>\n",
              "      <td>0</td>\n",
              "      <td>0</td>\n",
              "      <td>0</td>\n",
              "      <td>0</td>\n",
              "      <td>92.772727</td>\n",
              "      <td>142.111111</td>\n",
              "      <td>56.722222</td>\n",
              "      <td>76.000000</td>\n",
              "      <td>20.875000</td>\n",
              "      <td>...</td>\n",
              "      <td>95.086957</td>\n",
              "      <td>133.750000</td>\n",
              "      <td>60</td>\n",
              "      <td>4.164583</td>\n",
              "      <td>0.0</td>\n",
              "      <td>0.200000</td>\n",
              "      <td>8.800000</td>\n",
              "      <td>0.200000</td>\n",
              "      <td>1.400000</td>\n",
              "      <td>36.4</td>\n",
              "      <td>0.000000</td>\n",
              "      <td>3.6</td>\n",
              "      <td>0.000000</td>\n",
              "      <td>0.600000</td>\n",
              "      <td>9.400000</td>\n",
              "      <td>0</td>\n",
              "      <td>1</td>\n",
              "      <td>0</td>\n",
              "      <td>0</td>\n",
              "      <td>0</td>\n",
              "      <td>0</td>\n",
              "      <td>0</td>\n",
              "      <td>0</td>\n",
              "      <td>1</td>\n",
              "      <td>1</td>\n",
              "      <td>0</td>\n",
              "      <td>0</td>\n",
              "      <td>0</td>\n",
              "      <td>0</td>\n",
              "      <td>0</td>\n",
              "      <td>0</td>\n",
              "      <td>1</td>\n",
              "      <td>1</td>\n",
              "      <td>0</td>\n",
              "      <td>0</td>\n",
              "      <td>0</td>\n",
              "      <td>1</td>\n",
              "      <td>0</td>\n",
              "      <td>0</td>\n",
              "      <td>0</td>\n",
              "    </tr>\n",
              "    <tr>\n",
              "      <th>1</th>\n",
              "      <td>17575</td>\n",
              "      <td>187131</td>\n",
              "      <td>EMERGENCY</td>\n",
              "      <td>2124-10-21 08:32:00</td>\n",
              "      <td>2124-11-01 11:14:00</td>\n",
              "      <td>NaN</td>\n",
              "      <td>0</td>\n",
              "      <td>MVA;TRAUMA</td>\n",
              "      <td>SINGLE</td>\n",
              "      <td>Government</td>\n",
              "      <td>ENGL</td>\n",
              "      <td>OTHER</td>\n",
              "      <td>BLACK/AFRICAN AMERICAN</td>\n",
              "      <td>M</td>\n",
              "      <td>2106-01-23 00:00:00</td>\n",
              "      <td>3.2653</td>\n",
              "      <td>0.0</td>\n",
              "      <td>9</td>\n",
              "      <td>0.0</td>\n",
              "      <td>9.0</td>\n",
              "      <td>0.0</td>\n",
              "      <td>408.0</td>\n",
              "      <td>331.0</td>\n",
              "      <td>0.0</td>\n",
              "      <td>89.0</td>\n",
              "      <td>3</td>\n",
              "      <td>27.0</td>\n",
              "      <td>0</td>\n",
              "      <td>1</td>\n",
              "      <td>0</td>\n",
              "      <td>0</td>\n",
              "      <td>0</td>\n",
              "      <td>0</td>\n",
              "      <td>0</td>\n",
              "      <td>0</td>\n",
              "      <td>108.268293</td>\n",
              "      <td>119.780488</td>\n",
              "      <td>53.317073</td>\n",
              "      <td>73.948718</td>\n",
              "      <td>18.291667</td>\n",
              "      <td>...</td>\n",
              "      <td>99.288889</td>\n",
              "      <td>115.000000</td>\n",
              "      <td>18</td>\n",
              "      <td>11.112500</td>\n",
              "      <td>1.0</td>\n",
              "      <td>0.000000</td>\n",
              "      <td>0.000000</td>\n",
              "      <td>0.750000</td>\n",
              "      <td>0.000000</td>\n",
              "      <td>34.0</td>\n",
              "      <td>27.583333</td>\n",
              "      <td>0.0</td>\n",
              "      <td>7.416667</td>\n",
              "      <td>0.250000</td>\n",
              "      <td>2.250000</td>\n",
              "      <td>0</td>\n",
              "      <td>1</td>\n",
              "      <td>0</td>\n",
              "      <td>0</td>\n",
              "      <td>0</td>\n",
              "      <td>0</td>\n",
              "      <td>0</td>\n",
              "      <td>0</td>\n",
              "      <td>1</td>\n",
              "      <td>0</td>\n",
              "      <td>0</td>\n",
              "      <td>0</td>\n",
              "      <td>1</td>\n",
              "      <td>0</td>\n",
              "      <td>1</td>\n",
              "      <td>0</td>\n",
              "      <td>0</td>\n",
              "      <td>1</td>\n",
              "      <td>0</td>\n",
              "      <td>0</td>\n",
              "      <td>0</td>\n",
              "      <td>0</td>\n",
              "      <td>1</td>\n",
              "      <td>0</td>\n",
              "      <td>0</td>\n",
              "    </tr>\n",
              "    <tr>\n",
              "      <th>2</th>\n",
              "      <td>25251</td>\n",
              "      <td>142346</td>\n",
              "      <td>EMERGENCY</td>\n",
              "      <td>2167-01-23 16:23:00</td>\n",
              "      <td>2167-02-06 13:53:00</td>\n",
              "      <td>NaN</td>\n",
              "      <td>0</td>\n",
              "      <td>INFECTED RIGHT FOOT</td>\n",
              "      <td>DIVORCED</td>\n",
              "      <td>Medicare</td>\n",
              "      <td>ENGL</td>\n",
              "      <td>EPISCOPALIAN</td>\n",
              "      <td>WHITE</td>\n",
              "      <td>M</td>\n",
              "      <td>2096-08-27 00:00:00</td>\n",
              "      <td>3.2458</td>\n",
              "      <td>0.0</td>\n",
              "      <td>9</td>\n",
              "      <td>0.0</td>\n",
              "      <td>8.0</td>\n",
              "      <td>0.0</td>\n",
              "      <td>574.0</td>\n",
              "      <td>390.0</td>\n",
              "      <td>0.0</td>\n",
              "      <td>90.0</td>\n",
              "      <td>6</td>\n",
              "      <td>46.0</td>\n",
              "      <td>0</td>\n",
              "      <td>0</td>\n",
              "      <td>0</td>\n",
              "      <td>0</td>\n",
              "      <td>0</td>\n",
              "      <td>0</td>\n",
              "      <td>0</td>\n",
              "      <td>0</td>\n",
              "      <td>96.522727</td>\n",
              "      <td>109.454545</td>\n",
              "      <td>57.795455</td>\n",
              "      <td>73.727273</td>\n",
              "      <td>15.500000</td>\n",
              "      <td>...</td>\n",
              "      <td>98.380952</td>\n",
              "      <td>149.619048</td>\n",
              "      <td>70</td>\n",
              "      <td>13.895833</td>\n",
              "      <td>1.0</td>\n",
              "      <td>0.000000</td>\n",
              "      <td>0.000000</td>\n",
              "      <td>0.571429</td>\n",
              "      <td>0.000000</td>\n",
              "      <td>41.0</td>\n",
              "      <td>27.857143</td>\n",
              "      <td>0.0</td>\n",
              "      <td>6.428571</td>\n",
              "      <td>0.428571</td>\n",
              "      <td>3.285714</td>\n",
              "      <td>0</td>\n",
              "      <td>1</td>\n",
              "      <td>0</td>\n",
              "      <td>0</td>\n",
              "      <td>0</td>\n",
              "      <td>0</td>\n",
              "      <td>0</td>\n",
              "      <td>0</td>\n",
              "      <td>1</td>\n",
              "      <td>1</td>\n",
              "      <td>0</td>\n",
              "      <td>0</td>\n",
              "      <td>0</td>\n",
              "      <td>0</td>\n",
              "      <td>0</td>\n",
              "      <td>0</td>\n",
              "      <td>1</td>\n",
              "      <td>1</td>\n",
              "      <td>0</td>\n",
              "      <td>0</td>\n",
              "      <td>0</td>\n",
              "      <td>1</td>\n",
              "      <td>0</td>\n",
              "      <td>0</td>\n",
              "      <td>0</td>\n",
              "    </tr>\n",
              "    <tr>\n",
              "      <th>3</th>\n",
              "      <td>32339</td>\n",
              "      <td>181355</td>\n",
              "      <td>EMERGENCY</td>\n",
              "      <td>2110-07-29 23:56:00</td>\n",
              "      <td>2110-08-04 15:10:00</td>\n",
              "      <td>NaN</td>\n",
              "      <td>0</td>\n",
              "      <td>GASTROINTESTINAL BLEED;CHEST PAIN;TELEMETRY</td>\n",
              "      <td>MARRIED</td>\n",
              "      <td>Medicare</td>\n",
              "      <td>ENGL</td>\n",
              "      <td>JEWISH</td>\n",
              "      <td>WHITE</td>\n",
              "      <td>M</td>\n",
              "      <td>1810-07-29 00:00:00</td>\n",
              "      <td>1.7603</td>\n",
              "      <td>1.0</td>\n",
              "      <td>15</td>\n",
              "      <td>30.0</td>\n",
              "      <td>2.0</td>\n",
              "      <td>8.0</td>\n",
              "      <td>207.0</td>\n",
              "      <td>0.0</td>\n",
              "      <td>21.0</td>\n",
              "      <td>20.0</td>\n",
              "      <td>4</td>\n",
              "      <td>0.0</td>\n",
              "      <td>0</td>\n",
              "      <td>1</td>\n",
              "      <td>0</td>\n",
              "      <td>1</td>\n",
              "      <td>0</td>\n",
              "      <td>0</td>\n",
              "      <td>1</td>\n",
              "      <td>0</td>\n",
              "      <td>50.038462</td>\n",
              "      <td>137.714286</td>\n",
              "      <td>44.571429</td>\n",
              "      <td>67.809524</td>\n",
              "      <td>17.038462</td>\n",
              "      <td>...</td>\n",
              "      <td>97.346154</td>\n",
              "      <td>105.000000</td>\n",
              "      <td>90</td>\n",
              "      <td>5.634722</td>\n",
              "      <td>1.0</td>\n",
              "      <td>0.166667</td>\n",
              "      <td>5.000000</td>\n",
              "      <td>0.333333</td>\n",
              "      <td>1.333333</td>\n",
              "      <td>34.5</td>\n",
              "      <td>0.000000</td>\n",
              "      <td>3.5</td>\n",
              "      <td>3.333333</td>\n",
              "      <td>0.666667</td>\n",
              "      <td>0.000000</td>\n",
              "      <td>0</td>\n",
              "      <td>1</td>\n",
              "      <td>0</td>\n",
              "      <td>0</td>\n",
              "      <td>0</td>\n",
              "      <td>0</td>\n",
              "      <td>0</td>\n",
              "      <td>0</td>\n",
              "      <td>1</td>\n",
              "      <td>1</td>\n",
              "      <td>0</td>\n",
              "      <td>0</td>\n",
              "      <td>0</td>\n",
              "      <td>1</td>\n",
              "      <td>0</td>\n",
              "      <td>0</td>\n",
              "      <td>0</td>\n",
              "      <td>1</td>\n",
              "      <td>0</td>\n",
              "      <td>0</td>\n",
              "      <td>0</td>\n",
              "      <td>1</td>\n",
              "      <td>0</td>\n",
              "      <td>0</td>\n",
              "      <td>0</td>\n",
              "    </tr>\n",
              "    <tr>\n",
              "      <th>4</th>\n",
              "      <td>30746</td>\n",
              "      <td>155603</td>\n",
              "      <td>EMERGENCY</td>\n",
              "      <td>2131-08-22 23:07:00</td>\n",
              "      <td>2131-08-28 13:10:00</td>\n",
              "      <td>NaN</td>\n",
              "      <td>0</td>\n",
              "      <td>ALTERED MENTAL STATUS</td>\n",
              "      <td>DIVORCED</td>\n",
              "      <td>Medicare</td>\n",
              "      <td>ENGL</td>\n",
              "      <td>JEWISH</td>\n",
              "      <td>WHITE</td>\n",
              "      <td>M</td>\n",
              "      <td>2055-03-16 00:00:00</td>\n",
              "      <td>5.5894</td>\n",
              "      <td>0.0</td>\n",
              "      <td>22</td>\n",
              "      <td>53.0</td>\n",
              "      <td>6.0</td>\n",
              "      <td>10.0</td>\n",
              "      <td>378.0</td>\n",
              "      <td>165.0</td>\n",
              "      <td>0.0</td>\n",
              "      <td>115.0</td>\n",
              "      <td>7</td>\n",
              "      <td>5.0</td>\n",
              "      <td>0</td>\n",
              "      <td>1</td>\n",
              "      <td>1</td>\n",
              "      <td>0</td>\n",
              "      <td>0</td>\n",
              "      <td>0</td>\n",
              "      <td>0</td>\n",
              "      <td>1</td>\n",
              "      <td>79.285714</td>\n",
              "      <td>130.814815</td>\n",
              "      <td>60.740741</td>\n",
              "      <td>79.740741</td>\n",
              "      <td>18.875000</td>\n",
              "      <td>...</td>\n",
              "      <td>98.827586</td>\n",
              "      <td>141.300000</td>\n",
              "      <td>76</td>\n",
              "      <td>5.585417</td>\n",
              "      <td>1.0</td>\n",
              "      <td>0.000000</td>\n",
              "      <td>8.833333</td>\n",
              "      <td>1.000000</td>\n",
              "      <td>1.666667</td>\n",
              "      <td>63.0</td>\n",
              "      <td>27.500000</td>\n",
              "      <td>0.0</td>\n",
              "      <td>19.166667</td>\n",
              "      <td>1.166667</td>\n",
              "      <td>0.833333</td>\n",
              "      <td>0</td>\n",
              "      <td>1</td>\n",
              "      <td>0</td>\n",
              "      <td>0</td>\n",
              "      <td>0</td>\n",
              "      <td>0</td>\n",
              "      <td>0</td>\n",
              "      <td>0</td>\n",
              "      <td>1</td>\n",
              "      <td>1</td>\n",
              "      <td>0</td>\n",
              "      <td>0</td>\n",
              "      <td>0</td>\n",
              "      <td>0</td>\n",
              "      <td>0</td>\n",
              "      <td>0</td>\n",
              "      <td>1</td>\n",
              "      <td>1</td>\n",
              "      <td>0</td>\n",
              "      <td>0</td>\n",
              "      <td>0</td>\n",
              "      <td>1</td>\n",
              "      <td>0</td>\n",
              "      <td>0</td>\n",
              "      <td>0</td>\n",
              "    </tr>\n",
              "  </tbody>\n",
              "</table>\n",
              "<p>5 rows × 81 columns</p>\n",
              "</div>"
            ],
            "text/plain": [
              "   SUBJECT_ID  HADM_ID  ... ETHNICITY_UNKNOWN/NOT SPECIFIED ETHNICITY_OTHERS\n",
              "0        7275   136809  ...                               0                0\n",
              "1       17575   187131  ...                               0                0\n",
              "2       25251   142346  ...                               0                0\n",
              "3       32339   181355  ...                               0                0\n",
              "4       30746   155603  ...                               0                0\n",
              "\n",
              "[5 rows x 81 columns]"
            ]
          },
          "metadata": {
            "tags": []
          },
          "execution_count": 20
        }
      ]
    },
    {
      "cell_type": "code",
      "metadata": {
        "colab": {
          "base_uri": "https://localhost:8080/"
        },
        "id": "bBnDo8d5cApv",
        "outputId": "56a27e80-e252-4c73-bb75-302d8aa53951"
      },
      "source": [
        "features_list = ['GENDER_F', 'AGE', 'LOS', 'LOS_ICU', \n",
        "                 'CALLOUT_COUNT_DAY', 'PRES_COUNT_DAY', 'PROC_COUNT_DAY',\n",
        "                 'CPT_COUNT_DAY', 'LAB_COUNT_DAY', 'INPUTS_CV_COUNT_DAY',\n",
        "                 'INPUTS_MV_COUNT_DAY', 'OUTPUT_COUNT_DAY', 'TRANSFER_COUNT_DAY',\n",
        "                 'MICRO_COUNT_DAY', \n",
        "                 'ADMISSION_TYPE_ELECTIVE', 'ADMISSION_TYPE_EMERGENCY', 'ADMISSION_TYPE_NEWBORN', 'ADMISSION_TYPE_URGENT', \n",
        "                 'RELIGION_CATHOLIC', 'RELIGION_NOT SPECIFIED', 'RELIGION_UNOBTAINABLE', 'RELIGION_OTHERS', \n",
        "                 'INSURANCE_Medicare', 'INSURANCE_Private', 'INSURANCE_Medicaid', 'INSURANCE_OTHERS',\n",
        "                 'MARITAL_STATUS_MARRIED', 'MARITAL_STATUS_SINGLE', 'MARITAL_STATUS_UNKNOWN (DEFAULT)', 'MARITAL_STATUS_OTHERS',\n",
        "                 'LANGUAGE_ENGL', 'LANGUAGE_SPAN', 'LANGUAGE_RUSS', 'LANGUAGE_OTHERS',\n",
        "                 'ETHNICITY_WHITE', 'ETHNICITY_BLACK/AFRICAN AMERICAN', 'ETHNICITY_UNKNOWN/NOT SPECIFIED', 'ETHNICITY_OTHERS']\n",
        "\n",
        "len(features_list)"
      ],
      "execution_count": 21,
      "outputs": [
        {
          "output_type": "execute_result",
          "data": {
            "text/plain": [
              "38"
            ]
          },
          "metadata": {
            "tags": []
          },
          "execution_count": 21
        }
      ]
    },
    {
      "cell_type": "code",
      "metadata": {
        "colab": {
          "base_uri": "https://localhost:8080/"
        },
        "id": "N7ZDOmFoMaQY",
        "outputId": "7fff3d2d-f373-4a6f-d9de-6d54107a0035"
      },
      "source": [
        "df.columns"
      ],
      "execution_count": 22,
      "outputs": [
        {
          "output_type": "execute_result",
          "data": {
            "text/plain": [
              "Index(['SUBJECT_ID', 'HADM_ID', 'ADMISSION_TYPE', 'ADMITTIME', 'DISCHTIME',\n",
              "       'DEATHTIME', 'IN_HOSP_DEATH', 'DIAGNOSIS', 'MARITAL_STATUS',\n",
              "       'INSURANCE', 'LANGUAGE', 'RELIGION', 'ETHNICITY', 'GENDER', 'DOB',\n",
              "       'LOS_ICU', 'CALLOUT_COUNT', 'DIAG_COUNT', 'PRES_COUNT', 'PROC_COUNT',\n",
              "       'CPT_COUNT', 'LAB_COUNT', 'INPUTS_CV_COUNT', 'INPUTS_MV_COUNT',\n",
              "       'OUTPUT_COUNT', 'TRANSFER_COUNT', 'MICRO_COUNT', 'SEPSIS',\n",
              "       'ORGAN_FAILURE', 'CARDIOVASCULAR', 'RENAL', 'HEPATIC', 'HEMATOLOGIC',\n",
              "       'METABOLIC', 'NEUROLOGIC', 'HeartRate_Mean', 'SysBP_Mean',\n",
              "       'DiasBP_Mean', 'MeanBP_Mean', 'RespRate_Mean', 'TempC_Mean',\n",
              "       'SpO2_Mean', 'Glucose_Mean', 'AGE', 'LOS', 'PREDLOS',\n",
              "       'CALLOUT_COUNT_DAY', 'PRES_COUNT_DAY', 'PROC_COUNT_DAY',\n",
              "       'CPT_COUNT_DAY', 'LAB_COUNT_DAY', 'INPUTS_CV_COUNT_DAY',\n",
              "       'INPUTS_MV_COUNT_DAY', 'OUTPUT_COUNT_DAY', 'TRANSFER_COUNT_DAY',\n",
              "       'MICRO_COUNT_DAY', 'ADMISSION_TYPE_ELECTIVE',\n",
              "       'ADMISSION_TYPE_EMERGENCY', 'ADMISSION_TYPE_NEWBORN',\n",
              "       'ADMISSION_TYPE_URGENT', 'GENDER_F', 'RELIGION_CATHOLIC',\n",
              "       'RELIGION_NOT SPECIFIED', 'RELIGION_UNOBTAINABLE', 'RELIGION_OTHERS',\n",
              "       'INSURANCE_Medicare', 'INSURANCE_Private', 'INSURANCE_Medicaid',\n",
              "       'INSURANCE_OTHERS', 'MARITAL_STATUS_MARRIED', 'MARITAL_STATUS_SINGLE',\n",
              "       'MARITAL_STATUS_UNKNOWN (DEFAULT)', 'MARITAL_STATUS_OTHERS',\n",
              "       'LANGUAGE_ENGL', 'LANGUAGE_SPAN', 'LANGUAGE_RUSS', 'LANGUAGE_OTHERS',\n",
              "       'ETHNICITY_WHITE', 'ETHNICITY_BLACK/AFRICAN AMERICAN',\n",
              "       'ETHNICITY_UNKNOWN/NOT SPECIFIED', 'ETHNICITY_OTHERS'],\n",
              "      dtype='object')"
            ]
          },
          "metadata": {
            "tags": []
          },
          "execution_count": 22
        }
      ]
    },
    {
      "cell_type": "code",
      "metadata": {
        "colab": {
          "base_uri": "https://localhost:8080/"
        },
        "id": "5-Gn0fNmcZws",
        "outputId": "31403259-95c0-4492-a0bf-c56d6676ea7f"
      },
      "source": [
        "features_list = ['GENDER_F', 'AGE', 'LOS', 'LOS_ICU', \n",
        "                 'CALLOUT_COUNT_DAY', 'PRES_COUNT_DAY', 'PROC_COUNT_DAY',\n",
        "                 'CPT_COUNT_DAY', 'LAB_COUNT_DAY', 'INPUTS_CV_COUNT_DAY',\n",
        "                 'INPUTS_MV_COUNT_DAY', 'OUTPUT_COUNT_DAY', 'TRANSFER_COUNT_DAY',\n",
        "                 'MICRO_COUNT_DAY', \n",
        "                 'ADMISSION_TYPE_ELECTIVE', 'ADMISSION_TYPE_EMERGENCY', 'ADMISSION_TYPE_NEWBORN', 'ADMISSION_TYPE_URGENT', \n",
        "                 'RELIGION_CATHOLIC', 'RELIGION_NOT SPECIFIED', 'RELIGION_OTHERS', \n",
        "                 'INSURANCE_Medicare', 'INSURANCE_Private', 'INSURANCE_Medicaid', 'INSURANCE_OTHERS',\n",
        "                 'MARITAL_STATUS_MARRIED', 'MARITAL_STATUS_SINGLE', 'MARITAL_STATUS_OTHERS',\n",
        "                 'LANGUAGE_ENGL', 'LANGUAGE_SPAN', 'LANGUAGE_RUSS', 'LANGUAGE_OTHERS',\n",
        "                 'ETHNICITY_WHITE', 'ETHNICITY_BLACK/AFRICAN AMERICAN', 'ETHNICITY_UNKNOWN/NOT SPECIFIED', 'ETHNICITY_OTHERS','ORGAN_FAILURE', 'CARDIOVASCULAR', 'RENAL', 'HEPATIC', 'HEMATOLOGIC',\n",
        "       'METABOLIC', 'NEUROLOGIC', 'HeartRate_Mean', 'SysBP_Mean',\n",
        "       'DiasBP_Mean', 'MeanBP_Mean', 'RespRate_Mean', 'TempC_Mean',\n",
        "       'SpO2_Mean', 'Glucose_Mean']\n",
        "\n",
        "len(features_list)"
      ],
      "execution_count": 23,
      "outputs": [
        {
          "output_type": "execute_result",
          "data": {
            "text/plain": [
              "51"
            ]
          },
          "metadata": {
            "tags": []
          },
          "execution_count": 23
        }
      ]
    },
    {
      "cell_type": "markdown",
      "metadata": {
        "id": "1tOU9XzceHah"
      },
      "source": [
        "Train-test Split¶\n"
      ]
    },
    {
      "cell_type": "code",
      "metadata": {
        "id": "ppAvMMHVcEn6"
      },
      "source": [
        "X = df[features_list]\n",
        "y = df['IN_HOSP_DEATH']"
      ],
      "execution_count": 9,
      "outputs": []
    },
    {
      "cell_type": "code",
      "metadata": {
        "id": "tA4riiYcMtRY"
      },
      "source": [
        "X = df[features_list]\n",
        "y = df['SEPSIS']"
      ],
      "execution_count": 24,
      "outputs": []
    },
    {
      "cell_type": "code",
      "metadata": {
        "id": "1ygOhYALdmXt"
      },
      "source": [
        "X_train, X_test, y_train, y_test = train_test_split(X, y, \n",
        "                                                    test_size = 0.2,  # 20% of data belongs to the test set\n",
        "                                                    random_state = 1, # make sure the split is the same across different devices for illustrative purposes\n",
        "                                                    stratify = y)     # ensure the number of positive examples in the train and test sets are similar"
      ],
      "execution_count": 25,
      "outputs": []
    },
    {
      "cell_type": "code",
      "metadata": {
        "colab": {
          "base_uri": "https://localhost:8080/"
        },
        "id": "qc_ZIzwZdsF3",
        "outputId": "468619e4-a537-48af-c665-89b37ed83d63"
      },
      "source": [
        "X_train.shape"
      ],
      "execution_count": 26,
      "outputs": [
        {
          "output_type": "execute_result",
          "data": {
            "text/plain": [
              "(49981, 51)"
            ]
          },
          "metadata": {
            "tags": []
          },
          "execution_count": 26
        }
      ]
    },
    {
      "cell_type": "code",
      "metadata": {
        "colab": {
          "base_uri": "https://localhost:8080/"
        },
        "id": "MLTnYkXmdvGb",
        "outputId": "5c07afc2-08c4-4fbe-fc84-67aa6c298db1"
      },
      "source": [
        "X_test.shape"
      ],
      "execution_count": 27,
      "outputs": [
        {
          "output_type": "execute_result",
          "data": {
            "text/plain": [
              "(12496, 51)"
            ]
          },
          "metadata": {
            "tags": []
          },
          "execution_count": 27
        }
      ]
    },
    {
      "cell_type": "markdown",
      "metadata": {
        "id": "rBjVGyTieTfT"
      },
      "source": [
        "Logistic Regression"
      ]
    },
    {
      "cell_type": "markdown",
      "metadata": {
        "id": "yKqa9_5WfJUh"
      },
      "source": [
        "Model Training and Prediction"
      ]
    },
    {
      "cell_type": "code",
      "metadata": {
        "id": "szCGlrG9eZmK"
      },
      "source": [
        "# 1. Specify a model to be trained\n",
        "model_lr = LogisticRegression(random_state = 1, \n",
        "                              n_jobs = -1) # use all available CPUs within your Colab notebook for computation\n"
      ],
      "execution_count": 28,
      "outputs": []
    },
    {
      "cell_type": "code",
      "metadata": {
        "colab": {
          "base_uri": "https://localhost:8080/"
        },
        "id": "LS0-UKSrfQsl",
        "outputId": "5617bc16-a0fd-4d66-c039-2a59420257bb"
      },
      "source": [
        "# 2. Train the model\n",
        "model_lr.fit(X_train, y_train)"
      ],
      "execution_count": 29,
      "outputs": [
        {
          "output_type": "execute_result",
          "data": {
            "text/plain": [
              "LogisticRegression(C=1.0, class_weight=None, dual=False, fit_intercept=True,\n",
              "                   intercept_scaling=1, l1_ratio=None, max_iter=100,\n",
              "                   multi_class='auto', n_jobs=-1, penalty='l2', random_state=1,\n",
              "                   solver='lbfgs', tol=0.0001, verbose=0, warm_start=False)"
            ]
          },
          "metadata": {
            "tags": []
          },
          "execution_count": 29
        }
      ]
    },
    {
      "cell_type": "code",
      "metadata": {
        "colab": {
          "base_uri": "https://localhost:8080/"
        },
        "id": "cFkmmXJ2fTIR",
        "outputId": "731621ec-3ba1-43b3-8730-74f75773ade7"
      },
      "source": [
        "# 3. Make predictions\n",
        "y_pred_lr = model_lr.predict(X_test)\n",
        "y_pred_lr"
      ],
      "execution_count": 30,
      "outputs": [
        {
          "output_type": "execute_result",
          "data": {
            "text/plain": [
              "array([0, 0, 0, ..., 0, 0, 0])"
            ]
          },
          "metadata": {
            "tags": []
          },
          "execution_count": 30
        }
      ]
    },
    {
      "cell_type": "code",
      "metadata": {
        "colab": {
          "base_uri": "https://localhost:8080/"
        },
        "id": "-bvGO0hNfWjB",
        "outputId": "ad72a5d1-72f0-4cce-e2c6-f5f39ca1bdbb"
      },
      "source": [
        "model_lr.predict_proba(X_test) # the two columns represent the prob of 0 and 1 respectively"
      ],
      "execution_count": 31,
      "outputs": [
        {
          "output_type": "execute_result",
          "data": {
            "text/plain": [
              "array([[0.54754375, 0.45245625],\n",
              "       [0.81037862, 0.18962138],\n",
              "       [0.61771473, 0.38228527],\n",
              "       ...,\n",
              "       [0.85173732, 0.14826268],\n",
              "       [0.78854908, 0.21145092],\n",
              "       [0.98244124, 0.01755876]])"
            ]
          },
          "metadata": {
            "tags": []
          },
          "execution_count": 31
        }
      ]
    },
    {
      "cell_type": "markdown",
      "metadata": {
        "id": "EA1Dm3uqfaV8"
      },
      "source": [
        "Evaluation"
      ]
    },
    {
      "cell_type": "code",
      "metadata": {
        "colab": {
          "base_uri": "https://localhost:8080/"
        },
        "id": "5_F9aOuufeXd",
        "outputId": "45464ced-e743-4342-ea0d-496b7346a7e3"
      },
      "source": [
        "accuracy_score(y_test, y_pred_lr)\n"
      ],
      "execution_count": 32,
      "outputs": [
        {
          "output_type": "execute_result",
          "data": {
            "text/plain": [
              "0.8766005121638925"
            ]
          },
          "metadata": {
            "tags": []
          },
          "execution_count": 32
        }
      ]
    },
    {
      "cell_type": "code",
      "metadata": {
        "colab": {
          "base_uri": "https://localhost:8080/"
        },
        "id": "qbJozkBQfher",
        "outputId": "914eaeb8-b869-4988-8e35-61cbb0e4c489"
      },
      "source": [
        "print(classification_report(y_test, y_pred_lr))\n"
      ],
      "execution_count": 33,
      "outputs": [
        {
          "output_type": "stream",
          "text": [
            "              precision    recall  f1-score   support\n",
            "\n",
            "           0       0.90      0.97      0.93     10694\n",
            "           1       0.64      0.33      0.43      1802\n",
            "\n",
            "    accuracy                           0.88     12496\n",
            "   macro avg       0.77      0.65      0.68     12496\n",
            "weighted avg       0.86      0.88      0.86     12496\n",
            "\n"
          ],
          "name": "stdout"
        }
      ]
    },
    {
      "cell_type": "code",
      "metadata": {
        "colab": {
          "base_uri": "https://localhost:8080/",
          "height": 279
        },
        "id": "7o00H07kfk1j",
        "outputId": "d72b3fb3-e3e9-4a7b-9ead-6c727be87580"
      },
      "source": [
        "plot_confusion_matrix(model_lr, X_test, y_test, values_format = 'd')\n",
        "plt.show()"
      ],
      "execution_count": 34,
      "outputs": [
        {
          "output_type": "display_data",
          "data": {
            "image/png": "[encoded data removed]",
            "text/plain": [
              "<Figure size 432x288 with 2 Axes>"
            ]
          },
          "metadata": {
            "tags": [],
            "needs_background": "light"
          }
        }
      ]
    },
    {
      "cell_type": "code",
      "metadata": {
        "colab": {
          "base_uri": "https://localhost:8080/",
          "height": 279
        },
        "id": "xL_K9oG7fnxP",
        "outputId": "f49c95d6-a727-42f9-f138-d4851b1708d9"
      },
      "source": [
        "# recall-related metrics\n",
        "plot_confusion_matrix(model_lr, X_test, y_test, normalize = 'true') \n",
        "plt.show()"
      ],
      "execution_count": 35,
      "outputs": [
        {
          "output_type": "display_data",
          "data": {
            "image/png": "[encoded data removed]",
            "text/plain": [
              "<Figure size 432x288 with 2 Axes>"
            ]
          },
          "metadata": {
            "tags": [],
            "needs_background": "light"
          }
        }
      ]
    },
    {
      "cell_type": "code",
      "metadata": {
        "colab": {
          "base_uri": "https://localhost:8080/",
          "height": 279
        },
        "id": "lZ2dJAYZfqWG",
        "outputId": "8c56a1f9-2390-474f-ac6b-860fbe23f312"
      },
      "source": [
        "# precision-related metrics\n",
        "plot_confusion_matrix(model_lr, X_test, y_test, normalize = 'pred')\n",
        "plt.show()"
      ],
      "execution_count": 36,
      "outputs": [
        {
          "output_type": "display_data",
          "data": {
            "image/png": "[encoded data removed]",
            "text/plain": [
              "<Figure size 432x288 with 2 Axes>"
            ]
          },
          "metadata": {
            "tags": [],
            "needs_background": "light"
          }
        }
      ]
    },
    {
      "cell_type": "code",
      "metadata": {
        "colab": {
          "base_uri": "https://localhost:8080/",
          "height": 279
        },
        "id": "wYyIHqSLftV8",
        "outputId": "15e53fb8-2864-4ee5-b244-016b8a20db99"
      },
      "source": [
        "plot_roc_curve(model_lr, X_test, y_test)\n",
        "plt.show()"
      ],
      "execution_count": 37,
      "outputs": [
        {
          "output_type": "display_data",
          "data": {
            "image/png": "[encoded data removed]",
            "text/plain": [
              "<Figure size 432x288 with 1 Axes>"
            ]
          },
          "metadata": {
            "tags": [],
            "needs_background": "light"
          }
        }
      ]
    },
    {
      "cell_type": "markdown",
      "metadata": {
        "id": "9I7f1whKf3Km"
      },
      "source": [
        "##Random Forest Model"
      ]
    },
    {
      "cell_type": "markdown",
      "metadata": {
        "id": "1OBXmWoRf4y0"
      },
      "source": [
        "Model Training and Prediction¶\n"
      ]
    },
    {
      "cell_type": "code",
      "metadata": {
        "id": "rpuKdh8Zf_kg"
      },
      "source": [
        "model_rf1 = RandomForestClassifier(n_estimators = 200, \n",
        "                                   random_state = 1,\n",
        "                                   n_jobs = -1)"
      ],
      "execution_count": 38,
      "outputs": []
    },
    {
      "cell_type": "code",
      "metadata": {
        "colab": {
          "base_uri": "https://localhost:8080/"
        },
        "id": "Hy79J2Y8gC4s",
        "outputId": "89efc6d5-533e-414a-ee94-b14bd5d56eac"
      },
      "source": [
        "model_rf1.fit(X_train, y_train)"
      ],
      "execution_count": 39,
      "outputs": [
        {
          "output_type": "execute_result",
          "data": {
            "text/plain": [
              "RandomForestClassifier(bootstrap=True, ccp_alpha=0.0, class_weight=None,\n",
              "                       criterion='gini', max_depth=None, max_features='auto',\n",
              "                       max_leaf_nodes=None, max_samples=None,\n",
              "                       min_impurity_decrease=0.0, min_impurity_split=None,\n",
              "                       min_samples_leaf=1, min_samples_split=2,\n",
              "                       min_weight_fraction_leaf=0.0, n_estimators=200,\n",
              "                       n_jobs=-1, oob_score=False, random_state=1, verbose=0,\n",
              "                       warm_start=False)"
            ]
          },
          "metadata": {
            "tags": []
          },
          "execution_count": 39
        }
      ]
    },
    {
      "cell_type": "code",
      "metadata": {
        "id": "tcWl0KnBgFYW"
      },
      "source": [
        "y_pred_rf1 = model_rf1.predict(X_test)"
      ],
      "execution_count": 40,
      "outputs": []
    },
    {
      "cell_type": "markdown",
      "metadata": {
        "id": "4urJ8-lPgK9Y"
      },
      "source": [
        "\n",
        "Evaluation"
      ]
    },
    {
      "cell_type": "code",
      "metadata": {
        "colab": {
          "base_uri": "https://localhost:8080/"
        },
        "id": "HVN_g_IHgNsi",
        "outputId": "36cbe55a-7d70-4931-db88-c99bc226a944"
      },
      "source": [
        "print(classification_report(y_test, y_pred_rf1))"
      ],
      "execution_count": 41,
      "outputs": [
        {
          "output_type": "stream",
          "text": [
            "              precision    recall  f1-score   support\n",
            "\n",
            "           0       0.91      0.98      0.94     10694\n",
            "           1       0.77      0.42      0.54      1802\n",
            "\n",
            "    accuracy                           0.90     12496\n",
            "   macro avg       0.84      0.70      0.74     12496\n",
            "weighted avg       0.89      0.90      0.89     12496\n",
            "\n"
          ],
          "name": "stdout"
        }
      ]
    },
    {
      "cell_type": "code",
      "metadata": {
        "colab": {
          "base_uri": "https://localhost:8080/",
          "height": 279
        },
        "id": "EzfTwF09lG9p",
        "outputId": "0a408009-90e3-4314-a7c9-42c26541ef6c"
      },
      "source": [
        "plot_confusion_matrix(model_rf1, X_test, y_test, values_format = 'd')\n",
        "plt.show()"
      ],
      "execution_count": 42,
      "outputs": [
        {
          "output_type": "display_data",
          "data": {
            "image/png": "[encoded data removed]",
            "text/plain": [
              "<Figure size 432x288 with 2 Axes>"
            ]
          },
          "metadata": {
            "tags": [],
            "needs_background": "light"
          }
        }
      ]
    },
    {
      "cell_type": "code",
      "metadata": {
        "colab": {
          "base_uri": "https://localhost:8080/",
          "height": 279
        },
        "id": "KDog6qIqlR5v",
        "outputId": "864dc9b2-f473-4b1a-c95b-82ae9aa62d06"
      },
      "source": [
        "plot_confusion_matrix(model_rf1, X_test, y_test, normalize = 'true') # recall\n",
        "plt.show()"
      ],
      "execution_count": 43,
      "outputs": [
        {
          "output_type": "display_data",
          "data": {
            "image/png": "[encoded data removed]",
            "text/plain": [
              "<Figure size 432x288 with 2 Axes>"
            ]
          },
          "metadata": {
            "tags": [],
            "needs_background": "light"
          }
        }
      ]
    },
    {
      "cell_type": "code",
      "metadata": {
        "colab": {
          "base_uri": "https://localhost:8080/",
          "height": 281
        },
        "id": "7pPBuqfclU6E",
        "outputId": "eae52801-2327-4f22-b7c1-1c497fdc618d"
      },
      "source": [
        "plot_confusion_matrix(model_rf1, X_test, y_test, normalize = 'pred') # precision\n",
        "plt.show()"
      ],
      "execution_count": 44,
      "outputs": [
        {
          "output_type": "display_data",
          "data": {
            "image/png": "[encoded data removed]",
            "text/plain": [
              "<Figure size 432x288 with 2 Axes>"
            ]
          },
          "metadata": {
            "tags": [],
            "needs_background": "light"
          }
        }
      ]
    },
    {
      "cell_type": "code",
      "metadata": {
        "colab": {
          "base_uri": "https://localhost:8080/",
          "height": 296
        },
        "id": "v51Cez4WlXXn",
        "outputId": "a972a4bd-8e18-4805-8375-8c72c337068d"
      },
      "source": [
        "plot_roc_curve(model_rf1, X_test, y_test)"
      ],
      "execution_count": 45,
      "outputs": [
        {
          "output_type": "execute_result",
          "data": {
            "text/plain": [
              "<sklearn.metrics._plot.roc_curve.RocCurveDisplay at 0x7fdd781af250>"
            ]
          },
          "metadata": {
            "tags": []
          },
          "execution_count": 45
        },
        {
          "output_type": "display_data",
          "data": {
            "image/png": "[encoded data removed]",
            "text/plain": [
              "<Figure size 432x288 with 1 Axes>"
            ]
          },
          "metadata": {
            "tags": [],
            "needs_background": "light"
          }
        }
      ]
    },
    {
      "cell_type": "markdown",
      "metadata": {
        "id": "PNLRweoHmF_q"
      },
      "source": [
        "\n",
        "##Tuning Random Forest Model"
      ]
    },
    {
      "cell_type": "code",
      "metadata": {
        "id": "-LCjoxXCmIfX"
      },
      "source": [
        "# a set of hyperparameters and their respective values to be tested\n",
        "\n",
        "param_grid = {\n",
        "    'n_estimators': [100, 200, 300],   # number of decision trees in the forest \n",
        "    'max_depth': [10, 40, None],       # how many times can each tree be split. None means no specific limit. \n",
        "    'class_weight': ['balanced', None] # weight of each sample. None means equal weight, balanced would put more weight on the less represented classes\n",
        "}"
      ],
      "execution_count": 46,
      "outputs": []
    },
    {
      "cell_type": "code",
      "metadata": {
        "id": "h4fy_r_OmRvt"
      },
      "source": [
        "grid_search_rf = GridSearchCV(\n",
        "    estimator = RandomForestClassifier(random_state = 1, n_jobs = -1), # define type of model to be tuned\n",
        "    param_grid = param_grid,                                           # hyperparameters to be tested\n",
        "    cv = 3,                                                            # 3-fold cross-validation\n",
        "    scoring = 'f1',                                                    # metric to be optimized\n",
        "    n_jobs = -1, \n",
        "    verbose = 2\n",
        "    )"
      ],
      "execution_count": 47,
      "outputs": []
    },
    {
      "cell_type": "code",
      "metadata": {
        "colab": {
          "base_uri": "https://localhost:8080/"
        },
        "id": "hxlb22BYmWi8",
        "outputId": "3eb82db7-1434-41dd-c4eb-4aad31eeb04d"
      },
      "source": [
        "grid_search_rf.fit(X_train, y_train)\n",
        "\n",
        "# this would take 10 to 15 minutes to run\n",
        "# this could take even longer depending on the number of hyperparameters to be tested, number of folds or the size of the dataset"
      ],
      "execution_count": 48,
      "outputs": [
        {
          "output_type": "stream",
          "text": [
            "Fitting 3 folds for each of 18 candidates, totalling 54 fits\n"
          ],
          "name": "stdout"
        },
        {
          "output_type": "stream",
          "text": [
            "[Parallel(n_jobs=-1)]: Using backend LokyBackend with 2 concurrent workers.\n",
            "[Parallel(n_jobs=-1)]: Done  37 tasks      | elapsed:  7.6min\n",
            "[Parallel(n_jobs=-1)]: Done  54 out of  54 | elapsed: 12.0min finished\n"
          ],
          "name": "stderr"
        },
        {
          "output_type": "execute_result",
          "data": {
            "text/plain": [
              "GridSearchCV(cv=3, error_score=nan,\n",
              "             estimator=RandomForestClassifier(bootstrap=True, ccp_alpha=0.0,\n",
              "                                              class_weight=None,\n",
              "                                              criterion='gini', max_depth=None,\n",
              "                                              max_features='auto',\n",
              "                                              max_leaf_nodes=None,\n",
              "                                              max_samples=None,\n",
              "                                              min_impurity_decrease=0.0,\n",
              "                                              min_impurity_split=None,\n",
              "                                              min_samples_leaf=1,\n",
              "                                              min_samples_split=2,\n",
              "                                              min_weight_fraction_leaf=0.0,\n",
              "                                              n_estimators=100, n_jobs=-1,\n",
              "                                              oob_score=False, random_state=1,\n",
              "                                              verbose=0, warm_start=False),\n",
              "             iid='deprecated', n_jobs=-1,\n",
              "             param_grid={'class_weight': ['balanced', None],\n",
              "                         'max_depth': [10, 40, None],\n",
              "                         'n_estimators': [100, 200, 300]},\n",
              "             pre_dispatch='2*n_jobs', refit=True, return_train_score=False,\n",
              "             scoring='f1', verbose=2)"
            ]
          },
          "metadata": {
            "tags": []
          },
          "execution_count": 48
        }
      ]
    },
    {
      "cell_type": "code",
      "metadata": {
        "id": "wu_YDvtlmcfZ"
      },
      "source": [
        ""
      ],
      "execution_count": null,
      "outputs": []
    },
    {
      "cell_type": "markdown",
      "metadata": {
        "id": "KRtaGaJfmdw2"
      },
      "source": [
        "\n",
        "##Tuning Results"
      ]
    },
    {
      "cell_type": "code",
      "metadata": {
        "colab": {
          "base_uri": "https://localhost:8080/"
        },
        "id": "nCEHKZkmmgnf",
        "outputId": "fe63aabb-ddbb-4a0e-fa84-84356331419f"
      },
      "source": [
        "grid_search_rf.best_params_\n"
      ],
      "execution_count": 49,
      "outputs": [
        {
          "output_type": "execute_result",
          "data": {
            "text/plain": [
              "{'class_weight': 'balanced', 'max_depth': 10, 'n_estimators': 200}"
            ]
          },
          "metadata": {
            "tags": []
          },
          "execution_count": 49
        }
      ]
    },
    {
      "cell_type": "code",
      "metadata": {
        "id": "dsYfCLCwmk2N"
      },
      "source": [
        "model_rf2 = grid_search_rf.best_estimator_\n"
      ],
      "execution_count": 50,
      "outputs": []
    },
    {
      "cell_type": "code",
      "metadata": {
        "colab": {
          "base_uri": "https://localhost:8080/"
        },
        "id": "pfaeKw9nmnMw",
        "outputId": "7bbe652a-9c14-4e5d-db6d-2ffb03fb39bd"
      },
      "source": [
        "model_rf2\n",
        "\n",
        "# Note: this would be the same as training a seperate model using the same inputs, i.e.\n",
        "# model_rf2 = RandomForestClassifier(class_weight='balanced', max_depth=10, n_estimators=300,\n",
        "#                                    n_jobs=-1, random_state=1)\n",
        "# model_rf2.fit(X_train, y_train)"
      ],
      "execution_count": 51,
      "outputs": [
        {
          "output_type": "execute_result",
          "data": {
            "text/plain": [
              "RandomForestClassifier(bootstrap=True, ccp_alpha=0.0, class_weight='balanced',\n",
              "                       criterion='gini', max_depth=10, max_features='auto',\n",
              "                       max_leaf_nodes=None, max_samples=None,\n",
              "                       min_impurity_decrease=0.0, min_impurity_split=None,\n",
              "                       min_samples_leaf=1, min_samples_split=2,\n",
              "                       min_weight_fraction_leaf=0.0, n_estimators=200,\n",
              "                       n_jobs=-1, oob_score=False, random_state=1, verbose=0,\n",
              "                       warm_start=False)"
            ]
          },
          "metadata": {
            "tags": []
          },
          "execution_count": 51
        }
      ]
    },
    {
      "cell_type": "code",
      "metadata": {
        "colab": {
          "base_uri": "https://localhost:8080/",
          "height": 1000
        },
        "id": "hyv55_aCmwXX",
        "outputId": "b6bd5f59-dd19-46e0-a205-e691f1341f3f"
      },
      "source": [
        "pd.DataFrame(grid_search_rf.cv_results_)\n"
      ],
      "execution_count": 52,
      "outputs": [
        {
          "output_type": "execute_result",
          "data": {
            "text/html": [
              "<div>\n",
              "<style scoped>\n",
              "    .dataframe tbody tr th:only-of-type {\n",
              "        vertical-align: middle;\n",
              "    }\n",
              "\n",
              "    .dataframe tbody tr th {\n",
              "        vertical-align: top;\n",
              "    }\n",
              "\n",
              "    .dataframe thead th {\n",
              "        text-align: right;\n",
              "    }\n",
              "</style>\n",
              "<table border=\"1\" class=\"dataframe\">\n",
              "  <thead>\n",
              "    <tr style=\"text-align: right;\">\n",
              "      <th></th>\n",
              "      <th>mean_fit_time</th>\n",
              "      <th>std_fit_time</th>\n",
              "      <th>mean_score_time</th>\n",
              "      <th>std_score_time</th>\n",
              "      <th>param_class_weight</th>\n",
              "      <th>param_max_depth</th>\n",
              "      <th>param_n_estimators</th>\n",
              "      <th>params</th>\n",
              "      <th>split0_test_score</th>\n",
              "      <th>split1_test_score</th>\n",
              "      <th>split2_test_score</th>\n",
              "      <th>mean_test_score</th>\n",
              "      <th>std_test_score</th>\n",
              "      <th>rank_test_score</th>\n",
              "    </tr>\n",
              "  </thead>\n",
              "  <tbody>\n",
              "    <tr>\n",
              "      <th>0</th>\n",
              "      <td>10.170049</td>\n",
              "      <td>0.101505</td>\n",
              "      <td>0.504344</td>\n",
              "      <td>0.054643</td>\n",
              "      <td>balanced</td>\n",
              "      <td>10</td>\n",
              "      <td>100</td>\n",
              "      <td>{'class_weight': 'balanced', 'max_depth': 10, ...</td>\n",
              "      <td>0.593089</td>\n",
              "      <td>0.586832</td>\n",
              "      <td>0.581482</td>\n",
              "      <td>0.587134</td>\n",
              "      <td>0.004743</td>\n",
              "      <td>3</td>\n",
              "    </tr>\n",
              "    <tr>\n",
              "      <th>1</th>\n",
              "      <td>19.925877</td>\n",
              "      <td>0.036198</td>\n",
              "      <td>1.023177</td>\n",
              "      <td>0.174867</td>\n",
              "      <td>balanced</td>\n",
              "      <td>10</td>\n",
              "      <td>200</td>\n",
              "      <td>{'class_weight': 'balanced', 'max_depth': 10, ...</td>\n",
              "      <td>0.594933</td>\n",
              "      <td>0.587210</td>\n",
              "      <td>0.582241</td>\n",
              "      <td>0.588128</td>\n",
              "      <td>0.005222</td>\n",
              "      <td>1</td>\n",
              "    </tr>\n",
              "    <tr>\n",
              "      <th>2</th>\n",
              "      <td>30.317514</td>\n",
              "      <td>0.287325</td>\n",
              "      <td>1.292060</td>\n",
              "      <td>0.124303</td>\n",
              "      <td>balanced</td>\n",
              "      <td>10</td>\n",
              "      <td>300</td>\n",
              "      <td>{'class_weight': 'balanced', 'max_depth': 10, ...</td>\n",
              "      <td>0.595846</td>\n",
              "      <td>0.587123</td>\n",
              "      <td>0.580761</td>\n",
              "      <td>0.587910</td>\n",
              "      <td>0.006184</td>\n",
              "      <td>2</td>\n",
              "    </tr>\n",
              "    <tr>\n",
              "      <th>3</th>\n",
              "      <td>13.612964</td>\n",
              "      <td>0.322057</td>\n",
              "      <td>0.760040</td>\n",
              "      <td>0.075391</td>\n",
              "      <td>balanced</td>\n",
              "      <td>40</td>\n",
              "      <td>100</td>\n",
              "      <td>{'class_weight': 'balanced', 'max_depth': 40, ...</td>\n",
              "      <td>0.492942</td>\n",
              "      <td>0.491739</td>\n",
              "      <td>0.513176</td>\n",
              "      <td>0.499286</td>\n",
              "      <td>0.009834</td>\n",
              "      <td>14</td>\n",
              "    </tr>\n",
              "    <tr>\n",
              "      <th>4</th>\n",
              "      <td>27.150136</td>\n",
              "      <td>0.261013</td>\n",
              "      <td>1.297092</td>\n",
              "      <td>0.130922</td>\n",
              "      <td>balanced</td>\n",
              "      <td>40</td>\n",
              "      <td>200</td>\n",
              "      <td>{'class_weight': 'balanced', 'max_depth': 40, ...</td>\n",
              "      <td>0.499718</td>\n",
              "      <td>0.489127</td>\n",
              "      <td>0.509202</td>\n",
              "      <td>0.499349</td>\n",
              "      <td>0.008200</td>\n",
              "      <td>12</td>\n",
              "    </tr>\n",
              "    <tr>\n",
              "      <th>5</th>\n",
              "      <td>40.736839</td>\n",
              "      <td>0.189051</td>\n",
              "      <td>1.793811</td>\n",
              "      <td>0.041357</td>\n",
              "      <td>balanced</td>\n",
              "      <td>40</td>\n",
              "      <td>300</td>\n",
              "      <td>{'class_weight': 'balanced', 'max_depth': 40, ...</td>\n",
              "      <td>0.507034</td>\n",
              "      <td>0.491268</td>\n",
              "      <td>0.513634</td>\n",
              "      <td>0.503979</td>\n",
              "      <td>0.009383</td>\n",
              "      <td>10</td>\n",
              "    </tr>\n",
              "    <tr>\n",
              "      <th>6</th>\n",
              "      <td>13.488366</td>\n",
              "      <td>0.426131</td>\n",
              "      <td>0.718807</td>\n",
              "      <td>0.048263</td>\n",
              "      <td>balanced</td>\n",
              "      <td>None</td>\n",
              "      <td>100</td>\n",
              "      <td>{'class_weight': 'balanced', 'max_depth': None...</td>\n",
              "      <td>0.492369</td>\n",
              "      <td>0.493427</td>\n",
              "      <td>0.510851</td>\n",
              "      <td>0.498882</td>\n",
              "      <td>0.008475</td>\n",
              "      <td>15</td>\n",
              "    </tr>\n",
              "    <tr>\n",
              "      <th>7</th>\n",
              "      <td>27.387248</td>\n",
              "      <td>0.374832</td>\n",
              "      <td>1.219943</td>\n",
              "      <td>0.092343</td>\n",
              "      <td>balanced</td>\n",
              "      <td>None</td>\n",
              "      <td>200</td>\n",
              "      <td>{'class_weight': 'balanced', 'max_depth': None...</td>\n",
              "      <td>0.500141</td>\n",
              "      <td>0.487571</td>\n",
              "      <td>0.510176</td>\n",
              "      <td>0.499296</td>\n",
              "      <td>0.009248</td>\n",
              "      <td>13</td>\n",
              "    </tr>\n",
              "    <tr>\n",
              "      <th>8</th>\n",
              "      <td>40.577336</td>\n",
              "      <td>0.221889</td>\n",
              "      <td>1.697724</td>\n",
              "      <td>0.100169</td>\n",
              "      <td>balanced</td>\n",
              "      <td>None</td>\n",
              "      <td>300</td>\n",
              "      <td>{'class_weight': 'balanced', 'max_depth': None...</td>\n",
              "      <td>0.508151</td>\n",
              "      <td>0.491535</td>\n",
              "      <td>0.511862</td>\n",
              "      <td>0.503849</td>\n",
              "      <td>0.008838</td>\n",
              "      <td>11</td>\n",
              "    </tr>\n",
              "    <tr>\n",
              "      <th>9</th>\n",
              "      <td>10.343083</td>\n",
              "      <td>0.063917</td>\n",
              "      <td>0.475539</td>\n",
              "      <td>0.049569</td>\n",
              "      <td>None</td>\n",
              "      <td>10</td>\n",
              "      <td>100</td>\n",
              "      <td>{'class_weight': None, 'max_depth': 10, 'n_est...</td>\n",
              "      <td>0.489980</td>\n",
              "      <td>0.479149</td>\n",
              "      <td>0.507821</td>\n",
              "      <td>0.492317</td>\n",
              "      <td>0.011821</td>\n",
              "      <td>16</td>\n",
              "    </tr>\n",
              "    <tr>\n",
              "      <th>10</th>\n",
              "      <td>20.455408</td>\n",
              "      <td>0.029366</td>\n",
              "      <td>0.890252</td>\n",
              "      <td>0.045791</td>\n",
              "      <td>None</td>\n",
              "      <td>10</td>\n",
              "      <td>200</td>\n",
              "      <td>{'class_weight': None, 'max_depth': 10, 'n_est...</td>\n",
              "      <td>0.495506</td>\n",
              "      <td>0.482778</td>\n",
              "      <td>0.498028</td>\n",
              "      <td>0.492104</td>\n",
              "      <td>0.006674</td>\n",
              "      <td>17</td>\n",
              "    </tr>\n",
              "    <tr>\n",
              "      <th>11</th>\n",
              "      <td>30.749236</td>\n",
              "      <td>0.219555</td>\n",
              "      <td>1.318594</td>\n",
              "      <td>0.045568</td>\n",
              "      <td>None</td>\n",
              "      <td>10</td>\n",
              "      <td>300</td>\n",
              "      <td>{'class_weight': None, 'max_depth': 10, 'n_est...</td>\n",
              "      <td>0.494793</td>\n",
              "      <td>0.477637</td>\n",
              "      <td>0.499297</td>\n",
              "      <td>0.490576</td>\n",
              "      <td>0.009332</td>\n",
              "      <td>18</td>\n",
              "    </tr>\n",
              "    <tr>\n",
              "      <th>12</th>\n",
              "      <td>14.052057</td>\n",
              "      <td>0.207008</td>\n",
              "      <td>0.755015</td>\n",
              "      <td>0.091409</td>\n",
              "      <td>None</td>\n",
              "      <td>40</td>\n",
              "      <td>100</td>\n",
              "      <td>{'class_weight': None, 'max_depth': 40, 'n_est...</td>\n",
              "      <td>0.551064</td>\n",
              "      <td>0.535968</td>\n",
              "      <td>0.557859</td>\n",
              "      <td>0.548297</td>\n",
              "      <td>0.009148</td>\n",
              "      <td>8</td>\n",
              "    </tr>\n",
              "    <tr>\n",
              "      <th>13</th>\n",
              "      <td>28.358906</td>\n",
              "      <td>0.131017</td>\n",
              "      <td>1.370224</td>\n",
              "      <td>0.080762</td>\n",
              "      <td>None</td>\n",
              "      <td>40</td>\n",
              "      <td>200</td>\n",
              "      <td>{'class_weight': None, 'max_depth': 40, 'n_est...</td>\n",
              "      <td>0.551118</td>\n",
              "      <td>0.541919</td>\n",
              "      <td>0.562780</td>\n",
              "      <td>0.551939</td>\n",
              "      <td>0.008536</td>\n",
              "      <td>6</td>\n",
              "    </tr>\n",
              "    <tr>\n",
              "      <th>14</th>\n",
              "      <td>41.983990</td>\n",
              "      <td>0.371630</td>\n",
              "      <td>1.728809</td>\n",
              "      <td>0.096099</td>\n",
              "      <td>None</td>\n",
              "      <td>40</td>\n",
              "      <td>300</td>\n",
              "      <td>{'class_weight': None, 'max_depth': 40, 'n_est...</td>\n",
              "      <td>0.553928</td>\n",
              "      <td>0.545885</td>\n",
              "      <td>0.557834</td>\n",
              "      <td>0.552549</td>\n",
              "      <td>0.004975</td>\n",
              "      <td>4</td>\n",
              "    </tr>\n",
              "    <tr>\n",
              "      <th>15</th>\n",
              "      <td>14.250263</td>\n",
              "      <td>0.186550</td>\n",
              "      <td>0.830557</td>\n",
              "      <td>0.039818</td>\n",
              "      <td>None</td>\n",
              "      <td>None</td>\n",
              "      <td>100</td>\n",
              "      <td>{'class_weight': None, 'max_depth': None, 'n_e...</td>\n",
              "      <td>0.551064</td>\n",
              "      <td>0.535968</td>\n",
              "      <td>0.557859</td>\n",
              "      <td>0.548297</td>\n",
              "      <td>0.009148</td>\n",
              "      <td>8</td>\n",
              "    </tr>\n",
              "    <tr>\n",
              "      <th>16</th>\n",
              "      <td>29.076484</td>\n",
              "      <td>0.199259</td>\n",
              "      <td>1.270531</td>\n",
              "      <td>0.094070</td>\n",
              "      <td>None</td>\n",
              "      <td>None</td>\n",
              "      <td>200</td>\n",
              "      <td>{'class_weight': None, 'max_depth': None, 'n_e...</td>\n",
              "      <td>0.551118</td>\n",
              "      <td>0.541919</td>\n",
              "      <td>0.562780</td>\n",
              "      <td>0.551939</td>\n",
              "      <td>0.008536</td>\n",
              "      <td>6</td>\n",
              "    </tr>\n",
              "    <tr>\n",
              "      <th>17</th>\n",
              "      <td>40.468482</td>\n",
              "      <td>4.506929</td>\n",
              "      <td>1.480089</td>\n",
              "      <td>0.470025</td>\n",
              "      <td>None</td>\n",
              "      <td>None</td>\n",
              "      <td>300</td>\n",
              "      <td>{'class_weight': None, 'max_depth': None, 'n_e...</td>\n",
              "      <td>0.553928</td>\n",
              "      <td>0.545885</td>\n",
              "      <td>0.557834</td>\n",
              "      <td>0.552549</td>\n",
              "      <td>0.004975</td>\n",
              "      <td>4</td>\n",
              "    </tr>\n",
              "  </tbody>\n",
              "</table>\n",
              "</div>"
            ],
            "text/plain": [
              "    mean_fit_time  std_fit_time  ...  std_test_score  rank_test_score\n",
              "0       10.170049      0.101505  ...        0.004743                3\n",
              "1       19.925877      0.036198  ...        0.005222                1\n",
              "2       30.317514      0.287325  ...        0.006184                2\n",
              "3       13.612964      0.322057  ...        0.009834               14\n",
              "4       27.150136      0.261013  ...        0.008200               12\n",
              "5       40.736839      0.189051  ...        0.009383               10\n",
              "6       13.488366      0.426131  ...        0.008475               15\n",
              "7       27.387248      0.374832  ...        0.009248               13\n",
              "8       40.577336      0.221889  ...        0.008838               11\n",
              "9       10.343083      0.063917  ...        0.011821               16\n",
              "10      20.455408      0.029366  ...        0.006674               17\n",
              "11      30.749236      0.219555  ...        0.009332               18\n",
              "12      14.052057      0.207008  ...        0.009148                8\n",
              "13      28.358906      0.131017  ...        0.008536                6\n",
              "14      41.983990      0.371630  ...        0.004975                4\n",
              "15      14.250263      0.186550  ...        0.009148                8\n",
              "16      29.076484      0.199259  ...        0.008536                6\n",
              "17      40.468482      4.506929  ...        0.004975                4\n",
              "\n",
              "[18 rows x 14 columns]"
            ]
          },
          "metadata": {
            "tags": []
          },
          "execution_count": 52
        }
      ]
    },
    {
      "cell_type": "markdown",
      "metadata": {
        "id": "3eMSyTyWm9aU"
      },
      "source": [
        "**Evaluation**"
      ]
    },
    {
      "cell_type": "code",
      "metadata": {
        "id": "msiKdKKhnBWT"
      },
      "source": [
        "y_pred_rf2 = model_rf2.predict(X_test)\n"
      ],
      "execution_count": 53,
      "outputs": []
    },
    {
      "cell_type": "code",
      "metadata": {
        "colab": {
          "base_uri": "https://localhost:8080/"
        },
        "id": "kuN8OrW4nFNA",
        "outputId": "9fa65ce6-1094-4b76-8b82-8dad8048a165"
      },
      "source": [
        "print(classification_report(y_test, y_pred_rf2))\n"
      ],
      "execution_count": 54,
      "outputs": [
        {
          "output_type": "stream",
          "text": [
            "              precision    recall  f1-score   support\n",
            "\n",
            "           0       0.97      0.83      0.89     10694\n",
            "           1       0.45      0.82      0.58      1802\n",
            "\n",
            "    accuracy                           0.83     12496\n",
            "   macro avg       0.71      0.83      0.74     12496\n",
            "weighted avg       0.89      0.83      0.85     12496\n",
            "\n"
          ],
          "name": "stdout"
        }
      ]
    },
    {
      "cell_type": "code",
      "metadata": {
        "colab": {
          "base_uri": "https://localhost:8080/",
          "height": 279
        },
        "id": "6onohFVXnRfo",
        "outputId": "807a9b24-7ffe-4210-d53c-2fe37e26e77b"
      },
      "source": [
        "plot_confusion_matrix(model_rf2, X_test, y_test, normalize = 'true') # recall\n",
        "plt.show()"
      ],
      "execution_count": 55,
      "outputs": [
        {
          "output_type": "display_data",
          "data": {
            "image/png": "[encoded data removed]",
            "text/plain": [
              "<Figure size 432x288 with 2 Axes>"
            ]
          },
          "metadata": {
            "tags": [],
            "needs_background": "light"
          }
        }
      ]
    },
    {
      "cell_type": "code",
      "metadata": {
        "colab": {
          "base_uri": "https://localhost:8080/",
          "height": 279
        },
        "id": "T4oVkz3cnhR9",
        "outputId": "558c6fca-a9ce-46f3-ecb6-eee2720fe5d0"
      },
      "source": [
        "plot_confusion_matrix(model_rf2, X_test, y_test, normalize = 'pred') # precision\n",
        "plt.show()"
      ],
      "execution_count": 56,
      "outputs": [
        {
          "output_type": "display_data",
          "data": {
            "image/png": "[encoded data removed]",
            "text/plain": [
              "<Figure size 432x288 with 2 Axes>"
            ]
          },
          "metadata": {
            "tags": [],
            "needs_background": "light"
          }
        }
      ]
    },
    {
      "cell_type": "code",
      "metadata": {
        "colab": {
          "base_uri": "https://localhost:8080/",
          "height": 296
        },
        "id": "vgSGn1f0nlLl",
        "outputId": "d4bf82ef-c089-436f-d1d8-33d69a8c841a"
      },
      "source": [
        "plot_roc_curve(model_rf2, X_test, y_test)\n"
      ],
      "execution_count": 57,
      "outputs": [
        {
          "output_type": "execute_result",
          "data": {
            "text/plain": [
              "<sklearn.metrics._plot.roc_curve.RocCurveDisplay at 0x7fdd77fbe0d0>"
            ]
          },
          "metadata": {
            "tags": []
          },
          "execution_count": 57
        },
        {
          "output_type": "display_data",
          "data": {
            "image/png": "[encoded data removed]",
            "text/plain": [
              "<Figure size 432x288 with 1 Axes>"
            ]
          },
          "metadata": {
            "tags": [],
            "needs_background": "light"
          }
        }
      ]
    },
    {
      "cell_type": "markdown",
      "metadata": {
        "id": "u0dD2shWACag"
      },
      "source": [
        "##Understanding the model\n"
      ]
    },
    {
      "cell_type": "code",
      "metadata": {
        "colab": {
          "base_uri": "https://localhost:8080/"
        },
        "id": "uClhHehs_7_S",
        "outputId": "137f60a1-3526-4e49-c356-01426f41a2b6"
      },
      "source": [
        "model_rf2_importance = pd.Series(model_rf2.feature_importances_, index = features_list)\n",
        "model_rf2_importance"
      ],
      "execution_count": 58,
      "outputs": [
        {
          "output_type": "execute_result",
          "data": {
            "text/plain": [
              "GENDER_F                            0.001053\n",
              "AGE                                 0.016472\n",
              "LOS                                 0.047224\n",
              "LOS_ICU                             0.030201\n",
              "CALLOUT_COUNT_DAY                   0.009816\n",
              "PRES_COUNT_DAY                      0.010066\n",
              "PROC_COUNT_DAY                      0.011974\n",
              "CPT_COUNT_DAY                       0.049551\n",
              "LAB_COUNT_DAY                       0.025693\n",
              "INPUTS_CV_COUNT_DAY                 0.007512\n",
              "INPUTS_MV_COUNT_DAY                 0.005016\n",
              "OUTPUT_COUNT_DAY                    0.009694\n",
              "TRANSFER_COUNT_DAY                  0.053179\n",
              "MICRO_COUNT_DAY                     0.307348\n",
              "ADMISSION_TYPE_ELECTIVE             0.005040\n",
              "ADMISSION_TYPE_EMERGENCY            0.019027\n",
              "ADMISSION_TYPE_NEWBORN              0.004732\n",
              "ADMISSION_TYPE_URGENT               0.000705\n",
              "RELIGION_CATHOLIC                   0.000815\n",
              "RELIGION_NOT SPECIFIED              0.000632\n",
              "RELIGION_OTHERS                     0.000869\n",
              "INSURANCE_Medicare                  0.002046\n",
              "INSURANCE_Private                   0.000925\n",
              "INSURANCE_Medicaid                  0.000660\n",
              "INSURANCE_OTHERS                    0.000360\n",
              "MARITAL_STATUS_MARRIED              0.000871\n",
              "MARITAL_STATUS_SINGLE               0.000641\n",
              "MARITAL_STATUS_OTHERS               0.000842\n",
              "LANGUAGE_ENGL                       0.000624\n",
              "LANGUAGE_SPAN                       0.000298\n",
              "LANGUAGE_RUSS                       0.000351\n",
              "LANGUAGE_OTHERS                     0.000422\n",
              "ETHNICITY_WHITE                     0.000750\n",
              "ETHNICITY_BLACK/AFRICAN AMERICAN    0.000538\n",
              "ETHNICITY_UNKNOWN/NOT SPECIFIED     0.000505\n",
              "ETHNICITY_OTHERS                    0.000617\n",
              "ORGAN_FAILURE                       0.087668\n",
              "CARDIOVASCULAR                      0.075474\n",
              "RENAL                               0.053077\n",
              "HEPATIC                             0.000817\n",
              "HEMATOLOGIC                         0.004499\n",
              "METABOLIC                           0.001646\n",
              "NEUROLOGIC                          0.000614\n",
              "HeartRate_Mean                      0.014186\n",
              "SysBP_Mean                          0.030640\n",
              "DiasBP_Mean                         0.015396\n",
              "MeanBP_Mean                         0.022920\n",
              "RespRate_Mean                       0.034230\n",
              "TempC_Mean                          0.012492\n",
              "SpO2_Mean                           0.010368\n",
              "Glucose_Mean                        0.008901\n",
              "dtype: float64"
            ]
          },
          "metadata": {
            "tags": []
          },
          "execution_count": 58
        }
      ]
    },
    {
      "cell_type": "code",
      "metadata": {
        "colab": {
          "base_uri": "https://localhost:8080/",
          "height": 554
        },
        "id": "bLo2ClFy_-Wc",
        "outputId": "e9bc9002-600e-4861-aefc-27f4978de8e8"
      },
      "source": [
        "plt.figure(figsize = (9, 9))\n",
        "sns.barplot(x = model_rf2.feature_importances_, y = features_list)"
      ],
      "execution_count": 59,
      "outputs": [
        {
          "output_type": "execute_result",
          "data": {
            "text/plain": [
              "<matplotlib.axes._subplots.AxesSubplot at 0x7fdd78032810>"
            ]
          },
          "metadata": {
            "tags": []
          },
          "execution_count": 59
        },
        {
          "output_type": "display_data",
          "data": {
            "image/png": "[encoded data removed]",
            "text/plain": [
              "<Figure size 648x648 with 1 Axes>"
            ]
          },
          "metadata": {
            "tags": [],
            "needs_background": "light"
          }
        }
      ]
    },
    {
      "cell_type": "markdown",
      "metadata": {
        "id": "OdkVc62RAOJu"
      },
      "source": [
        "**Saving and Loading your trained model**\n"
      ]
    },
    {
      "cell_type": "code",
      "metadata": {
        "id": "93GiuFBOANDJ"
      },
      "source": [
        "import joblib"
      ],
      "execution_count": 60,
      "outputs": []
    },
    {
      "cell_type": "code",
      "metadata": {
        "colab": {
          "base_uri": "https://localhost:8080/"
        },
        "id": "MCFS3du0AYIM",
        "outputId": "a22ccab0-e7d6-4b48-9397-ef879db6aac5"
      },
      "source": [
        "joblib.dump(model_rf2, gdrive_rootpath + 'mimic_in_hosp_mortality_model_rf2.joblib') # specify your filename here"
      ],
      "execution_count": 64,
      "outputs": [
        {
          "output_type": "execute_result",
          "data": {
            "text/plain": [
              "['/content/gdrive/MyDrive/mimic_in_hosp_mortality_model_rf2.joblib']"
            ]
          },
          "metadata": {
            "tags": []
          },
          "execution_count": 64
        }
      ]
    },
    {
      "cell_type": "code",
      "metadata": {
        "id": "8AMGPMJeAarH"
      },
      "source": [
        "model_rf2_loaded = joblib.load(gdrive_rootpath + 'mimic_in_hosp_mortality_model_rf2.joblib') # specify your filename here"
      ],
      "execution_count": 62,
      "outputs": []
    },
    {
      "cell_type": "code",
      "metadata": {
        "colab": {
          "base_uri": "https://localhost:8080/"
        },
        "id": "2iY2AKXvAcZu",
        "outputId": "0b939c1e-61be-4dfb-bb90-706523530fd1"
      },
      "source": [
        "model_rf2_loaded\n"
      ],
      "execution_count": 63,
      "outputs": [
        {
          "output_type": "execute_result",
          "data": {
            "text/plain": [
              "RandomForestClassifier(bootstrap=True, ccp_alpha=0.0, class_weight='balanced',\n",
              "                       criterion='gini', max_depth=10, max_features='auto',\n",
              "                       max_leaf_nodes=None, max_samples=None,\n",
              "                       min_impurity_decrease=0.0, min_impurity_split=None,\n",
              "                       min_samples_leaf=1, min_samples_split=2,\n",
              "                       min_weight_fraction_leaf=0.0, n_estimators=200,\n",
              "                       n_jobs=-1, oob_score=False, random_state=1, verbose=0,\n",
              "                       warm_start=False)"
            ]
          },
          "metadata": {
            "tags": []
          },
          "execution_count": 63
        }
      ]
    }
  ]
}